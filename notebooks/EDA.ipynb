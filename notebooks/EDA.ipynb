{
 "cells": [
  {
   "cell_type": "markdown",
   "metadata": {
    "collapsed": true,
    "heading_collapsed": true
   },
   "source": [
    "# All imports necessary"
   ]
  },
  {
   "cell_type": "code",
   "execution_count": 2,
   "metadata": {
    "hidden": true
   },
   "outputs": [],
   "source": [
    "import os\n",
    "import pandas as pd\n",
    "import numpy as np"
   ]
  },
  {
   "cell_type": "code",
   "execution_count": 27,
   "metadata": {
    "hidden": true
   },
   "outputs": [],
   "source": [
    "import seaborn as sns"
   ]
  },
  {
   "cell_type": "code",
   "execution_count": 28,
   "metadata": {
    "hidden": true
   },
   "outputs": [],
   "source": [
    "import matplotlib.pyplot as plt"
   ]
  },
  {
   "cell_type": "code",
   "execution_count": 91,
   "metadata": {
    "hidden": true
   },
   "outputs": [],
   "source": [
    "import matplotlib_venn as venn"
   ]
  },
  {
   "cell_type": "markdown",
   "metadata": {
    "heading_collapsed": true
   },
   "source": [
    "# Download the data from Kaggle"
   ]
  },
  {
   "cell_type": "markdown",
   "metadata": {
    "hidden": true
   },
   "source": [
    "Kaggle competition link is [here](https://www.kaggle.com/c/kkbox-music-recommendation-challenge)."
   ]
  },
  {
   "cell_type": "code",
   "execution_count": 3,
   "metadata": {
    "hidden": true
   },
   "outputs": [
    {
     "name": "stdout",
     "output_type": "stream",
     "text": [
      "pip 10.0.1 from C:\\Users\\Efim_Golovin\\Desktop\\COURSES\\ML\\11. RECOMMENDATION SYSTEMS_2\\RECOMMENDATION_SYSTEMS_2\\venv\\lib\\site-packages\\pip-10.0.1-py3.6.egg\\pip (python 3.6)\n",
      "\n"
     ]
    }
   ],
   "source": [
    "!pip -V"
   ]
  },
  {
   "cell_type": "code",
   "execution_count": 3,
   "metadata": {
    "hidden": true,
    "scrolled": true
   },
   "outputs": [
    {
     "name": "stdout",
     "output_type": "stream",
     "text": [
      "ref                                            deadline             category            reward  teamCount  userHasEntered  \r\n",
      "---------------------------------------------  -------------------  ---------------  ---------  ---------  --------------  \r\n",
      "digit-recognizer                               2030-01-01 00:00:00  Getting Started  Knowledge       2616           False  \r\n",
      "titanic                                        2030-01-01 00:00:00  Getting Started  Knowledge       9819           False  \r\n",
      "house-prices-advanced-regression-techniques    2030-01-01 00:00:00  Getting Started  Knowledge       4103           False  \r\n",
      "imagenet-object-localization-challenge         2029-12-31 07:00:00  Research         Knowledge         26           False  \r\n",
      "pubg-finish-placement-prediction               2019-01-30 23:59:00  Playground            Swag        499           False  \r\n",
      "human-protein-atlas-image-classification       2019-01-10 23:59:00  Featured           $37,000        287           False  \r\n",
      "two-sigma-financial-news                       2019-01-08 23:59:00  Featured          $100,000        821           False  \r\n",
      "competitive-data-science-predict-future-sales  2019-01-01 23:59:00  Playground           Kudos       1595           False  \r\n",
      "PLAsTiCC-2018                                  2018-12-17 23:59:00  Featured           $25,000        240            True  \r\n",
      "quickdraw-doodle-recognition                   2018-12-04 23:59:00  Featured           $25,000        270           False  \r\n",
      "ga-customer-revenue-prediction                 2018-11-30 23:59:00  Featured           $45,000       2569           False  \r\n",
      "airbus-ship-detection                          2018-11-14 23:59:00  Featured           $60,000        218           False  \r\n",
      "inclusive-images-challenge                     2018-11-05 23:59:00  Research           $25,000        357           False  \r\n",
      "rsna-pneumonia-detection-challenge             2018-10-24 23:59:00  Featured           $30,000       1298           False  \r\n",
      "tgs-salt-identification-challenge              2018-10-19 23:59:00  Featured          $100,000       3202           False  \r\n",
      "new-york-city-taxi-fare-prediction             2018-09-25 23:59:00  Playground       Knowledge       1488           False  \r\n",
      "forest-cover-type-kernels-only                 2018-09-24 23:59:00  Playground       Knowledge        359           False  \r\n",
      "demand-forecasting-kernels-only                2018-09-24 23:59:00  Playground       Knowledge        462           False  \r\n",
      "whats-cooking-kernels-only                     2018-09-24 23:59:00  Playground       Knowledge        523           False  \r\n",
      "flavours-of-physics-kernels-only               2018-09-24 23:59:00  Playground       Knowledge         64           False  \r\n"
     ]
    }
   ],
   "source": [
    "!kaggle competitions list"
   ]
  },
  {
   "cell_type": "code",
   "execution_count": 4,
   "metadata": {
    "hidden": true,
    "scrolled": false
   },
   "outputs": [
    {
     "name": "stdout",
     "output_type": "stream",
     "text": [
      "Downloading sample_submission.csv.7z to ../data/datasets\n",
      "  0%|                                                | 0.00/453k [00:00<?, ?B/s]\n",
      "100%|████████████████████████████████████████| 453k/453k [00:00<00:00, 5.77MB/s]\n",
      "Downloading members.csv.7z to ../data/datasets\n",
      " 78%|█████████████████████████████▌        | 1.00M/1.29M [00:00<00:00, 5.19MB/s]\n",
      "100%|██████████████████████████████████████| 1.29M/1.29M [00:00<00:00, 5.30MB/s]\n",
      "Downloading test.csv.7z to ../data/datasets\n",
      "100%|██████████████████████████████████████| 41.9M/41.9M [00:07<00:00, 5.77MB/s]\n",
      "\n",
      "Downloading songs.csv.7z to ../data/datasets\n",
      "100%|████████████████████████████████████████| 101M/101M [00:18<00:00, 5.88MB/s]\n",
      "\n",
      "Downloading train.csv.7z to ../data/datasets\n",
      "100%|███████████████████████████████████████▊| 101M/101M [00:19<00:00, 4.10MB/s]\n",
      "100%|████████████████████████████████████████| 101M/101M [00:19<00:00, 5.40MB/s]\n",
      "Downloading song_extra_info.csv.7z to ../data/datasets\n",
      "100%|██████████████████████████████████████| 98.8M/98.8M [00:19<00:00, 4.87MB/s]\n",
      "\n"
     ]
    }
   ],
   "source": [
    "!kaggle competitions download -c kkbox-music-recommendation-challenge -p ../data/datasets/"
   ]
  },
  {
   "cell_type": "code",
   "execution_count": 6,
   "metadata": {
    "hidden": true
   },
   "outputs": [
    {
     "name": "stdout",
     "output_type": "stream",
     "text": [
      "итого 345M\r\n",
      "-rw-rw-r--. 1 bender bender  99M окт 17 03:02 song_extra_info.csv.7z\r\n",
      "drwxrwxr-x. 2 bender bender 4,0K окт 17 03:02 .\r\n",
      "-rw-rw-r--. 1 bender bender 102M окт 17 03:02 train.csv.7z\r\n",
      "-rw-rw-r--. 1 bender bender 101M окт 17 03:01 songs.csv.7z\r\n",
      "-rw-rw-r--. 1 bender bender  42M окт 17 03:01 test.csv.7z\r\n",
      "-rw-rw-r--. 1 bender bender 1,3M окт 17 03:01 members.csv.7z\r\n",
      "-rw-rw-r--. 1 bender bender 453K окт 17 03:01 sample_submission.csv.7z\r\n",
      "drwxrwxr-x. 3 bender bender 4,0K окт 17 01:39 ..\r\n"
     ]
    }
   ],
   "source": [
    "!ls -alth ../data/datasets/"
   ]
  },
  {
   "cell_type": "markdown",
   "metadata": {
    "heading_collapsed": true
   },
   "source": [
    "# Data description from Kaggle"
   ]
  },
  {
   "cell_type": "markdown",
   "metadata": {
    "hidden": true
   },
   "source": [
    "In this task, you will be asked to predict the chances of a user listening to a song repetitively after the first observable listening event within a time window was triggered. If there are recurring listening event(s) triggered within a month after the user’s very first observable listening event, its target is marked 1, and 0 otherwise in the training set. The same rule applies to the testing set.\n",
    "\n",
    "KKBOX provides a training data set consists of information of the first observable listening event for each unique user-song pair within a specific time duration. Metadata of each unique user and song pair is also provided. The use of public data to increase the level of accuracy of your prediction is encouraged.\n",
    "\n",
    "The train and the test data are selected from users listening history in a given time period. Note that this time period is chosen to be before the [WSDM-KKBox Churn Prediction](https://www.kaggle.com/c/kkbox-churn-prediction-challenge) time period. The train and test sets are split based on time, and the split of public/private are based on unique user/song pairs."
   ]
  },
  {
   "cell_type": "markdown",
   "metadata": {
    "hidden": true
   },
   "source": [
    "## Tables"
   ]
  },
  {
   "cell_type": "markdown",
   "metadata": {
    "heading_collapsed": true,
    "hidden": true
   },
   "source": [
    "### train.csv"
   ]
  },
  {
   "cell_type": "markdown",
   "metadata": {
    "hidden": true
   },
   "source": [
    "- <span style=\"color:#7aa05d\">**msno:**</span> user id\n",
    "- <span style=\"color:#7aa05d\">**song_id:**</span> song id\n",
    "- <span style=\"color:#7aa05d\">**source_system_tab:**</span> the name of the tab where the event was triggered. System tabs are used to categorize KKBOX mobile apps functions. For example, tab my library contains functions to manipulate the local storage, and tab search contains functions relating to search.\n",
    "- <span style=\"color:#7aa05d\">**source_screen_name:**</span> name of the layout a user sees.\n",
    "- <span style=\"color:#7aa05d\">**source_type:**</span> an entry point a user first plays music on mobile apps. An entry point could be album, online-playlist, song .. etc.\n",
    "- <span style=\"color:#7aa05d\">**target:**</span> this is the target variable. target=1 means there are recurring listening event(s) triggered within a month after the user’s very first observable listening event, target=0 otherwise ."
   ]
  },
  {
   "cell_type": "markdown",
   "metadata": {
    "heading_collapsed": true,
    "hidden": true
   },
   "source": [
    "### test.csv"
   ]
  },
  {
   "cell_type": "markdown",
   "metadata": {
    "hidden": true
   },
   "source": [
    "- <span style=\"color:#7aa05d\">**id:**</span> row id (will be used for submission)\n",
    "- <span style=\"color:#7aa05d\">**msno:**</span> user id\n",
    "- <span style=\"color:#7aa05d\">**song_id:**</span> song id\n",
    "- <span style=\"color:#7aa05d\">**source_system_tab:**</span> the name of the tab where the event was triggered. System tabs are used to categorize KKBOX mobile apps functions. For example, tab my library contains functions to manipulate the local storage, and tab search contains functions relating to search.\n",
    "- <span style=\"color:#7aa05d\">**source_screen_name:**</span> name of the layout a user sees.\n",
    "- <span style=\"color:#7aa05d\">**source_type:**</span> an entry point a user first plays music on mobile apps. An entry point could be album, online-playlist, song .. etc."
   ]
  },
  {
   "cell_type": "markdown",
   "metadata": {
    "heading_collapsed": true,
    "hidden": true
   },
   "source": [
    "### sample_submission.csv"
   ]
  },
  {
   "cell_type": "markdown",
   "metadata": {
    "hidden": true
   },
   "source": [
    "sample submission file in the format that we expect you to submit\n",
    "\n",
    "- <span style=\"color:#7aa05d\">**id:**</span> same as id in test.csv\n",
    "- <span style=\"color:#7aa05d\">**target:**</span> this is the target variable. target=1 means there are recurring listening event(s) triggered within a month after the user’s very first observable listening event, target=0 otherwise ."
   ]
  },
  {
   "cell_type": "markdown",
   "metadata": {
    "heading_collapsed": true,
    "hidden": true
   },
   "source": [
    "### songs.csv"
   ]
  },
  {
   "cell_type": "markdown",
   "metadata": {
    "hidden": true
   },
   "source": [
    "The songs. Note that data is in unicode.\n",
    "\n",
    "- <span style=\"color:#7aa05d\">**song_id**</span>\n",
    "- <span style=\"color:#7aa05d\">**song_length:**</span> in ms\n",
    "- <span style=\"color:#7aa05d\">**genre_ids:**</span> genre category. Some songs have multiple genres and they are separated by |\n",
    "- <span style=\"color:#7aa05d\">**artist_name**</span>\n",
    "- <span style=\"color:#7aa05d\">**composer**</span>\n",
    "- <span style=\"color:#7aa05d\">**lyricist**</span>\n",
    "- <span style=\"color:#7aa05d\">**language**</span>"
   ]
  },
  {
   "cell_type": "markdown",
   "metadata": {
    "heading_collapsed": true,
    "hidden": true
   },
   "source": [
    "### members.csv"
   ]
  },
  {
   "cell_type": "markdown",
   "metadata": {
    "hidden": true
   },
   "source": [
    "user information.\n",
    "\n",
    "- <span style=\"color:#7aa05d\">**msno**</span>\n",
    "- <span style=\"color:#7aa05d\">**city**</span>\n",
    "- <span style=\"color:#7aa05d\">**bd:**</span> age. Note: this column has outlier values, please use your judgement.\n",
    "- <span style=\"color:#7aa05d\">**gender**</span>\n",
    "- <span style=\"color:#7aa05d\">**registered_via:**</span> registration method\n",
    "- <span style=\"color:#7aa05d\">**registration_init_time:**</span> format %Y%m%d\n",
    "- <span style=\"color:#7aa05d\">**expiration_date:**</span> format %Y%m%d"
   ]
  },
  {
   "cell_type": "markdown",
   "metadata": {
    "heading_collapsed": true,
    "hidden": true
   },
   "source": [
    "### song_extra_info.csv"
   ]
  },
  {
   "cell_type": "markdown",
   "metadata": {
    "hidden": true
   },
   "source": [
    "- <span style=\"color:#7aa05d\">**song_id**</span>\n",
    "- <span style=\"color:#7aa05d\">**song name:**</span> the name of the song.\n",
    "- <span style=\"color:#7aa05d\">**isrc:**</span> [International Standard Recording Code](https://en.wikipedia.org/wiki/International_Standard_Recording_Code), theoretically can be used as an identity of a song. However, what worth to note is, ISRCs generated from providers have not been officially verified; therefore the information in ISRC, such as country code and reference year, can be misleading/incorrect. Multiple songs could share one ISRC since a single recording could be re-published several times."
   ]
  },
  {
   "cell_type": "markdown",
   "metadata": {},
   "source": [
    "# Read the data"
   ]
  },
  {
   "cell_type": "markdown",
   "metadata": {
    "heading_collapsed": true
   },
   "source": [
    "## Song extra info"
   ]
  },
  {
   "cell_type": "code",
   "execution_count": 8,
   "metadata": {
    "hidden": true
   },
   "outputs": [],
   "source": [
    "data_directory = '../data/datasets/'"
   ]
  },
  {
   "cell_type": "code",
   "execution_count": 9,
   "metadata": {
    "hidden": true
   },
   "outputs": [],
   "source": [
    "song_extra_info = pd.read_csv(os.path.join(data_directory, 'song_extra_info.csv'))"
   ]
  },
  {
   "cell_type": "code",
   "execution_count": 10,
   "metadata": {
    "hidden": true
   },
   "outputs": [
    {
     "data": {
      "text/html": [
       "<div>\n",
       "<style scoped>\n",
       "    .dataframe tbody tr th:only-of-type {\n",
       "        vertical-align: middle;\n",
       "    }\n",
       "\n",
       "    .dataframe tbody tr th {\n",
       "        vertical-align: top;\n",
       "    }\n",
       "\n",
       "    .dataframe thead th {\n",
       "        text-align: right;\n",
       "    }\n",
       "</style>\n",
       "<table border=\"1\" class=\"dataframe\">\n",
       "  <thead>\n",
       "    <tr style=\"text-align: right;\">\n",
       "      <th></th>\n",
       "      <th>song_id</th>\n",
       "      <th>name</th>\n",
       "      <th>isrc</th>\n",
       "    </tr>\n",
       "  </thead>\n",
       "  <tbody>\n",
       "    <tr>\n",
       "      <th>0</th>\n",
       "      <td>LP7pLJoJFBvyuUwvu+oLzjT+bI+UeBPURCecJsX1jjs=</td>\n",
       "      <td>我們</td>\n",
       "      <td>TWUM71200043</td>\n",
       "    </tr>\n",
       "    <tr>\n",
       "      <th>1</th>\n",
       "      <td>ClazTFnk6r0Bnuie44bocdNMM3rdlrq0bCGAsGUWcHE=</td>\n",
       "      <td>Let Me Love You</td>\n",
       "      <td>QMZSY1600015</td>\n",
       "    </tr>\n",
       "    <tr>\n",
       "      <th>2</th>\n",
       "      <td>u2ja/bZE3zhCGxvbbOB3zOoUjx27u40cf5g09UXMoKQ=</td>\n",
       "      <td>原諒我</td>\n",
       "      <td>TWA530887303</td>\n",
       "    </tr>\n",
       "    <tr>\n",
       "      <th>3</th>\n",
       "      <td>92Fqsy0+p6+RHe2EoLKjHahORHR1Kq1TBJoClW9v+Ts=</td>\n",
       "      <td>Classic</td>\n",
       "      <td>USSM11301446</td>\n",
       "    </tr>\n",
       "    <tr>\n",
       "      <th>4</th>\n",
       "      <td>0QFmz/+rJy1Q56C1DuYqT9hKKqi5TUqx0sN0IwvoHrw=</td>\n",
       "      <td>愛投羅網</td>\n",
       "      <td>TWA471306001</td>\n",
       "    </tr>\n",
       "  </tbody>\n",
       "</table>\n",
       "</div>"
      ],
      "text/plain": [
       "                                        song_id             name          isrc\n",
       "0  LP7pLJoJFBvyuUwvu+oLzjT+bI+UeBPURCecJsX1jjs=               我們  TWUM71200043\n",
       "1  ClazTFnk6r0Bnuie44bocdNMM3rdlrq0bCGAsGUWcHE=  Let Me Love You  QMZSY1600015\n",
       "2  u2ja/bZE3zhCGxvbbOB3zOoUjx27u40cf5g09UXMoKQ=              原諒我  TWA530887303\n",
       "3  92Fqsy0+p6+RHe2EoLKjHahORHR1Kq1TBJoClW9v+Ts=          Classic  USSM11301446\n",
       "4  0QFmz/+rJy1Q56C1DuYqT9hKKqi5TUqx0sN0IwvoHrw=             愛投羅網  TWA471306001"
      ]
     },
     "execution_count": 10,
     "metadata": {},
     "output_type": "execute_result"
    }
   ],
   "source": [
    "song_extra_info.head()"
   ]
  },
  {
   "cell_type": "code",
   "execution_count": 11,
   "metadata": {
    "hidden": true
   },
   "outputs": [
    {
     "name": "stdout",
     "output_type": "stream",
     "text": [
      "<class 'pandas.core.frame.DataFrame'>\n",
      "RangeIndex: 2295971 entries, 0 to 2295970\n",
      "Data columns (total 3 columns):\n",
      "song_id    2295971 non-null object\n",
      "name       2295969 non-null object\n",
      "isrc       2159423 non-null object\n",
      "dtypes: object(3)\n",
      "memory usage: 52.6+ MB\n"
     ]
    }
   ],
   "source": [
    "song_extra_info.info(verbose=True, null_counts=True)"
   ]
  },
  {
   "cell_type": "markdown",
   "metadata": {},
   "source": [
    "## Train"
   ]
  },
  {
   "cell_type": "code",
   "execution_count": 12,
   "metadata": {},
   "outputs": [],
   "source": [
    "train = pd.read_csv(os.path.join(data_directory, 'train.csv'))"
   ]
  },
  {
   "cell_type": "code",
   "execution_count": 13,
   "metadata": {},
   "outputs": [
    {
     "data": {
      "text/html": [
       "<div>\n",
       "<style scoped>\n",
       "    .dataframe tbody tr th:only-of-type {\n",
       "        vertical-align: middle;\n",
       "    }\n",
       "\n",
       "    .dataframe tbody tr th {\n",
       "        vertical-align: top;\n",
       "    }\n",
       "\n",
       "    .dataframe thead th {\n",
       "        text-align: right;\n",
       "    }\n",
       "</style>\n",
       "<table border=\"1\" class=\"dataframe\">\n",
       "  <thead>\n",
       "    <tr style=\"text-align: right;\">\n",
       "      <th></th>\n",
       "      <th>msno</th>\n",
       "      <th>song_id</th>\n",
       "      <th>source_system_tab</th>\n",
       "      <th>source_screen_name</th>\n",
       "      <th>source_type</th>\n",
       "      <th>target</th>\n",
       "    </tr>\n",
       "  </thead>\n",
       "  <tbody>\n",
       "    <tr>\n",
       "      <th>0</th>\n",
       "      <td>FGtllVqz18RPiwJj/edr2gV78zirAiY/9SmYvia+kCg=</td>\n",
       "      <td>BBzumQNXUHKdEBOB7mAJuzok+IJA1c2Ryg/yzTF6tik=</td>\n",
       "      <td>explore</td>\n",
       "      <td>Explore</td>\n",
       "      <td>online-playlist</td>\n",
       "      <td>1</td>\n",
       "    </tr>\n",
       "    <tr>\n",
       "      <th>1</th>\n",
       "      <td>Xumu+NIjS6QYVxDS4/t3SawvJ7viT9hPKXmf0RtLNx8=</td>\n",
       "      <td>bhp/MpSNoqoxOIB+/l8WPqu6jldth4DIpCm3ayXnJqM=</td>\n",
       "      <td>my library</td>\n",
       "      <td>Local playlist more</td>\n",
       "      <td>local-playlist</td>\n",
       "      <td>1</td>\n",
       "    </tr>\n",
       "    <tr>\n",
       "      <th>2</th>\n",
       "      <td>Xumu+NIjS6QYVxDS4/t3SawvJ7viT9hPKXmf0RtLNx8=</td>\n",
       "      <td>JNWfrrC7zNN7BdMpsISKa4Mw+xVJYNnxXh3/Epw7QgY=</td>\n",
       "      <td>my library</td>\n",
       "      <td>Local playlist more</td>\n",
       "      <td>local-playlist</td>\n",
       "      <td>1</td>\n",
       "    </tr>\n",
       "    <tr>\n",
       "      <th>3</th>\n",
       "      <td>Xumu+NIjS6QYVxDS4/t3SawvJ7viT9hPKXmf0RtLNx8=</td>\n",
       "      <td>2A87tzfnJTSWqD7gIZHisolhe4DMdzkbd6LzO1KHjNs=</td>\n",
       "      <td>my library</td>\n",
       "      <td>Local playlist more</td>\n",
       "      <td>local-playlist</td>\n",
       "      <td>1</td>\n",
       "    </tr>\n",
       "    <tr>\n",
       "      <th>4</th>\n",
       "      <td>FGtllVqz18RPiwJj/edr2gV78zirAiY/9SmYvia+kCg=</td>\n",
       "      <td>3qm6XTZ6MOCU11x8FIVbAGH5l5uMkT3/ZalWG1oo2Gc=</td>\n",
       "      <td>explore</td>\n",
       "      <td>Explore</td>\n",
       "      <td>online-playlist</td>\n",
       "      <td>1</td>\n",
       "    </tr>\n",
       "  </tbody>\n",
       "</table>\n",
       "</div>"
      ],
      "text/plain": [
       "                                           msno  \\\n",
       "0  FGtllVqz18RPiwJj/edr2gV78zirAiY/9SmYvia+kCg=   \n",
       "1  Xumu+NIjS6QYVxDS4/t3SawvJ7viT9hPKXmf0RtLNx8=   \n",
       "2  Xumu+NIjS6QYVxDS4/t3SawvJ7viT9hPKXmf0RtLNx8=   \n",
       "3  Xumu+NIjS6QYVxDS4/t3SawvJ7viT9hPKXmf0RtLNx8=   \n",
       "4  FGtllVqz18RPiwJj/edr2gV78zirAiY/9SmYvia+kCg=   \n",
       "\n",
       "                                        song_id source_system_tab  \\\n",
       "0  BBzumQNXUHKdEBOB7mAJuzok+IJA1c2Ryg/yzTF6tik=           explore   \n",
       "1  bhp/MpSNoqoxOIB+/l8WPqu6jldth4DIpCm3ayXnJqM=        my library   \n",
       "2  JNWfrrC7zNN7BdMpsISKa4Mw+xVJYNnxXh3/Epw7QgY=        my library   \n",
       "3  2A87tzfnJTSWqD7gIZHisolhe4DMdzkbd6LzO1KHjNs=        my library   \n",
       "4  3qm6XTZ6MOCU11x8FIVbAGH5l5uMkT3/ZalWG1oo2Gc=           explore   \n",
       "\n",
       "    source_screen_name      source_type  target  \n",
       "0              Explore  online-playlist       1  \n",
       "1  Local playlist more   local-playlist       1  \n",
       "2  Local playlist more   local-playlist       1  \n",
       "3  Local playlist more   local-playlist       1  \n",
       "4              Explore  online-playlist       1  "
      ]
     },
     "execution_count": 13,
     "metadata": {},
     "output_type": "execute_result"
    }
   ],
   "source": [
    "train.head()"
   ]
  },
  {
   "cell_type": "code",
   "execution_count": 14,
   "metadata": {},
   "outputs": [
    {
     "name": "stdout",
     "output_type": "stream",
     "text": [
      "<class 'pandas.core.frame.DataFrame'>\n",
      "RangeIndex: 7377418 entries, 0 to 7377417\n",
      "Data columns (total 6 columns):\n",
      "msno                  7377418 non-null object\n",
      "song_id               7377418 non-null object\n",
      "source_system_tab     7352569 non-null object\n",
      "source_screen_name    6962614 non-null object\n",
      "source_type           7355879 non-null object\n",
      "target                7377418 non-null int64\n",
      "dtypes: int64(1), object(5)\n",
      "memory usage: 337.7+ MB\n"
     ]
    }
   ],
   "source": [
    "train.info(verbose=True, null_counts=True)"
   ]
  },
  {
   "cell_type": "code",
   "execution_count": 42,
   "metadata": {},
   "outputs": [],
   "source": [
    "train['data_from'] = 'train'"
   ]
  },
  {
   "cell_type": "code",
   "execution_count": 56,
   "metadata": {},
   "outputs": [
    {
     "data": {
      "text/plain": [
       "30755"
      ]
     },
     "execution_count": 56,
     "metadata": {},
     "output_type": "execute_result"
    }
   ],
   "source": [
    "train.msno.nunique()"
   ]
  },
  {
   "cell_type": "code",
   "execution_count": 57,
   "metadata": {
    "scrolled": true
   },
   "outputs": [
    {
     "data": {
      "text/plain": [
       "359966"
      ]
     },
     "execution_count": 57,
     "metadata": {},
     "output_type": "execute_result"
    }
   ],
   "source": [
    "train.song_id.nunique()"
   ]
  },
  {
   "cell_type": "code",
   "execution_count": 58,
   "metadata": {
    "scrolled": true
   },
   "outputs": [
    {
     "data": {
      "text/plain": [
       "8"
      ]
     },
     "execution_count": 58,
     "metadata": {},
     "output_type": "execute_result"
    }
   ],
   "source": [
    "train.source_system_tab.nunique()"
   ]
  },
  {
   "cell_type": "code",
   "execution_count": 61,
   "metadata": {},
   "outputs": [
    {
     "data": {
      "text/plain": [
       "my library      3684730\n",
       "discover        2179252\n",
       "search           623286\n",
       "radio            476701\n",
       "listen with      212266\n",
       "explore          167949\n",
       "notification       6185\n",
       "settings           2200\n",
       "Name: source_system_tab, dtype: int64"
      ]
     },
     "execution_count": 61,
     "metadata": {},
     "output_type": "execute_result"
    }
   ],
   "source": [
    "train.source_system_tab.value_counts()"
   ]
  },
  {
   "cell_type": "code",
   "execution_count": 59,
   "metadata": {},
   "outputs": [
    {
     "data": {
      "text/plain": [
       "20"
      ]
     },
     "execution_count": 59,
     "metadata": {},
     "output_type": "execute_result"
    }
   ],
   "source": [
    "train.source_screen_name.nunique()"
   ]
  },
  {
   "cell_type": "code",
   "execution_count": 62,
   "metadata": {},
   "outputs": [
    {
     "data": {
      "text/plain": [
       "Local playlist more     3228202\n",
       "Online playlist more    1294689\n",
       "Radio                    474467\n",
       "Album more               420156\n",
       "Search                   298487\n",
       "Artist more              252429\n",
       "Discover Feature         244246\n",
       "Discover Chart           213658\n",
       "Others profile more      201795\n",
       "Discover Genre            82202\n",
       "My library                75980\n",
       "Explore                   72342\n",
       "Unknown                   54170\n",
       "Discover New              15955\n",
       "Search Trends             13632\n",
       "Search Home               13482\n",
       "My library_Search          6451\n",
       "Self profile more           212\n",
       "Concert                      47\n",
       "Payment                      12\n",
       "Name: source_screen_name, dtype: int64"
      ]
     },
     "execution_count": 62,
     "metadata": {},
     "output_type": "execute_result"
    }
   ],
   "source": [
    "train.source_screen_name.value_counts()"
   ]
  },
  {
   "cell_type": "code",
   "execution_count": 60,
   "metadata": {
    "scrolled": true
   },
   "outputs": [
    {
     "data": {
      "text/plain": [
       "12"
      ]
     },
     "execution_count": 60,
     "metadata": {},
     "output_type": "execute_result"
    }
   ],
   "source": [
    "train.source_type.nunique()"
   ]
  },
  {
   "cell_type": "code",
   "execution_count": 63,
   "metadata": {},
   "outputs": [
    {
     "data": {
      "text/plain": [
       "local-library             2261399\n",
       "online-playlist           1967924\n",
       "local-playlist            1079503\n",
       "radio                      483109\n",
       "album                      477344\n",
       "top-hits-for-artist        423614\n",
       "song                       244722\n",
       "song-based-playlist        210527\n",
       "listen-with                192842\n",
       "topic-article-playlist      11194\n",
       "artist                       3038\n",
       "my-daily-playlist             663\n",
       "Name: source_type, dtype: int64"
      ]
     },
     "execution_count": 63,
     "metadata": {},
     "output_type": "execute_result"
    }
   ],
   "source": [
    "train.source_type.value_counts()"
   ]
  },
  {
   "cell_type": "markdown",
   "metadata": {
    "heading_collapsed": true
   },
   "source": [
    "## Test"
   ]
  },
  {
   "cell_type": "code",
   "execution_count": 15,
   "metadata": {
    "hidden": true
   },
   "outputs": [],
   "source": [
    "test = pd.read_csv(os.path.join(data_directory, 'test.csv'))"
   ]
  },
  {
   "cell_type": "code",
   "execution_count": 16,
   "metadata": {
    "hidden": true
   },
   "outputs": [
    {
     "data": {
      "text/html": [
       "<div>\n",
       "<style scoped>\n",
       "    .dataframe tbody tr th:only-of-type {\n",
       "        vertical-align: middle;\n",
       "    }\n",
       "\n",
       "    .dataframe tbody tr th {\n",
       "        vertical-align: top;\n",
       "    }\n",
       "\n",
       "    .dataframe thead th {\n",
       "        text-align: right;\n",
       "    }\n",
       "</style>\n",
       "<table border=\"1\" class=\"dataframe\">\n",
       "  <thead>\n",
       "    <tr style=\"text-align: right;\">\n",
       "      <th></th>\n",
       "      <th>id</th>\n",
       "      <th>msno</th>\n",
       "      <th>song_id</th>\n",
       "      <th>source_system_tab</th>\n",
       "      <th>source_screen_name</th>\n",
       "      <th>source_type</th>\n",
       "    </tr>\n",
       "  </thead>\n",
       "  <tbody>\n",
       "    <tr>\n",
       "      <th>0</th>\n",
       "      <td>0</td>\n",
       "      <td>V8ruy7SGk7tDm3zA51DPpn6qutt+vmKMBKa21dp54uM=</td>\n",
       "      <td>WmHKgKMlp1lQMecNdNvDMkvIycZYHnFwDT72I5sIssc=</td>\n",
       "      <td>my library</td>\n",
       "      <td>Local playlist more</td>\n",
       "      <td>local-library</td>\n",
       "    </tr>\n",
       "    <tr>\n",
       "      <th>1</th>\n",
       "      <td>1</td>\n",
       "      <td>V8ruy7SGk7tDm3zA51DPpn6qutt+vmKMBKa21dp54uM=</td>\n",
       "      <td>y/rsZ9DC7FwK5F2PK2D5mj+aOBUJAjuu3dZ14NgE0vM=</td>\n",
       "      <td>my library</td>\n",
       "      <td>Local playlist more</td>\n",
       "      <td>local-library</td>\n",
       "    </tr>\n",
       "    <tr>\n",
       "      <th>2</th>\n",
       "      <td>2</td>\n",
       "      <td>/uQAlrAkaczV+nWCd2sPF2ekvXPRipV7q0l+gbLuxjw=</td>\n",
       "      <td>8eZLFOdGVdXBSqoAv5nsLigeH2BvKXzTQYtUM53I0k4=</td>\n",
       "      <td>discover</td>\n",
       "      <td>NaN</td>\n",
       "      <td>song-based-playlist</td>\n",
       "    </tr>\n",
       "    <tr>\n",
       "      <th>3</th>\n",
       "      <td>3</td>\n",
       "      <td>1a6oo/iXKatxQx4eS9zTVD+KlSVaAFbTIqVvwLC1Y0k=</td>\n",
       "      <td>ztCf8thYsS4YN3GcIL/bvoxLm/T5mYBVKOO4C9NiVfQ=</td>\n",
       "      <td>radio</td>\n",
       "      <td>Radio</td>\n",
       "      <td>radio</td>\n",
       "    </tr>\n",
       "    <tr>\n",
       "      <th>4</th>\n",
       "      <td>4</td>\n",
       "      <td>1a6oo/iXKatxQx4eS9zTVD+KlSVaAFbTIqVvwLC1Y0k=</td>\n",
       "      <td>MKVMpslKcQhMaFEgcEQhEfi5+RZhMYlU3eRDpySrH8Y=</td>\n",
       "      <td>radio</td>\n",
       "      <td>Radio</td>\n",
       "      <td>radio</td>\n",
       "    </tr>\n",
       "  </tbody>\n",
       "</table>\n",
       "</div>"
      ],
      "text/plain": [
       "   id                                          msno  \\\n",
       "0   0  V8ruy7SGk7tDm3zA51DPpn6qutt+vmKMBKa21dp54uM=   \n",
       "1   1  V8ruy7SGk7tDm3zA51DPpn6qutt+vmKMBKa21dp54uM=   \n",
       "2   2  /uQAlrAkaczV+nWCd2sPF2ekvXPRipV7q0l+gbLuxjw=   \n",
       "3   3  1a6oo/iXKatxQx4eS9zTVD+KlSVaAFbTIqVvwLC1Y0k=   \n",
       "4   4  1a6oo/iXKatxQx4eS9zTVD+KlSVaAFbTIqVvwLC1Y0k=   \n",
       "\n",
       "                                        song_id source_system_tab  \\\n",
       "0  WmHKgKMlp1lQMecNdNvDMkvIycZYHnFwDT72I5sIssc=        my library   \n",
       "1  y/rsZ9DC7FwK5F2PK2D5mj+aOBUJAjuu3dZ14NgE0vM=        my library   \n",
       "2  8eZLFOdGVdXBSqoAv5nsLigeH2BvKXzTQYtUM53I0k4=          discover   \n",
       "3  ztCf8thYsS4YN3GcIL/bvoxLm/T5mYBVKOO4C9NiVfQ=             radio   \n",
       "4  MKVMpslKcQhMaFEgcEQhEfi5+RZhMYlU3eRDpySrH8Y=             radio   \n",
       "\n",
       "    source_screen_name          source_type  \n",
       "0  Local playlist more        local-library  \n",
       "1  Local playlist more        local-library  \n",
       "2                  NaN  song-based-playlist  \n",
       "3                Radio                radio  \n",
       "4                Radio                radio  "
      ]
     },
     "execution_count": 16,
     "metadata": {},
     "output_type": "execute_result"
    }
   ],
   "source": [
    "test.head()"
   ]
  },
  {
   "cell_type": "code",
   "execution_count": 17,
   "metadata": {
    "hidden": true
   },
   "outputs": [
    {
     "name": "stdout",
     "output_type": "stream",
     "text": [
      "<class 'pandas.core.frame.DataFrame'>\n",
      "RangeIndex: 2556790 entries, 0 to 2556789\n",
      "Data columns (total 6 columns):\n",
      "id                    2556790 non-null int64\n",
      "msno                  2556790 non-null object\n",
      "song_id               2556790 non-null object\n",
      "source_system_tab     2548348 non-null object\n",
      "source_screen_name    2393907 non-null object\n",
      "source_type           2549493 non-null object\n",
      "dtypes: int64(1), object(5)\n",
      "memory usage: 117.0+ MB\n"
     ]
    }
   ],
   "source": [
    "test.info(verbose=True, null_counts=True)"
   ]
  },
  {
   "cell_type": "code",
   "execution_count": 35,
   "metadata": {
    "hidden": true
   },
   "outputs": [],
   "source": [
    "test['target'] = None"
   ]
  },
  {
   "cell_type": "code",
   "execution_count": 37,
   "metadata": {
    "hidden": true
   },
   "outputs": [],
   "source": [
    "test['data_from'] = 'test'"
   ]
  },
  {
   "cell_type": "code",
   "execution_count": 64,
   "metadata": {
    "hidden": true
   },
   "outputs": [
    {
     "data": {
      "text/plain": [
       "25131"
      ]
     },
     "execution_count": 64,
     "metadata": {},
     "output_type": "execute_result"
    }
   ],
   "source": [
    "test.msno.nunique()"
   ]
  },
  {
   "cell_type": "code",
   "execution_count": 65,
   "metadata": {
    "hidden": true
   },
   "outputs": [
    {
     "data": {
      "text/plain": [
       "224753"
      ]
     },
     "execution_count": 65,
     "metadata": {},
     "output_type": "execute_result"
    }
   ],
   "source": [
    "test.song_id.nunique()"
   ]
  },
  {
   "cell_type": "code",
   "execution_count": 66,
   "metadata": {
    "hidden": true
   },
   "outputs": [
    {
     "data": {
      "text/plain": [
       "8"
      ]
     },
     "execution_count": 66,
     "metadata": {},
     "output_type": "execute_result"
    }
   ],
   "source": [
    "test.source_system_tab.nunique()"
   ]
  },
  {
   "cell_type": "code",
   "execution_count": 67,
   "metadata": {
    "hidden": true
   },
   "outputs": [
    {
     "data": {
      "text/plain": [
       "my library      1019492\n",
       "discover         871068\n",
       "search           277615\n",
       "radio            212765\n",
       "listen with       98628\n",
       "explore           66023\n",
       "notification       2124\n",
       "settings            633\n",
       "Name: source_system_tab, dtype: int64"
      ]
     },
     "execution_count": 67,
     "metadata": {},
     "output_type": "execute_result"
    }
   ],
   "source": [
    "test.source_system_tab.value_counts()"
   ]
  },
  {
   "cell_type": "code",
   "execution_count": 68,
   "metadata": {
    "hidden": true
   },
   "outputs": [
    {
     "data": {
      "text/plain": [
       "22"
      ]
     },
     "execution_count": 68,
     "metadata": {},
     "output_type": "execute_result"
    }
   ],
   "source": [
    "test.source_screen_name.nunique()"
   ]
  },
  {
   "cell_type": "code",
   "execution_count": 69,
   "metadata": {
    "hidden": true
   },
   "outputs": [
    {
     "data": {
      "text/plain": [
       "Local playlist more     845115\n",
       "Online playlist more    529807\n",
       "Radio                   211201\n",
       "Album more              176129\n",
       "Search                  121982\n",
       "Artist more             110999\n",
       "Discover Feature         93401\n",
       "Others profile more      90457\n",
       "Discover Chart           78999\n",
       "Discover Genre           41617\n",
       "Explore                  27872\n",
       "My library               25559\n",
       "Unknown                  23620\n",
       "Discover New              5277\n",
       "Search Trends             4883\n",
       "Search Home               4705\n",
       "My library_Search         2114\n",
       "Self profile more          131\n",
       "People local                13\n",
       "Concert                     13\n",
       "Payment                     12\n",
       "People global                1\n",
       "Name: source_screen_name, dtype: int64"
      ]
     },
     "execution_count": 69,
     "metadata": {},
     "output_type": "execute_result"
    }
   ],
   "source": [
    "test.source_screen_name.value_counts()"
   ]
  },
  {
   "cell_type": "code",
   "execution_count": 70,
   "metadata": {
    "hidden": true,
    "scrolled": true
   },
   "outputs": [
    {
     "data": {
      "text/plain": [
       "12"
      ]
     },
     "execution_count": 70,
     "metadata": {},
     "output_type": "execute_result"
    }
   ],
   "source": [
    "test.source_type.nunique()"
   ]
  },
  {
   "cell_type": "code",
   "execution_count": 71,
   "metadata": {
    "hidden": true
   },
   "outputs": [
    {
     "data": {
      "text/plain": [
       "online-playlist           774532\n",
       "local-library             582346\n",
       "local-playlist            294537\n",
       "radio                     215164\n",
       "album                     195190\n",
       "top-hits-for-artist       179360\n",
       "song                      129153\n",
       "song-based-playlist        87179\n",
       "listen-with                84499\n",
       "topic-article-playlist      5082\n",
       "my-daily-playlist           2023\n",
       "artist                       428\n",
       "Name: source_type, dtype: int64"
      ]
     },
     "execution_count": 71,
     "metadata": {},
     "output_type": "execute_result"
    }
   ],
   "source": [
    "test.source_type.value_counts()"
   ]
  },
  {
   "cell_type": "markdown",
   "metadata": {
    "heading_collapsed": true
   },
   "source": [
    "## Songs"
   ]
  },
  {
   "cell_type": "code",
   "execution_count": 33,
   "metadata": {
    "hidden": true
   },
   "outputs": [],
   "source": [
    "songs = pd.read_csv(os.path.join(data_directory, 'songs.csv'))"
   ]
  },
  {
   "cell_type": "code",
   "execution_count": 19,
   "metadata": {
    "hidden": true,
    "scrolled": true
   },
   "outputs": [
    {
     "data": {
      "text/html": [
       "<div>\n",
       "<style scoped>\n",
       "    .dataframe tbody tr th:only-of-type {\n",
       "        vertical-align: middle;\n",
       "    }\n",
       "\n",
       "    .dataframe tbody tr th {\n",
       "        vertical-align: top;\n",
       "    }\n",
       "\n",
       "    .dataframe thead th {\n",
       "        text-align: right;\n",
       "    }\n",
       "</style>\n",
       "<table border=\"1\" class=\"dataframe\">\n",
       "  <thead>\n",
       "    <tr style=\"text-align: right;\">\n",
       "      <th></th>\n",
       "      <th>song_id</th>\n",
       "      <th>song_length</th>\n",
       "      <th>genre_ids</th>\n",
       "      <th>artist_name</th>\n",
       "      <th>composer</th>\n",
       "      <th>lyricist</th>\n",
       "      <th>language</th>\n",
       "    </tr>\n",
       "  </thead>\n",
       "  <tbody>\n",
       "    <tr>\n",
       "      <th>0</th>\n",
       "      <td>CXoTN1eb7AI+DntdU1vbcwGRV4SCIDxZu+YD8JP8r4E=</td>\n",
       "      <td>247640</td>\n",
       "      <td>465</td>\n",
       "      <td>張信哲 (Jeff Chang)</td>\n",
       "      <td>董貞</td>\n",
       "      <td>何啟弘</td>\n",
       "      <td>3.0</td>\n",
       "    </tr>\n",
       "    <tr>\n",
       "      <th>1</th>\n",
       "      <td>o0kFgae9QtnYgRkVPqLJwa05zIhRlUjfF7O1tDw0ZDU=</td>\n",
       "      <td>197328</td>\n",
       "      <td>444</td>\n",
       "      <td>BLACKPINK</td>\n",
       "      <td>TEDDY|  FUTURE BOUNCE|  Bekuh BOOM</td>\n",
       "      <td>TEDDY</td>\n",
       "      <td>31.0</td>\n",
       "    </tr>\n",
       "    <tr>\n",
       "      <th>2</th>\n",
       "      <td>DwVvVurfpuz+XPuFvucclVQEyPqcpUkHR0ne1RQzPs0=</td>\n",
       "      <td>231781</td>\n",
       "      <td>465</td>\n",
       "      <td>SUPER JUNIOR</td>\n",
       "      <td>NaN</td>\n",
       "      <td>NaN</td>\n",
       "      <td>31.0</td>\n",
       "    </tr>\n",
       "    <tr>\n",
       "      <th>3</th>\n",
       "      <td>dKMBWoZyScdxSkihKG+Vf47nc18N9q4m58+b4e7dSSE=</td>\n",
       "      <td>273554</td>\n",
       "      <td>465</td>\n",
       "      <td>S.H.E</td>\n",
       "      <td>湯小康</td>\n",
       "      <td>徐世珍</td>\n",
       "      <td>3.0</td>\n",
       "    </tr>\n",
       "    <tr>\n",
       "      <th>4</th>\n",
       "      <td>W3bqWd3T+VeHFzHAUfARgW9AvVRaF4N5Yzm4Mr6Eo/o=</td>\n",
       "      <td>140329</td>\n",
       "      <td>726</td>\n",
       "      <td>貴族精選</td>\n",
       "      <td>Traditional</td>\n",
       "      <td>Traditional</td>\n",
       "      <td>52.0</td>\n",
       "    </tr>\n",
       "  </tbody>\n",
       "</table>\n",
       "</div>"
      ],
      "text/plain": [
       "                                        song_id  song_length genre_ids  \\\n",
       "0  CXoTN1eb7AI+DntdU1vbcwGRV4SCIDxZu+YD8JP8r4E=       247640       465   \n",
       "1  o0kFgae9QtnYgRkVPqLJwa05zIhRlUjfF7O1tDw0ZDU=       197328       444   \n",
       "2  DwVvVurfpuz+XPuFvucclVQEyPqcpUkHR0ne1RQzPs0=       231781       465   \n",
       "3  dKMBWoZyScdxSkihKG+Vf47nc18N9q4m58+b4e7dSSE=       273554       465   \n",
       "4  W3bqWd3T+VeHFzHAUfARgW9AvVRaF4N5Yzm4Mr6Eo/o=       140329       726   \n",
       "\n",
       "        artist_name                            composer     lyricist  language  \n",
       "0  張信哲 (Jeff Chang)                                  董貞          何啟弘       3.0  \n",
       "1         BLACKPINK  TEDDY|  FUTURE BOUNCE|  Bekuh BOOM        TEDDY      31.0  \n",
       "2      SUPER JUNIOR                                 NaN          NaN      31.0  \n",
       "3             S.H.E                                 湯小康          徐世珍       3.0  \n",
       "4              貴族精選                         Traditional  Traditional      52.0  "
      ]
     },
     "execution_count": 19,
     "metadata": {},
     "output_type": "execute_result"
    }
   ],
   "source": [
    "songs.head()"
   ]
  },
  {
   "cell_type": "code",
   "execution_count": 20,
   "metadata": {
    "hidden": true
   },
   "outputs": [
    {
     "name": "stdout",
     "output_type": "stream",
     "text": [
      "<class 'pandas.core.frame.DataFrame'>\n",
      "RangeIndex: 2296320 entries, 0 to 2296319\n",
      "Data columns (total 7 columns):\n",
      "song_id        2296320 non-null object\n",
      "song_length    2296320 non-null int64\n",
      "genre_ids      2202204 non-null object\n",
      "artist_name    2296320 non-null object\n",
      "composer       1224966 non-null object\n",
      "lyricist       351052 non-null object\n",
      "language       2296319 non-null float64\n",
      "dtypes: float64(1), int64(1), object(5)\n",
      "memory usage: 122.6+ MB\n"
     ]
    }
   ],
   "source": [
    "songs.info(verbose=True, null_counts=True)"
   ]
  },
  {
   "cell_type": "code",
   "execution_count": 75,
   "metadata": {
    "hidden": true
   },
   "outputs": [],
   "source": [
    "songs.lyricist.fillna('unknown', inplace=True)"
   ]
  },
  {
   "cell_type": "code",
   "execution_count": 77,
   "metadata": {
    "hidden": true
   },
   "outputs": [],
   "source": [
    "songs.composer.fillna('unknown', inplace=True)"
   ]
  },
  {
   "cell_type": "code",
   "execution_count": 53,
   "metadata": {
    "hidden": true
   },
   "outputs": [],
   "source": [
    "songs.language.fillna(-1, inplace=True)"
   ]
  },
  {
   "cell_type": "code",
   "execution_count": 54,
   "metadata": {
    "hidden": true
   },
   "outputs": [],
   "source": [
    "songs.language = songs.language.astype(np.int64)"
   ]
  },
  {
   "cell_type": "code",
   "execution_count": 55,
   "metadata": {
    "hidden": true
   },
   "outputs": [
    {
     "data": {
      "text/html": [
       "<div>\n",
       "<style scoped>\n",
       "    .dataframe tbody tr th:only-of-type {\n",
       "        vertical-align: middle;\n",
       "    }\n",
       "\n",
       "    .dataframe tbody tr th {\n",
       "        vertical-align: top;\n",
       "    }\n",
       "\n",
       "    .dataframe thead th {\n",
       "        text-align: right;\n",
       "    }\n",
       "</style>\n",
       "<table border=\"1\" class=\"dataframe\">\n",
       "  <thead>\n",
       "    <tr style=\"text-align: right;\">\n",
       "      <th></th>\n",
       "      <th>song_id</th>\n",
       "      <th>song_length</th>\n",
       "      <th>genre_ids</th>\n",
       "      <th>artist_name</th>\n",
       "      <th>composer</th>\n",
       "      <th>lyricist</th>\n",
       "      <th>language</th>\n",
       "    </tr>\n",
       "  </thead>\n",
       "  <tbody>\n",
       "    <tr>\n",
       "      <th>0</th>\n",
       "      <td>CXoTN1eb7AI+DntdU1vbcwGRV4SCIDxZu+YD8JP8r4E=</td>\n",
       "      <td>247640</td>\n",
       "      <td>465</td>\n",
       "      <td>張信哲 (Jeff Chang)</td>\n",
       "      <td>董貞</td>\n",
       "      <td>何啟弘</td>\n",
       "      <td>3</td>\n",
       "    </tr>\n",
       "    <tr>\n",
       "      <th>1</th>\n",
       "      <td>o0kFgae9QtnYgRkVPqLJwa05zIhRlUjfF7O1tDw0ZDU=</td>\n",
       "      <td>197328</td>\n",
       "      <td>444</td>\n",
       "      <td>BLACKPINK</td>\n",
       "      <td>TEDDY|  FUTURE BOUNCE|  Bekuh BOOM</td>\n",
       "      <td>TEDDY</td>\n",
       "      <td>31</td>\n",
       "    </tr>\n",
       "    <tr>\n",
       "      <th>2</th>\n",
       "      <td>DwVvVurfpuz+XPuFvucclVQEyPqcpUkHR0ne1RQzPs0=</td>\n",
       "      <td>231781</td>\n",
       "      <td>465</td>\n",
       "      <td>SUPER JUNIOR</td>\n",
       "      <td>NaN</td>\n",
       "      <td>NaN</td>\n",
       "      <td>31</td>\n",
       "    </tr>\n",
       "    <tr>\n",
       "      <th>3</th>\n",
       "      <td>dKMBWoZyScdxSkihKG+Vf47nc18N9q4m58+b4e7dSSE=</td>\n",
       "      <td>273554</td>\n",
       "      <td>465</td>\n",
       "      <td>S.H.E</td>\n",
       "      <td>湯小康</td>\n",
       "      <td>徐世珍</td>\n",
       "      <td>3</td>\n",
       "    </tr>\n",
       "    <tr>\n",
       "      <th>4</th>\n",
       "      <td>W3bqWd3T+VeHFzHAUfARgW9AvVRaF4N5Yzm4Mr6Eo/o=</td>\n",
       "      <td>140329</td>\n",
       "      <td>726</td>\n",
       "      <td>貴族精選</td>\n",
       "      <td>Traditional</td>\n",
       "      <td>Traditional</td>\n",
       "      <td>52</td>\n",
       "    </tr>\n",
       "  </tbody>\n",
       "</table>\n",
       "</div>"
      ],
      "text/plain": [
       "                                        song_id  song_length genre_ids  \\\n",
       "0  CXoTN1eb7AI+DntdU1vbcwGRV4SCIDxZu+YD8JP8r4E=       247640       465   \n",
       "1  o0kFgae9QtnYgRkVPqLJwa05zIhRlUjfF7O1tDw0ZDU=       197328       444   \n",
       "2  DwVvVurfpuz+XPuFvucclVQEyPqcpUkHR0ne1RQzPs0=       231781       465   \n",
       "3  dKMBWoZyScdxSkihKG+Vf47nc18N9q4m58+b4e7dSSE=       273554       465   \n",
       "4  W3bqWd3T+VeHFzHAUfARgW9AvVRaF4N5Yzm4Mr6Eo/o=       140329       726   \n",
       "\n",
       "        artist_name                            composer     lyricist  language  \n",
       "0  張信哲 (Jeff Chang)                                  董貞          何啟弘         3  \n",
       "1         BLACKPINK  TEDDY|  FUTURE BOUNCE|  Bekuh BOOM        TEDDY        31  \n",
       "2      SUPER JUNIOR                                 NaN          NaN        31  \n",
       "3             S.H.E                                 湯小康          徐世珍         3  \n",
       "4              貴族精選                         Traditional  Traditional        52  "
      ]
     },
     "execution_count": 55,
     "metadata": {},
     "output_type": "execute_result"
    }
   ],
   "source": [
    "songs.head()"
   ]
  },
  {
   "cell_type": "code",
   "execution_count": 78,
   "metadata": {
    "hidden": true
   },
   "outputs": [
    {
     "name": "stdout",
     "output_type": "stream",
     "text": [
      "<class 'pandas.core.frame.DataFrame'>\n",
      "RangeIndex: 2296320 entries, 0 to 2296319\n",
      "Data columns (total 7 columns):\n",
      "song_id        2296320 non-null object\n",
      "song_length    2296320 non-null int64\n",
      "genre_ids      2202204 non-null object\n",
      "artist_name    2296320 non-null object\n",
      "composer       2296320 non-null object\n",
      "lyricist       2296320 non-null object\n",
      "language       2296320 non-null int64\n",
      "dtypes: int64(2), object(5)\n",
      "memory usage: 122.6+ MB\n"
     ]
    }
   ],
   "source": [
    "songs.info(verbose=True, null_counts=True)"
   ]
  },
  {
   "cell_type": "code",
   "execution_count": 79,
   "metadata": {
    "hidden": true
   },
   "outputs": [
    {
     "data": {
      "text/plain": [
       "146534"
      ]
     },
     "execution_count": 79,
     "metadata": {},
     "output_type": "execute_result"
    }
   ],
   "source": [
    "songs.song_length.nunique()"
   ]
  },
  {
   "cell_type": "code",
   "execution_count": 80,
   "metadata": {
    "hidden": true
   },
   "outputs": [
    {
     "data": {
      "text/plain": [
       "1045"
      ]
     },
     "execution_count": 80,
     "metadata": {},
     "output_type": "execute_result"
    }
   ],
   "source": [
    "songs.genre_ids.nunique()"
   ]
  },
  {
   "cell_type": "code",
   "execution_count": 81,
   "metadata": {
    "hidden": true
   },
   "outputs": [
    {
     "data": {
      "text/plain": [
       "222363"
      ]
     },
     "execution_count": 81,
     "metadata": {},
     "output_type": "execute_result"
    }
   ],
   "source": [
    "songs.artist_name.nunique()"
   ]
  },
  {
   "cell_type": "code",
   "execution_count": 82,
   "metadata": {
    "hidden": true
   },
   "outputs": [
    {
     "data": {
      "text/plain": [
       "329823"
      ]
     },
     "execution_count": 82,
     "metadata": {},
     "output_type": "execute_result"
    }
   ],
   "source": [
    "songs.composer.nunique()"
   ]
  },
  {
   "cell_type": "code",
   "execution_count": 84,
   "metadata": {
    "hidden": true
   },
   "outputs": [
    {
     "data": {
      "text/plain": [
       "110925"
      ]
     },
     "execution_count": 84,
     "metadata": {},
     "output_type": "execute_result"
    }
   ],
   "source": [
    "songs.lyricist.nunique()"
   ]
  },
  {
   "cell_type": "code",
   "execution_count": 85,
   "metadata": {
    "hidden": true
   },
   "outputs": [
    {
     "data": {
      "text/plain": [
       "10"
      ]
     },
     "execution_count": 85,
     "metadata": {},
     "output_type": "execute_result"
    }
   ],
   "source": [
    "songs.language.nunique()"
   ]
  },
  {
   "cell_type": "markdown",
   "metadata": {
    "heading_collapsed": true
   },
   "source": [
    "## Members"
   ]
  },
  {
   "cell_type": "code",
   "execution_count": 21,
   "metadata": {
    "hidden": true
   },
   "outputs": [],
   "source": [
    "members = pd.read_csv(os.path.join(data_directory, 'members.csv'))"
   ]
  },
  {
   "cell_type": "code",
   "execution_count": 22,
   "metadata": {
    "hidden": true
   },
   "outputs": [
    {
     "data": {
      "text/html": [
       "<div>\n",
       "<style scoped>\n",
       "    .dataframe tbody tr th:only-of-type {\n",
       "        vertical-align: middle;\n",
       "    }\n",
       "\n",
       "    .dataframe tbody tr th {\n",
       "        vertical-align: top;\n",
       "    }\n",
       "\n",
       "    .dataframe thead th {\n",
       "        text-align: right;\n",
       "    }\n",
       "</style>\n",
       "<table border=\"1\" class=\"dataframe\">\n",
       "  <thead>\n",
       "    <tr style=\"text-align: right;\">\n",
       "      <th></th>\n",
       "      <th>msno</th>\n",
       "      <th>city</th>\n",
       "      <th>bd</th>\n",
       "      <th>gender</th>\n",
       "      <th>registered_via</th>\n",
       "      <th>registration_init_time</th>\n",
       "      <th>expiration_date</th>\n",
       "    </tr>\n",
       "  </thead>\n",
       "  <tbody>\n",
       "    <tr>\n",
       "      <th>0</th>\n",
       "      <td>XQxgAYj3klVKjR3oxPPXYYFp4soD4TuBghkhMTD4oTw=</td>\n",
       "      <td>1</td>\n",
       "      <td>0</td>\n",
       "      <td>NaN</td>\n",
       "      <td>7</td>\n",
       "      <td>20110820</td>\n",
       "      <td>20170920</td>\n",
       "    </tr>\n",
       "    <tr>\n",
       "      <th>1</th>\n",
       "      <td>UizsfmJb9mV54qE9hCYyU07Va97c0lCRLEQX3ae+ztM=</td>\n",
       "      <td>1</td>\n",
       "      <td>0</td>\n",
       "      <td>NaN</td>\n",
       "      <td>7</td>\n",
       "      <td>20150628</td>\n",
       "      <td>20170622</td>\n",
       "    </tr>\n",
       "    <tr>\n",
       "      <th>2</th>\n",
       "      <td>D8nEhsIOBSoE6VthTaqDX8U6lqjJ7dLdr72mOyLya2A=</td>\n",
       "      <td>1</td>\n",
       "      <td>0</td>\n",
       "      <td>NaN</td>\n",
       "      <td>4</td>\n",
       "      <td>20160411</td>\n",
       "      <td>20170712</td>\n",
       "    </tr>\n",
       "    <tr>\n",
       "      <th>3</th>\n",
       "      <td>mCuD+tZ1hERA/o5GPqk38e041J8ZsBaLcu7nGoIIvhI=</td>\n",
       "      <td>1</td>\n",
       "      <td>0</td>\n",
       "      <td>NaN</td>\n",
       "      <td>9</td>\n",
       "      <td>20150906</td>\n",
       "      <td>20150907</td>\n",
       "    </tr>\n",
       "    <tr>\n",
       "      <th>4</th>\n",
       "      <td>q4HRBfVSssAFS9iRfxWrohxuk9kCYMKjHOEagUMV6rQ=</td>\n",
       "      <td>1</td>\n",
       "      <td>0</td>\n",
       "      <td>NaN</td>\n",
       "      <td>4</td>\n",
       "      <td>20170126</td>\n",
       "      <td>20170613</td>\n",
       "    </tr>\n",
       "  </tbody>\n",
       "</table>\n",
       "</div>"
      ],
      "text/plain": [
       "                                           msno  city  bd gender  \\\n",
       "0  XQxgAYj3klVKjR3oxPPXYYFp4soD4TuBghkhMTD4oTw=     1   0    NaN   \n",
       "1  UizsfmJb9mV54qE9hCYyU07Va97c0lCRLEQX3ae+ztM=     1   0    NaN   \n",
       "2  D8nEhsIOBSoE6VthTaqDX8U6lqjJ7dLdr72mOyLya2A=     1   0    NaN   \n",
       "3  mCuD+tZ1hERA/o5GPqk38e041J8ZsBaLcu7nGoIIvhI=     1   0    NaN   \n",
       "4  q4HRBfVSssAFS9iRfxWrohxuk9kCYMKjHOEagUMV6rQ=     1   0    NaN   \n",
       "\n",
       "   registered_via  registration_init_time  expiration_date  \n",
       "0               7                20110820         20170920  \n",
       "1               7                20150628         20170622  \n",
       "2               4                20160411         20170712  \n",
       "3               9                20150906         20150907  \n",
       "4               4                20170126         20170613  "
      ]
     },
     "execution_count": 22,
     "metadata": {},
     "output_type": "execute_result"
    }
   ],
   "source": [
    "members.head()"
   ]
  },
  {
   "cell_type": "code",
   "execution_count": 23,
   "metadata": {
    "hidden": true
   },
   "outputs": [
    {
     "name": "stdout",
     "output_type": "stream",
     "text": [
      "<class 'pandas.core.frame.DataFrame'>\n",
      "RangeIndex: 34403 entries, 0 to 34402\n",
      "Data columns (total 7 columns):\n",
      "msno                      34403 non-null object\n",
      "city                      34403 non-null int64\n",
      "bd                        34403 non-null int64\n",
      "gender                    14501 non-null object\n",
      "registered_via            34403 non-null int64\n",
      "registration_init_time    34403 non-null int64\n",
      "expiration_date           34403 non-null int64\n",
      "dtypes: int64(5), object(2)\n",
      "memory usage: 1.8+ MB\n"
     ]
    }
   ],
   "source": [
    "members.info(verbose=True, null_counts=True)"
   ]
  },
  {
   "cell_type": "code",
   "execution_count": 43,
   "metadata": {
    "hidden": true
   },
   "outputs": [],
   "source": [
    "members.fillna('unknown', inplace=True)"
   ]
  },
  {
   "cell_type": "code",
   "execution_count": 44,
   "metadata": {
    "hidden": true
   },
   "outputs": [
    {
     "name": "stdout",
     "output_type": "stream",
     "text": [
      "<class 'pandas.core.frame.DataFrame'>\n",
      "RangeIndex: 34403 entries, 0 to 34402\n",
      "Data columns (total 7 columns):\n",
      "msno                      34403 non-null object\n",
      "city                      34403 non-null int64\n",
      "bd                        34403 non-null int64\n",
      "gender                    34403 non-null object\n",
      "registered_via            34403 non-null int64\n",
      "registration_init_time    34403 non-null int64\n",
      "expiration_date           34403 non-null int64\n",
      "dtypes: int64(5), object(2)\n",
      "memory usage: 1.8+ MB\n"
     ]
    }
   ],
   "source": [
    "members.info(verbose=True, null_counts=True)"
   ]
  },
  {
   "cell_type": "code",
   "execution_count": 45,
   "metadata": {
    "hidden": true
   },
   "outputs": [
    {
     "data": {
      "text/html": [
       "<div>\n",
       "<style scoped>\n",
       "    .dataframe tbody tr th:only-of-type {\n",
       "        vertical-align: middle;\n",
       "    }\n",
       "\n",
       "    .dataframe tbody tr th {\n",
       "        vertical-align: top;\n",
       "    }\n",
       "\n",
       "    .dataframe thead th {\n",
       "        text-align: right;\n",
       "    }\n",
       "</style>\n",
       "<table border=\"1\" class=\"dataframe\">\n",
       "  <thead>\n",
       "    <tr style=\"text-align: right;\">\n",
       "      <th></th>\n",
       "      <th>msno</th>\n",
       "      <th>city</th>\n",
       "      <th>bd</th>\n",
       "      <th>gender</th>\n",
       "      <th>registered_via</th>\n",
       "      <th>registration_init_time</th>\n",
       "      <th>expiration_date</th>\n",
       "    </tr>\n",
       "  </thead>\n",
       "  <tbody>\n",
       "    <tr>\n",
       "      <th>0</th>\n",
       "      <td>XQxgAYj3klVKjR3oxPPXYYFp4soD4TuBghkhMTD4oTw=</td>\n",
       "      <td>1</td>\n",
       "      <td>0</td>\n",
       "      <td>unknown</td>\n",
       "      <td>7</td>\n",
       "      <td>20110820</td>\n",
       "      <td>20170920</td>\n",
       "    </tr>\n",
       "    <tr>\n",
       "      <th>1</th>\n",
       "      <td>UizsfmJb9mV54qE9hCYyU07Va97c0lCRLEQX3ae+ztM=</td>\n",
       "      <td>1</td>\n",
       "      <td>0</td>\n",
       "      <td>unknown</td>\n",
       "      <td>7</td>\n",
       "      <td>20150628</td>\n",
       "      <td>20170622</td>\n",
       "    </tr>\n",
       "    <tr>\n",
       "      <th>2</th>\n",
       "      <td>D8nEhsIOBSoE6VthTaqDX8U6lqjJ7dLdr72mOyLya2A=</td>\n",
       "      <td>1</td>\n",
       "      <td>0</td>\n",
       "      <td>unknown</td>\n",
       "      <td>4</td>\n",
       "      <td>20160411</td>\n",
       "      <td>20170712</td>\n",
       "    </tr>\n",
       "    <tr>\n",
       "      <th>3</th>\n",
       "      <td>mCuD+tZ1hERA/o5GPqk38e041J8ZsBaLcu7nGoIIvhI=</td>\n",
       "      <td>1</td>\n",
       "      <td>0</td>\n",
       "      <td>unknown</td>\n",
       "      <td>9</td>\n",
       "      <td>20150906</td>\n",
       "      <td>20150907</td>\n",
       "    </tr>\n",
       "    <tr>\n",
       "      <th>4</th>\n",
       "      <td>q4HRBfVSssAFS9iRfxWrohxuk9kCYMKjHOEagUMV6rQ=</td>\n",
       "      <td>1</td>\n",
       "      <td>0</td>\n",
       "      <td>unknown</td>\n",
       "      <td>4</td>\n",
       "      <td>20170126</td>\n",
       "      <td>20170613</td>\n",
       "    </tr>\n",
       "  </tbody>\n",
       "</table>\n",
       "</div>"
      ],
      "text/plain": [
       "                                           msno  city  bd   gender  \\\n",
       "0  XQxgAYj3klVKjR3oxPPXYYFp4soD4TuBghkhMTD4oTw=     1   0  unknown   \n",
       "1  UizsfmJb9mV54qE9hCYyU07Va97c0lCRLEQX3ae+ztM=     1   0  unknown   \n",
       "2  D8nEhsIOBSoE6VthTaqDX8U6lqjJ7dLdr72mOyLya2A=     1   0  unknown   \n",
       "3  mCuD+tZ1hERA/o5GPqk38e041J8ZsBaLcu7nGoIIvhI=     1   0  unknown   \n",
       "4  q4HRBfVSssAFS9iRfxWrohxuk9kCYMKjHOEagUMV6rQ=     1   0  unknown   \n",
       "\n",
       "   registered_via  registration_init_time  expiration_date  \n",
       "0               7                20110820         20170920  \n",
       "1               7                20150628         20170622  \n",
       "2               4                20160411         20170712  \n",
       "3               9                20150906         20150907  \n",
       "4               4                20170126         20170613  "
      ]
     },
     "execution_count": 45,
     "metadata": {},
     "output_type": "execute_result"
    }
   ],
   "source": [
    "members.head()"
   ]
  },
  {
   "cell_type": "markdown",
   "metadata": {
    "heading_collapsed": true
   },
   "source": [
    "## Sample submission"
   ]
  },
  {
   "cell_type": "code",
   "execution_count": 24,
   "metadata": {
    "hidden": true
   },
   "outputs": [],
   "source": [
    "sample_submission = pd.read_csv(os.path.join(data_directory, 'sample_submission.csv'))"
   ]
  },
  {
   "cell_type": "code",
   "execution_count": 25,
   "metadata": {
    "hidden": true
   },
   "outputs": [
    {
     "data": {
      "text/html": [
       "<div>\n",
       "<style scoped>\n",
       "    .dataframe tbody tr th:only-of-type {\n",
       "        vertical-align: middle;\n",
       "    }\n",
       "\n",
       "    .dataframe tbody tr th {\n",
       "        vertical-align: top;\n",
       "    }\n",
       "\n",
       "    .dataframe thead th {\n",
       "        text-align: right;\n",
       "    }\n",
       "</style>\n",
       "<table border=\"1\" class=\"dataframe\">\n",
       "  <thead>\n",
       "    <tr style=\"text-align: right;\">\n",
       "      <th></th>\n",
       "      <th>id</th>\n",
       "      <th>target</th>\n",
       "    </tr>\n",
       "  </thead>\n",
       "  <tbody>\n",
       "    <tr>\n",
       "      <th>0</th>\n",
       "      <td>0</td>\n",
       "      <td>0.5</td>\n",
       "    </tr>\n",
       "    <tr>\n",
       "      <th>1</th>\n",
       "      <td>1</td>\n",
       "      <td>0.5</td>\n",
       "    </tr>\n",
       "    <tr>\n",
       "      <th>2</th>\n",
       "      <td>2</td>\n",
       "      <td>0.5</td>\n",
       "    </tr>\n",
       "    <tr>\n",
       "      <th>3</th>\n",
       "      <td>3</td>\n",
       "      <td>0.5</td>\n",
       "    </tr>\n",
       "    <tr>\n",
       "      <th>4</th>\n",
       "      <td>4</td>\n",
       "      <td>0.5</td>\n",
       "    </tr>\n",
       "    <tr>\n",
       "      <th>5</th>\n",
       "      <td>5</td>\n",
       "      <td>0.5</td>\n",
       "    </tr>\n",
       "    <tr>\n",
       "      <th>6</th>\n",
       "      <td>6</td>\n",
       "      <td>0.5</td>\n",
       "    </tr>\n",
       "    <tr>\n",
       "      <th>7</th>\n",
       "      <td>7</td>\n",
       "      <td>0.5</td>\n",
       "    </tr>\n",
       "    <tr>\n",
       "      <th>8</th>\n",
       "      <td>8</td>\n",
       "      <td>0.5</td>\n",
       "    </tr>\n",
       "    <tr>\n",
       "      <th>9</th>\n",
       "      <td>9</td>\n",
       "      <td>0.5</td>\n",
       "    </tr>\n",
       "  </tbody>\n",
       "</table>\n",
       "</div>"
      ],
      "text/plain": [
       "   id  target\n",
       "0   0     0.5\n",
       "1   1     0.5\n",
       "2   2     0.5\n",
       "3   3     0.5\n",
       "4   4     0.5\n",
       "5   5     0.5\n",
       "6   6     0.5\n",
       "7   7     0.5\n",
       "8   8     0.5\n",
       "9   9     0.5"
      ]
     },
     "execution_count": 25,
     "metadata": {},
     "output_type": "execute_result"
    }
   ],
   "source": [
    "sample_submission.head(10)"
   ]
  },
  {
   "cell_type": "code",
   "execution_count": 26,
   "metadata": {
    "hidden": true,
    "scrolled": false
   },
   "outputs": [
    {
     "name": "stdout",
     "output_type": "stream",
     "text": [
      "<class 'pandas.core.frame.DataFrame'>\n",
      "RangeIndex: 2556790 entries, 0 to 2556789\n",
      "Data columns (total 2 columns):\n",
      "id        2556790 non-null int64\n",
      "target    2556790 non-null float64\n",
      "dtypes: float64(1), int64(1)\n",
      "memory usage: 39.0 MB\n"
     ]
    }
   ],
   "source": [
    "sample_submission.info(verbose=True, null_counts=True)"
   ]
  },
  {
   "cell_type": "markdown",
   "metadata": {},
   "source": [
    "# Check mappings"
   ]
  },
  {
   "cell_type": "markdown",
   "metadata": {},
   "source": [
    "## Members mappings"
   ]
  },
  {
   "cell_type": "code",
   "execution_count": 129,
   "metadata": {},
   "outputs": [
    {
     "data": {
      "image/png": "[encoded data removed]",
      "text/plain": [
       "<Figure size 3240x1080 with 3 Axes>"
      ]
     },
     "metadata": {},
     "output_type": "display_data"
    }
   ],
   "source": [
    "f, (ax1, ax2, ax3) = plt.subplots(nrows=1, ncols=3, figsize=(45, 15), facecolor='None')\n",
    "venn.venn2(subsets=[set(train.msno), set(test.msno)], set_labels=['train', 'test'], alpha=0.8, ax=ax1)\n",
    "venn.venn2(subsets=[set(train.msno), set(members.msno)], set_labels=['train', 'members'], alpha=0.8, ax=ax2)\n",
    "venn.venn2(subsets=[set(test.msno), set(members.msno)], set_labels=['test', 'members'], alpha=0.8, ax=ax3)\n",
    "f.suptitle('The mapping of members between train, test and members tables')\n",
    "plt.tight_layout()\n",
    "plt.show()"
   ]
  },
  {
   "cell_type": "markdown",
   "metadata": {},
   "source": [
    "## Songs mappings"
   ]
  },
  {
   "cell_type": "code",
   "execution_count": 128,
   "metadata": {},
   "outputs": [
    {
     "data": {
      "image/png": "[encoded data removed]",
      "text/plain": [
       "<Figure size 3240x1080 with 3 Axes>"
      ]
     },
     "metadata": {},
     "output_type": "display_data"
    }
   ],
   "source": [
    "f, (ax1, ax2, ax3) = plt.subplots(nrows=1, ncols=3, figsize=(45, 15), facecolor='None')\n",
    "venn.venn2(subsets=[set(train.song_id), set(test.song_id)], set_labels=['train', 'test'], alpha=0.8, ax=ax1)\n",
    "venn.venn2(subsets=[set(train.song_id), set(songs.song_id)], set_labels=['train', 'songs'], alpha=0.8, ax=ax2)\n",
    "venn.venn2(subsets=[set(test.song_id), set(songs.song_id)], set_labels=['test', 'songs'], alpha=0.8, ax=ax3)\n",
    "f.suptitle('The mapping of songs between train, test and songs tables')\n",
    "plt.tight_layout()\n",
    "plt.show()"
   ]
  },
  {
   "cell_type": "code",
   "execution_count": 130,
   "metadata": {},
   "outputs": [
    {
     "data": {
      "text/plain": [
       "114"
      ]
     },
     "execution_count": 130,
     "metadata": {},
     "output_type": "execute_result"
    }
   ],
   "source": [
    "len(train[train.song_id.isin(set(train.song_id) - set(songs.song_id))])"
   ]
  },
  {
   "cell_type": "code",
   "execution_count": 132,
   "metadata": {},
   "outputs": [
    {
     "data": {
      "text/html": [
       "<div>\n",
       "<style scoped>\n",
       "    .dataframe tbody tr th:only-of-type {\n",
       "        vertical-align: middle;\n",
       "    }\n",
       "\n",
       "    .dataframe tbody tr th {\n",
       "        vertical-align: top;\n",
       "    }\n",
       "\n",
       "    .dataframe thead th {\n",
       "        text-align: right;\n",
       "    }\n",
       "</style>\n",
       "<table border=\"1\" class=\"dataframe\">\n",
       "  <thead>\n",
       "    <tr style=\"text-align: right;\">\n",
       "      <th></th>\n",
       "      <th>msno</th>\n",
       "      <th>song_id</th>\n",
       "      <th>source_system_tab</th>\n",
       "      <th>source_screen_name</th>\n",
       "      <th>source_type</th>\n",
       "      <th>target</th>\n",
       "      <th>data_from</th>\n",
       "    </tr>\n",
       "  </thead>\n",
       "  <tbody>\n",
       "    <tr>\n",
       "      <th>17865</th>\n",
       "      <td>32cgPD/BbmvhjjVCmkovSHFfgeMIlUnJe5ILtcTLUr0=</td>\n",
       "      <td>DHq4+axdk09TxwsxUbI+pWdzROsckleX+T1fm7u0/So=</td>\n",
       "      <td>my library</td>\n",
       "      <td>Local playlist more</td>\n",
       "      <td>local-playlist</td>\n",
       "      <td>0</td>\n",
       "      <td>train</td>\n",
       "    </tr>\n",
       "    <tr>\n",
       "      <th>33898</th>\n",
       "      <td>OHRtginG8VMGOkEHIOZIUsI25STd9NFOuOX8kXyDbJM=</td>\n",
       "      <td>OtLPFbGc3Y0JCFRG785mLrpsGAUgMZ1q0XAdqUnl+es=</td>\n",
       "      <td>explore</td>\n",
       "      <td>Explore</td>\n",
       "      <td>album</td>\n",
       "      <td>0</td>\n",
       "      <td>train</td>\n",
       "    </tr>\n",
       "    <tr>\n",
       "      <th>37179</th>\n",
       "      <td>SCxpcNpxlmZgJzUtTTx6R3/7zbcBHhV/ZrTGnhqXME0=</td>\n",
       "      <td>sIstoLt134OfZXyetCoUqBuDas1he9uZot5EkFdp7+o=</td>\n",
       "      <td>my library</td>\n",
       "      <td>Local playlist more</td>\n",
       "      <td>local-library</td>\n",
       "      <td>0</td>\n",
       "      <td>train</td>\n",
       "    </tr>\n",
       "    <tr>\n",
       "      <th>66911</th>\n",
       "      <td>trn8fkzQ8df7uicgIkA9AMnwqETirz77eMTUQNhKH1Q=</td>\n",
       "      <td>3+OBQRyVxirbtD79O0oyj/kVwcq7A8ghJCRs+LoA0ow=</td>\n",
       "      <td>my library</td>\n",
       "      <td>Local playlist more</td>\n",
       "      <td>local-playlist</td>\n",
       "      <td>1</td>\n",
       "      <td>train</td>\n",
       "    </tr>\n",
       "    <tr>\n",
       "      <th>346482</th>\n",
       "      <td>ITiE2zbCjjXoGflqFUa9pbJT35i3eKao4b2tTfyAShQ=</td>\n",
       "      <td>WKCEUOm70//9O7IQ3VE2ohtiJaDGUH7cChanz4plSdA=</td>\n",
       "      <td>my library</td>\n",
       "      <td>Local playlist more</td>\n",
       "      <td>local-playlist</td>\n",
       "      <td>1</td>\n",
       "      <td>train</td>\n",
       "    </tr>\n",
       "    <tr>\n",
       "      <th>384808</th>\n",
       "      <td>BsK6uTnwaTHP+nSJTBrWbblCseJdZ4TKR90HPU7uNg0=</td>\n",
       "      <td>a0S959XXxdHq02RRyJIYYysamjxwJNmoCnkadrWVrjA=</td>\n",
       "      <td>my library</td>\n",
       "      <td>Album more</td>\n",
       "      <td>album</td>\n",
       "      <td>0</td>\n",
       "      <td>train</td>\n",
       "    </tr>\n",
       "    <tr>\n",
       "      <th>603743</th>\n",
       "      <td>Os2AqQn51gs+Z/nl28XPFwTR2o0Qsro2QAvwGIbZYLc=</td>\n",
       "      <td>o6G9PiWV55Shat8JNnNUp5IsK4U+dKQEg05PgSt4GZc=</td>\n",
       "      <td>my library</td>\n",
       "      <td>Local playlist more</td>\n",
       "      <td>local-library</td>\n",
       "      <td>0</td>\n",
       "      <td>train</td>\n",
       "    </tr>\n",
       "    <tr>\n",
       "      <th>739046</th>\n",
       "      <td>aHL+SJaFXhVun0zqx5e5EVq6clEBNZmqpWv5DZFouMk=</td>\n",
       "      <td>Kp8wT5LyqPU9Gj6bhMyzxxWzvtOnM4hyKSke+KBMQS4=</td>\n",
       "      <td>search</td>\n",
       "      <td>Search</td>\n",
       "      <td>online-playlist</td>\n",
       "      <td>0</td>\n",
       "      <td>train</td>\n",
       "    </tr>\n",
       "    <tr>\n",
       "      <th>777679</th>\n",
       "      <td>BF97sQNyf77oqUSZH1SZHvJLbSUqhk88Zv/7BD1/ed8=</td>\n",
       "      <td>WKCEUOm70//9O7IQ3VE2ohtiJaDGUH7cChanz4plSdA=</td>\n",
       "      <td>my library</td>\n",
       "      <td>Local playlist more</td>\n",
       "      <td>local-playlist</td>\n",
       "      <td>1</td>\n",
       "      <td>train</td>\n",
       "    </tr>\n",
       "    <tr>\n",
       "      <th>795767</th>\n",
       "      <td>yBXKYfcmQ+TtIEvkLQXabAY2uwudIGn21dEZYAwCDCg=</td>\n",
       "      <td>bo+kTVU6S1dC0ksT88FZLBUf8ax+jBWL6oOFU4rScEo=</td>\n",
       "      <td>my library</td>\n",
       "      <td>Local playlist more</td>\n",
       "      <td>local-library</td>\n",
       "      <td>1</td>\n",
       "      <td>train</td>\n",
       "    </tr>\n",
       "    <tr>\n",
       "      <th>819979</th>\n",
       "      <td>ot8VgGqJp/YXBUlv1U8OlG6tgulBZ2yMnsMveEhPIno=</td>\n",
       "      <td>Xvnz8koE37cbZGzgkxWjkKwJ+Q6ASvnJr73pHNDHhwk=</td>\n",
       "      <td>my library</td>\n",
       "      <td>Local playlist more</td>\n",
       "      <td>local-playlist</td>\n",
       "      <td>0</td>\n",
       "      <td>train</td>\n",
       "    </tr>\n",
       "    <tr>\n",
       "      <th>904468</th>\n",
       "      <td>80XCaFoSB4bHzQ3vdB/OFOPya2iI7YdcVR5DNUro1rY=</td>\n",
       "      <td>WKCEUOm70//9O7IQ3VE2ohtiJaDGUH7cChanz4plSdA=</td>\n",
       "      <td>my library</td>\n",
       "      <td>Local playlist more</td>\n",
       "      <td>local-library</td>\n",
       "      <td>1</td>\n",
       "      <td>train</td>\n",
       "    </tr>\n",
       "    <tr>\n",
       "      <th>942424</th>\n",
       "      <td>ZcfQg5I1uU5DYdeT/+mKplcdX4AZn06biAjwB/IQFVs=</td>\n",
       "      <td>0PSmtxAwg8OqaHkjyKLbsEn45dz/se09BTlsMuc6N2I=</td>\n",
       "      <td>discover</td>\n",
       "      <td>Discover Feature</td>\n",
       "      <td>song-based-playlist</td>\n",
       "      <td>0</td>\n",
       "      <td>train</td>\n",
       "    </tr>\n",
       "    <tr>\n",
       "      <th>945662</th>\n",
       "      <td>QWkxK/qK6SBdHpTu4UYuu5bfytsAch2SfShXuj4aq1s=</td>\n",
       "      <td>jjxEv+tHgx1AAr5r8nvrQrIGYJrUy179vWbWo8z4/kE=</td>\n",
       "      <td>search</td>\n",
       "      <td>Search</td>\n",
       "      <td>song</td>\n",
       "      <td>0</td>\n",
       "      <td>train</td>\n",
       "    </tr>\n",
       "    <tr>\n",
       "      <th>947023</th>\n",
       "      <td>0lnCccAhtqdxliF5owy74L7HmP8AA//zqPDbbQjBNFk=</td>\n",
       "      <td>6uYPDXZJGYhq6WDg35xDLMB0Z46Rw3Y0XTLik5F/w9c=</td>\n",
       "      <td>my library</td>\n",
       "      <td>Local playlist more</td>\n",
       "      <td>local-library</td>\n",
       "      <td>0</td>\n",
       "      <td>train</td>\n",
       "    </tr>\n",
       "    <tr>\n",
       "      <th>974755</th>\n",
       "      <td>DBrDJMl0bOsVck3g6EO1AZ/GgK2vMPwU8Ob/lTu8We4=</td>\n",
       "      <td>WKCEUOm70//9O7IQ3VE2ohtiJaDGUH7cChanz4plSdA=</td>\n",
       "      <td>my library</td>\n",
       "      <td>Local playlist more</td>\n",
       "      <td>local-library</td>\n",
       "      <td>1</td>\n",
       "      <td>train</td>\n",
       "    </tr>\n",
       "    <tr>\n",
       "      <th>1035363</th>\n",
       "      <td>aW5wmYfRiSfTW1/beDZ7X9AqI4akX/5k+qVH+aFpQOU=</td>\n",
       "      <td>nQHidtd5GZV3YvuqvsEqzheyrtwZXuNt7vYNjEgq5mY=</td>\n",
       "      <td>search</td>\n",
       "      <td>Album more</td>\n",
       "      <td>album</td>\n",
       "      <td>0</td>\n",
       "      <td>train</td>\n",
       "    </tr>\n",
       "    <tr>\n",
       "      <th>1055598</th>\n",
       "      <td>KJXu+jqo3kcNW9J3PBrYScgMODbT53D38M0/iuXsRLk=</td>\n",
       "      <td>/C/wiubl/fCiUmjJwQ1yDv3seKLBaPvMEXRJOl93/e4=</td>\n",
       "      <td>my library</td>\n",
       "      <td>NaN</td>\n",
       "      <td>top-hits-for-artist</td>\n",
       "      <td>1</td>\n",
       "      <td>train</td>\n",
       "    </tr>\n",
       "    <tr>\n",
       "      <th>1269794</th>\n",
       "      <td>Ql1R0Cp7FJod3nE85ba10VTzyE6Zq7TJCCwG9dmoeHw=</td>\n",
       "      <td>2ERR0eBNGK0tAVKorpSrR4XDYnOqQDfNid/nPJzGd38=</td>\n",
       "      <td>radio</td>\n",
       "      <td>Radio</td>\n",
       "      <td>radio</td>\n",
       "      <td>1</td>\n",
       "      <td>train</td>\n",
       "    </tr>\n",
       "    <tr>\n",
       "      <th>1324485</th>\n",
       "      <td>l2rruZhveO39LnjQSVSaRgEsLBzBX+btfnwr+KxQGtg=</td>\n",
       "      <td>zPui1xGj24uMDuWEnNiRUGBRY0X7IUG5owdi/zAhFNc=</td>\n",
       "      <td>my library</td>\n",
       "      <td>Local playlist more</td>\n",
       "      <td>local-library</td>\n",
       "      <td>0</td>\n",
       "      <td>train</td>\n",
       "    </tr>\n",
       "    <tr>\n",
       "      <th>1326902</th>\n",
       "      <td>S/8qr9Kwi4lycQUhw+veiCSjIF/AKCAjPs82oyCrys4=</td>\n",
       "      <td>898dTVIsSDDautzUt7IK1DggQ21FkyhLqif4qLXn+CU=</td>\n",
       "      <td>my library</td>\n",
       "      <td>Local playlist more</td>\n",
       "      <td>local-library</td>\n",
       "      <td>1</td>\n",
       "      <td>train</td>\n",
       "    </tr>\n",
       "    <tr>\n",
       "      <th>1334102</th>\n",
       "      <td>aZE7MvnB3MSYBmDwqp0648w7Km3OiZR459XLggghNHA=</td>\n",
       "      <td>Nbq4EH8j6MPik4oXXsDZNkdP/bZz/7XayxWVBMzd308=</td>\n",
       "      <td>search</td>\n",
       "      <td>Artist more</td>\n",
       "      <td>top-hits-for-artist</td>\n",
       "      <td>0</td>\n",
       "      <td>train</td>\n",
       "    </tr>\n",
       "    <tr>\n",
       "      <th>1373089</th>\n",
       "      <td>n+f0bRfah4zmn4c+ek4wWGoTmwW78SUpi3qk1MoN29U=</td>\n",
       "      <td>WKCEUOm70//9O7IQ3VE2ohtiJaDGUH7cChanz4plSdA=</td>\n",
       "      <td>discover</td>\n",
       "      <td>NaN</td>\n",
       "      <td>song-based-playlist</td>\n",
       "      <td>0</td>\n",
       "      <td>train</td>\n",
       "    </tr>\n",
       "    <tr>\n",
       "      <th>1487159</th>\n",
       "      <td>8tSgHKzljg7TyPLYrU9L7CgHIdShVvyV/d6PccMRzhw=</td>\n",
       "      <td>lLsg/q8lurYYpIc3X526qxpWD6SY8Y4grHSCfXlO3mM=</td>\n",
       "      <td>my library</td>\n",
       "      <td>Local playlist more</td>\n",
       "      <td>local-playlist</td>\n",
       "      <td>1</td>\n",
       "      <td>train</td>\n",
       "    </tr>\n",
       "    <tr>\n",
       "      <th>1495189</th>\n",
       "      <td>oVF+gp+74GNUXrhGqVJgspRysUs0+BhwsPoXhrGSX50=</td>\n",
       "      <td>q56DHVHETlI2i23Uol52mIH04w1Vk7M9ObL8BBa80pk=</td>\n",
       "      <td>search</td>\n",
       "      <td>Album more</td>\n",
       "      <td>album</td>\n",
       "      <td>1</td>\n",
       "      <td>train</td>\n",
       "    </tr>\n",
       "    <tr>\n",
       "      <th>1534625</th>\n",
       "      <td>PnzMJ9IGNZ7Xusi3Q4hV4dTm0iAvy5M9X+rvvXmJFp4=</td>\n",
       "      <td>K2XSof258aFDY0w7x4HUhcdOCI1fcAnFVmd0AGq6aSw=</td>\n",
       "      <td>my library</td>\n",
       "      <td>Local playlist more</td>\n",
       "      <td>local-playlist</td>\n",
       "      <td>1</td>\n",
       "      <td>train</td>\n",
       "    </tr>\n",
       "    <tr>\n",
       "      <th>1571662</th>\n",
       "      <td>0/mhIDZ4qpauIi6QmNPY3/eU9zIkBZDUoKrlKeGi0aQ=</td>\n",
       "      <td>m7Ia7XWdHyAvBap14HZyW/c0zfEJL9snISGb719vDyQ=</td>\n",
       "      <td>search</td>\n",
       "      <td>Album more</td>\n",
       "      <td>album</td>\n",
       "      <td>0</td>\n",
       "      <td>train</td>\n",
       "    </tr>\n",
       "    <tr>\n",
       "      <th>1631329</th>\n",
       "      <td>o+5RNlSWrzvrphgBNGIo1FLkGxBgyICns6qXj3nS7Pk=</td>\n",
       "      <td>6uYPDXZJGYhq6WDg35xDLMB0Z46Rw3Y0XTLik5F/w9c=</td>\n",
       "      <td>my library</td>\n",
       "      <td>Local playlist more</td>\n",
       "      <td>local-library</td>\n",
       "      <td>1</td>\n",
       "      <td>train</td>\n",
       "    </tr>\n",
       "    <tr>\n",
       "      <th>1639738</th>\n",
       "      <td>lFQM2AQ0IIifeOgmnRDSFEuWfh7XQZm0Z+O6K696CQk=</td>\n",
       "      <td>3+OBQRyVxirbtD79O0oyj/kVwcq7A8ghJCRs+LoA0ow=</td>\n",
       "      <td>radio</td>\n",
       "      <td>Radio</td>\n",
       "      <td>radio</td>\n",
       "      <td>0</td>\n",
       "      <td>train</td>\n",
       "    </tr>\n",
       "    <tr>\n",
       "      <th>1647693</th>\n",
       "      <td>66YgVN3SwlLuvSDkQdaNFz5ylCHbdmHbceQuWopPT3M=</td>\n",
       "      <td>SxekcRFJ/l4MWpWZhkTsEfD0bLRpqAGZ1Y2Ed1tJ3DY=</td>\n",
       "      <td>my library</td>\n",
       "      <td>Local playlist more</td>\n",
       "      <td>local-playlist</td>\n",
       "      <td>1</td>\n",
       "      <td>train</td>\n",
       "    </tr>\n",
       "    <tr>\n",
       "      <th>...</th>\n",
       "      <td>...</td>\n",
       "      <td>...</td>\n",
       "      <td>...</td>\n",
       "      <td>...</td>\n",
       "      <td>...</td>\n",
       "      <td>...</td>\n",
       "      <td>...</td>\n",
       "    </tr>\n",
       "    <tr>\n",
       "      <th>5291869</th>\n",
       "      <td>/LyPK8eA/GAmcSKh6tJalFNmgsqsoM9Av2tLy3v6kZs=</td>\n",
       "      <td>ukVvND1sDHueqiKeetPQa0uXm+qpcPZum4ewNOHwZyk=</td>\n",
       "      <td>discover</td>\n",
       "      <td>Album more</td>\n",
       "      <td>album</td>\n",
       "      <td>0</td>\n",
       "      <td>train</td>\n",
       "    </tr>\n",
       "    <tr>\n",
       "      <th>5392114</th>\n",
       "      <td>Jc84woRFJuyMAC6hDcH/Rr84MGq9ucuxeZveZ00kI5o=</td>\n",
       "      <td>6uYPDXZJGYhq6WDg35xDLMB0Z46Rw3Y0XTLik5F/w9c=</td>\n",
       "      <td>my library</td>\n",
       "      <td>Local playlist more</td>\n",
       "      <td>local-library</td>\n",
       "      <td>1</td>\n",
       "      <td>train</td>\n",
       "    </tr>\n",
       "    <tr>\n",
       "      <th>5405058</th>\n",
       "      <td>RdnED/pVChj5L5rUPNsTppY1+ljtkwK57VmZzrPfr7Q=</td>\n",
       "      <td>I4p6lOJx+ZlqcVWD5AncdwaLGfhLJ7eqm/38rSTGLjc=</td>\n",
       "      <td>listen with</td>\n",
       "      <td>NaN</td>\n",
       "      <td>listen-with</td>\n",
       "      <td>1</td>\n",
       "      <td>train</td>\n",
       "    </tr>\n",
       "    <tr>\n",
       "      <th>5425834</th>\n",
       "      <td>ATrbJMHm7lHWA4uv9KGB5KVtgxXIhbt9tzH3nXp5KF8=</td>\n",
       "      <td>Dh1uPET9CjT916QXnHI1oUhnwB306jFJ/xemOyU+LYs=</td>\n",
       "      <td>discover</td>\n",
       "      <td>Search</td>\n",
       "      <td>online-playlist</td>\n",
       "      <td>0</td>\n",
       "      <td>train</td>\n",
       "    </tr>\n",
       "    <tr>\n",
       "      <th>5466171</th>\n",
       "      <td>AZp+EuVK4WXNX25ogqnCDYDQgyREvR/TW4qCsngBki0=</td>\n",
       "      <td>a0S959XXxdHq02RRyJIYYysamjxwJNmoCnkadrWVrjA=</td>\n",
       "      <td>search</td>\n",
       "      <td>Album more</td>\n",
       "      <td>album</td>\n",
       "      <td>0</td>\n",
       "      <td>train</td>\n",
       "    </tr>\n",
       "    <tr>\n",
       "      <th>5549674</th>\n",
       "      <td>13rwfiNRTAb0jqVfGdAfy1wiw5Uuy/rk+a5Hs6RTVxE=</td>\n",
       "      <td>uikoKkrpGjT7nI7NfPSYCil3+czMjV++wsMC3yw1Tes=</td>\n",
       "      <td>my library</td>\n",
       "      <td>Local playlist more</td>\n",
       "      <td>local-playlist</td>\n",
       "      <td>1</td>\n",
       "      <td>train</td>\n",
       "    </tr>\n",
       "    <tr>\n",
       "      <th>5573940</th>\n",
       "      <td>A06qS6UCqQWRUpmW3QWLEC7H+Pi8bgxAymYB/mYWtVI=</td>\n",
       "      <td>6uYPDXZJGYhq6WDg35xDLMB0Z46Rw3Y0XTLik5F/w9c=</td>\n",
       "      <td>my library</td>\n",
       "      <td>Local playlist more</td>\n",
       "      <td>local-playlist</td>\n",
       "      <td>1</td>\n",
       "      <td>train</td>\n",
       "    </tr>\n",
       "    <tr>\n",
       "      <th>5574945</th>\n",
       "      <td>i+FnSB5Qnvne5BaSOE8KdzptocyW+gPqAW+/RwtiOKU=</td>\n",
       "      <td>I4p6lOJx+ZlqcVWD5AncdwaLGfhLJ7eqm/38rSTGLjc=</td>\n",
       "      <td>listen with</td>\n",
       "      <td>Others profile more</td>\n",
       "      <td>listen-with</td>\n",
       "      <td>0</td>\n",
       "      <td>train</td>\n",
       "    </tr>\n",
       "    <tr>\n",
       "      <th>5693107</th>\n",
       "      <td>FtCJaSTuuhthFdPUkx6916iNmrGRw/mLDR3doFj/NCw=</td>\n",
       "      <td>NzKHUdizUFikWIZbLIPik+ApyGxJknliRzZNzODIMUo=</td>\n",
       "      <td>search</td>\n",
       "      <td>Album more</td>\n",
       "      <td>album</td>\n",
       "      <td>0</td>\n",
       "      <td>train</td>\n",
       "    </tr>\n",
       "    <tr>\n",
       "      <th>5729475</th>\n",
       "      <td>k99QAFsXJrsxKY9e3Dz3PXC4cOIODEsJRJgQNn0M4BE=</td>\n",
       "      <td>bFWaWWksxSBSsiC0tZVJGpZ42juERWnMQPi8h5/1ARs=</td>\n",
       "      <td>my library</td>\n",
       "      <td>Local playlist more</td>\n",
       "      <td>local-playlist</td>\n",
       "      <td>0</td>\n",
       "      <td>train</td>\n",
       "    </tr>\n",
       "    <tr>\n",
       "      <th>5741920</th>\n",
       "      <td>2o1omslLLgkr1HxsdtFX+li3S0dRcNlNDldxbu2rAJo=</td>\n",
       "      <td>NzKHUdizUFikWIZbLIPik+ApyGxJknliRzZNzODIMUo=</td>\n",
       "      <td>search</td>\n",
       "      <td>Album more</td>\n",
       "      <td>album</td>\n",
       "      <td>1</td>\n",
       "      <td>train</td>\n",
       "    </tr>\n",
       "    <tr>\n",
       "      <th>5788723</th>\n",
       "      <td>Y3yn8ONfWABrk7H2o73MattvPf0CBYsK2rmBnq55aF0=</td>\n",
       "      <td>Nbq4EH8j6MPik4oXXsDZNkdP/bZz/7XayxWVBMzd308=</td>\n",
       "      <td>my library</td>\n",
       "      <td>Local playlist more</td>\n",
       "      <td>local-playlist</td>\n",
       "      <td>1</td>\n",
       "      <td>train</td>\n",
       "    </tr>\n",
       "    <tr>\n",
       "      <th>5854972</th>\n",
       "      <td>j++LtgsZHuZIYdUVrQm2h4aOm9qlGzxJeVPAtxbfQHg=</td>\n",
       "      <td>cuSwXYNpWOTM1drx/mJW3qM0P5b5TY44xtrIP8DoGzQ=</td>\n",
       "      <td>radio</td>\n",
       "      <td>Radio</td>\n",
       "      <td>radio</td>\n",
       "      <td>0</td>\n",
       "      <td>train</td>\n",
       "    </tr>\n",
       "    <tr>\n",
       "      <th>5897123</th>\n",
       "      <td>9+wBtS5jxYNS6ZTS8QmPWzvvwQ6HBo48S2Xuvd/oZnU=</td>\n",
       "      <td>o6G9PiWV55Shat8JNnNUp5IsK4U+dKQEg05PgSt4GZc=</td>\n",
       "      <td>my library</td>\n",
       "      <td>Local playlist more</td>\n",
       "      <td>local-library</td>\n",
       "      <td>0</td>\n",
       "      <td>train</td>\n",
       "    </tr>\n",
       "    <tr>\n",
       "      <th>5914458</th>\n",
       "      <td>dadmtMlH9goyYdlqkPv9DulGzafpvRUYKovbgY3j/10=</td>\n",
       "      <td>6LW3BZ1jm7spunKba4mWqkiNjspNPyhPRzhZ/eTo7wI=</td>\n",
       "      <td>discover</td>\n",
       "      <td>Online playlist more</td>\n",
       "      <td>online-playlist</td>\n",
       "      <td>1</td>\n",
       "      <td>train</td>\n",
       "    </tr>\n",
       "    <tr>\n",
       "      <th>5943182</th>\n",
       "      <td>+bQQ3svrSTHzIVdE8VA6yAAIBNF+WEXmp4WsI1cM8cw=</td>\n",
       "      <td>q56DHVHETlI2i23Uol52mIH04w1Vk7M9ObL8BBa80pk=</td>\n",
       "      <td>radio</td>\n",
       "      <td>Radio</td>\n",
       "      <td>radio</td>\n",
       "      <td>0</td>\n",
       "      <td>train</td>\n",
       "    </tr>\n",
       "    <tr>\n",
       "      <th>5974950</th>\n",
       "      <td>y7mhTGmm2CkrzKqJifrgkAzdJpokKb7DwFF57kvqAi8=</td>\n",
       "      <td>NzKHUdizUFikWIZbLIPik+ApyGxJknliRzZNzODIMUo=</td>\n",
       "      <td>discover</td>\n",
       "      <td>Album more</td>\n",
       "      <td>album</td>\n",
       "      <td>0</td>\n",
       "      <td>train</td>\n",
       "    </tr>\n",
       "    <tr>\n",
       "      <th>6128755</th>\n",
       "      <td>akVhDpJX6hUemTkqsMR5ekuIeJrPmefZJPQmRyKhgWY=</td>\n",
       "      <td>bFWaWWksxSBSsiC0tZVJGpZ42juERWnMQPi8h5/1ARs=</td>\n",
       "      <td>my library</td>\n",
       "      <td>NaN</td>\n",
       "      <td>top-hits-for-artist</td>\n",
       "      <td>0</td>\n",
       "      <td>train</td>\n",
       "    </tr>\n",
       "    <tr>\n",
       "      <th>6180007</th>\n",
       "      <td>0r1791/q5rOcdzcYvC1842t8wWvMEQfTdG94Pesdhr4=</td>\n",
       "      <td>cuSwXYNpWOTM1drx/mJW3qM0P5b5TY44xtrIP8DoGzQ=</td>\n",
       "      <td>my library</td>\n",
       "      <td>Local playlist more</td>\n",
       "      <td>local-library</td>\n",
       "      <td>0</td>\n",
       "      <td>train</td>\n",
       "    </tr>\n",
       "    <tr>\n",
       "      <th>6234334</th>\n",
       "      <td>pjuHeDvlMLop4cFg3eAOxTfjzpKeW1jhMfYbi2YAUQI=</td>\n",
       "      <td>WKCEUOm70//9O7IQ3VE2ohtiJaDGUH7cChanz4plSdA=</td>\n",
       "      <td>my library</td>\n",
       "      <td>Local playlist more</td>\n",
       "      <td>local-library</td>\n",
       "      <td>0</td>\n",
       "      <td>train</td>\n",
       "    </tr>\n",
       "    <tr>\n",
       "      <th>6237511</th>\n",
       "      <td>1EWkWuqJSss26wISV+DtcTymbIgDFhYNWgqE+AiXmuw=</td>\n",
       "      <td>KEnXQfwFdjdxbLbPGFy6yVDIDINocarPf5eRGXEwLYQ=</td>\n",
       "      <td>my library</td>\n",
       "      <td>Local playlist more</td>\n",
       "      <td>local-library</td>\n",
       "      <td>1</td>\n",
       "      <td>train</td>\n",
       "    </tr>\n",
       "    <tr>\n",
       "      <th>6447181</th>\n",
       "      <td>s7MrmckLytMe1aERk9oEHqGj5LDP8V2q57OMQND7reM=</td>\n",
       "      <td>RcGEZpOfi+Y9D7JIIcUtyGP2MddfnhVzhfKKhEAJAtM=</td>\n",
       "      <td>my library</td>\n",
       "      <td>Album more</td>\n",
       "      <td>album</td>\n",
       "      <td>0</td>\n",
       "      <td>train</td>\n",
       "    </tr>\n",
       "    <tr>\n",
       "      <th>6502343</th>\n",
       "      <td>+xxwj/U5aV+zv1M34K0Gdeyb94xRj8la5GJ01HV/USg=</td>\n",
       "      <td>2ERR0eBNGK0tAVKorpSrR4XDYnOqQDfNid/nPJzGd38=</td>\n",
       "      <td>radio</td>\n",
       "      <td>Radio</td>\n",
       "      <td>radio</td>\n",
       "      <td>0</td>\n",
       "      <td>train</td>\n",
       "    </tr>\n",
       "    <tr>\n",
       "      <th>6589609</th>\n",
       "      <td>d6BudvWewEwftX4A3eiypV1XjUR/yb5ZzU1luqXKlm0=</td>\n",
       "      <td>SxekcRFJ/l4MWpWZhkTsEfD0bLRpqAGZ1Y2Ed1tJ3DY=</td>\n",
       "      <td>my library</td>\n",
       "      <td>Local playlist more</td>\n",
       "      <td>local-library</td>\n",
       "      <td>0</td>\n",
       "      <td>train</td>\n",
       "    </tr>\n",
       "    <tr>\n",
       "      <th>6778969</th>\n",
       "      <td>I74spJ+V+IhVW4fA0bEFKF5H3SaUHzJ4BN0vubkZFSo=</td>\n",
       "      <td>NzKHUdizUFikWIZbLIPik+ApyGxJknliRzZNzODIMUo=</td>\n",
       "      <td>search</td>\n",
       "      <td>Album more</td>\n",
       "      <td>album</td>\n",
       "      <td>1</td>\n",
       "      <td>train</td>\n",
       "    </tr>\n",
       "    <tr>\n",
       "      <th>6794433</th>\n",
       "      <td>6esVRMr1v1qQT1tR7NWP7LaTAWCd32aWU91fKmLcWgk=</td>\n",
       "      <td>q56DHVHETlI2i23Uol52mIH04w1Vk7M9ObL8BBa80pk=</td>\n",
       "      <td>search</td>\n",
       "      <td>Search</td>\n",
       "      <td>album</td>\n",
       "      <td>1</td>\n",
       "      <td>train</td>\n",
       "    </tr>\n",
       "    <tr>\n",
       "      <th>6842034</th>\n",
       "      <td>X7Y7dUzjs7wN9A3dZLLGF6+ctncCNZn+JG6TAMKi+pQ=</td>\n",
       "      <td>NzKHUdizUFikWIZbLIPik+ApyGxJknliRzZNzODIMUo=</td>\n",
       "      <td>search</td>\n",
       "      <td>Album more</td>\n",
       "      <td>album</td>\n",
       "      <td>0</td>\n",
       "      <td>train</td>\n",
       "    </tr>\n",
       "    <tr>\n",
       "      <th>7016564</th>\n",
       "      <td>K6z5ok/93u0mKE1BLACU5wLlS0QFmddZpYUMuczXHY4=</td>\n",
       "      <td>3+OBQRyVxirbtD79O0oyj/kVwcq7A8ghJCRs+LoA0ow=</td>\n",
       "      <td>discover</td>\n",
       "      <td>Online playlist more</td>\n",
       "      <td>song-based-playlist</td>\n",
       "      <td>0</td>\n",
       "      <td>train</td>\n",
       "    </tr>\n",
       "    <tr>\n",
       "      <th>7116207</th>\n",
       "      <td>weyBPJj+ionjF9ryHb3S7RS3N6+X6RNvmrclxypQ0/8=</td>\n",
       "      <td>WKCEUOm70//9O7IQ3VE2ohtiJaDGUH7cChanz4plSdA=</td>\n",
       "      <td>search</td>\n",
       "      <td>Search</td>\n",
       "      <td>song</td>\n",
       "      <td>1</td>\n",
       "      <td>train</td>\n",
       "    </tr>\n",
       "    <tr>\n",
       "      <th>7125816</th>\n",
       "      <td>JoKSH90uVyqRN6y3CSiI4DoIj/SvVDMV00+UFErYmo0=</td>\n",
       "      <td>NzKHUdizUFikWIZbLIPik+ApyGxJknliRzZNzODIMUo=</td>\n",
       "      <td>discover</td>\n",
       "      <td>Album more</td>\n",
       "      <td>album</td>\n",
       "      <td>0</td>\n",
       "      <td>train</td>\n",
       "    </tr>\n",
       "  </tbody>\n",
       "</table>\n",
       "<p>114 rows × 7 columns</p>\n",
       "</div>"
      ],
      "text/plain": [
       "                                                 msno  \\\n",
       "17865    32cgPD/BbmvhjjVCmkovSHFfgeMIlUnJe5ILtcTLUr0=   \n",
       "33898    OHRtginG8VMGOkEHIOZIUsI25STd9NFOuOX8kXyDbJM=   \n",
       "37179    SCxpcNpxlmZgJzUtTTx6R3/7zbcBHhV/ZrTGnhqXME0=   \n",
       "66911    trn8fkzQ8df7uicgIkA9AMnwqETirz77eMTUQNhKH1Q=   \n",
       "346482   ITiE2zbCjjXoGflqFUa9pbJT35i3eKao4b2tTfyAShQ=   \n",
       "384808   BsK6uTnwaTHP+nSJTBrWbblCseJdZ4TKR90HPU7uNg0=   \n",
       "603743   Os2AqQn51gs+Z/nl28XPFwTR2o0Qsro2QAvwGIbZYLc=   \n",
       "739046   aHL+SJaFXhVun0zqx5e5EVq6clEBNZmqpWv5DZFouMk=   \n",
       "777679   BF97sQNyf77oqUSZH1SZHvJLbSUqhk88Zv/7BD1/ed8=   \n",
       "795767   yBXKYfcmQ+TtIEvkLQXabAY2uwudIGn21dEZYAwCDCg=   \n",
       "819979   ot8VgGqJp/YXBUlv1U8OlG6tgulBZ2yMnsMveEhPIno=   \n",
       "904468   80XCaFoSB4bHzQ3vdB/OFOPya2iI7YdcVR5DNUro1rY=   \n",
       "942424   ZcfQg5I1uU5DYdeT/+mKplcdX4AZn06biAjwB/IQFVs=   \n",
       "945662   QWkxK/qK6SBdHpTu4UYuu5bfytsAch2SfShXuj4aq1s=   \n",
       "947023   0lnCccAhtqdxliF5owy74L7HmP8AA//zqPDbbQjBNFk=   \n",
       "974755   DBrDJMl0bOsVck3g6EO1AZ/GgK2vMPwU8Ob/lTu8We4=   \n",
       "1035363  aW5wmYfRiSfTW1/beDZ7X9AqI4akX/5k+qVH+aFpQOU=   \n",
       "1055598  KJXu+jqo3kcNW9J3PBrYScgMODbT53D38M0/iuXsRLk=   \n",
       "1269794  Ql1R0Cp7FJod3nE85ba10VTzyE6Zq7TJCCwG9dmoeHw=   \n",
       "1324485  l2rruZhveO39LnjQSVSaRgEsLBzBX+btfnwr+KxQGtg=   \n",
       "1326902  S/8qr9Kwi4lycQUhw+veiCSjIF/AKCAjPs82oyCrys4=   \n",
       "1334102  aZE7MvnB3MSYBmDwqp0648w7Km3OiZR459XLggghNHA=   \n",
       "1373089  n+f0bRfah4zmn4c+ek4wWGoTmwW78SUpi3qk1MoN29U=   \n",
       "1487159  8tSgHKzljg7TyPLYrU9L7CgHIdShVvyV/d6PccMRzhw=   \n",
       "1495189  oVF+gp+74GNUXrhGqVJgspRysUs0+BhwsPoXhrGSX50=   \n",
       "1534625  PnzMJ9IGNZ7Xusi3Q4hV4dTm0iAvy5M9X+rvvXmJFp4=   \n",
       "1571662  0/mhIDZ4qpauIi6QmNPY3/eU9zIkBZDUoKrlKeGi0aQ=   \n",
       "1631329  o+5RNlSWrzvrphgBNGIo1FLkGxBgyICns6qXj3nS7Pk=   \n",
       "1639738  lFQM2AQ0IIifeOgmnRDSFEuWfh7XQZm0Z+O6K696CQk=   \n",
       "1647693  66YgVN3SwlLuvSDkQdaNFz5ylCHbdmHbceQuWopPT3M=   \n",
       "...                                               ...   \n",
       "5291869  /LyPK8eA/GAmcSKh6tJalFNmgsqsoM9Av2tLy3v6kZs=   \n",
       "5392114  Jc84woRFJuyMAC6hDcH/Rr84MGq9ucuxeZveZ00kI5o=   \n",
       "5405058  RdnED/pVChj5L5rUPNsTppY1+ljtkwK57VmZzrPfr7Q=   \n",
       "5425834  ATrbJMHm7lHWA4uv9KGB5KVtgxXIhbt9tzH3nXp5KF8=   \n",
       "5466171  AZp+EuVK4WXNX25ogqnCDYDQgyREvR/TW4qCsngBki0=   \n",
       "5549674  13rwfiNRTAb0jqVfGdAfy1wiw5Uuy/rk+a5Hs6RTVxE=   \n",
       "5573940  A06qS6UCqQWRUpmW3QWLEC7H+Pi8bgxAymYB/mYWtVI=   \n",
       "5574945  i+FnSB5Qnvne5BaSOE8KdzptocyW+gPqAW+/RwtiOKU=   \n",
       "5693107  FtCJaSTuuhthFdPUkx6916iNmrGRw/mLDR3doFj/NCw=   \n",
       "5729475  k99QAFsXJrsxKY9e3Dz3PXC4cOIODEsJRJgQNn0M4BE=   \n",
       "5741920  2o1omslLLgkr1HxsdtFX+li3S0dRcNlNDldxbu2rAJo=   \n",
       "5788723  Y3yn8ONfWABrk7H2o73MattvPf0CBYsK2rmBnq55aF0=   \n",
       "5854972  j++LtgsZHuZIYdUVrQm2h4aOm9qlGzxJeVPAtxbfQHg=   \n",
       "5897123  9+wBtS5jxYNS6ZTS8QmPWzvvwQ6HBo48S2Xuvd/oZnU=   \n",
       "5914458  dadmtMlH9goyYdlqkPv9DulGzafpvRUYKovbgY3j/10=   \n",
       "5943182  +bQQ3svrSTHzIVdE8VA6yAAIBNF+WEXmp4WsI1cM8cw=   \n",
       "5974950  y7mhTGmm2CkrzKqJifrgkAzdJpokKb7DwFF57kvqAi8=   \n",
       "6128755  akVhDpJX6hUemTkqsMR5ekuIeJrPmefZJPQmRyKhgWY=   \n",
       "6180007  0r1791/q5rOcdzcYvC1842t8wWvMEQfTdG94Pesdhr4=   \n",
       "6234334  pjuHeDvlMLop4cFg3eAOxTfjzpKeW1jhMfYbi2YAUQI=   \n",
       "6237511  1EWkWuqJSss26wISV+DtcTymbIgDFhYNWgqE+AiXmuw=   \n",
       "6447181  s7MrmckLytMe1aERk9oEHqGj5LDP8V2q57OMQND7reM=   \n",
       "6502343  +xxwj/U5aV+zv1M34K0Gdeyb94xRj8la5GJ01HV/USg=   \n",
       "6589609  d6BudvWewEwftX4A3eiypV1XjUR/yb5ZzU1luqXKlm0=   \n",
       "6778969  I74spJ+V+IhVW4fA0bEFKF5H3SaUHzJ4BN0vubkZFSo=   \n",
       "6794433  6esVRMr1v1qQT1tR7NWP7LaTAWCd32aWU91fKmLcWgk=   \n",
       "6842034  X7Y7dUzjs7wN9A3dZLLGF6+ctncCNZn+JG6TAMKi+pQ=   \n",
       "7016564  K6z5ok/93u0mKE1BLACU5wLlS0QFmddZpYUMuczXHY4=   \n",
       "7116207  weyBPJj+ionjF9ryHb3S7RS3N6+X6RNvmrclxypQ0/8=   \n",
       "7125816  JoKSH90uVyqRN6y3CSiI4DoIj/SvVDMV00+UFErYmo0=   \n",
       "\n",
       "                                              song_id source_system_tab  \\\n",
       "17865    DHq4+axdk09TxwsxUbI+pWdzROsckleX+T1fm7u0/So=        my library   \n",
       "33898    OtLPFbGc3Y0JCFRG785mLrpsGAUgMZ1q0XAdqUnl+es=           explore   \n",
       "37179    sIstoLt134OfZXyetCoUqBuDas1he9uZot5EkFdp7+o=        my library   \n",
       "66911    3+OBQRyVxirbtD79O0oyj/kVwcq7A8ghJCRs+LoA0ow=        my library   \n",
       "346482   WKCEUOm70//9O7IQ3VE2ohtiJaDGUH7cChanz4plSdA=        my library   \n",
       "384808   a0S959XXxdHq02RRyJIYYysamjxwJNmoCnkadrWVrjA=        my library   \n",
       "603743   o6G9PiWV55Shat8JNnNUp5IsK4U+dKQEg05PgSt4GZc=        my library   \n",
       "739046   Kp8wT5LyqPU9Gj6bhMyzxxWzvtOnM4hyKSke+KBMQS4=            search   \n",
       "777679   WKCEUOm70//9O7IQ3VE2ohtiJaDGUH7cChanz4plSdA=        my library   \n",
       "795767   bo+kTVU6S1dC0ksT88FZLBUf8ax+jBWL6oOFU4rScEo=        my library   \n",
       "819979   Xvnz8koE37cbZGzgkxWjkKwJ+Q6ASvnJr73pHNDHhwk=        my library   \n",
       "904468   WKCEUOm70//9O7IQ3VE2ohtiJaDGUH7cChanz4plSdA=        my library   \n",
       "942424   0PSmtxAwg8OqaHkjyKLbsEn45dz/se09BTlsMuc6N2I=          discover   \n",
       "945662   jjxEv+tHgx1AAr5r8nvrQrIGYJrUy179vWbWo8z4/kE=            search   \n",
       "947023   6uYPDXZJGYhq6WDg35xDLMB0Z46Rw3Y0XTLik5F/w9c=        my library   \n",
       "974755   WKCEUOm70//9O7IQ3VE2ohtiJaDGUH7cChanz4plSdA=        my library   \n",
       "1035363  nQHidtd5GZV3YvuqvsEqzheyrtwZXuNt7vYNjEgq5mY=            search   \n",
       "1055598  /C/wiubl/fCiUmjJwQ1yDv3seKLBaPvMEXRJOl93/e4=        my library   \n",
       "1269794  2ERR0eBNGK0tAVKorpSrR4XDYnOqQDfNid/nPJzGd38=             radio   \n",
       "1324485  zPui1xGj24uMDuWEnNiRUGBRY0X7IUG5owdi/zAhFNc=        my library   \n",
       "1326902  898dTVIsSDDautzUt7IK1DggQ21FkyhLqif4qLXn+CU=        my library   \n",
       "1334102  Nbq4EH8j6MPik4oXXsDZNkdP/bZz/7XayxWVBMzd308=            search   \n",
       "1373089  WKCEUOm70//9O7IQ3VE2ohtiJaDGUH7cChanz4plSdA=          discover   \n",
       "1487159  lLsg/q8lurYYpIc3X526qxpWD6SY8Y4grHSCfXlO3mM=        my library   \n",
       "1495189  q56DHVHETlI2i23Uol52mIH04w1Vk7M9ObL8BBa80pk=            search   \n",
       "1534625  K2XSof258aFDY0w7x4HUhcdOCI1fcAnFVmd0AGq6aSw=        my library   \n",
       "1571662  m7Ia7XWdHyAvBap14HZyW/c0zfEJL9snISGb719vDyQ=            search   \n",
       "1631329  6uYPDXZJGYhq6WDg35xDLMB0Z46Rw3Y0XTLik5F/w9c=        my library   \n",
       "1639738  3+OBQRyVxirbtD79O0oyj/kVwcq7A8ghJCRs+LoA0ow=             radio   \n",
       "1647693  SxekcRFJ/l4MWpWZhkTsEfD0bLRpqAGZ1Y2Ed1tJ3DY=        my library   \n",
       "...                                               ...               ...   \n",
       "5291869  ukVvND1sDHueqiKeetPQa0uXm+qpcPZum4ewNOHwZyk=          discover   \n",
       "5392114  6uYPDXZJGYhq6WDg35xDLMB0Z46Rw3Y0XTLik5F/w9c=        my library   \n",
       "5405058  I4p6lOJx+ZlqcVWD5AncdwaLGfhLJ7eqm/38rSTGLjc=       listen with   \n",
       "5425834  Dh1uPET9CjT916QXnHI1oUhnwB306jFJ/xemOyU+LYs=          discover   \n",
       "5466171  a0S959XXxdHq02RRyJIYYysamjxwJNmoCnkadrWVrjA=            search   \n",
       "5549674  uikoKkrpGjT7nI7NfPSYCil3+czMjV++wsMC3yw1Tes=        my library   \n",
       "5573940  6uYPDXZJGYhq6WDg35xDLMB0Z46Rw3Y0XTLik5F/w9c=        my library   \n",
       "5574945  I4p6lOJx+ZlqcVWD5AncdwaLGfhLJ7eqm/38rSTGLjc=       listen with   \n",
       "5693107  NzKHUdizUFikWIZbLIPik+ApyGxJknliRzZNzODIMUo=            search   \n",
       "5729475  bFWaWWksxSBSsiC0tZVJGpZ42juERWnMQPi8h5/1ARs=        my library   \n",
       "5741920  NzKHUdizUFikWIZbLIPik+ApyGxJknliRzZNzODIMUo=            search   \n",
       "5788723  Nbq4EH8j6MPik4oXXsDZNkdP/bZz/7XayxWVBMzd308=        my library   \n",
       "5854972  cuSwXYNpWOTM1drx/mJW3qM0P5b5TY44xtrIP8DoGzQ=             radio   \n",
       "5897123  o6G9PiWV55Shat8JNnNUp5IsK4U+dKQEg05PgSt4GZc=        my library   \n",
       "5914458  6LW3BZ1jm7spunKba4mWqkiNjspNPyhPRzhZ/eTo7wI=          discover   \n",
       "5943182  q56DHVHETlI2i23Uol52mIH04w1Vk7M9ObL8BBa80pk=             radio   \n",
       "5974950  NzKHUdizUFikWIZbLIPik+ApyGxJknliRzZNzODIMUo=          discover   \n",
       "6128755  bFWaWWksxSBSsiC0tZVJGpZ42juERWnMQPi8h5/1ARs=        my library   \n",
       "6180007  cuSwXYNpWOTM1drx/mJW3qM0P5b5TY44xtrIP8DoGzQ=        my library   \n",
       "6234334  WKCEUOm70//9O7IQ3VE2ohtiJaDGUH7cChanz4plSdA=        my library   \n",
       "6237511  KEnXQfwFdjdxbLbPGFy6yVDIDINocarPf5eRGXEwLYQ=        my library   \n",
       "6447181  RcGEZpOfi+Y9D7JIIcUtyGP2MddfnhVzhfKKhEAJAtM=        my library   \n",
       "6502343  2ERR0eBNGK0tAVKorpSrR4XDYnOqQDfNid/nPJzGd38=             radio   \n",
       "6589609  SxekcRFJ/l4MWpWZhkTsEfD0bLRpqAGZ1Y2Ed1tJ3DY=        my library   \n",
       "6778969  NzKHUdizUFikWIZbLIPik+ApyGxJknliRzZNzODIMUo=            search   \n",
       "6794433  q56DHVHETlI2i23Uol52mIH04w1Vk7M9ObL8BBa80pk=            search   \n",
       "6842034  NzKHUdizUFikWIZbLIPik+ApyGxJknliRzZNzODIMUo=            search   \n",
       "7016564  3+OBQRyVxirbtD79O0oyj/kVwcq7A8ghJCRs+LoA0ow=          discover   \n",
       "7116207  WKCEUOm70//9O7IQ3VE2ohtiJaDGUH7cChanz4plSdA=            search   \n",
       "7125816  NzKHUdizUFikWIZbLIPik+ApyGxJknliRzZNzODIMUo=          discover   \n",
       "\n",
       "           source_screen_name          source_type  target data_from  \n",
       "17865     Local playlist more       local-playlist       0     train  \n",
       "33898                 Explore                album       0     train  \n",
       "37179     Local playlist more        local-library       0     train  \n",
       "66911     Local playlist more       local-playlist       1     train  \n",
       "346482    Local playlist more       local-playlist       1     train  \n",
       "384808             Album more                album       0     train  \n",
       "603743    Local playlist more        local-library       0     train  \n",
       "739046                 Search      online-playlist       0     train  \n",
       "777679    Local playlist more       local-playlist       1     train  \n",
       "795767    Local playlist more        local-library       1     train  \n",
       "819979    Local playlist more       local-playlist       0     train  \n",
       "904468    Local playlist more        local-library       1     train  \n",
       "942424       Discover Feature  song-based-playlist       0     train  \n",
       "945662                 Search                 song       0     train  \n",
       "947023    Local playlist more        local-library       0     train  \n",
       "974755    Local playlist more        local-library       1     train  \n",
       "1035363            Album more                album       0     train  \n",
       "1055598                   NaN  top-hits-for-artist       1     train  \n",
       "1269794                 Radio                radio       1     train  \n",
       "1324485   Local playlist more        local-library       0     train  \n",
       "1326902   Local playlist more        local-library       1     train  \n",
       "1334102           Artist more  top-hits-for-artist       0     train  \n",
       "1373089                   NaN  song-based-playlist       0     train  \n",
       "1487159   Local playlist more       local-playlist       1     train  \n",
       "1495189            Album more                album       1     train  \n",
       "1534625   Local playlist more       local-playlist       1     train  \n",
       "1571662            Album more                album       0     train  \n",
       "1631329   Local playlist more        local-library       1     train  \n",
       "1639738                 Radio                radio       0     train  \n",
       "1647693   Local playlist more       local-playlist       1     train  \n",
       "...                       ...                  ...     ...       ...  \n",
       "5291869            Album more                album       0     train  \n",
       "5392114   Local playlist more        local-library       1     train  \n",
       "5405058                   NaN          listen-with       1     train  \n",
       "5425834                Search      online-playlist       0     train  \n",
       "5466171            Album more                album       0     train  \n",
       "5549674   Local playlist more       local-playlist       1     train  \n",
       "5573940   Local playlist more       local-playlist       1     train  \n",
       "5574945   Others profile more          listen-with       0     train  \n",
       "5693107            Album more                album       0     train  \n",
       "5729475   Local playlist more       local-playlist       0     train  \n",
       "5741920            Album more                album       1     train  \n",
       "5788723   Local playlist more       local-playlist       1     train  \n",
       "5854972                 Radio                radio       0     train  \n",
       "5897123   Local playlist more        local-library       0     train  \n",
       "5914458  Online playlist more      online-playlist       1     train  \n",
       "5943182                 Radio                radio       0     train  \n",
       "5974950            Album more                album       0     train  \n",
       "6128755                   NaN  top-hits-for-artist       0     train  \n",
       "6180007   Local playlist more        local-library       0     train  \n",
       "6234334   Local playlist more        local-library       0     train  \n",
       "6237511   Local playlist more        local-library       1     train  \n",
       "6447181            Album more                album       0     train  \n",
       "6502343                 Radio                radio       0     train  \n",
       "6589609   Local playlist more        local-library       0     train  \n",
       "6778969            Album more                album       1     train  \n",
       "6794433                Search                album       1     train  \n",
       "6842034            Album more                album       0     train  \n",
       "7016564  Online playlist more  song-based-playlist       0     train  \n",
       "7116207                Search                 song       1     train  \n",
       "7125816            Album more                album       0     train  \n",
       "\n",
       "[114 rows x 7 columns]"
      ]
     },
     "execution_count": 132,
     "metadata": {},
     "output_type": "execute_result"
    }
   ],
   "source": [
    "train[train.song_id.isin(set(train.song_id) - set(songs.song_id))]"
   ]
  },
  {
   "cell_type": "code",
   "execution_count": 131,
   "metadata": {
    "scrolled": true
   },
   "outputs": [
    {
     "data": {
      "text/plain": [
       "25"
      ]
     },
     "execution_count": 131,
     "metadata": {},
     "output_type": "execute_result"
    }
   ],
   "source": [
    "len(test[test.song_id.isin(set(test.song_id) - set(songs.song_id))])"
   ]
  },
  {
   "cell_type": "code",
   "execution_count": 133,
   "metadata": {},
   "outputs": [
    {
     "data": {
      "text/html": [
       "<div>\n",
       "<style scoped>\n",
       "    .dataframe tbody tr th:only-of-type {\n",
       "        vertical-align: middle;\n",
       "    }\n",
       "\n",
       "    .dataframe tbody tr th {\n",
       "        vertical-align: top;\n",
       "    }\n",
       "\n",
       "    .dataframe thead th {\n",
       "        text-align: right;\n",
       "    }\n",
       "</style>\n",
       "<table border=\"1\" class=\"dataframe\">\n",
       "  <thead>\n",
       "    <tr style=\"text-align: right;\">\n",
       "      <th></th>\n",
       "      <th>id</th>\n",
       "      <th>msno</th>\n",
       "      <th>song_id</th>\n",
       "      <th>source_system_tab</th>\n",
       "      <th>source_screen_name</th>\n",
       "      <th>source_type</th>\n",
       "      <th>target</th>\n",
       "      <th>data_from</th>\n",
       "    </tr>\n",
       "  </thead>\n",
       "  <tbody>\n",
       "    <tr>\n",
       "      <th>11519</th>\n",
       "      <td>11519</td>\n",
       "      <td>Ym+dCOcuy/7oR4z0OjdPcGJdbo6EC4TKj5BkkLXeQF0=</td>\n",
       "      <td>ddkBkA8RLGf+Xs4OHY5Th0d/UsrNism6qGTbJk6zvyI=</td>\n",
       "      <td>my library</td>\n",
       "      <td>Local playlist more</td>\n",
       "      <td>local-library</td>\n",
       "      <td>None</td>\n",
       "      <td>test</td>\n",
       "    </tr>\n",
       "    <tr>\n",
       "      <th>28568</th>\n",
       "      <td>28568</td>\n",
       "      <td>qPFwNxuXJ2pH0Eq2GclTYXgMSfZXjPomf4+gKz2c8zo=</td>\n",
       "      <td>a0S959XXxdHq02RRyJIYYysamjxwJNmoCnkadrWVrjA=</td>\n",
       "      <td>my library</td>\n",
       "      <td>Album more</td>\n",
       "      <td>album</td>\n",
       "      <td>None</td>\n",
       "      <td>test</td>\n",
       "    </tr>\n",
       "    <tr>\n",
       "      <th>310005</th>\n",
       "      <td>310005</td>\n",
       "      <td>uQvuj9Ka8/SVPhV7fFB8bt2upI/7p+PmdtD2lwk61ls=</td>\n",
       "      <td>qyNvb6FcYM803FBKEdYh7iFLi63FjpepHGkUCD7HB7w=</td>\n",
       "      <td>my library</td>\n",
       "      <td>Local playlist more</td>\n",
       "      <td>local-library</td>\n",
       "      <td>None</td>\n",
       "      <td>test</td>\n",
       "    </tr>\n",
       "    <tr>\n",
       "      <th>407244</th>\n",
       "      <td>407244</td>\n",
       "      <td>66YgVN3SwlLuvSDkQdaNFz5ylCHbdmHbceQuWopPT3M=</td>\n",
       "      <td>SxekcRFJ/l4MWpWZhkTsEfD0bLRpqAGZ1Y2Ed1tJ3DY=</td>\n",
       "      <td>my library</td>\n",
       "      <td>Local playlist more</td>\n",
       "      <td>local-playlist</td>\n",
       "      <td>None</td>\n",
       "      <td>test</td>\n",
       "    </tr>\n",
       "    <tr>\n",
       "      <th>454868</th>\n",
       "      <td>454868</td>\n",
       "      <td>S/A5GEOI8hXdn17vVHLBLvLtp/UJU6MWH8MrEtCyVnY=</td>\n",
       "      <td>Nbq4EH8j6MPik4oXXsDZNkdP/bZz/7XayxWVBMzd308=</td>\n",
       "      <td>search</td>\n",
       "      <td>Online playlist more</td>\n",
       "      <td>online-playlist</td>\n",
       "      <td>None</td>\n",
       "      <td>test</td>\n",
       "    </tr>\n",
       "    <tr>\n",
       "      <th>476147</th>\n",
       "      <td>476147</td>\n",
       "      <td>UsCBvxfWk3FNh9cFNDyL9YBPOji2J+Med8K8XLLYZs0=</td>\n",
       "      <td>Nbq4EH8j6MPik4oXXsDZNkdP/bZz/7XayxWVBMzd308=</td>\n",
       "      <td>my library</td>\n",
       "      <td>NaN</td>\n",
       "      <td>top-hits-for-artist</td>\n",
       "      <td>None</td>\n",
       "      <td>test</td>\n",
       "    </tr>\n",
       "    <tr>\n",
       "      <th>589260</th>\n",
       "      <td>589260</td>\n",
       "      <td>7ZXkc5u72qDQE8dqQVIaxCfTGEPDF1Ak8R+YWkzl6jI=</td>\n",
       "      <td>q56DHVHETlI2i23Uol52mIH04w1Vk7M9ObL8BBa80pk=</td>\n",
       "      <td>discover</td>\n",
       "      <td>Album more</td>\n",
       "      <td>album</td>\n",
       "      <td>None</td>\n",
       "      <td>test</td>\n",
       "    </tr>\n",
       "    <tr>\n",
       "      <th>1098335</th>\n",
       "      <td>1098335</td>\n",
       "      <td>QDvq4xn7ZSBkamVnc8nL672oxKVqcR2zdgRGQf0giXs=</td>\n",
       "      <td>Nbq4EH8j6MPik4oXXsDZNkdP/bZz/7XayxWVBMzd308=</td>\n",
       "      <td>discover</td>\n",
       "      <td>NaN</td>\n",
       "      <td>top-hits-for-artist</td>\n",
       "      <td>None</td>\n",
       "      <td>test</td>\n",
       "    </tr>\n",
       "    <tr>\n",
       "      <th>1291644</th>\n",
       "      <td>1291644</td>\n",
       "      <td>nlXm0mLxAnjr+KUK8NHxHsts3K0PAJBQoeTR49OwzNE=</td>\n",
       "      <td>Nbq4EH8j6MPik4oXXsDZNkdP/bZz/7XayxWVBMzd308=</td>\n",
       "      <td>search</td>\n",
       "      <td>Search</td>\n",
       "      <td>song</td>\n",
       "      <td>None</td>\n",
       "      <td>test</td>\n",
       "    </tr>\n",
       "    <tr>\n",
       "      <th>1355921</th>\n",
       "      <td>1355921</td>\n",
       "      <td>px8eWjJqSqveznpopEtVWYhghz+wXqA6jqfy/IJmZ0g=</td>\n",
       "      <td>Dh1uPET9CjT916QXnHI1oUhnwB306jFJ/xemOyU+LYs=</td>\n",
       "      <td>my library</td>\n",
       "      <td>My library</td>\n",
       "      <td>local-library</td>\n",
       "      <td>None</td>\n",
       "      <td>test</td>\n",
       "    </tr>\n",
       "    <tr>\n",
       "      <th>1384007</th>\n",
       "      <td>1384007</td>\n",
       "      <td>0+r14OZc2x/4Yknt3uX8hqeO1yCtjAqXaeAxXYWpCVI=</td>\n",
       "      <td>SOicQ4b0ieAafeGqjdGVU5MPAgtYlCfGi6P49/le65I=</td>\n",
       "      <td>my library</td>\n",
       "      <td>Local playlist more</td>\n",
       "      <td>local-library</td>\n",
       "      <td>None</td>\n",
       "      <td>test</td>\n",
       "    </tr>\n",
       "    <tr>\n",
       "      <th>1446239</th>\n",
       "      <td>1446239</td>\n",
       "      <td>5Eq0bbVF1Yh/tuFHWMeZ9Kutfz9Wj5baNwrlaZ0Vgrs=</td>\n",
       "      <td>q56DHVHETlI2i23Uol52mIH04w1Vk7M9ObL8BBa80pk=</td>\n",
       "      <td>radio</td>\n",
       "      <td>Radio</td>\n",
       "      <td>radio</td>\n",
       "      <td>None</td>\n",
       "      <td>test</td>\n",
       "    </tr>\n",
       "    <tr>\n",
       "      <th>1488921</th>\n",
       "      <td>1488921</td>\n",
       "      <td>lFQM2AQ0IIifeOgmnRDSFEuWfh7XQZm0Z+O6K696CQk=</td>\n",
       "      <td>3+OBQRyVxirbtD79O0oyj/kVwcq7A8ghJCRs+LoA0ow=</td>\n",
       "      <td>my library</td>\n",
       "      <td>Local playlist more</td>\n",
       "      <td>local-playlist</td>\n",
       "      <td>None</td>\n",
       "      <td>test</td>\n",
       "    </tr>\n",
       "    <tr>\n",
       "      <th>1501594</th>\n",
       "      <td>1501594</td>\n",
       "      <td>hOyJGmY7tciqGf1EhDj5UT86IfSSnaTHP5JWAPxYN6s=</td>\n",
       "      <td>3+OBQRyVxirbtD79O0oyj/kVwcq7A8ghJCRs+LoA0ow=</td>\n",
       "      <td>my library</td>\n",
       "      <td>Local playlist more</td>\n",
       "      <td>local-library</td>\n",
       "      <td>None</td>\n",
       "      <td>test</td>\n",
       "    </tr>\n",
       "    <tr>\n",
       "      <th>1666131</th>\n",
       "      <td>1666131</td>\n",
       "      <td>dJfBnXVe8IXAVfsgqAKxuoQ2pw8saislr4pG4aqaESk=</td>\n",
       "      <td>GQK/aYFW8elL+4o7Qo1zNSQmjYDKJfacYT2+QKWQ71U=</td>\n",
       "      <td>my library</td>\n",
       "      <td>Local playlist more</td>\n",
       "      <td>local-playlist</td>\n",
       "      <td>None</td>\n",
       "      <td>test</td>\n",
       "    </tr>\n",
       "    <tr>\n",
       "      <th>1916393</th>\n",
       "      <td>1916393</td>\n",
       "      <td>Cj8cxZNNtx0tfLuMPajhtHKrCdPy1qPIg5h4JeIDumU=</td>\n",
       "      <td>6uYPDXZJGYhq6WDg35xDLMB0Z46Rw3Y0XTLik5F/w9c=</td>\n",
       "      <td>my library</td>\n",
       "      <td>Local playlist more</td>\n",
       "      <td>local-library</td>\n",
       "      <td>None</td>\n",
       "      <td>test</td>\n",
       "    </tr>\n",
       "    <tr>\n",
       "      <th>2030301</th>\n",
       "      <td>2030301</td>\n",
       "      <td>vzJ9sBynJHbB7lAEqKFahskZyS4jg3tcWgTh9fDKVOg=</td>\n",
       "      <td>44K/wNQkmk0pAFX7/IWnaZy4wzUIOBc/u5lQw40CR/w=</td>\n",
       "      <td>my library</td>\n",
       "      <td>Local playlist more</td>\n",
       "      <td>local-library</td>\n",
       "      <td>None</td>\n",
       "      <td>test</td>\n",
       "    </tr>\n",
       "    <tr>\n",
       "      <th>2066042</th>\n",
       "      <td>2066042</td>\n",
       "      <td>qcLRKxYi5FBPD48PJ+JrP6iZIfOT3cmt2J73yzdq1gM=</td>\n",
       "      <td>t2J4QCTd/Kasa3psLjwKC6rZnQZwpYndozQkV83LiI4=</td>\n",
       "      <td>explore</td>\n",
       "      <td>Explore</td>\n",
       "      <td>album</td>\n",
       "      <td>None</td>\n",
       "      <td>test</td>\n",
       "    </tr>\n",
       "    <tr>\n",
       "      <th>2083241</th>\n",
       "      <td>2083241</td>\n",
       "      <td>rGjq2l9NC2viNjF8kgNNFsrxDDAlJ+LnkC59ojTanTQ=</td>\n",
       "      <td>t2J4QCTd/Kasa3psLjwKC6rZnQZwpYndozQkV83LiI4=</td>\n",
       "      <td>my library</td>\n",
       "      <td>Search</td>\n",
       "      <td>song</td>\n",
       "      <td>None</td>\n",
       "      <td>test</td>\n",
       "    </tr>\n",
       "    <tr>\n",
       "      <th>2171405</th>\n",
       "      <td>2171405</td>\n",
       "      <td>6HzhJ/tZOTSmipsNBHpyoe1MzJgz9GiDuQEczGg8B8w=</td>\n",
       "      <td>6uYPDXZJGYhq6WDg35xDLMB0Z46Rw3Y0XTLik5F/w9c=</td>\n",
       "      <td>my library</td>\n",
       "      <td>Local playlist more</td>\n",
       "      <td>local-library</td>\n",
       "      <td>None</td>\n",
       "      <td>test</td>\n",
       "    </tr>\n",
       "    <tr>\n",
       "      <th>2261535</th>\n",
       "      <td>2261535</td>\n",
       "      <td>2BeySIM+e9LDPhUv6QGpro14+cFAD3G0mkz/Mbzn0p0=</td>\n",
       "      <td>a0S959XXxdHq02RRyJIYYysamjxwJNmoCnkadrWVrjA=</td>\n",
       "      <td>discover</td>\n",
       "      <td>NaN</td>\n",
       "      <td>song-based-playlist</td>\n",
       "      <td>None</td>\n",
       "      <td>test</td>\n",
       "    </tr>\n",
       "    <tr>\n",
       "      <th>2285209</th>\n",
       "      <td>2285209</td>\n",
       "      <td>daaPtkKIGn+uzbwXz4EVIg4JAYg85LW857tcLpvay9s=</td>\n",
       "      <td>t2J4QCTd/Kasa3psLjwKC6rZnQZwpYndozQkV83LiI4=</td>\n",
       "      <td>search</td>\n",
       "      <td>Search</td>\n",
       "      <td>song</td>\n",
       "      <td>None</td>\n",
       "      <td>test</td>\n",
       "    </tr>\n",
       "    <tr>\n",
       "      <th>2366895</th>\n",
       "      <td>2366895</td>\n",
       "      <td>UwUyHtceo8Amw0Aysb2/uIOaZGhJ1rsPedaMA0kCjTY=</td>\n",
       "      <td>Nbq4EH8j6MPik4oXXsDZNkdP/bZz/7XayxWVBMzd308=</td>\n",
       "      <td>my library</td>\n",
       "      <td>Local playlist more</td>\n",
       "      <td>local-library</td>\n",
       "      <td>None</td>\n",
       "      <td>test</td>\n",
       "    </tr>\n",
       "    <tr>\n",
       "      <th>2369122</th>\n",
       "      <td>2369122</td>\n",
       "      <td>rr5QMgPctUsG8JXnFekkZtnQHt77kjXuf7GqLVhoaC4=</td>\n",
       "      <td>QGch6e8vfa5uh7d9FvwiMpvL2SeGE0njRWnfVrUcL/k=</td>\n",
       "      <td>explore</td>\n",
       "      <td>Album more</td>\n",
       "      <td>album</td>\n",
       "      <td>None</td>\n",
       "      <td>test</td>\n",
       "    </tr>\n",
       "    <tr>\n",
       "      <th>2552685</th>\n",
       "      <td>2552685</td>\n",
       "      <td>5Jes0DP+1lDPaU+qYvu+DqcvRjK/nM71noGnzwWd27c=</td>\n",
       "      <td>44K/wNQkmk0pAFX7/IWnaZy4wzUIOBc/u5lQw40CR/w=</td>\n",
       "      <td>my library</td>\n",
       "      <td>Local playlist more</td>\n",
       "      <td>local-playlist</td>\n",
       "      <td>None</td>\n",
       "      <td>test</td>\n",
       "    </tr>\n",
       "  </tbody>\n",
       "</table>\n",
       "</div>"
      ],
      "text/plain": [
       "              id                                          msno  \\\n",
       "11519      11519  Ym+dCOcuy/7oR4z0OjdPcGJdbo6EC4TKj5BkkLXeQF0=   \n",
       "28568      28568  qPFwNxuXJ2pH0Eq2GclTYXgMSfZXjPomf4+gKz2c8zo=   \n",
       "310005    310005  uQvuj9Ka8/SVPhV7fFB8bt2upI/7p+PmdtD2lwk61ls=   \n",
       "407244    407244  66YgVN3SwlLuvSDkQdaNFz5ylCHbdmHbceQuWopPT3M=   \n",
       "454868    454868  S/A5GEOI8hXdn17vVHLBLvLtp/UJU6MWH8MrEtCyVnY=   \n",
       "476147    476147  UsCBvxfWk3FNh9cFNDyL9YBPOji2J+Med8K8XLLYZs0=   \n",
       "589260    589260  7ZXkc5u72qDQE8dqQVIaxCfTGEPDF1Ak8R+YWkzl6jI=   \n",
       "1098335  1098335  QDvq4xn7ZSBkamVnc8nL672oxKVqcR2zdgRGQf0giXs=   \n",
       "1291644  1291644  nlXm0mLxAnjr+KUK8NHxHsts3K0PAJBQoeTR49OwzNE=   \n",
       "1355921  1355921  px8eWjJqSqveznpopEtVWYhghz+wXqA6jqfy/IJmZ0g=   \n",
       "1384007  1384007  0+r14OZc2x/4Yknt3uX8hqeO1yCtjAqXaeAxXYWpCVI=   \n",
       "1446239  1446239  5Eq0bbVF1Yh/tuFHWMeZ9Kutfz9Wj5baNwrlaZ0Vgrs=   \n",
       "1488921  1488921  lFQM2AQ0IIifeOgmnRDSFEuWfh7XQZm0Z+O6K696CQk=   \n",
       "1501594  1501594  hOyJGmY7tciqGf1EhDj5UT86IfSSnaTHP5JWAPxYN6s=   \n",
       "1666131  1666131  dJfBnXVe8IXAVfsgqAKxuoQ2pw8saislr4pG4aqaESk=   \n",
       "1916393  1916393  Cj8cxZNNtx0tfLuMPajhtHKrCdPy1qPIg5h4JeIDumU=   \n",
       "2030301  2030301  vzJ9sBynJHbB7lAEqKFahskZyS4jg3tcWgTh9fDKVOg=   \n",
       "2066042  2066042  qcLRKxYi5FBPD48PJ+JrP6iZIfOT3cmt2J73yzdq1gM=   \n",
       "2083241  2083241  rGjq2l9NC2viNjF8kgNNFsrxDDAlJ+LnkC59ojTanTQ=   \n",
       "2171405  2171405  6HzhJ/tZOTSmipsNBHpyoe1MzJgz9GiDuQEczGg8B8w=   \n",
       "2261535  2261535  2BeySIM+e9LDPhUv6QGpro14+cFAD3G0mkz/Mbzn0p0=   \n",
       "2285209  2285209  daaPtkKIGn+uzbwXz4EVIg4JAYg85LW857tcLpvay9s=   \n",
       "2366895  2366895  UwUyHtceo8Amw0Aysb2/uIOaZGhJ1rsPedaMA0kCjTY=   \n",
       "2369122  2369122  rr5QMgPctUsG8JXnFekkZtnQHt77kjXuf7GqLVhoaC4=   \n",
       "2552685  2552685  5Jes0DP+1lDPaU+qYvu+DqcvRjK/nM71noGnzwWd27c=   \n",
       "\n",
       "                                              song_id source_system_tab  \\\n",
       "11519    ddkBkA8RLGf+Xs4OHY5Th0d/UsrNism6qGTbJk6zvyI=        my library   \n",
       "28568    a0S959XXxdHq02RRyJIYYysamjxwJNmoCnkadrWVrjA=        my library   \n",
       "310005   qyNvb6FcYM803FBKEdYh7iFLi63FjpepHGkUCD7HB7w=        my library   \n",
       "407244   SxekcRFJ/l4MWpWZhkTsEfD0bLRpqAGZ1Y2Ed1tJ3DY=        my library   \n",
       "454868   Nbq4EH8j6MPik4oXXsDZNkdP/bZz/7XayxWVBMzd308=            search   \n",
       "476147   Nbq4EH8j6MPik4oXXsDZNkdP/bZz/7XayxWVBMzd308=        my library   \n",
       "589260   q56DHVHETlI2i23Uol52mIH04w1Vk7M9ObL8BBa80pk=          discover   \n",
       "1098335  Nbq4EH8j6MPik4oXXsDZNkdP/bZz/7XayxWVBMzd308=          discover   \n",
       "1291644  Nbq4EH8j6MPik4oXXsDZNkdP/bZz/7XayxWVBMzd308=            search   \n",
       "1355921  Dh1uPET9CjT916QXnHI1oUhnwB306jFJ/xemOyU+LYs=        my library   \n",
       "1384007  SOicQ4b0ieAafeGqjdGVU5MPAgtYlCfGi6P49/le65I=        my library   \n",
       "1446239  q56DHVHETlI2i23Uol52mIH04w1Vk7M9ObL8BBa80pk=             radio   \n",
       "1488921  3+OBQRyVxirbtD79O0oyj/kVwcq7A8ghJCRs+LoA0ow=        my library   \n",
       "1501594  3+OBQRyVxirbtD79O0oyj/kVwcq7A8ghJCRs+LoA0ow=        my library   \n",
       "1666131  GQK/aYFW8elL+4o7Qo1zNSQmjYDKJfacYT2+QKWQ71U=        my library   \n",
       "1916393  6uYPDXZJGYhq6WDg35xDLMB0Z46Rw3Y0XTLik5F/w9c=        my library   \n",
       "2030301  44K/wNQkmk0pAFX7/IWnaZy4wzUIOBc/u5lQw40CR/w=        my library   \n",
       "2066042  t2J4QCTd/Kasa3psLjwKC6rZnQZwpYndozQkV83LiI4=           explore   \n",
       "2083241  t2J4QCTd/Kasa3psLjwKC6rZnQZwpYndozQkV83LiI4=        my library   \n",
       "2171405  6uYPDXZJGYhq6WDg35xDLMB0Z46Rw3Y0XTLik5F/w9c=        my library   \n",
       "2261535  a0S959XXxdHq02RRyJIYYysamjxwJNmoCnkadrWVrjA=          discover   \n",
       "2285209  t2J4QCTd/Kasa3psLjwKC6rZnQZwpYndozQkV83LiI4=            search   \n",
       "2366895  Nbq4EH8j6MPik4oXXsDZNkdP/bZz/7XayxWVBMzd308=        my library   \n",
       "2369122  QGch6e8vfa5uh7d9FvwiMpvL2SeGE0njRWnfVrUcL/k=           explore   \n",
       "2552685  44K/wNQkmk0pAFX7/IWnaZy4wzUIOBc/u5lQw40CR/w=        my library   \n",
       "\n",
       "           source_screen_name          source_type target data_from  \n",
       "11519     Local playlist more        local-library   None      test  \n",
       "28568              Album more                album   None      test  \n",
       "310005    Local playlist more        local-library   None      test  \n",
       "407244    Local playlist more       local-playlist   None      test  \n",
       "454868   Online playlist more      online-playlist   None      test  \n",
       "476147                    NaN  top-hits-for-artist   None      test  \n",
       "589260             Album more                album   None      test  \n",
       "1098335                   NaN  top-hits-for-artist   None      test  \n",
       "1291644                Search                 song   None      test  \n",
       "1355921            My library        local-library   None      test  \n",
       "1384007   Local playlist more        local-library   None      test  \n",
       "1446239                 Radio                radio   None      test  \n",
       "1488921   Local playlist more       local-playlist   None      test  \n",
       "1501594   Local playlist more        local-library   None      test  \n",
       "1666131   Local playlist more       local-playlist   None      test  \n",
       "1916393   Local playlist more        local-library   None      test  \n",
       "2030301   Local playlist more        local-library   None      test  \n",
       "2066042               Explore                album   None      test  \n",
       "2083241                Search                 song   None      test  \n",
       "2171405   Local playlist more        local-library   None      test  \n",
       "2261535                   NaN  song-based-playlist   None      test  \n",
       "2285209                Search                 song   None      test  \n",
       "2366895   Local playlist more        local-library   None      test  \n",
       "2369122            Album more                album   None      test  \n",
       "2552685   Local playlist more       local-playlist   None      test  "
      ]
     },
     "execution_count": 133,
     "metadata": {},
     "output_type": "execute_result"
    }
   ],
   "source": [
    "test[test.song_id.isin(set(test.song_id) - set(songs.song_id))]"
   ]
  },
  {
   "cell_type": "code",
   "execution_count": 134,
   "metadata": {},
   "outputs": [
    {
     "data": {
      "text/plain": [
       "8"
      ]
     },
     "execution_count": 134,
     "metadata": {},
     "output_type": "execute_result"
    }
   ],
   "source": [
    "len(set(train[train.song_id.isin(set(train.song_id) - set(songs.song_id))].song_id) & set(test[test.song_id.isin(set(test.song_id) - set(songs.song_id))].song_id))"
   ]
  },
  {
   "cell_type": "markdown",
   "metadata": {},
   "source": []
  },
  {
   "cell_type": "code",
   "execution_count": null,
   "metadata": {},
   "outputs": [],
   "source": []
  },
  {
   "cell_type": "markdown",
   "metadata": {},
   "source": []
  },
  {
   "cell_type": "code",
   "execution_count": null,
   "metadata": {},
   "outputs": [],
   "source": []
  },
  {
   "cell_type": "markdown",
   "metadata": {},
   "source": []
  },
  {
   "cell_type": "code",
   "execution_count": null,
   "metadata": {},
   "outputs": [],
   "source": []
  },
  {
   "cell_type": "markdown",
   "metadata": {},
   "source": [
    "# Let's plot some charts"
   ]
  },
  {
   "cell_type": "markdown",
   "metadata": {},
   "source": [
    "## How does target variable look like?"
   ]
  },
  {
   "cell_type": "code",
   "execution_count": 34,
   "metadata": {},
   "outputs": [
    {
     "data": {
      "image/png": "[encoded data removed]",
      "text/plain": [
       "<Figure size 1080x360 with 1 Axes>"
      ]
     },
     "metadata": {},
     "output_type": "display_data"
    }
   ],
   "source": [
    "sns.set(font_scale=2.5)\n",
    "plt.figure(figsize=(15, 5))\n",
    "ax = sns.countplot('target', data=train, orient='h')\n",
    "plt.tight_layout()\n",
    "plt.show()"
   ]
  },
  {
   "cell_type": "code",
   "execution_count": 32,
   "metadata": {},
   "outputs": [
    {
     "data": {
      "text/plain": [
       "1    3714656\n",
       "0    3662762\n",
       "Name: target, dtype: int64"
      ]
     },
     "execution_count": 32,
     "metadata": {},
     "output_type": "execute_result"
    }
   ],
   "source": [
    "train.target.value_counts()"
   ]
  },
  {
   "cell_type": "markdown",
   "metadata": {},
   "source": [
    "## What is the ratio between train and test?"
   ]
  },
  {
   "cell_type": "code",
   "execution_count": 41,
   "metadata": {},
   "outputs": [
    {
     "data": {
      "image/png": "[encoded data removed]",
      "text/plain": [
       "<Figure size 1080x360 with 1 Axes>"
      ]
     },
     "metadata": {},
     "output_type": "display_data"
    }
   ],
   "source": [
    "sns.set(font_scale=2.5)\n",
    "plt.figure(figsize=(15, 5))\n",
    "ax = sns.countplot('data_from', data=pd.concat([train, test], ignore_index=True, sort=False), orient='h')\n",
    "plt.tight_layout()\n",
    "plt.show()"
   ]
  },
  {
   "cell_type": "code",
   "execution_count": null,
   "metadata": {},
   "outputs": [],
   "source": []
  },
  {
   "cell_type": "code",
   "execution_count": null,
   "metadata": {},
   "outputs": [],
   "source": []
  },
  {
   "cell_type": "code",
   "execution_count": null,
   "metadata": {},
   "outputs": [],
   "source": []
  },
  {
   "cell_type": "code",
   "execution_count": null,
   "metadata": {},
   "outputs": [],
   "source": []
  },
  {
   "cell_type": "code",
   "execution_count": null,
   "metadata": {},
   "outputs": [],
   "source": []
  }
 ],
 "metadata": {
  "hide_input": false,
  "kernelspec": {
   "display_name": "RECOMMENDER_2",
   "language": "python",
   "name": "recommender_2"
  },
  "language_info": {
   "codemirror_mode": {
    "name": "ipython",
    "version": 3
   },
   "file_extension": ".py",
   "mimetype": "text/x-python",
   "name": "python",
   "nbconvert_exporter": "python",
   "pygments_lexer": "ipython3",
   "version": "3.6.5"
  },
  "toc": {
   "base_numbering": 1,
   "nav_menu": {},
   "number_sections": true,
   "sideBar": true,
   "skip_h1_title": false,
   "title_cell": "Table of Contents",
   "title_sidebar": "Table of Contents",
   "toc_cell": false,
   "toc_position": {
    "height": "1228.75px",
    "left": "63px",
    "top": "47.97px",
    "width": "358.984px"
   },
   "toc_section_display": true,
   "toc_window_display": true
  }
 },
 "nbformat": 4,
 "nbformat_minor": 1
}
