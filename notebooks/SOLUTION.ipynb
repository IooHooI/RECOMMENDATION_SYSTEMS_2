{
 "cells": [
  {
   "cell_type": "markdown",
   "metadata": {
    "collapsed": true
   },
   "source": [
    "# All imports necessary"
   ]
  },
  {
   "cell_type": "code",
   "execution_count": 1,
   "metadata": {},
   "outputs": [],
   "source": [
    "import os"
   ]
  },
  {
   "cell_type": "code",
   "execution_count": 2,
   "metadata": {},
   "outputs": [],
   "source": [
    "import sys"
   ]
  },
  {
   "cell_type": "code",
   "execution_count": 3,
   "metadata": {},
   "outputs": [],
   "source": [
    "import warnings"
   ]
  },
  {
   "cell_type": "code",
   "execution_count": 4,
   "metadata": {},
   "outputs": [],
   "source": [
    "import numpy as np"
   ]
  },
  {
   "cell_type": "code",
   "execution_count": 5,
   "metadata": {},
   "outputs": [],
   "source": [
    "import pandas as pd"
   ]
  },
  {
   "cell_type": "code",
   "execution_count": 6,
   "metadata": {},
   "outputs": [],
   "source": [
    "sys.path.append('..')"
   ]
  },
  {
   "cell_type": "code",
   "execution_count": 7,
   "metadata": {},
   "outputs": [],
   "source": [
    "import seaborn as sns"
   ]
  },
  {
   "cell_type": "code",
   "execution_count": 8,
   "metadata": {},
   "outputs": [],
   "source": [
    "import matplotlib.pyplot as plt"
   ]
  },
  {
   "cell_type": "code",
   "execution_count": 9,
   "metadata": {},
   "outputs": [],
   "source": [
    "from sklearn.metrics import auc"
   ]
  },
  {
   "cell_type": "code",
   "execution_count": 10,
   "metadata": {},
   "outputs": [],
   "source": [
    "warnings.filterwarnings(\"ignore\")"
   ]
  },
  {
   "cell_type": "code",
   "execution_count": 11,
   "metadata": {},
   "outputs": [],
   "source": [
    "from sklearn.metrics import roc_curve"
   ]
  },
  {
   "cell_type": "code",
   "execution_count": 12,
   "metadata": {},
   "outputs": [],
   "source": [
    "from sklearn.model_selection import cross_val_score"
   ]
  },
  {
   "cell_type": "code",
   "execution_count": 13,
   "metadata": {},
   "outputs": [],
   "source": [
    "from sklearn.model_selection import train_test_split"
   ]
  },
  {
   "cell_type": "code",
   "execution_count": 14,
   "metadata": {},
   "outputs": [],
   "source": [
    "from source.code.models.svdbasedrecommender import SVDBasedRecommender"
   ]
  },
  {
   "cell_type": "code",
   "execution_count": 15,
   "metadata": {},
   "outputs": [],
   "source": [
    "from source.code.models.songfrequencybasedrecommender import SongFrequencyBasedRecommender"
   ]
  },
  {
   "cell_type": "markdown",
   "metadata": {},
   "source": [
    "# Read the data"
   ]
  },
  {
   "cell_type": "code",
   "execution_count": 16,
   "metadata": {},
   "outputs": [],
   "source": [
    "data_directory = '../data/datasets/'"
   ]
  },
  {
   "cell_type": "markdown",
   "metadata": {},
   "source": [
    "## Song extra info"
   ]
  },
  {
   "cell_type": "code",
   "execution_count": 17,
   "metadata": {},
   "outputs": [],
   "source": [
    "song_extra_info = pd.read_csv(os.path.join(data_directory, 'song_extra_info.csv'))"
   ]
  },
  {
   "cell_type": "code",
   "execution_count": 18,
   "metadata": {},
   "outputs": [
    {
     "data": {
      "text/html": [
       "<div>\n",
       "<style scoped>\n",
       "    .dataframe tbody tr th:only-of-type {\n",
       "        vertical-align: middle;\n",
       "    }\n",
       "\n",
       "    .dataframe tbody tr th {\n",
       "        vertical-align: top;\n",
       "    }\n",
       "\n",
       "    .dataframe thead th {\n",
       "        text-align: right;\n",
       "    }\n",
       "</style>\n",
       "<table border=\"1\" class=\"dataframe\">\n",
       "  <thead>\n",
       "    <tr style=\"text-align: right;\">\n",
       "      <th></th>\n",
       "      <th>song_id</th>\n",
       "      <th>name</th>\n",
       "      <th>isrc</th>\n",
       "    </tr>\n",
       "  </thead>\n",
       "  <tbody>\n",
       "    <tr>\n",
       "      <th>0</th>\n",
       "      <td>LP7pLJoJFBvyuUwvu+oLzjT+bI+UeBPURCecJsX1jjs=</td>\n",
       "      <td>我們</td>\n",
       "      <td>TWUM71200043</td>\n",
       "    </tr>\n",
       "    <tr>\n",
       "      <th>1</th>\n",
       "      <td>ClazTFnk6r0Bnuie44bocdNMM3rdlrq0bCGAsGUWcHE=</td>\n",
       "      <td>Let Me Love You</td>\n",
       "      <td>QMZSY1600015</td>\n",
       "    </tr>\n",
       "    <tr>\n",
       "      <th>2</th>\n",
       "      <td>u2ja/bZE3zhCGxvbbOB3zOoUjx27u40cf5g09UXMoKQ=</td>\n",
       "      <td>原諒我</td>\n",
       "      <td>TWA530887303</td>\n",
       "    </tr>\n",
       "    <tr>\n",
       "      <th>3</th>\n",
       "      <td>92Fqsy0+p6+RHe2EoLKjHahORHR1Kq1TBJoClW9v+Ts=</td>\n",
       "      <td>Classic</td>\n",
       "      <td>USSM11301446</td>\n",
       "    </tr>\n",
       "    <tr>\n",
       "      <th>4</th>\n",
       "      <td>0QFmz/+rJy1Q56C1DuYqT9hKKqi5TUqx0sN0IwvoHrw=</td>\n",
       "      <td>愛投羅網</td>\n",
       "      <td>TWA471306001</td>\n",
       "    </tr>\n",
       "  </tbody>\n",
       "</table>\n",
       "</div>"
      ],
      "text/plain": [
       "                                        song_id             name          isrc\n",
       "0  LP7pLJoJFBvyuUwvu+oLzjT+bI+UeBPURCecJsX1jjs=               我們  TWUM71200043\n",
       "1  ClazTFnk6r0Bnuie44bocdNMM3rdlrq0bCGAsGUWcHE=  Let Me Love You  QMZSY1600015\n",
       "2  u2ja/bZE3zhCGxvbbOB3zOoUjx27u40cf5g09UXMoKQ=              原諒我  TWA530887303\n",
       "3  92Fqsy0+p6+RHe2EoLKjHahORHR1Kq1TBJoClW9v+Ts=          Classic  USSM11301446\n",
       "4  0QFmz/+rJy1Q56C1DuYqT9hKKqi5TUqx0sN0IwvoHrw=             愛投羅網  TWA471306001"
      ]
     },
     "execution_count": 18,
     "metadata": {},
     "output_type": "execute_result"
    }
   ],
   "source": [
    "song_extra_info.head()"
   ]
  },
  {
   "cell_type": "code",
   "execution_count": 19,
   "metadata": {},
   "outputs": [
    {
     "name": "stdout",
     "output_type": "stream",
     "text": [
      "<class 'pandas.core.frame.DataFrame'>\n",
      "RangeIndex: 2295971 entries, 0 to 2295970\n",
      "Data columns (total 3 columns):\n",
      "song_id    2295971 non-null object\n",
      "name       2295969 non-null object\n",
      "isrc       2159423 non-null object\n",
      "dtypes: object(3)\n",
      "memory usage: 52.6+ MB\n"
     ]
    }
   ],
   "source": [
    "song_extra_info.info(verbose=True, null_counts=True)"
   ]
  },
  {
   "cell_type": "markdown",
   "metadata": {},
   "source": [
    "## Train"
   ]
  },
  {
   "cell_type": "code",
   "execution_count": 20,
   "metadata": {},
   "outputs": [],
   "source": [
    "train = pd.read_csv(os.path.join(data_directory, 'train.csv'), engine='python')"
   ]
  },
  {
   "cell_type": "code",
   "execution_count": 21,
   "metadata": {},
   "outputs": [
    {
     "data": {
      "text/html": [
       "<div>\n",
       "<style scoped>\n",
       "    .dataframe tbody tr th:only-of-type {\n",
       "        vertical-align: middle;\n",
       "    }\n",
       "\n",
       "    .dataframe tbody tr th {\n",
       "        vertical-align: top;\n",
       "    }\n",
       "\n",
       "    .dataframe thead th {\n",
       "        text-align: right;\n",
       "    }\n",
       "</style>\n",
       "<table border=\"1\" class=\"dataframe\">\n",
       "  <thead>\n",
       "    <tr style=\"text-align: right;\">\n",
       "      <th></th>\n",
       "      <th>0</th>\n",
       "      <th>1</th>\n",
       "      <th>2</th>\n",
       "      <th>3</th>\n",
       "      <th>4</th>\n",
       "    </tr>\n",
       "  </thead>\n",
       "  <tbody>\n",
       "    <tr>\n",
       "      <th>msno</th>\n",
       "      <td>FGtllVqz18RPiwJj/edr2gV78zirAiY/9SmYvia+kCg=</td>\n",
       "      <td>Xumu+NIjS6QYVxDS4/t3SawvJ7viT9hPKXmf0RtLNx8=</td>\n",
       "      <td>Xumu+NIjS6QYVxDS4/t3SawvJ7viT9hPKXmf0RtLNx8=</td>\n",
       "      <td>Xumu+NIjS6QYVxDS4/t3SawvJ7viT9hPKXmf0RtLNx8=</td>\n",
       "      <td>FGtllVqz18RPiwJj/edr2gV78zirAiY/9SmYvia+kCg=</td>\n",
       "    </tr>\n",
       "    <tr>\n",
       "      <th>song_id</th>\n",
       "      <td>BBzumQNXUHKdEBOB7mAJuzok+IJA1c2Ryg/yzTF6tik=</td>\n",
       "      <td>bhp/MpSNoqoxOIB+/l8WPqu6jldth4DIpCm3ayXnJqM=</td>\n",
       "      <td>JNWfrrC7zNN7BdMpsISKa4Mw+xVJYNnxXh3/Epw7QgY=</td>\n",
       "      <td>2A87tzfnJTSWqD7gIZHisolhe4DMdzkbd6LzO1KHjNs=</td>\n",
       "      <td>3qm6XTZ6MOCU11x8FIVbAGH5l5uMkT3/ZalWG1oo2Gc=</td>\n",
       "    </tr>\n",
       "    <tr>\n",
       "      <th>source_system_tab</th>\n",
       "      <td>explore</td>\n",
       "      <td>my library</td>\n",
       "      <td>my library</td>\n",
       "      <td>my library</td>\n",
       "      <td>explore</td>\n",
       "    </tr>\n",
       "    <tr>\n",
       "      <th>source_screen_name</th>\n",
       "      <td>Explore</td>\n",
       "      <td>Local playlist more</td>\n",
       "      <td>Local playlist more</td>\n",
       "      <td>Local playlist more</td>\n",
       "      <td>Explore</td>\n",
       "    </tr>\n",
       "    <tr>\n",
       "      <th>source_type</th>\n",
       "      <td>online-playlist</td>\n",
       "      <td>local-playlist</td>\n",
       "      <td>local-playlist</td>\n",
       "      <td>local-playlist</td>\n",
       "      <td>online-playlist</td>\n",
       "    </tr>\n",
       "    <tr>\n",
       "      <th>target</th>\n",
       "      <td>1</td>\n",
       "      <td>1</td>\n",
       "      <td>1</td>\n",
       "      <td>1</td>\n",
       "      <td>1</td>\n",
       "    </tr>\n",
       "  </tbody>\n",
       "</table>\n",
       "</div>"
      ],
      "text/plain": [
       "                                                               0  \\\n",
       "msno                FGtllVqz18RPiwJj/edr2gV78zirAiY/9SmYvia+kCg=   \n",
       "song_id             BBzumQNXUHKdEBOB7mAJuzok+IJA1c2Ryg/yzTF6tik=   \n",
       "source_system_tab                                        explore   \n",
       "source_screen_name                                       Explore   \n",
       "source_type                                      online-playlist   \n",
       "target                                                         1   \n",
       "\n",
       "                                                               1  \\\n",
       "msno                Xumu+NIjS6QYVxDS4/t3SawvJ7viT9hPKXmf0RtLNx8=   \n",
       "song_id             bhp/MpSNoqoxOIB+/l8WPqu6jldth4DIpCm3ayXnJqM=   \n",
       "source_system_tab                                     my library   \n",
       "source_screen_name                           Local playlist more   \n",
       "source_type                                       local-playlist   \n",
       "target                                                         1   \n",
       "\n",
       "                                                               2  \\\n",
       "msno                Xumu+NIjS6QYVxDS4/t3SawvJ7viT9hPKXmf0RtLNx8=   \n",
       "song_id             JNWfrrC7zNN7BdMpsISKa4Mw+xVJYNnxXh3/Epw7QgY=   \n",
       "source_system_tab                                     my library   \n",
       "source_screen_name                           Local playlist more   \n",
       "source_type                                       local-playlist   \n",
       "target                                                         1   \n",
       "\n",
       "                                                               3  \\\n",
       "msno                Xumu+NIjS6QYVxDS4/t3SawvJ7viT9hPKXmf0RtLNx8=   \n",
       "song_id             2A87tzfnJTSWqD7gIZHisolhe4DMdzkbd6LzO1KHjNs=   \n",
       "source_system_tab                                     my library   \n",
       "source_screen_name                           Local playlist more   \n",
       "source_type                                       local-playlist   \n",
       "target                                                         1   \n",
       "\n",
       "                                                               4  \n",
       "msno                FGtllVqz18RPiwJj/edr2gV78zirAiY/9SmYvia+kCg=  \n",
       "song_id             3qm6XTZ6MOCU11x8FIVbAGH5l5uMkT3/ZalWG1oo2Gc=  \n",
       "source_system_tab                                        explore  \n",
       "source_screen_name                                       Explore  \n",
       "source_type                                      online-playlist  \n",
       "target                                                         1  "
      ]
     },
     "execution_count": 21,
     "metadata": {},
     "output_type": "execute_result"
    }
   ],
   "source": [
    "train.head().T"
   ]
  },
  {
   "cell_type": "code",
   "execution_count": 22,
   "metadata": {},
   "outputs": [
    {
     "name": "stdout",
     "output_type": "stream",
     "text": [
      "<class 'pandas.core.frame.DataFrame'>\n",
      "RangeIndex: 7377418 entries, 0 to 7377417\n",
      "Data columns (total 6 columns):\n",
      "msno                  7377418 non-null object\n",
      "song_id               7377418 non-null object\n",
      "source_system_tab     7352569 non-null object\n",
      "source_screen_name    6962614 non-null object\n",
      "source_type           7355879 non-null object\n",
      "target                7377418 non-null int64\n",
      "dtypes: int64(1), object(5)\n",
      "memory usage: 337.7+ MB\n"
     ]
    }
   ],
   "source": [
    "train.info(verbose=True, null_counts=True)"
   ]
  },
  {
   "cell_type": "code",
   "execution_count": 23,
   "metadata": {},
   "outputs": [],
   "source": [
    "train['data_from'] = 'train'"
   ]
  },
  {
   "cell_type": "code",
   "execution_count": 24,
   "metadata": {},
   "outputs": [
    {
     "data": {
      "text/plain": [
       "30755"
      ]
     },
     "execution_count": 24,
     "metadata": {},
     "output_type": "execute_result"
    }
   ],
   "source": [
    "train.msno.nunique()"
   ]
  },
  {
   "cell_type": "code",
   "execution_count": 25,
   "metadata": {
    "scrolled": true
   },
   "outputs": [
    {
     "data": {
      "text/plain": [
       "359966"
      ]
     },
     "execution_count": 25,
     "metadata": {},
     "output_type": "execute_result"
    }
   ],
   "source": [
    "train.song_id.nunique()"
   ]
  },
  {
   "cell_type": "code",
   "execution_count": 26,
   "metadata": {
    "scrolled": true
   },
   "outputs": [
    {
     "data": {
      "text/plain": [
       "8"
      ]
     },
     "execution_count": 26,
     "metadata": {},
     "output_type": "execute_result"
    }
   ],
   "source": [
    "train.source_system_tab.nunique()"
   ]
  },
  {
   "cell_type": "code",
   "execution_count": 27,
   "metadata": {},
   "outputs": [
    {
     "data": {
      "text/plain": [
       "my library      3684730\n",
       "discover        2179252\n",
       "search           623286\n",
       "radio            476701\n",
       "listen with      212266\n",
       "explore          167949\n",
       "notification       6185\n",
       "settings           2200\n",
       "Name: source_system_tab, dtype: int64"
      ]
     },
     "execution_count": 27,
     "metadata": {},
     "output_type": "execute_result"
    }
   ],
   "source": [
    "train.source_system_tab.value_counts()"
   ]
  },
  {
   "cell_type": "code",
   "execution_count": 28,
   "metadata": {},
   "outputs": [
    {
     "data": {
      "text/plain": [
       "20"
      ]
     },
     "execution_count": 28,
     "metadata": {},
     "output_type": "execute_result"
    }
   ],
   "source": [
    "train.source_screen_name.nunique()"
   ]
  },
  {
   "cell_type": "code",
   "execution_count": 29,
   "metadata": {},
   "outputs": [
    {
     "data": {
      "text/plain": [
       "Local playlist more     3228202\n",
       "Online playlist more    1294689\n",
       "Radio                    474467\n",
       "Album more               420156\n",
       "Search                   298487\n",
       "Artist more              252429\n",
       "Discover Feature         244246\n",
       "Discover Chart           213658\n",
       "Others profile more      201795\n",
       "Discover Genre            82202\n",
       "My library                75980\n",
       "Explore                   72342\n",
       "Unknown                   54170\n",
       "Discover New              15955\n",
       "Search Trends             13632\n",
       "Search Home               13482\n",
       "My library_Search          6451\n",
       "Self profile more           212\n",
       "Concert                      47\n",
       "Payment                      12\n",
       "Name: source_screen_name, dtype: int64"
      ]
     },
     "execution_count": 29,
     "metadata": {},
     "output_type": "execute_result"
    }
   ],
   "source": [
    "train.source_screen_name.value_counts()"
   ]
  },
  {
   "cell_type": "code",
   "execution_count": 30,
   "metadata": {
    "scrolled": true
   },
   "outputs": [
    {
     "data": {
      "text/plain": [
       "12"
      ]
     },
     "execution_count": 30,
     "metadata": {},
     "output_type": "execute_result"
    }
   ],
   "source": [
    "train.source_type.nunique()"
   ]
  },
  {
   "cell_type": "code",
   "execution_count": 31,
   "metadata": {},
   "outputs": [
    {
     "data": {
      "text/plain": [
       "local-library             2261399\n",
       "online-playlist           1967924\n",
       "local-playlist            1079503\n",
       "radio                      483109\n",
       "album                      477344\n",
       "top-hits-for-artist        423614\n",
       "song                       244722\n",
       "song-based-playlist        210527\n",
       "listen-with                192842\n",
       "topic-article-playlist      11194\n",
       "artist                       3038\n",
       "my-daily-playlist             663\n",
       "Name: source_type, dtype: int64"
      ]
     },
     "execution_count": 31,
     "metadata": {},
     "output_type": "execute_result"
    }
   ],
   "source": [
    "train.source_type.value_counts()"
   ]
  },
  {
   "cell_type": "code",
   "execution_count": 32,
   "metadata": {},
   "outputs": [],
   "source": [
    "train.fillna('unknown', inplace=True)"
   ]
  },
  {
   "cell_type": "code",
   "execution_count": 33,
   "metadata": {},
   "outputs": [
    {
     "name": "stdout",
     "output_type": "stream",
     "text": [
      "<class 'pandas.core.frame.DataFrame'>\n",
      "RangeIndex: 7377418 entries, 0 to 7377417\n",
      "Data columns (total 7 columns):\n",
      "msno                  7377418 non-null object\n",
      "song_id               7377418 non-null object\n",
      "source_system_tab     7377418 non-null object\n",
      "source_screen_name    7377418 non-null object\n",
      "source_type           7377418 non-null object\n",
      "target                7377418 non-null int64\n",
      "data_from             7377418 non-null object\n",
      "dtypes: int64(1), object(6)\n",
      "memory usage: 394.0+ MB\n"
     ]
    }
   ],
   "source": [
    "train.info(verbose=True, null_counts=True)"
   ]
  },
  {
   "cell_type": "markdown",
   "metadata": {},
   "source": [
    "## Test"
   ]
  },
  {
   "cell_type": "code",
   "execution_count": 34,
   "metadata": {},
   "outputs": [],
   "source": [
    "test = pd.read_csv(os.path.join(data_directory, 'test.csv'), engine='python', index_col=0)"
   ]
  },
  {
   "cell_type": "code",
   "execution_count": 35,
   "metadata": {},
   "outputs": [
    {
     "data": {
      "text/html": [
       "<div>\n",
       "<style scoped>\n",
       "    .dataframe tbody tr th:only-of-type {\n",
       "        vertical-align: middle;\n",
       "    }\n",
       "\n",
       "    .dataframe tbody tr th {\n",
       "        vertical-align: top;\n",
       "    }\n",
       "\n",
       "    .dataframe thead th {\n",
       "        text-align: right;\n",
       "    }\n",
       "</style>\n",
       "<table border=\"1\" class=\"dataframe\">\n",
       "  <thead>\n",
       "    <tr style=\"text-align: right;\">\n",
       "      <th>id</th>\n",
       "      <th>0</th>\n",
       "      <th>1</th>\n",
       "      <th>2</th>\n",
       "      <th>3</th>\n",
       "      <th>4</th>\n",
       "    </tr>\n",
       "  </thead>\n",
       "  <tbody>\n",
       "    <tr>\n",
       "      <th>msno</th>\n",
       "      <td>V8ruy7SGk7tDm3zA51DPpn6qutt+vmKMBKa21dp54uM=</td>\n",
       "      <td>V8ruy7SGk7tDm3zA51DPpn6qutt+vmKMBKa21dp54uM=</td>\n",
       "      <td>/uQAlrAkaczV+nWCd2sPF2ekvXPRipV7q0l+gbLuxjw=</td>\n",
       "      <td>1a6oo/iXKatxQx4eS9zTVD+KlSVaAFbTIqVvwLC1Y0k=</td>\n",
       "      <td>1a6oo/iXKatxQx4eS9zTVD+KlSVaAFbTIqVvwLC1Y0k=</td>\n",
       "    </tr>\n",
       "    <tr>\n",
       "      <th>song_id</th>\n",
       "      <td>WmHKgKMlp1lQMecNdNvDMkvIycZYHnFwDT72I5sIssc=</td>\n",
       "      <td>y/rsZ9DC7FwK5F2PK2D5mj+aOBUJAjuu3dZ14NgE0vM=</td>\n",
       "      <td>8eZLFOdGVdXBSqoAv5nsLigeH2BvKXzTQYtUM53I0k4=</td>\n",
       "      <td>ztCf8thYsS4YN3GcIL/bvoxLm/T5mYBVKOO4C9NiVfQ=</td>\n",
       "      <td>MKVMpslKcQhMaFEgcEQhEfi5+RZhMYlU3eRDpySrH8Y=</td>\n",
       "    </tr>\n",
       "    <tr>\n",
       "      <th>source_system_tab</th>\n",
       "      <td>my library</td>\n",
       "      <td>my library</td>\n",
       "      <td>discover</td>\n",
       "      <td>radio</td>\n",
       "      <td>radio</td>\n",
       "    </tr>\n",
       "    <tr>\n",
       "      <th>source_screen_name</th>\n",
       "      <td>Local playlist more</td>\n",
       "      <td>Local playlist more</td>\n",
       "      <td>NaN</td>\n",
       "      <td>Radio</td>\n",
       "      <td>Radio</td>\n",
       "    </tr>\n",
       "    <tr>\n",
       "      <th>source_type</th>\n",
       "      <td>local-library</td>\n",
       "      <td>local-library</td>\n",
       "      <td>song-based-playlist</td>\n",
       "      <td>radio</td>\n",
       "      <td>radio</td>\n",
       "    </tr>\n",
       "  </tbody>\n",
       "</table>\n",
       "</div>"
      ],
      "text/plain": [
       "id                                                             0  \\\n",
       "msno                V8ruy7SGk7tDm3zA51DPpn6qutt+vmKMBKa21dp54uM=   \n",
       "song_id             WmHKgKMlp1lQMecNdNvDMkvIycZYHnFwDT72I5sIssc=   \n",
       "source_system_tab                                     my library   \n",
       "source_screen_name                           Local playlist more   \n",
       "source_type                                        local-library   \n",
       "\n",
       "id                                                             1  \\\n",
       "msno                V8ruy7SGk7tDm3zA51DPpn6qutt+vmKMBKa21dp54uM=   \n",
       "song_id             y/rsZ9DC7FwK5F2PK2D5mj+aOBUJAjuu3dZ14NgE0vM=   \n",
       "source_system_tab                                     my library   \n",
       "source_screen_name                           Local playlist more   \n",
       "source_type                                        local-library   \n",
       "\n",
       "id                                                             2  \\\n",
       "msno                /uQAlrAkaczV+nWCd2sPF2ekvXPRipV7q0l+gbLuxjw=   \n",
       "song_id             8eZLFOdGVdXBSqoAv5nsLigeH2BvKXzTQYtUM53I0k4=   \n",
       "source_system_tab                                       discover   \n",
       "source_screen_name                                           NaN   \n",
       "source_type                                  song-based-playlist   \n",
       "\n",
       "id                                                             3  \\\n",
       "msno                1a6oo/iXKatxQx4eS9zTVD+KlSVaAFbTIqVvwLC1Y0k=   \n",
       "song_id             ztCf8thYsS4YN3GcIL/bvoxLm/T5mYBVKOO4C9NiVfQ=   \n",
       "source_system_tab                                          radio   \n",
       "source_screen_name                                         Radio   \n",
       "source_type                                                radio   \n",
       "\n",
       "id                                                             4  \n",
       "msno                1a6oo/iXKatxQx4eS9zTVD+KlSVaAFbTIqVvwLC1Y0k=  \n",
       "song_id             MKVMpslKcQhMaFEgcEQhEfi5+RZhMYlU3eRDpySrH8Y=  \n",
       "source_system_tab                                          radio  \n",
       "source_screen_name                                         Radio  \n",
       "source_type                                                radio  "
      ]
     },
     "execution_count": 35,
     "metadata": {},
     "output_type": "execute_result"
    }
   ],
   "source": [
    "test.head().T"
   ]
  },
  {
   "cell_type": "code",
   "execution_count": 36,
   "metadata": {},
   "outputs": [
    {
     "name": "stdout",
     "output_type": "stream",
     "text": [
      "<class 'pandas.core.frame.DataFrame'>\n",
      "Int64Index: 2556790 entries, 0 to 2556789\n",
      "Data columns (total 5 columns):\n",
      "msno                  2556790 non-null object\n",
      "song_id               2556790 non-null object\n",
      "source_system_tab     2548348 non-null object\n",
      "source_screen_name    2393907 non-null object\n",
      "source_type           2549493 non-null object\n",
      "dtypes: object(5)\n",
      "memory usage: 117.0+ MB\n"
     ]
    }
   ],
   "source": [
    "test.info(verbose=True, null_counts=True)"
   ]
  },
  {
   "cell_type": "code",
   "execution_count": 37,
   "metadata": {},
   "outputs": [],
   "source": [
    "test['target'] = None"
   ]
  },
  {
   "cell_type": "code",
   "execution_count": 38,
   "metadata": {},
   "outputs": [],
   "source": [
    "test['data_from'] = 'test'"
   ]
  },
  {
   "cell_type": "code",
   "execution_count": 39,
   "metadata": {},
   "outputs": [
    {
     "data": {
      "text/plain": [
       "25131"
      ]
     },
     "execution_count": 39,
     "metadata": {},
     "output_type": "execute_result"
    }
   ],
   "source": [
    "test.msno.nunique()"
   ]
  },
  {
   "cell_type": "code",
   "execution_count": 40,
   "metadata": {},
   "outputs": [
    {
     "data": {
      "text/plain": [
       "224753"
      ]
     },
     "execution_count": 40,
     "metadata": {},
     "output_type": "execute_result"
    }
   ],
   "source": [
    "test.song_id.nunique()"
   ]
  },
  {
   "cell_type": "code",
   "execution_count": 41,
   "metadata": {},
   "outputs": [
    {
     "data": {
      "text/plain": [
       "8"
      ]
     },
     "execution_count": 41,
     "metadata": {},
     "output_type": "execute_result"
    }
   ],
   "source": [
    "test.source_system_tab.nunique()"
   ]
  },
  {
   "cell_type": "code",
   "execution_count": 42,
   "metadata": {},
   "outputs": [
    {
     "data": {
      "text/plain": [
       "my library      1019492\n",
       "discover         871068\n",
       "search           277615\n",
       "radio            212765\n",
       "listen with       98628\n",
       "explore           66023\n",
       "notification       2124\n",
       "settings            633\n",
       "Name: source_system_tab, dtype: int64"
      ]
     },
     "execution_count": 42,
     "metadata": {},
     "output_type": "execute_result"
    }
   ],
   "source": [
    "test.source_system_tab.value_counts()"
   ]
  },
  {
   "cell_type": "code",
   "execution_count": 43,
   "metadata": {},
   "outputs": [
    {
     "data": {
      "text/plain": [
       "22"
      ]
     },
     "execution_count": 43,
     "metadata": {},
     "output_type": "execute_result"
    }
   ],
   "source": [
    "test.source_screen_name.nunique()"
   ]
  },
  {
   "cell_type": "code",
   "execution_count": 44,
   "metadata": {},
   "outputs": [
    {
     "data": {
      "text/plain": [
       "Local playlist more     845115\n",
       "Online playlist more    529807\n",
       "Radio                   211201\n",
       "Album more              176129\n",
       "Search                  121982\n",
       "Artist more             110999\n",
       "Discover Feature         93401\n",
       "Others profile more      90457\n",
       "Discover Chart           78999\n",
       "Discover Genre           41617\n",
       "Explore                  27872\n",
       "My library               25559\n",
       "Unknown                  23620\n",
       "Discover New              5277\n",
       "Search Trends             4883\n",
       "Search Home               4705\n",
       "My library_Search         2114\n",
       "Self profile more          131\n",
       "Concert                     13\n",
       "People local                13\n",
       "Payment                     12\n",
       "People global                1\n",
       "Name: source_screen_name, dtype: int64"
      ]
     },
     "execution_count": 44,
     "metadata": {},
     "output_type": "execute_result"
    }
   ],
   "source": [
    "test.source_screen_name.value_counts()"
   ]
  },
  {
   "cell_type": "code",
   "execution_count": 45,
   "metadata": {
    "scrolled": true
   },
   "outputs": [
    {
     "data": {
      "text/plain": [
       "12"
      ]
     },
     "execution_count": 45,
     "metadata": {},
     "output_type": "execute_result"
    }
   ],
   "source": [
    "test.source_type.nunique()"
   ]
  },
  {
   "cell_type": "code",
   "execution_count": 46,
   "metadata": {},
   "outputs": [
    {
     "data": {
      "text/plain": [
       "online-playlist           774532\n",
       "local-library             582346\n",
       "local-playlist            294537\n",
       "radio                     215164\n",
       "album                     195190\n",
       "top-hits-for-artist       179360\n",
       "song                      129153\n",
       "song-based-playlist        87179\n",
       "listen-with                84499\n",
       "topic-article-playlist      5082\n",
       "my-daily-playlist           2023\n",
       "artist                       428\n",
       "Name: source_type, dtype: int64"
      ]
     },
     "execution_count": 46,
     "metadata": {},
     "output_type": "execute_result"
    }
   ],
   "source": [
    "test.source_type.value_counts()"
   ]
  },
  {
   "cell_type": "code",
   "execution_count": 47,
   "metadata": {},
   "outputs": [],
   "source": [
    "test.fillna('unknown', inplace=True)"
   ]
  },
  {
   "cell_type": "code",
   "execution_count": 48,
   "metadata": {},
   "outputs": [
    {
     "name": "stdout",
     "output_type": "stream",
     "text": [
      "<class 'pandas.core.frame.DataFrame'>\n",
      "Int64Index: 2556790 entries, 0 to 2556789\n",
      "Data columns (total 7 columns):\n",
      "msno                  2556790 non-null object\n",
      "song_id               2556790 non-null object\n",
      "source_system_tab     2556790 non-null object\n",
      "source_screen_name    2556790 non-null object\n",
      "source_type           2556790 non-null object\n",
      "target                2556790 non-null object\n",
      "data_from             2556790 non-null object\n",
      "dtypes: object(7)\n",
      "memory usage: 156.1+ MB\n"
     ]
    }
   ],
   "source": [
    "test.info(verbose=True, null_counts=True)"
   ]
  },
  {
   "cell_type": "markdown",
   "metadata": {},
   "source": [
    "## Songs"
   ]
  },
  {
   "cell_type": "code",
   "execution_count": 49,
   "metadata": {},
   "outputs": [],
   "source": [
    "songs = pd.read_csv(os.path.join(data_directory, 'songs.csv'))"
   ]
  },
  {
   "cell_type": "code",
   "execution_count": 50,
   "metadata": {
    "scrolled": true
   },
   "outputs": [
    {
     "data": {
      "text/html": [
       "<div>\n",
       "<style scoped>\n",
       "    .dataframe tbody tr th:only-of-type {\n",
       "        vertical-align: middle;\n",
       "    }\n",
       "\n",
       "    .dataframe tbody tr th {\n",
       "        vertical-align: top;\n",
       "    }\n",
       "\n",
       "    .dataframe thead th {\n",
       "        text-align: right;\n",
       "    }\n",
       "</style>\n",
       "<table border=\"1\" class=\"dataframe\">\n",
       "  <thead>\n",
       "    <tr style=\"text-align: right;\">\n",
       "      <th></th>\n",
       "      <th>0</th>\n",
       "      <th>1</th>\n",
       "      <th>2</th>\n",
       "      <th>3</th>\n",
       "      <th>4</th>\n",
       "    </tr>\n",
       "  </thead>\n",
       "  <tbody>\n",
       "    <tr>\n",
       "      <th>song_id</th>\n",
       "      <td>CXoTN1eb7AI+DntdU1vbcwGRV4SCIDxZu+YD8JP8r4E=</td>\n",
       "      <td>o0kFgae9QtnYgRkVPqLJwa05zIhRlUjfF7O1tDw0ZDU=</td>\n",
       "      <td>DwVvVurfpuz+XPuFvucclVQEyPqcpUkHR0ne1RQzPs0=</td>\n",
       "      <td>dKMBWoZyScdxSkihKG+Vf47nc18N9q4m58+b4e7dSSE=</td>\n",
       "      <td>W3bqWd3T+VeHFzHAUfARgW9AvVRaF4N5Yzm4Mr6Eo/o=</td>\n",
       "    </tr>\n",
       "    <tr>\n",
       "      <th>song_length</th>\n",
       "      <td>247640</td>\n",
       "      <td>197328</td>\n",
       "      <td>231781</td>\n",
       "      <td>273554</td>\n",
       "      <td>140329</td>\n",
       "    </tr>\n",
       "    <tr>\n",
       "      <th>genre_ids</th>\n",
       "      <td>465</td>\n",
       "      <td>444</td>\n",
       "      <td>465</td>\n",
       "      <td>465</td>\n",
       "      <td>726</td>\n",
       "    </tr>\n",
       "    <tr>\n",
       "      <th>artist_name</th>\n",
       "      <td>張信哲 (Jeff Chang)</td>\n",
       "      <td>BLACKPINK</td>\n",
       "      <td>SUPER JUNIOR</td>\n",
       "      <td>S.H.E</td>\n",
       "      <td>貴族精選</td>\n",
       "    </tr>\n",
       "    <tr>\n",
       "      <th>composer</th>\n",
       "      <td>董貞</td>\n",
       "      <td>TEDDY|  FUTURE BOUNCE|  Bekuh BOOM</td>\n",
       "      <td>NaN</td>\n",
       "      <td>湯小康</td>\n",
       "      <td>Traditional</td>\n",
       "    </tr>\n",
       "    <tr>\n",
       "      <th>lyricist</th>\n",
       "      <td>何啟弘</td>\n",
       "      <td>TEDDY</td>\n",
       "      <td>NaN</td>\n",
       "      <td>徐世珍</td>\n",
       "      <td>Traditional</td>\n",
       "    </tr>\n",
       "    <tr>\n",
       "      <th>language</th>\n",
       "      <td>3</td>\n",
       "      <td>31</td>\n",
       "      <td>31</td>\n",
       "      <td>3</td>\n",
       "      <td>52</td>\n",
       "    </tr>\n",
       "  </tbody>\n",
       "</table>\n",
       "</div>"
      ],
      "text/plain": [
       "                                                        0  \\\n",
       "song_id      CXoTN1eb7AI+DntdU1vbcwGRV4SCIDxZu+YD8JP8r4E=   \n",
       "song_length                                        247640   \n",
       "genre_ids                                             465   \n",
       "artist_name                              張信哲 (Jeff Chang)   \n",
       "composer                                               董貞   \n",
       "lyricist                                              何啟弘   \n",
       "language                                                3   \n",
       "\n",
       "                                                        1  \\\n",
       "song_id      o0kFgae9QtnYgRkVPqLJwa05zIhRlUjfF7O1tDw0ZDU=   \n",
       "song_length                                        197328   \n",
       "genre_ids                                             444   \n",
       "artist_name                                     BLACKPINK   \n",
       "composer               TEDDY|  FUTURE BOUNCE|  Bekuh BOOM   \n",
       "lyricist                                            TEDDY   \n",
       "language                                               31   \n",
       "\n",
       "                                                        2  \\\n",
       "song_id      DwVvVurfpuz+XPuFvucclVQEyPqcpUkHR0ne1RQzPs0=   \n",
       "song_length                                        231781   \n",
       "genre_ids                                             465   \n",
       "artist_name                                  SUPER JUNIOR   \n",
       "composer                                              NaN   \n",
       "lyricist                                              NaN   \n",
       "language                                               31   \n",
       "\n",
       "                                                        3  \\\n",
       "song_id      dKMBWoZyScdxSkihKG+Vf47nc18N9q4m58+b4e7dSSE=   \n",
       "song_length                                        273554   \n",
       "genre_ids                                             465   \n",
       "artist_name                                         S.H.E   \n",
       "composer                                              湯小康   \n",
       "lyricist                                              徐世珍   \n",
       "language                                                3   \n",
       "\n",
       "                                                        4  \n",
       "song_id      W3bqWd3T+VeHFzHAUfARgW9AvVRaF4N5Yzm4Mr6Eo/o=  \n",
       "song_length                                        140329  \n",
       "genre_ids                                             726  \n",
       "artist_name                                          貴族精選  \n",
       "composer                                      Traditional  \n",
       "lyricist                                      Traditional  \n",
       "language                                               52  "
      ]
     },
     "execution_count": 50,
     "metadata": {},
     "output_type": "execute_result"
    }
   ],
   "source": [
    "songs.head().T"
   ]
  },
  {
   "cell_type": "code",
   "execution_count": 51,
   "metadata": {},
   "outputs": [
    {
     "name": "stdout",
     "output_type": "stream",
     "text": [
      "<class 'pandas.core.frame.DataFrame'>\n",
      "RangeIndex: 2296320 entries, 0 to 2296319\n",
      "Data columns (total 7 columns):\n",
      "song_id        2296320 non-null object\n",
      "song_length    2296320 non-null int64\n",
      "genre_ids      2202204 non-null object\n",
      "artist_name    2296320 non-null object\n",
      "composer       1224966 non-null object\n",
      "lyricist       351052 non-null object\n",
      "language       2296319 non-null float64\n",
      "dtypes: float64(1), int64(1), object(5)\n",
      "memory usage: 122.6+ MB\n"
     ]
    }
   ],
   "source": [
    "songs.info(verbose=True, null_counts=True)"
   ]
  },
  {
   "cell_type": "code",
   "execution_count": 52,
   "metadata": {},
   "outputs": [],
   "source": [
    "songs.lyricist.fillna('unknown', inplace=True)"
   ]
  },
  {
   "cell_type": "code",
   "execution_count": 53,
   "metadata": {},
   "outputs": [],
   "source": [
    "songs.composer.fillna('unknown', inplace=True)"
   ]
  },
  {
   "cell_type": "code",
   "execution_count": 147,
   "metadata": {},
   "outputs": [],
   "source": [
    "songs.genre_ids.fillna('unknown', inplace=True)"
   ]
  },
  {
   "cell_type": "code",
   "execution_count": 170,
   "metadata": {},
   "outputs": [],
   "source": [
    "genres = list(set('|'.join(songs.genre_ids.values).split('|')))"
   ]
  },
  {
   "cell_type": "code",
   "execution_count": 172,
   "metadata": {
    "scrolled": true
   },
   "outputs": [
    {
     "data": {
      "text/plain": [
       "192"
      ]
     },
     "execution_count": 172,
     "metadata": {},
     "output_type": "execute_result"
    }
   ],
   "source": [
    "len(genres)"
   ]
  },
  {
   "cell_type": "code",
   "execution_count": 54,
   "metadata": {},
   "outputs": [],
   "source": [
    "songs.language.fillna(-1, inplace=True)"
   ]
  },
  {
   "cell_type": "code",
   "execution_count": 55,
   "metadata": {},
   "outputs": [],
   "source": [
    "songs.language = songs.language.astype(np.int64)"
   ]
  },
  {
   "cell_type": "code",
   "execution_count": 56,
   "metadata": {},
   "outputs": [
    {
     "data": {
      "text/html": [
       "<div>\n",
       "<style scoped>\n",
       "    .dataframe tbody tr th:only-of-type {\n",
       "        vertical-align: middle;\n",
       "    }\n",
       "\n",
       "    .dataframe tbody tr th {\n",
       "        vertical-align: top;\n",
       "    }\n",
       "\n",
       "    .dataframe thead th {\n",
       "        text-align: right;\n",
       "    }\n",
       "</style>\n",
       "<table border=\"1\" class=\"dataframe\">\n",
       "  <thead>\n",
       "    <tr style=\"text-align: right;\">\n",
       "      <th></th>\n",
       "      <th>0</th>\n",
       "      <th>1</th>\n",
       "      <th>2</th>\n",
       "      <th>3</th>\n",
       "      <th>4</th>\n",
       "    </tr>\n",
       "  </thead>\n",
       "  <tbody>\n",
       "    <tr>\n",
       "      <th>song_id</th>\n",
       "      <td>CXoTN1eb7AI+DntdU1vbcwGRV4SCIDxZu+YD8JP8r4E=</td>\n",
       "      <td>o0kFgae9QtnYgRkVPqLJwa05zIhRlUjfF7O1tDw0ZDU=</td>\n",
       "      <td>DwVvVurfpuz+XPuFvucclVQEyPqcpUkHR0ne1RQzPs0=</td>\n",
       "      <td>dKMBWoZyScdxSkihKG+Vf47nc18N9q4m58+b4e7dSSE=</td>\n",
       "      <td>W3bqWd3T+VeHFzHAUfARgW9AvVRaF4N5Yzm4Mr6Eo/o=</td>\n",
       "    </tr>\n",
       "    <tr>\n",
       "      <th>song_length</th>\n",
       "      <td>247640</td>\n",
       "      <td>197328</td>\n",
       "      <td>231781</td>\n",
       "      <td>273554</td>\n",
       "      <td>140329</td>\n",
       "    </tr>\n",
       "    <tr>\n",
       "      <th>genre_ids</th>\n",
       "      <td>465</td>\n",
       "      <td>444</td>\n",
       "      <td>465</td>\n",
       "      <td>465</td>\n",
       "      <td>726</td>\n",
       "    </tr>\n",
       "    <tr>\n",
       "      <th>artist_name</th>\n",
       "      <td>張信哲 (Jeff Chang)</td>\n",
       "      <td>BLACKPINK</td>\n",
       "      <td>SUPER JUNIOR</td>\n",
       "      <td>S.H.E</td>\n",
       "      <td>貴族精選</td>\n",
       "    </tr>\n",
       "    <tr>\n",
       "      <th>composer</th>\n",
       "      <td>董貞</td>\n",
       "      <td>TEDDY|  FUTURE BOUNCE|  Bekuh BOOM</td>\n",
       "      <td>unknown</td>\n",
       "      <td>湯小康</td>\n",
       "      <td>Traditional</td>\n",
       "    </tr>\n",
       "    <tr>\n",
       "      <th>lyricist</th>\n",
       "      <td>何啟弘</td>\n",
       "      <td>TEDDY</td>\n",
       "      <td>unknown</td>\n",
       "      <td>徐世珍</td>\n",
       "      <td>Traditional</td>\n",
       "    </tr>\n",
       "    <tr>\n",
       "      <th>language</th>\n",
       "      <td>3</td>\n",
       "      <td>31</td>\n",
       "      <td>31</td>\n",
       "      <td>3</td>\n",
       "      <td>52</td>\n",
       "    </tr>\n",
       "  </tbody>\n",
       "</table>\n",
       "</div>"
      ],
      "text/plain": [
       "                                                        0  \\\n",
       "song_id      CXoTN1eb7AI+DntdU1vbcwGRV4SCIDxZu+YD8JP8r4E=   \n",
       "song_length                                        247640   \n",
       "genre_ids                                             465   \n",
       "artist_name                              張信哲 (Jeff Chang)   \n",
       "composer                                               董貞   \n",
       "lyricist                                              何啟弘   \n",
       "language                                                3   \n",
       "\n",
       "                                                        1  \\\n",
       "song_id      o0kFgae9QtnYgRkVPqLJwa05zIhRlUjfF7O1tDw0ZDU=   \n",
       "song_length                                        197328   \n",
       "genre_ids                                             444   \n",
       "artist_name                                     BLACKPINK   \n",
       "composer               TEDDY|  FUTURE BOUNCE|  Bekuh BOOM   \n",
       "lyricist                                            TEDDY   \n",
       "language                                               31   \n",
       "\n",
       "                                                        2  \\\n",
       "song_id      DwVvVurfpuz+XPuFvucclVQEyPqcpUkHR0ne1RQzPs0=   \n",
       "song_length                                        231781   \n",
       "genre_ids                                             465   \n",
       "artist_name                                  SUPER JUNIOR   \n",
       "composer                                          unknown   \n",
       "lyricist                                          unknown   \n",
       "language                                               31   \n",
       "\n",
       "                                                        3  \\\n",
       "song_id      dKMBWoZyScdxSkihKG+Vf47nc18N9q4m58+b4e7dSSE=   \n",
       "song_length                                        273554   \n",
       "genre_ids                                             465   \n",
       "artist_name                                         S.H.E   \n",
       "composer                                              湯小康   \n",
       "lyricist                                              徐世珍   \n",
       "language                                                3   \n",
       "\n",
       "                                                        4  \n",
       "song_id      W3bqWd3T+VeHFzHAUfARgW9AvVRaF4N5Yzm4Mr6Eo/o=  \n",
       "song_length                                        140329  \n",
       "genre_ids                                             726  \n",
       "artist_name                                          貴族精選  \n",
       "composer                                      Traditional  \n",
       "lyricist                                      Traditional  \n",
       "language                                               52  "
      ]
     },
     "execution_count": 56,
     "metadata": {},
     "output_type": "execute_result"
    }
   ],
   "source": [
    "songs.head().T"
   ]
  },
  {
   "cell_type": "code",
   "execution_count": 158,
   "metadata": {},
   "outputs": [
    {
     "name": "stdout",
     "output_type": "stream",
     "text": [
      "<class 'pandas.core.frame.DataFrame'>\n",
      "RangeIndex: 2296320 entries, 0 to 2296319\n",
      "Data columns (total 7 columns):\n",
      "song_id        2296320 non-null object\n",
      "song_length    2296320 non-null int64\n",
      "genre_ids      2296320 non-null object\n",
      "artist_name    2296320 non-null object\n",
      "composer       2296320 non-null object\n",
      "lyricist       2296320 non-null object\n",
      "language       2296320 non-null int64\n",
      "dtypes: int64(2), object(5)\n",
      "memory usage: 122.6+ MB\n"
     ]
    }
   ],
   "source": [
    "songs.info(verbose=True, null_counts=True)"
   ]
  },
  {
   "cell_type": "code",
   "execution_count": 162,
   "metadata": {},
   "outputs": [
    {
     "data": {
      "text/plain": [
       "146534"
      ]
     },
     "execution_count": 162,
     "metadata": {},
     "output_type": "execute_result"
    }
   ],
   "source": [
    "songs.song_length.nunique()"
   ]
  },
  {
   "cell_type": "code",
   "execution_count": 163,
   "metadata": {},
   "outputs": [
    {
     "data": {
      "text/plain": [
       "1046"
      ]
     },
     "execution_count": 163,
     "metadata": {},
     "output_type": "execute_result"
    }
   ],
   "source": [
    "songs.genre_ids.nunique()"
   ]
  },
  {
   "cell_type": "code",
   "execution_count": 164,
   "metadata": {},
   "outputs": [
    {
     "data": {
      "text/plain": [
       "222363"
      ]
     },
     "execution_count": 164,
     "metadata": {},
     "output_type": "execute_result"
    }
   ],
   "source": [
    "songs.artist_name.nunique()"
   ]
  },
  {
   "cell_type": "code",
   "execution_count": 165,
   "metadata": {},
   "outputs": [
    {
     "data": {
      "text/plain": [
       "329823"
      ]
     },
     "execution_count": 165,
     "metadata": {},
     "output_type": "execute_result"
    }
   ],
   "source": [
    "songs.composer.nunique()"
   ]
  },
  {
   "cell_type": "code",
   "execution_count": 166,
   "metadata": {},
   "outputs": [
    {
     "data": {
      "text/plain": [
       "110925"
      ]
     },
     "execution_count": 166,
     "metadata": {},
     "output_type": "execute_result"
    }
   ],
   "source": [
    "songs.lyricist.nunique()"
   ]
  },
  {
   "cell_type": "code",
   "execution_count": 167,
   "metadata": {},
   "outputs": [
    {
     "data": {
      "text/plain": [
       "10"
      ]
     },
     "execution_count": 167,
     "metadata": {},
     "output_type": "execute_result"
    }
   ],
   "source": [
    "songs.language.nunique()"
   ]
  },
  {
   "cell_type": "markdown",
   "metadata": {},
   "source": [
    "## Members"
   ]
  },
  {
   "cell_type": "code",
   "execution_count": 64,
   "metadata": {},
   "outputs": [],
   "source": [
    "members = pd.read_csv(os.path.join(data_directory, 'members.csv'))"
   ]
  },
  {
   "cell_type": "code",
   "execution_count": 65,
   "metadata": {},
   "outputs": [
    {
     "data": {
      "text/html": [
       "<div>\n",
       "<style scoped>\n",
       "    .dataframe tbody tr th:only-of-type {\n",
       "        vertical-align: middle;\n",
       "    }\n",
       "\n",
       "    .dataframe tbody tr th {\n",
       "        vertical-align: top;\n",
       "    }\n",
       "\n",
       "    .dataframe thead th {\n",
       "        text-align: right;\n",
       "    }\n",
       "</style>\n",
       "<table border=\"1\" class=\"dataframe\">\n",
       "  <thead>\n",
       "    <tr style=\"text-align: right;\">\n",
       "      <th></th>\n",
       "      <th>0</th>\n",
       "      <th>1</th>\n",
       "      <th>2</th>\n",
       "      <th>3</th>\n",
       "      <th>4</th>\n",
       "    </tr>\n",
       "  </thead>\n",
       "  <tbody>\n",
       "    <tr>\n",
       "      <th>msno</th>\n",
       "      <td>XQxgAYj3klVKjR3oxPPXYYFp4soD4TuBghkhMTD4oTw=</td>\n",
       "      <td>UizsfmJb9mV54qE9hCYyU07Va97c0lCRLEQX3ae+ztM=</td>\n",
       "      <td>D8nEhsIOBSoE6VthTaqDX8U6lqjJ7dLdr72mOyLya2A=</td>\n",
       "      <td>mCuD+tZ1hERA/o5GPqk38e041J8ZsBaLcu7nGoIIvhI=</td>\n",
       "      <td>q4HRBfVSssAFS9iRfxWrohxuk9kCYMKjHOEagUMV6rQ=</td>\n",
       "    </tr>\n",
       "    <tr>\n",
       "      <th>city</th>\n",
       "      <td>1</td>\n",
       "      <td>1</td>\n",
       "      <td>1</td>\n",
       "      <td>1</td>\n",
       "      <td>1</td>\n",
       "    </tr>\n",
       "    <tr>\n",
       "      <th>bd</th>\n",
       "      <td>0</td>\n",
       "      <td>0</td>\n",
       "      <td>0</td>\n",
       "      <td>0</td>\n",
       "      <td>0</td>\n",
       "    </tr>\n",
       "    <tr>\n",
       "      <th>gender</th>\n",
       "      <td>NaN</td>\n",
       "      <td>NaN</td>\n",
       "      <td>NaN</td>\n",
       "      <td>NaN</td>\n",
       "      <td>NaN</td>\n",
       "    </tr>\n",
       "    <tr>\n",
       "      <th>registered_via</th>\n",
       "      <td>7</td>\n",
       "      <td>7</td>\n",
       "      <td>4</td>\n",
       "      <td>9</td>\n",
       "      <td>4</td>\n",
       "    </tr>\n",
       "    <tr>\n",
       "      <th>registration_init_time</th>\n",
       "      <td>20110820</td>\n",
       "      <td>20150628</td>\n",
       "      <td>20160411</td>\n",
       "      <td>20150906</td>\n",
       "      <td>20170126</td>\n",
       "    </tr>\n",
       "    <tr>\n",
       "      <th>expiration_date</th>\n",
       "      <td>20170920</td>\n",
       "      <td>20170622</td>\n",
       "      <td>20170712</td>\n",
       "      <td>20150907</td>\n",
       "      <td>20170613</td>\n",
       "    </tr>\n",
       "  </tbody>\n",
       "</table>\n",
       "</div>"
      ],
      "text/plain": [
       "                                                                   0  \\\n",
       "msno                    XQxgAYj3klVKjR3oxPPXYYFp4soD4TuBghkhMTD4oTw=   \n",
       "city                                                               1   \n",
       "bd                                                                 0   \n",
       "gender                                                           NaN   \n",
       "registered_via                                                     7   \n",
       "registration_init_time                                      20110820   \n",
       "expiration_date                                             20170920   \n",
       "\n",
       "                                                                   1  \\\n",
       "msno                    UizsfmJb9mV54qE9hCYyU07Va97c0lCRLEQX3ae+ztM=   \n",
       "city                                                               1   \n",
       "bd                                                                 0   \n",
       "gender                                                           NaN   \n",
       "registered_via                                                     7   \n",
       "registration_init_time                                      20150628   \n",
       "expiration_date                                             20170622   \n",
       "\n",
       "                                                                   2  \\\n",
       "msno                    D8nEhsIOBSoE6VthTaqDX8U6lqjJ7dLdr72mOyLya2A=   \n",
       "city                                                               1   \n",
       "bd                                                                 0   \n",
       "gender                                                           NaN   \n",
       "registered_via                                                     4   \n",
       "registration_init_time                                      20160411   \n",
       "expiration_date                                             20170712   \n",
       "\n",
       "                                                                   3  \\\n",
       "msno                    mCuD+tZ1hERA/o5GPqk38e041J8ZsBaLcu7nGoIIvhI=   \n",
       "city                                                               1   \n",
       "bd                                                                 0   \n",
       "gender                                                           NaN   \n",
       "registered_via                                                     9   \n",
       "registration_init_time                                      20150906   \n",
       "expiration_date                                             20150907   \n",
       "\n",
       "                                                                   4  \n",
       "msno                    q4HRBfVSssAFS9iRfxWrohxuk9kCYMKjHOEagUMV6rQ=  \n",
       "city                                                               1  \n",
       "bd                                                                 0  \n",
       "gender                                                           NaN  \n",
       "registered_via                                                     4  \n",
       "registration_init_time                                      20170126  \n",
       "expiration_date                                             20170613  "
      ]
     },
     "execution_count": 65,
     "metadata": {},
     "output_type": "execute_result"
    }
   ],
   "source": [
    "members.head().T"
   ]
  },
  {
   "cell_type": "code",
   "execution_count": 66,
   "metadata": {},
   "outputs": [
    {
     "name": "stdout",
     "output_type": "stream",
     "text": [
      "<class 'pandas.core.frame.DataFrame'>\n",
      "RangeIndex: 34403 entries, 0 to 34402\n",
      "Data columns (total 7 columns):\n",
      "msno                      34403 non-null object\n",
      "city                      34403 non-null int64\n",
      "bd                        34403 non-null int64\n",
      "gender                    14501 non-null object\n",
      "registered_via            34403 non-null int64\n",
      "registration_init_time    34403 non-null int64\n",
      "expiration_date           34403 non-null int64\n",
      "dtypes: int64(5), object(2)\n",
      "memory usage: 1.8+ MB\n"
     ]
    }
   ],
   "source": [
    "members.info(verbose=True, null_counts=True)"
   ]
  },
  {
   "cell_type": "code",
   "execution_count": 67,
   "metadata": {},
   "outputs": [],
   "source": [
    "members.fillna('unknown', inplace=True)"
   ]
  },
  {
   "cell_type": "code",
   "execution_count": 68,
   "metadata": {},
   "outputs": [
    {
     "name": "stdout",
     "output_type": "stream",
     "text": [
      "<class 'pandas.core.frame.DataFrame'>\n",
      "RangeIndex: 34403 entries, 0 to 34402\n",
      "Data columns (total 7 columns):\n",
      "msno                      34403 non-null object\n",
      "city                      34403 non-null int64\n",
      "bd                        34403 non-null int64\n",
      "gender                    34403 non-null object\n",
      "registered_via            34403 non-null int64\n",
      "registration_init_time    34403 non-null int64\n",
      "expiration_date           34403 non-null int64\n",
      "dtypes: int64(5), object(2)\n",
      "memory usage: 1.8+ MB\n"
     ]
    }
   ],
   "source": [
    "members.info(verbose=True, null_counts=True)"
   ]
  },
  {
   "cell_type": "code",
   "execution_count": 69,
   "metadata": {},
   "outputs": [
    {
     "data": {
      "text/html": [
       "<div>\n",
       "<style scoped>\n",
       "    .dataframe tbody tr th:only-of-type {\n",
       "        vertical-align: middle;\n",
       "    }\n",
       "\n",
       "    .dataframe tbody tr th {\n",
       "        vertical-align: top;\n",
       "    }\n",
       "\n",
       "    .dataframe thead th {\n",
       "        text-align: right;\n",
       "    }\n",
       "</style>\n",
       "<table border=\"1\" class=\"dataframe\">\n",
       "  <thead>\n",
       "    <tr style=\"text-align: right;\">\n",
       "      <th></th>\n",
       "      <th>0</th>\n",
       "      <th>1</th>\n",
       "      <th>2</th>\n",
       "      <th>3</th>\n",
       "      <th>4</th>\n",
       "    </tr>\n",
       "  </thead>\n",
       "  <tbody>\n",
       "    <tr>\n",
       "      <th>msno</th>\n",
       "      <td>XQxgAYj3klVKjR3oxPPXYYFp4soD4TuBghkhMTD4oTw=</td>\n",
       "      <td>UizsfmJb9mV54qE9hCYyU07Va97c0lCRLEQX3ae+ztM=</td>\n",
       "      <td>D8nEhsIOBSoE6VthTaqDX8U6lqjJ7dLdr72mOyLya2A=</td>\n",
       "      <td>mCuD+tZ1hERA/o5GPqk38e041J8ZsBaLcu7nGoIIvhI=</td>\n",
       "      <td>q4HRBfVSssAFS9iRfxWrohxuk9kCYMKjHOEagUMV6rQ=</td>\n",
       "    </tr>\n",
       "    <tr>\n",
       "      <th>city</th>\n",
       "      <td>1</td>\n",
       "      <td>1</td>\n",
       "      <td>1</td>\n",
       "      <td>1</td>\n",
       "      <td>1</td>\n",
       "    </tr>\n",
       "    <tr>\n",
       "      <th>bd</th>\n",
       "      <td>0</td>\n",
       "      <td>0</td>\n",
       "      <td>0</td>\n",
       "      <td>0</td>\n",
       "      <td>0</td>\n",
       "    </tr>\n",
       "    <tr>\n",
       "      <th>gender</th>\n",
       "      <td>unknown</td>\n",
       "      <td>unknown</td>\n",
       "      <td>unknown</td>\n",
       "      <td>unknown</td>\n",
       "      <td>unknown</td>\n",
       "    </tr>\n",
       "    <tr>\n",
       "      <th>registered_via</th>\n",
       "      <td>7</td>\n",
       "      <td>7</td>\n",
       "      <td>4</td>\n",
       "      <td>9</td>\n",
       "      <td>4</td>\n",
       "    </tr>\n",
       "    <tr>\n",
       "      <th>registration_init_time</th>\n",
       "      <td>20110820</td>\n",
       "      <td>20150628</td>\n",
       "      <td>20160411</td>\n",
       "      <td>20150906</td>\n",
       "      <td>20170126</td>\n",
       "    </tr>\n",
       "    <tr>\n",
       "      <th>expiration_date</th>\n",
       "      <td>20170920</td>\n",
       "      <td>20170622</td>\n",
       "      <td>20170712</td>\n",
       "      <td>20150907</td>\n",
       "      <td>20170613</td>\n",
       "    </tr>\n",
       "  </tbody>\n",
       "</table>\n",
       "</div>"
      ],
      "text/plain": [
       "                                                                   0  \\\n",
       "msno                    XQxgAYj3klVKjR3oxPPXYYFp4soD4TuBghkhMTD4oTw=   \n",
       "city                                                               1   \n",
       "bd                                                                 0   \n",
       "gender                                                       unknown   \n",
       "registered_via                                                     7   \n",
       "registration_init_time                                      20110820   \n",
       "expiration_date                                             20170920   \n",
       "\n",
       "                                                                   1  \\\n",
       "msno                    UizsfmJb9mV54qE9hCYyU07Va97c0lCRLEQX3ae+ztM=   \n",
       "city                                                               1   \n",
       "bd                                                                 0   \n",
       "gender                                                       unknown   \n",
       "registered_via                                                     7   \n",
       "registration_init_time                                      20150628   \n",
       "expiration_date                                             20170622   \n",
       "\n",
       "                                                                   2  \\\n",
       "msno                    D8nEhsIOBSoE6VthTaqDX8U6lqjJ7dLdr72mOyLya2A=   \n",
       "city                                                               1   \n",
       "bd                                                                 0   \n",
       "gender                                                       unknown   \n",
       "registered_via                                                     4   \n",
       "registration_init_time                                      20160411   \n",
       "expiration_date                                             20170712   \n",
       "\n",
       "                                                                   3  \\\n",
       "msno                    mCuD+tZ1hERA/o5GPqk38e041J8ZsBaLcu7nGoIIvhI=   \n",
       "city                                                               1   \n",
       "bd                                                                 0   \n",
       "gender                                                       unknown   \n",
       "registered_via                                                     9   \n",
       "registration_init_time                                      20150906   \n",
       "expiration_date                                             20150907   \n",
       "\n",
       "                                                                   4  \n",
       "msno                    q4HRBfVSssAFS9iRfxWrohxuk9kCYMKjHOEagUMV6rQ=  \n",
       "city                                                               1  \n",
       "bd                                                                 0  \n",
       "gender                                                       unknown  \n",
       "registered_via                                                     4  \n",
       "registration_init_time                                      20170126  \n",
       "expiration_date                                             20170613  "
      ]
     },
     "execution_count": 69,
     "metadata": {},
     "output_type": "execute_result"
    }
   ],
   "source": [
    "members.head().T"
   ]
  },
  {
   "cell_type": "code",
   "execution_count": 102,
   "metadata": {},
   "outputs": [],
   "source": [
    "members.registration_init_time = pd.to_atetime(members.registration_init_time, format='%Y%m%d')"
   ]
  },
  {
   "cell_type": "code",
   "execution_count": 103,
   "metadata": {},
   "outputs": [],
   "source": [
    "members.expiration_date = pd.to_datetime(members.expiration_date, format='%Y%m%d')"
   ]
  },
  {
   "cell_type": "markdown",
   "metadata": {},
   "source": [
    "## Sample submission"
   ]
  },
  {
   "cell_type": "code",
   "execution_count": 70,
   "metadata": {},
   "outputs": [],
   "source": [
    "sample_submission = pd.read_csv(os.path.join(data_directory, 'sample_submission.csv'))"
   ]
  },
  {
   "cell_type": "code",
   "execution_count": 71,
   "metadata": {},
   "outputs": [
    {
     "data": {
      "text/html": [
       "<div>\n",
       "<style scoped>\n",
       "    .dataframe tbody tr th:only-of-type {\n",
       "        vertical-align: middle;\n",
       "    }\n",
       "\n",
       "    .dataframe tbody tr th {\n",
       "        vertical-align: top;\n",
       "    }\n",
       "\n",
       "    .dataframe thead th {\n",
       "        text-align: right;\n",
       "    }\n",
       "</style>\n",
       "<table border=\"1\" class=\"dataframe\">\n",
       "  <thead>\n",
       "    <tr style=\"text-align: right;\">\n",
       "      <th></th>\n",
       "      <th>id</th>\n",
       "      <th>target</th>\n",
       "    </tr>\n",
       "  </thead>\n",
       "  <tbody>\n",
       "    <tr>\n",
       "      <th>0</th>\n",
       "      <td>0</td>\n",
       "      <td>0.5</td>\n",
       "    </tr>\n",
       "    <tr>\n",
       "      <th>1</th>\n",
       "      <td>1</td>\n",
       "      <td>0.5</td>\n",
       "    </tr>\n",
       "    <tr>\n",
       "      <th>2</th>\n",
       "      <td>2</td>\n",
       "      <td>0.5</td>\n",
       "    </tr>\n",
       "    <tr>\n",
       "      <th>3</th>\n",
       "      <td>3</td>\n",
       "      <td>0.5</td>\n",
       "    </tr>\n",
       "    <tr>\n",
       "      <th>4</th>\n",
       "      <td>4</td>\n",
       "      <td>0.5</td>\n",
       "    </tr>\n",
       "    <tr>\n",
       "      <th>5</th>\n",
       "      <td>5</td>\n",
       "      <td>0.5</td>\n",
       "    </tr>\n",
       "    <tr>\n",
       "      <th>6</th>\n",
       "      <td>6</td>\n",
       "      <td>0.5</td>\n",
       "    </tr>\n",
       "    <tr>\n",
       "      <th>7</th>\n",
       "      <td>7</td>\n",
       "      <td>0.5</td>\n",
       "    </tr>\n",
       "    <tr>\n",
       "      <th>8</th>\n",
       "      <td>8</td>\n",
       "      <td>0.5</td>\n",
       "    </tr>\n",
       "    <tr>\n",
       "      <th>9</th>\n",
       "      <td>9</td>\n",
       "      <td>0.5</td>\n",
       "    </tr>\n",
       "  </tbody>\n",
       "</table>\n",
       "</div>"
      ],
      "text/plain": [
       "   id  target\n",
       "0   0     0.5\n",
       "1   1     0.5\n",
       "2   2     0.5\n",
       "3   3     0.5\n",
       "4   4     0.5\n",
       "5   5     0.5\n",
       "6   6     0.5\n",
       "7   7     0.5\n",
       "8   8     0.5\n",
       "9   9     0.5"
      ]
     },
     "execution_count": 71,
     "metadata": {},
     "output_type": "execute_result"
    }
   ],
   "source": [
    "sample_submission.head(10)"
   ]
  },
  {
   "cell_type": "code",
   "execution_count": 72,
   "metadata": {
    "scrolled": false
   },
   "outputs": [
    {
     "name": "stdout",
     "output_type": "stream",
     "text": [
      "<class 'pandas.core.frame.DataFrame'>\n",
      "RangeIndex: 2556790 entries, 0 to 2556789\n",
      "Data columns (total 2 columns):\n",
      "id        2556790 non-null int64\n",
      "target    2556790 non-null float64\n",
      "dtypes: float64(1), int64(1)\n",
      "memory usage: 39.0 MB\n"
     ]
    }
   ],
   "source": [
    "sample_submission.info(verbose=True, null_counts=True)"
   ]
  },
  {
   "cell_type": "markdown",
   "metadata": {},
   "source": [
    "# Solutions"
   ]
  },
  {
   "cell_type": "code",
   "execution_count": 73,
   "metadata": {},
   "outputs": [],
   "source": [
    "X, y = train[train.columns[:-2]], train[train.columns[-2]]"
   ]
  },
  {
   "cell_type": "code",
   "execution_count": 74,
   "metadata": {},
   "outputs": [],
   "source": [
    "X_for_submission = test[test.columns[:-2]]"
   ]
  },
  {
   "cell_type": "code",
   "execution_count": 75,
   "metadata": {},
   "outputs": [
    {
     "data": {
      "text/html": [
       "<div>\n",
       "<style scoped>\n",
       "    .dataframe tbody tr th:only-of-type {\n",
       "        vertical-align: middle;\n",
       "    }\n",
       "\n",
       "    .dataframe tbody tr th {\n",
       "        vertical-align: top;\n",
       "    }\n",
       "\n",
       "    .dataframe thead th {\n",
       "        text-align: right;\n",
       "    }\n",
       "</style>\n",
       "<table border=\"1\" class=\"dataframe\">\n",
       "  <thead>\n",
       "    <tr style=\"text-align: right;\">\n",
       "      <th></th>\n",
       "      <th>msno</th>\n",
       "      <th>song_id</th>\n",
       "      <th>source_system_tab</th>\n",
       "      <th>source_screen_name</th>\n",
       "      <th>source_type</th>\n",
       "    </tr>\n",
       "  </thead>\n",
       "  <tbody>\n",
       "    <tr>\n",
       "      <th>0</th>\n",
       "      <td>FGtllVqz18RPiwJj/edr2gV78zirAiY/9SmYvia+kCg=</td>\n",
       "      <td>BBzumQNXUHKdEBOB7mAJuzok+IJA1c2Ryg/yzTF6tik=</td>\n",
       "      <td>explore</td>\n",
       "      <td>Explore</td>\n",
       "      <td>online-playlist</td>\n",
       "    </tr>\n",
       "    <tr>\n",
       "      <th>1</th>\n",
       "      <td>Xumu+NIjS6QYVxDS4/t3SawvJ7viT9hPKXmf0RtLNx8=</td>\n",
       "      <td>bhp/MpSNoqoxOIB+/l8WPqu6jldth4DIpCm3ayXnJqM=</td>\n",
       "      <td>my library</td>\n",
       "      <td>Local playlist more</td>\n",
       "      <td>local-playlist</td>\n",
       "    </tr>\n",
       "    <tr>\n",
       "      <th>2</th>\n",
       "      <td>Xumu+NIjS6QYVxDS4/t3SawvJ7viT9hPKXmf0RtLNx8=</td>\n",
       "      <td>JNWfrrC7zNN7BdMpsISKa4Mw+xVJYNnxXh3/Epw7QgY=</td>\n",
       "      <td>my library</td>\n",
       "      <td>Local playlist more</td>\n",
       "      <td>local-playlist</td>\n",
       "    </tr>\n",
       "    <tr>\n",
       "      <th>3</th>\n",
       "      <td>Xumu+NIjS6QYVxDS4/t3SawvJ7viT9hPKXmf0RtLNx8=</td>\n",
       "      <td>2A87tzfnJTSWqD7gIZHisolhe4DMdzkbd6LzO1KHjNs=</td>\n",
       "      <td>my library</td>\n",
       "      <td>Local playlist more</td>\n",
       "      <td>local-playlist</td>\n",
       "    </tr>\n",
       "    <tr>\n",
       "      <th>4</th>\n",
       "      <td>FGtllVqz18RPiwJj/edr2gV78zirAiY/9SmYvia+kCg=</td>\n",
       "      <td>3qm6XTZ6MOCU11x8FIVbAGH5l5uMkT3/ZalWG1oo2Gc=</td>\n",
       "      <td>explore</td>\n",
       "      <td>Explore</td>\n",
       "      <td>online-playlist</td>\n",
       "    </tr>\n",
       "  </tbody>\n",
       "</table>\n",
       "</div>"
      ],
      "text/plain": [
       "                                           msno  \\\n",
       "0  FGtllVqz18RPiwJj/edr2gV78zirAiY/9SmYvia+kCg=   \n",
       "1  Xumu+NIjS6QYVxDS4/t3SawvJ7viT9hPKXmf0RtLNx8=   \n",
       "2  Xumu+NIjS6QYVxDS4/t3SawvJ7viT9hPKXmf0RtLNx8=   \n",
       "3  Xumu+NIjS6QYVxDS4/t3SawvJ7viT9hPKXmf0RtLNx8=   \n",
       "4  FGtllVqz18RPiwJj/edr2gV78zirAiY/9SmYvia+kCg=   \n",
       "\n",
       "                                        song_id source_system_tab  \\\n",
       "0  BBzumQNXUHKdEBOB7mAJuzok+IJA1c2Ryg/yzTF6tik=           explore   \n",
       "1  bhp/MpSNoqoxOIB+/l8WPqu6jldth4DIpCm3ayXnJqM=        my library   \n",
       "2  JNWfrrC7zNN7BdMpsISKa4Mw+xVJYNnxXh3/Epw7QgY=        my library   \n",
       "3  2A87tzfnJTSWqD7gIZHisolhe4DMdzkbd6LzO1KHjNs=        my library   \n",
       "4  3qm6XTZ6MOCU11x8FIVbAGH5l5uMkT3/ZalWG1oo2Gc=           explore   \n",
       "\n",
       "    source_screen_name      source_type  \n",
       "0              Explore  online-playlist  \n",
       "1  Local playlist more   local-playlist  \n",
       "2  Local playlist more   local-playlist  \n",
       "3  Local playlist more   local-playlist  \n",
       "4              Explore  online-playlist  "
      ]
     },
     "execution_count": 75,
     "metadata": {},
     "output_type": "execute_result"
    }
   ],
   "source": [
    "X.head()"
   ]
  },
  {
   "cell_type": "code",
   "execution_count": 76,
   "metadata": {},
   "outputs": [
    {
     "data": {
      "text/plain": [
       "0    1\n",
       "1    1\n",
       "2    1\n",
       "3    1\n",
       "4    1\n",
       "Name: target, dtype: int64"
      ]
     },
     "execution_count": 76,
     "metadata": {},
     "output_type": "execute_result"
    }
   ],
   "source": [
    "y.head()"
   ]
  },
  {
   "cell_type": "code",
   "execution_count": 77,
   "metadata": {},
   "outputs": [
    {
     "data": {
      "text/html": [
       "<div>\n",
       "<style scoped>\n",
       "    .dataframe tbody tr th:only-of-type {\n",
       "        vertical-align: middle;\n",
       "    }\n",
       "\n",
       "    .dataframe tbody tr th {\n",
       "        vertical-align: top;\n",
       "    }\n",
       "\n",
       "    .dataframe thead th {\n",
       "        text-align: right;\n",
       "    }\n",
       "</style>\n",
       "<table border=\"1\" class=\"dataframe\">\n",
       "  <thead>\n",
       "    <tr style=\"text-align: right;\">\n",
       "      <th></th>\n",
       "      <th>msno</th>\n",
       "      <th>song_id</th>\n",
       "      <th>source_system_tab</th>\n",
       "      <th>source_screen_name</th>\n",
       "      <th>source_type</th>\n",
       "    </tr>\n",
       "    <tr>\n",
       "      <th>id</th>\n",
       "      <th></th>\n",
       "      <th></th>\n",
       "      <th></th>\n",
       "      <th></th>\n",
       "      <th></th>\n",
       "    </tr>\n",
       "  </thead>\n",
       "  <tbody>\n",
       "    <tr>\n",
       "      <th>0</th>\n",
       "      <td>V8ruy7SGk7tDm3zA51DPpn6qutt+vmKMBKa21dp54uM=</td>\n",
       "      <td>WmHKgKMlp1lQMecNdNvDMkvIycZYHnFwDT72I5sIssc=</td>\n",
       "      <td>my library</td>\n",
       "      <td>Local playlist more</td>\n",
       "      <td>local-library</td>\n",
       "    </tr>\n",
       "    <tr>\n",
       "      <th>1</th>\n",
       "      <td>V8ruy7SGk7tDm3zA51DPpn6qutt+vmKMBKa21dp54uM=</td>\n",
       "      <td>y/rsZ9DC7FwK5F2PK2D5mj+aOBUJAjuu3dZ14NgE0vM=</td>\n",
       "      <td>my library</td>\n",
       "      <td>Local playlist more</td>\n",
       "      <td>local-library</td>\n",
       "    </tr>\n",
       "    <tr>\n",
       "      <th>2</th>\n",
       "      <td>/uQAlrAkaczV+nWCd2sPF2ekvXPRipV7q0l+gbLuxjw=</td>\n",
       "      <td>8eZLFOdGVdXBSqoAv5nsLigeH2BvKXzTQYtUM53I0k4=</td>\n",
       "      <td>discover</td>\n",
       "      <td>unknown</td>\n",
       "      <td>song-based-playlist</td>\n",
       "    </tr>\n",
       "    <tr>\n",
       "      <th>3</th>\n",
       "      <td>1a6oo/iXKatxQx4eS9zTVD+KlSVaAFbTIqVvwLC1Y0k=</td>\n",
       "      <td>ztCf8thYsS4YN3GcIL/bvoxLm/T5mYBVKOO4C9NiVfQ=</td>\n",
       "      <td>radio</td>\n",
       "      <td>Radio</td>\n",
       "      <td>radio</td>\n",
       "    </tr>\n",
       "    <tr>\n",
       "      <th>4</th>\n",
       "      <td>1a6oo/iXKatxQx4eS9zTVD+KlSVaAFbTIqVvwLC1Y0k=</td>\n",
       "      <td>MKVMpslKcQhMaFEgcEQhEfi5+RZhMYlU3eRDpySrH8Y=</td>\n",
       "      <td>radio</td>\n",
       "      <td>Radio</td>\n",
       "      <td>radio</td>\n",
       "    </tr>\n",
       "  </tbody>\n",
       "</table>\n",
       "</div>"
      ],
      "text/plain": [
       "                                            msno  \\\n",
       "id                                                 \n",
       "0   V8ruy7SGk7tDm3zA51DPpn6qutt+vmKMBKa21dp54uM=   \n",
       "1   V8ruy7SGk7tDm3zA51DPpn6qutt+vmKMBKa21dp54uM=   \n",
       "2   /uQAlrAkaczV+nWCd2sPF2ekvXPRipV7q0l+gbLuxjw=   \n",
       "3   1a6oo/iXKatxQx4eS9zTVD+KlSVaAFbTIqVvwLC1Y0k=   \n",
       "4   1a6oo/iXKatxQx4eS9zTVD+KlSVaAFbTIqVvwLC1Y0k=   \n",
       "\n",
       "                                         song_id source_system_tab  \\\n",
       "id                                                                   \n",
       "0   WmHKgKMlp1lQMecNdNvDMkvIycZYHnFwDT72I5sIssc=        my library   \n",
       "1   y/rsZ9DC7FwK5F2PK2D5mj+aOBUJAjuu3dZ14NgE0vM=        my library   \n",
       "2   8eZLFOdGVdXBSqoAv5nsLigeH2BvKXzTQYtUM53I0k4=          discover   \n",
       "3   ztCf8thYsS4YN3GcIL/bvoxLm/T5mYBVKOO4C9NiVfQ=             radio   \n",
       "4   MKVMpslKcQhMaFEgcEQhEfi5+RZhMYlU3eRDpySrH8Y=             radio   \n",
       "\n",
       "     source_screen_name          source_type  \n",
       "id                                            \n",
       "0   Local playlist more        local-library  \n",
       "1   Local playlist more        local-library  \n",
       "2               unknown  song-based-playlist  \n",
       "3                 Radio                radio  \n",
       "4                 Radio                radio  "
      ]
     },
     "execution_count": 77,
     "metadata": {},
     "output_type": "execute_result"
    }
   ],
   "source": [
    "X_for_submission.head()"
   ]
  },
  {
   "cell_type": "code",
   "execution_count": 78,
   "metadata": {},
   "outputs": [],
   "source": [
    "X_train, X_test, y_train, y_test = train_test_split(\n",
    "    X,\n",
    "    y,\n",
    "    test_size=0.33,\n",
    "    random_state=42,\n",
    "    stratify=y\n",
    ")"
   ]
  },
  {
   "cell_type": "markdown",
   "metadata": {},
   "source": [
    "## Naive frequency approach"
   ]
  },
  {
   "cell_type": "code",
   "execution_count": 79,
   "metadata": {},
   "outputs": [],
   "source": [
    "naive_frequency_recommender = SongFrequencyBasedRecommender()"
   ]
  },
  {
   "cell_type": "code",
   "execution_count": 80,
   "metadata": {},
   "outputs": [
    {
     "name": "stdout",
     "output_type": "stream",
     "text": [
      "\t [0.58549958 0.58483463 0.58579726 0.58502121 0.58466066]\n"
     ]
    }
   ],
   "source": [
    "print('\\t', cross_val_score(naive_frequency_recommender, X_train, y_train, cv=5))"
   ]
  },
  {
   "cell_type": "code",
   "execution_count": 81,
   "metadata": {},
   "outputs": [],
   "source": [
    "naive_frequency_recommender.fit(X_train, y_train)"
   ]
  },
  {
   "cell_type": "code",
   "execution_count": 82,
   "metadata": {},
   "outputs": [],
   "source": [
    "y_pred = naive_frequency_recommender.predict(X_test)"
   ]
  },
  {
   "cell_type": "code",
   "execution_count": 83,
   "metadata": {},
   "outputs": [],
   "source": [
    "fpr, tpr, _ = roc_curve(y_test, y_pred)"
   ]
  },
  {
   "cell_type": "code",
   "execution_count": 84,
   "metadata": {
    "scrolled": false
   },
   "outputs": [
    {
     "data": {
      "image/png": "[encoded data removed]",
      "text/plain": [
       "<Figure size 720x720 with 1 Axes>"
      ]
     },
     "metadata": {
      "needs_background": "light"
     },
     "output_type": "display_data"
    }
   ],
   "source": [
    "plt.figure(figsize=(10, 10))\n",
    "plt.plot(fpr, tpr, color='darkorange', lw=2, label='ROC curve (area = %0.2f)' % auc(fpr, tpr))\n",
    "plt.plot([0, 1], [0, 1], color='navy', lw=2, linestyle='--')\n",
    "plt.xlim([0.0, 1.0])\n",
    "plt.ylim([0.0, 1.01])\n",
    "plt.xlabel('False Positive Rate')\n",
    "plt.ylabel('True Positive Rate')\n",
    "plt.title('Receiver operating characteristic example (Naive frequency approach)')\n",
    "plt.legend(loc=\"lower right\")\n",
    "plt.show()"
   ]
  },
  {
   "cell_type": "markdown",
   "metadata": {},
   "source": [
    "## SVD"
   ]
  },
  {
   "cell_type": "code",
   "execution_count": 85,
   "metadata": {},
   "outputs": [],
   "source": [
    "svd_recommender = SVDBasedRecommender()"
   ]
  },
  {
   "cell_type": "code",
   "execution_count": 86,
   "metadata": {
    "scrolled": false
   },
   "outputs": [
    {
     "data": {
      "application/vnd.jupyter.widget-view+json": {
       "model_id": "93d81fc1556a4e54a02283ff342ffd84",
       "version_major": 2,
       "version_minor": 0
      },
      "text/plain": [
       "HBox(children=(IntProgress(value=1, bar_style='info', max=1), HTML(value='')))"
      ]
     },
     "metadata": {},
     "output_type": "display_data"
    },
    {
     "name": "stdout",
     "output_type": "stream",
     "text": [
      "\n"
     ]
    },
    {
     "data": {
      "application/vnd.jupyter.widget-view+json": {
       "model_id": "8b16ded1f6904716842adf363b6cadf5",
       "version_major": 2,
       "version_minor": 0
      },
      "text/plain": [
       "HBox(children=(IntProgress(value=1, bar_style='info', max=1), HTML(value='')))"
      ]
     },
     "metadata": {},
     "output_type": "display_data"
    },
    {
     "name": "stdout",
     "output_type": "stream",
     "text": [
      "\n"
     ]
    },
    {
     "data": {
      "application/vnd.jupyter.widget-view+json": {
       "model_id": "9f7504cc84eb4803931ab26c5bb830e2",
       "version_major": 2,
       "version_minor": 0
      },
      "text/plain": [
       "HBox(children=(IntProgress(value=1, bar_style='info', max=1), HTML(value='')))"
      ]
     },
     "metadata": {},
     "output_type": "display_data"
    },
    {
     "name": "stdout",
     "output_type": "stream",
     "text": [
      "\n"
     ]
    },
    {
     "data": {
      "application/vnd.jupyter.widget-view+json": {
       "model_id": "b980d829a21c48bf8f4e50a5a9a77daa",
       "version_major": 2,
       "version_minor": 0
      },
      "text/plain": [
       "HBox(children=(IntProgress(value=1, bar_style='info', max=1), HTML(value='')))"
      ]
     },
     "metadata": {},
     "output_type": "display_data"
    },
    {
     "name": "stdout",
     "output_type": "stream",
     "text": [
      "\n"
     ]
    },
    {
     "data": {
      "application/vnd.jupyter.widget-view+json": {
       "model_id": "1f5292a32a004006afbce1f7ea895334",
       "version_major": 2,
       "version_minor": 0
      },
      "text/plain": [
       "HBox(children=(IntProgress(value=1, bar_style='info', max=1), HTML(value='')))"
      ]
     },
     "metadata": {},
     "output_type": "display_data"
    },
    {
     "name": "stdout",
     "output_type": "stream",
     "text": [
      "\n",
      "\t [0.63857389 0.63799203 0.63893837 0.63794759 0.6372609 ]\n"
     ]
    }
   ],
   "source": [
    "print('\\t', cross_val_score(svd_recommender, X_train, y_train, cv=5))"
   ]
  },
  {
   "cell_type": "code",
   "execution_count": 87,
   "metadata": {},
   "outputs": [],
   "source": [
    "svd_recommender.fit(X_train, y_train)"
   ]
  },
  {
   "cell_type": "code",
   "execution_count": 88,
   "metadata": {},
   "outputs": [
    {
     "data": {
      "application/vnd.jupyter.widget-view+json": {
       "model_id": "32761a55fd894a568995945794de6aa7",
       "version_major": 2,
       "version_minor": 0
      },
      "text/plain": [
       "HBox(children=(IntProgress(value=1, bar_style='info', max=1), HTML(value='')))"
      ]
     },
     "metadata": {},
     "output_type": "display_data"
    },
    {
     "name": "stdout",
     "output_type": "stream",
     "text": [
      "\n"
     ]
    }
   ],
   "source": [
    "y_pred = svd_recommender.predict(X_test)"
   ]
  },
  {
   "cell_type": "code",
   "execution_count": 89,
   "metadata": {},
   "outputs": [],
   "source": [
    "fpr, tpr, _ = roc_curve(y_test, y_pred)"
   ]
  },
  {
   "cell_type": "code",
   "execution_count": 90,
   "metadata": {},
   "outputs": [
    {
     "data": {
      "image/png": "[encoded data removed]",
      "text/plain": [
       "<Figure size 720x720 with 1 Axes>"
      ]
     },
     "metadata": {
      "needs_background": "light"
     },
     "output_type": "display_data"
    }
   ],
   "source": [
    "plt.figure(figsize=(10, 10))\n",
    "plt.plot(fpr, tpr, color='darkorange', lw=2, label='ROC curve (area = %0.2f)' % auc(fpr, tpr))\n",
    "plt.plot([0, 1], [0, 1], color='navy', lw=2, linestyle='--')\n",
    "plt.xlim([0.0, 1.0])\n",
    "plt.ylim([0.0, 1.01])\n",
    "plt.xlabel('False Positive Rate')\n",
    "plt.ylabel('True Positive Rate')\n",
    "plt.title('Receiver operating characteristic example (SVD)')\n",
    "plt.legend(loc=\"lower right\")\n",
    "plt.show()"
   ]
  },
  {
   "cell_type": "markdown",
   "metadata": {},
   "source": [
    "## FM"
   ]
  },
  {
   "cell_type": "code",
   "execution_count": 148,
   "metadata": {},
   "outputs": [
    {
     "data": {
      "text/html": [
       "<div>\n",
       "<style scoped>\n",
       "    .dataframe tbody tr th:only-of-type {\n",
       "        vertical-align: middle;\n",
       "    }\n",
       "\n",
       "    .dataframe tbody tr th {\n",
       "        vertical-align: top;\n",
       "    }\n",
       "\n",
       "    .dataframe thead th {\n",
       "        text-align: right;\n",
       "    }\n",
       "</style>\n",
       "<table border=\"1\" class=\"dataframe\">\n",
       "  <thead>\n",
       "    <tr style=\"text-align: right;\">\n",
       "      <th></th>\n",
       "      <th>msno</th>\n",
       "      <th>song_id</th>\n",
       "      <th>source_system_tab</th>\n",
       "      <th>source_screen_name</th>\n",
       "      <th>source_type</th>\n",
       "    </tr>\n",
       "  </thead>\n",
       "  <tbody>\n",
       "    <tr>\n",
       "      <th>144735</th>\n",
       "      <td>zQUH+VmeTe7G1Rbr0gR8s+clsrrYWBvdxOkKXrCD7dY=</td>\n",
       "      <td>ZHdjuwomjqa5+I7/e/o//ie9RPUmbxDRbipaYZs6DRw=</td>\n",
       "      <td>my library</td>\n",
       "      <td>Local playlist more</td>\n",
       "      <td>local-library</td>\n",
       "    </tr>\n",
       "    <tr>\n",
       "      <th>4190155</th>\n",
       "      <td>IEYAujzAmkudWUzTwvwKZakM9bjpoaWlF7ExJX3EaIg=</td>\n",
       "      <td>WrVBxKvotVYzAKxCxNAGssQ1oCgO0gAJ4sNCfhfdfOY=</td>\n",
       "      <td>discover</td>\n",
       "      <td>Online playlist more</td>\n",
       "      <td>online-playlist</td>\n",
       "    </tr>\n",
       "    <tr>\n",
       "      <th>3337886</th>\n",
       "      <td>Tq5aOJW9JNbbq3P+I3rv8sWBa7NoT3lvtdIizZ0QgRE=</td>\n",
       "      <td>pqKBKh7xnbU2Ica1yFk8Pe+Oj3v4upPNV5xQqB1X1a8=</td>\n",
       "      <td>my library</td>\n",
       "      <td>Local playlist more</td>\n",
       "      <td>local-playlist</td>\n",
       "    </tr>\n",
       "    <tr>\n",
       "      <th>1221955</th>\n",
       "      <td>rCXlxthM8GL0fsO1rFrGj7YIK2aauJ4C8N5Vgudpsj0=</td>\n",
       "      <td>8J++ycX6j2kGYif6zlQUOYCBRXTyeF9v3YEQJP3mvfA=</td>\n",
       "      <td>my library</td>\n",
       "      <td>Local playlist more</td>\n",
       "      <td>local-library</td>\n",
       "    </tr>\n",
       "    <tr>\n",
       "      <th>261741</th>\n",
       "      <td>3eSVY14Bd3E+mRi0tDNThZsf35e3KU4V6/WGQdPIbXo=</td>\n",
       "      <td>nW60n6qAGoytY/yX4w0r1IT462C9Xs/ZxbV6MLDSpUk=</td>\n",
       "      <td>discover</td>\n",
       "      <td>Online playlist more</td>\n",
       "      <td>online-playlist</td>\n",
       "    </tr>\n",
       "  </tbody>\n",
       "</table>\n",
       "</div>"
      ],
      "text/plain": [
       "                                                 msno  \\\n",
       "144735   zQUH+VmeTe7G1Rbr0gR8s+clsrrYWBvdxOkKXrCD7dY=   \n",
       "4190155  IEYAujzAmkudWUzTwvwKZakM9bjpoaWlF7ExJX3EaIg=   \n",
       "3337886  Tq5aOJW9JNbbq3P+I3rv8sWBa7NoT3lvtdIizZ0QgRE=   \n",
       "1221955  rCXlxthM8GL0fsO1rFrGj7YIK2aauJ4C8N5Vgudpsj0=   \n",
       "261741   3eSVY14Bd3E+mRi0tDNThZsf35e3KU4V6/WGQdPIbXo=   \n",
       "\n",
       "                                              song_id source_system_tab  \\\n",
       "144735   ZHdjuwomjqa5+I7/e/o//ie9RPUmbxDRbipaYZs6DRw=        my library   \n",
       "4190155  WrVBxKvotVYzAKxCxNAGssQ1oCgO0gAJ4sNCfhfdfOY=          discover   \n",
       "3337886  pqKBKh7xnbU2Ica1yFk8Pe+Oj3v4upPNV5xQqB1X1a8=        my library   \n",
       "1221955  8J++ycX6j2kGYif6zlQUOYCBRXTyeF9v3YEQJP3mvfA=        my library   \n",
       "261741   nW60n6qAGoytY/yX4w0r1IT462C9Xs/ZxbV6MLDSpUk=          discover   \n",
       "\n",
       "           source_screen_name      source_type  \n",
       "144735    Local playlist more    local-library  \n",
       "4190155  Online playlist more  online-playlist  \n",
       "3337886   Local playlist more   local-playlist  \n",
       "1221955   Local playlist more    local-library  \n",
       "261741   Online playlist more  online-playlist  "
      ]
     },
     "execution_count": 148,
     "metadata": {},
     "output_type": "execute_result"
    }
   ],
   "source": [
    "X_train.head()"
   ]
  },
  {
   "cell_type": "code",
   "execution_count": 149,
   "metadata": {},
   "outputs": [],
   "source": [
    "X_train_with_user_meta = pd.merge(X_train, members, on='msno', how='left')"
   ]
  },
  {
   "cell_type": "code",
   "execution_count": 150,
   "metadata": {},
   "outputs": [],
   "source": [
    "X_train_with_user_and_song_meta = pd.merge(X_train_with_user_meta, songs, on='song_id', how='left')"
   ]
  },
  {
   "cell_type": "code",
   "execution_count": 151,
   "metadata": {},
   "outputs": [],
   "source": [
    "X_train_with_user_and_song_meta = pd.merge(X_train_with_user_and_song_meta, song_extra_info, on='song_id', how='left')"
   ]
  },
  {
   "cell_type": "code",
   "execution_count": 152,
   "metadata": {},
   "outputs": [
    {
     "data": {
      "text/html": [
       "<div>\n",
       "<style scoped>\n",
       "    .dataframe tbody tr th:only-of-type {\n",
       "        vertical-align: middle;\n",
       "    }\n",
       "\n",
       "    .dataframe tbody tr th {\n",
       "        vertical-align: top;\n",
       "    }\n",
       "\n",
       "    .dataframe thead th {\n",
       "        text-align: right;\n",
       "    }\n",
       "</style>\n",
       "<table border=\"1\" class=\"dataframe\">\n",
       "  <thead>\n",
       "    <tr style=\"text-align: right;\">\n",
       "      <th></th>\n",
       "      <th>0</th>\n",
       "      <th>1</th>\n",
       "      <th>2</th>\n",
       "      <th>3</th>\n",
       "      <th>4</th>\n",
       "    </tr>\n",
       "  </thead>\n",
       "  <tbody>\n",
       "    <tr>\n",
       "      <th>msno</th>\n",
       "      <td>zQUH+VmeTe7G1Rbr0gR8s+clsrrYWBvdxOkKXrCD7dY=</td>\n",
       "      <td>IEYAujzAmkudWUzTwvwKZakM9bjpoaWlF7ExJX3EaIg=</td>\n",
       "      <td>Tq5aOJW9JNbbq3P+I3rv8sWBa7NoT3lvtdIizZ0QgRE=</td>\n",
       "      <td>rCXlxthM8GL0fsO1rFrGj7YIK2aauJ4C8N5Vgudpsj0=</td>\n",
       "      <td>3eSVY14Bd3E+mRi0tDNThZsf35e3KU4V6/WGQdPIbXo=</td>\n",
       "    </tr>\n",
       "    <tr>\n",
       "      <th>song_id</th>\n",
       "      <td>ZHdjuwomjqa5+I7/e/o//ie9RPUmbxDRbipaYZs6DRw=</td>\n",
       "      <td>WrVBxKvotVYzAKxCxNAGssQ1oCgO0gAJ4sNCfhfdfOY=</td>\n",
       "      <td>pqKBKh7xnbU2Ica1yFk8Pe+Oj3v4upPNV5xQqB1X1a8=</td>\n",
       "      <td>8J++ycX6j2kGYif6zlQUOYCBRXTyeF9v3YEQJP3mvfA=</td>\n",
       "      <td>nW60n6qAGoytY/yX4w0r1IT462C9Xs/ZxbV6MLDSpUk=</td>\n",
       "    </tr>\n",
       "    <tr>\n",
       "      <th>source_system_tab</th>\n",
       "      <td>my library</td>\n",
       "      <td>discover</td>\n",
       "      <td>my library</td>\n",
       "      <td>my library</td>\n",
       "      <td>discover</td>\n",
       "    </tr>\n",
       "    <tr>\n",
       "      <th>source_screen_name</th>\n",
       "      <td>Local playlist more</td>\n",
       "      <td>Online playlist more</td>\n",
       "      <td>Local playlist more</td>\n",
       "      <td>Local playlist more</td>\n",
       "      <td>Online playlist more</td>\n",
       "    </tr>\n",
       "    <tr>\n",
       "      <th>source_type</th>\n",
       "      <td>local-library</td>\n",
       "      <td>online-playlist</td>\n",
       "      <td>local-playlist</td>\n",
       "      <td>local-library</td>\n",
       "      <td>online-playlist</td>\n",
       "    </tr>\n",
       "    <tr>\n",
       "      <th>city</th>\n",
       "      <td>5</td>\n",
       "      <td>15</td>\n",
       "      <td>1</td>\n",
       "      <td>1</td>\n",
       "      <td>1</td>\n",
       "    </tr>\n",
       "    <tr>\n",
       "      <th>bd</th>\n",
       "      <td>24</td>\n",
       "      <td>50</td>\n",
       "      <td>0</td>\n",
       "      <td>0</td>\n",
       "      <td>0</td>\n",
       "    </tr>\n",
       "    <tr>\n",
       "      <th>gender</th>\n",
       "      <td>female</td>\n",
       "      <td>female</td>\n",
       "      <td>unknown</td>\n",
       "      <td>unknown</td>\n",
       "      <td>unknown</td>\n",
       "    </tr>\n",
       "    <tr>\n",
       "      <th>registered_via</th>\n",
       "      <td>9</td>\n",
       "      <td>7</td>\n",
       "      <td>9</td>\n",
       "      <td>7</td>\n",
       "      <td>7</td>\n",
       "    </tr>\n",
       "    <tr>\n",
       "      <th>registration_init_time</th>\n",
       "      <td>2011-02-03 00:00:00</td>\n",
       "      <td>2011-04-28 00:00:00</td>\n",
       "      <td>2015-04-29 00:00:00</td>\n",
       "      <td>2013-12-25 00:00:00</td>\n",
       "      <td>2016-01-21 00:00:00</td>\n",
       "    </tr>\n",
       "    <tr>\n",
       "      <th>expiration_date</th>\n",
       "      <td>2017-10-05 00:00:00</td>\n",
       "      <td>2017-09-30 00:00:00</td>\n",
       "      <td>2018-09-15 00:00:00</td>\n",
       "      <td>2017-03-10 00:00:00</td>\n",
       "      <td>2017-09-21 00:00:00</td>\n",
       "    </tr>\n",
       "    <tr>\n",
       "      <th>song_length</th>\n",
       "      <td>136254</td>\n",
       "      <td>198426</td>\n",
       "      <td>187193</td>\n",
       "      <td>220063</td>\n",
       "      <td>252969</td>\n",
       "    </tr>\n",
       "    <tr>\n",
       "      <th>genre_ids</th>\n",
       "      <td>958</td>\n",
       "      <td>465</td>\n",
       "      <td>444</td>\n",
       "      <td>1609</td>\n",
       "      <td>458</td>\n",
       "    </tr>\n",
       "    <tr>\n",
       "      <th>artist_name</th>\n",
       "      <td>An Affair Original Soundtrack</td>\n",
       "      <td>Under Lover (地下情人)</td>\n",
       "      <td>BOYFRIEND</td>\n",
       "      <td>Hardwell</td>\n",
       "      <td>郁可唯 (Yisa Yu)</td>\n",
       "    </tr>\n",
       "    <tr>\n",
       "      <th>composer</th>\n",
       "      <td>Wolfgang Amadeus Mozart</td>\n",
       "      <td>楊琳</td>\n",
       "      <td>unknown</td>\n",
       "      <td>Chris Jones| Robbert van de Corput| Willem Bakker</td>\n",
       "      <td>姜海威</td>\n",
       "    </tr>\n",
       "    <tr>\n",
       "      <th>lyricist</th>\n",
       "      <td>unknown</td>\n",
       "      <td>楊琳</td>\n",
       "      <td>unknown</td>\n",
       "      <td>Chris Jones| Robbert van de Corput| Willem Bakker</td>\n",
       "      <td>張鵬鵬</td>\n",
       "    </tr>\n",
       "    <tr>\n",
       "      <th>language</th>\n",
       "      <td>31</td>\n",
       "      <td>3</td>\n",
       "      <td>31</td>\n",
       "      <td>-1</td>\n",
       "      <td>3</td>\n",
       "    </tr>\n",
       "    <tr>\n",
       "      <th>name</th>\n",
       "      <td>Sonata in C Major| K. 521| for Piano 4 hands</td>\n",
       "      <td>愛你，不是我的</td>\n",
       "      <td>BoyFriend (보이프렌드)</td>\n",
       "      <td>Young Again</td>\n",
       "      <td>倒流 (Revert)</td>\n",
       "    </tr>\n",
       "    <tr>\n",
       "      <th>isrc</th>\n",
       "      <td>KRA251400552</td>\n",
       "      <td>TWD971500032</td>\n",
       "      <td>KRA381001769</td>\n",
       "      <td>NLS241402172</td>\n",
       "      <td>TWA451601501</td>\n",
       "    </tr>\n",
       "  </tbody>\n",
       "</table>\n",
       "</div>"
      ],
      "text/plain": [
       "                                                                   0  \\\n",
       "msno                    zQUH+VmeTe7G1Rbr0gR8s+clsrrYWBvdxOkKXrCD7dY=   \n",
       "song_id                 ZHdjuwomjqa5+I7/e/o//ie9RPUmbxDRbipaYZs6DRw=   \n",
       "source_system_tab                                         my library   \n",
       "source_screen_name                               Local playlist more   \n",
       "source_type                                            local-library   \n",
       "city                                                               5   \n",
       "bd                                                                24   \n",
       "gender                                                        female   \n",
       "registered_via                                                     9   \n",
       "registration_init_time                           2011-02-03 00:00:00   \n",
       "expiration_date                                  2017-10-05 00:00:00   \n",
       "song_length                                                   136254   \n",
       "genre_ids                                                        958   \n",
       "artist_name                            An Affair Original Soundtrack   \n",
       "composer                                     Wolfgang Amadeus Mozart   \n",
       "lyricist                                                     unknown   \n",
       "language                                                          31   \n",
       "name                    Sonata in C Major| K. 521| for Piano 4 hands   \n",
       "isrc                                                    KRA251400552   \n",
       "\n",
       "                                                                   1  \\\n",
       "msno                    IEYAujzAmkudWUzTwvwKZakM9bjpoaWlF7ExJX3EaIg=   \n",
       "song_id                 WrVBxKvotVYzAKxCxNAGssQ1oCgO0gAJ4sNCfhfdfOY=   \n",
       "source_system_tab                                           discover   \n",
       "source_screen_name                              Online playlist more   \n",
       "source_type                                          online-playlist   \n",
       "city                                                              15   \n",
       "bd                                                                50   \n",
       "gender                                                        female   \n",
       "registered_via                                                     7   \n",
       "registration_init_time                           2011-04-28 00:00:00   \n",
       "expiration_date                                  2017-09-30 00:00:00   \n",
       "song_length                                                   198426   \n",
       "genre_ids                                                        465   \n",
       "artist_name                                       Under Lover (地下情人)   \n",
       "composer                                                          楊琳   \n",
       "lyricist                                                          楊琳   \n",
       "language                                                           3   \n",
       "name                                                         愛你，不是我的   \n",
       "isrc                                                    TWD971500032   \n",
       "\n",
       "                                                                   2  \\\n",
       "msno                    Tq5aOJW9JNbbq3P+I3rv8sWBa7NoT3lvtdIizZ0QgRE=   \n",
       "song_id                 pqKBKh7xnbU2Ica1yFk8Pe+Oj3v4upPNV5xQqB1X1a8=   \n",
       "source_system_tab                                         my library   \n",
       "source_screen_name                               Local playlist more   \n",
       "source_type                                           local-playlist   \n",
       "city                                                               1   \n",
       "bd                                                                 0   \n",
       "gender                                                       unknown   \n",
       "registered_via                                                     9   \n",
       "registration_init_time                           2015-04-29 00:00:00   \n",
       "expiration_date                                  2018-09-15 00:00:00   \n",
       "song_length                                                   187193   \n",
       "genre_ids                                                        444   \n",
       "artist_name                                                BOYFRIEND   \n",
       "composer                                                     unknown   \n",
       "lyricist                                                     unknown   \n",
       "language                                                          31   \n",
       "name                                               BoyFriend (보이프렌드)   \n",
       "isrc                                                    KRA381001769   \n",
       "\n",
       "                                                                        3  \\\n",
       "msno                         rCXlxthM8GL0fsO1rFrGj7YIK2aauJ4C8N5Vgudpsj0=   \n",
       "song_id                      8J++ycX6j2kGYif6zlQUOYCBRXTyeF9v3YEQJP3mvfA=   \n",
       "source_system_tab                                              my library   \n",
       "source_screen_name                                    Local playlist more   \n",
       "source_type                                                 local-library   \n",
       "city                                                                    1   \n",
       "bd                                                                      0   \n",
       "gender                                                            unknown   \n",
       "registered_via                                                          7   \n",
       "registration_init_time                                2013-12-25 00:00:00   \n",
       "expiration_date                                       2017-03-10 00:00:00   \n",
       "song_length                                                        220063   \n",
       "genre_ids                                                            1609   \n",
       "artist_name                                                      Hardwell   \n",
       "composer                Chris Jones| Robbert van de Corput| Willem Bakker   \n",
       "lyricist                Chris Jones| Robbert van de Corput| Willem Bakker   \n",
       "language                                                               -1   \n",
       "name                                                          Young Again   \n",
       "isrc                                                         NLS241402172   \n",
       "\n",
       "                                                                   4  \n",
       "msno                    3eSVY14Bd3E+mRi0tDNThZsf35e3KU4V6/WGQdPIbXo=  \n",
       "song_id                 nW60n6qAGoytY/yX4w0r1IT462C9Xs/ZxbV6MLDSpUk=  \n",
       "source_system_tab                                           discover  \n",
       "source_screen_name                              Online playlist more  \n",
       "source_type                                          online-playlist  \n",
       "city                                                               1  \n",
       "bd                                                                 0  \n",
       "gender                                                       unknown  \n",
       "registered_via                                                     7  \n",
       "registration_init_time                           2016-01-21 00:00:00  \n",
       "expiration_date                                  2017-09-21 00:00:00  \n",
       "song_length                                                   252969  \n",
       "genre_ids                                                        458  \n",
       "artist_name                                            郁可唯 (Yisa Yu)  \n",
       "composer                                                         姜海威  \n",
       "lyricist                                                         張鵬鵬  \n",
       "language                                                           3  \n",
       "name                                                     倒流 (Revert)  \n",
       "isrc                                                    TWA451601501  "
      ]
     },
     "execution_count": 152,
     "metadata": {},
     "output_type": "execute_result"
    }
   ],
   "source": [
    "X_train_with_user_and_song_meta.head().T"
   ]
  },
  {
   "cell_type": "code",
   "execution_count": 153,
   "metadata": {},
   "outputs": [],
   "source": [
    "X_train_with_user_and_song_meta['days_registered'] = X_train_with_user_and_song_meta.expiration_date - X_train_with_user_and_song_meta.registration_init_time"
   ]
  },
  {
   "cell_type": "code",
   "execution_count": 154,
   "metadata": {},
   "outputs": [
    {
     "data": {
      "text/html": [
       "<div>\n",
       "<style scoped>\n",
       "    .dataframe tbody tr th:only-of-type {\n",
       "        vertical-align: middle;\n",
       "    }\n",
       "\n",
       "    .dataframe tbody tr th {\n",
       "        vertical-align: top;\n",
       "    }\n",
       "\n",
       "    .dataframe thead th {\n",
       "        text-align: right;\n",
       "    }\n",
       "</style>\n",
       "<table border=\"1\" class=\"dataframe\">\n",
       "  <thead>\n",
       "    <tr style=\"text-align: right;\">\n",
       "      <th></th>\n",
       "      <th>0</th>\n",
       "      <th>1</th>\n",
       "      <th>2</th>\n",
       "      <th>3</th>\n",
       "      <th>4</th>\n",
       "    </tr>\n",
       "  </thead>\n",
       "  <tbody>\n",
       "    <tr>\n",
       "      <th>msno</th>\n",
       "      <td>zQUH+VmeTe7G1Rbr0gR8s+clsrrYWBvdxOkKXrCD7dY=</td>\n",
       "      <td>IEYAujzAmkudWUzTwvwKZakM9bjpoaWlF7ExJX3EaIg=</td>\n",
       "      <td>Tq5aOJW9JNbbq3P+I3rv8sWBa7NoT3lvtdIizZ0QgRE=</td>\n",
       "      <td>rCXlxthM8GL0fsO1rFrGj7YIK2aauJ4C8N5Vgudpsj0=</td>\n",
       "      <td>3eSVY14Bd3E+mRi0tDNThZsf35e3KU4V6/WGQdPIbXo=</td>\n",
       "    </tr>\n",
       "    <tr>\n",
       "      <th>song_id</th>\n",
       "      <td>ZHdjuwomjqa5+I7/e/o//ie9RPUmbxDRbipaYZs6DRw=</td>\n",
       "      <td>WrVBxKvotVYzAKxCxNAGssQ1oCgO0gAJ4sNCfhfdfOY=</td>\n",
       "      <td>pqKBKh7xnbU2Ica1yFk8Pe+Oj3v4upPNV5xQqB1X1a8=</td>\n",
       "      <td>8J++ycX6j2kGYif6zlQUOYCBRXTyeF9v3YEQJP3mvfA=</td>\n",
       "      <td>nW60n6qAGoytY/yX4w0r1IT462C9Xs/ZxbV6MLDSpUk=</td>\n",
       "    </tr>\n",
       "    <tr>\n",
       "      <th>source_system_tab</th>\n",
       "      <td>my library</td>\n",
       "      <td>discover</td>\n",
       "      <td>my library</td>\n",
       "      <td>my library</td>\n",
       "      <td>discover</td>\n",
       "    </tr>\n",
       "    <tr>\n",
       "      <th>source_screen_name</th>\n",
       "      <td>Local playlist more</td>\n",
       "      <td>Online playlist more</td>\n",
       "      <td>Local playlist more</td>\n",
       "      <td>Local playlist more</td>\n",
       "      <td>Online playlist more</td>\n",
       "    </tr>\n",
       "    <tr>\n",
       "      <th>source_type</th>\n",
       "      <td>local-library</td>\n",
       "      <td>online-playlist</td>\n",
       "      <td>local-playlist</td>\n",
       "      <td>local-library</td>\n",
       "      <td>online-playlist</td>\n",
       "    </tr>\n",
       "    <tr>\n",
       "      <th>city</th>\n",
       "      <td>5</td>\n",
       "      <td>15</td>\n",
       "      <td>1</td>\n",
       "      <td>1</td>\n",
       "      <td>1</td>\n",
       "    </tr>\n",
       "    <tr>\n",
       "      <th>bd</th>\n",
       "      <td>24</td>\n",
       "      <td>50</td>\n",
       "      <td>0</td>\n",
       "      <td>0</td>\n",
       "      <td>0</td>\n",
       "    </tr>\n",
       "    <tr>\n",
       "      <th>gender</th>\n",
       "      <td>female</td>\n",
       "      <td>female</td>\n",
       "      <td>unknown</td>\n",
       "      <td>unknown</td>\n",
       "      <td>unknown</td>\n",
       "    </tr>\n",
       "    <tr>\n",
       "      <th>registered_via</th>\n",
       "      <td>9</td>\n",
       "      <td>7</td>\n",
       "      <td>9</td>\n",
       "      <td>7</td>\n",
       "      <td>7</td>\n",
       "    </tr>\n",
       "    <tr>\n",
       "      <th>registration_init_time</th>\n",
       "      <td>2011-02-03 00:00:00</td>\n",
       "      <td>2011-04-28 00:00:00</td>\n",
       "      <td>2015-04-29 00:00:00</td>\n",
       "      <td>2013-12-25 00:00:00</td>\n",
       "      <td>2016-01-21 00:00:00</td>\n",
       "    </tr>\n",
       "    <tr>\n",
       "      <th>expiration_date</th>\n",
       "      <td>2017-10-05 00:00:00</td>\n",
       "      <td>2017-09-30 00:00:00</td>\n",
       "      <td>2018-09-15 00:00:00</td>\n",
       "      <td>2017-03-10 00:00:00</td>\n",
       "      <td>2017-09-21 00:00:00</td>\n",
       "    </tr>\n",
       "    <tr>\n",
       "      <th>song_length</th>\n",
       "      <td>136254</td>\n",
       "      <td>198426</td>\n",
       "      <td>187193</td>\n",
       "      <td>220063</td>\n",
       "      <td>252969</td>\n",
       "    </tr>\n",
       "    <tr>\n",
       "      <th>genre_ids</th>\n",
       "      <td>958</td>\n",
       "      <td>465</td>\n",
       "      <td>444</td>\n",
       "      <td>1609</td>\n",
       "      <td>458</td>\n",
       "    </tr>\n",
       "    <tr>\n",
       "      <th>artist_name</th>\n",
       "      <td>An Affair Original Soundtrack</td>\n",
       "      <td>Under Lover (地下情人)</td>\n",
       "      <td>BOYFRIEND</td>\n",
       "      <td>Hardwell</td>\n",
       "      <td>郁可唯 (Yisa Yu)</td>\n",
       "    </tr>\n",
       "    <tr>\n",
       "      <th>composer</th>\n",
       "      <td>Wolfgang Amadeus Mozart</td>\n",
       "      <td>楊琳</td>\n",
       "      <td>unknown</td>\n",
       "      <td>Chris Jones| Robbert van de Corput| Willem Bakker</td>\n",
       "      <td>姜海威</td>\n",
       "    </tr>\n",
       "    <tr>\n",
       "      <th>lyricist</th>\n",
       "      <td>unknown</td>\n",
       "      <td>楊琳</td>\n",
       "      <td>unknown</td>\n",
       "      <td>Chris Jones| Robbert van de Corput| Willem Bakker</td>\n",
       "      <td>張鵬鵬</td>\n",
       "    </tr>\n",
       "    <tr>\n",
       "      <th>language</th>\n",
       "      <td>31</td>\n",
       "      <td>3</td>\n",
       "      <td>31</td>\n",
       "      <td>-1</td>\n",
       "      <td>3</td>\n",
       "    </tr>\n",
       "    <tr>\n",
       "      <th>name</th>\n",
       "      <td>Sonata in C Major| K. 521| for Piano 4 hands</td>\n",
       "      <td>愛你，不是我的</td>\n",
       "      <td>BoyFriend (보이프렌드)</td>\n",
       "      <td>Young Again</td>\n",
       "      <td>倒流 (Revert)</td>\n",
       "    </tr>\n",
       "    <tr>\n",
       "      <th>isrc</th>\n",
       "      <td>KRA251400552</td>\n",
       "      <td>TWD971500032</td>\n",
       "      <td>KRA381001769</td>\n",
       "      <td>NLS241402172</td>\n",
       "      <td>TWA451601501</td>\n",
       "    </tr>\n",
       "    <tr>\n",
       "      <th>days_registered</th>\n",
       "      <td>2436 days 00:00:00</td>\n",
       "      <td>2347 days 00:00:00</td>\n",
       "      <td>1235 days 00:00:00</td>\n",
       "      <td>1171 days 00:00:00</td>\n",
       "      <td>609 days 00:00:00</td>\n",
       "    </tr>\n",
       "  </tbody>\n",
       "</table>\n",
       "</div>"
      ],
      "text/plain": [
       "                                                                   0  \\\n",
       "msno                    zQUH+VmeTe7G1Rbr0gR8s+clsrrYWBvdxOkKXrCD7dY=   \n",
       "song_id                 ZHdjuwomjqa5+I7/e/o//ie9RPUmbxDRbipaYZs6DRw=   \n",
       "source_system_tab                                         my library   \n",
       "source_screen_name                               Local playlist more   \n",
       "source_type                                            local-library   \n",
       "city                                                               5   \n",
       "bd                                                                24   \n",
       "gender                                                        female   \n",
       "registered_via                                                     9   \n",
       "registration_init_time                           2011-02-03 00:00:00   \n",
       "expiration_date                                  2017-10-05 00:00:00   \n",
       "song_length                                                   136254   \n",
       "genre_ids                                                        958   \n",
       "artist_name                            An Affair Original Soundtrack   \n",
       "composer                                     Wolfgang Amadeus Mozart   \n",
       "lyricist                                                     unknown   \n",
       "language                                                          31   \n",
       "name                    Sonata in C Major| K. 521| for Piano 4 hands   \n",
       "isrc                                                    KRA251400552   \n",
       "days_registered                                   2436 days 00:00:00   \n",
       "\n",
       "                                                                   1  \\\n",
       "msno                    IEYAujzAmkudWUzTwvwKZakM9bjpoaWlF7ExJX3EaIg=   \n",
       "song_id                 WrVBxKvotVYzAKxCxNAGssQ1oCgO0gAJ4sNCfhfdfOY=   \n",
       "source_system_tab                                           discover   \n",
       "source_screen_name                              Online playlist more   \n",
       "source_type                                          online-playlist   \n",
       "city                                                              15   \n",
       "bd                                                                50   \n",
       "gender                                                        female   \n",
       "registered_via                                                     7   \n",
       "registration_init_time                           2011-04-28 00:00:00   \n",
       "expiration_date                                  2017-09-30 00:00:00   \n",
       "song_length                                                   198426   \n",
       "genre_ids                                                        465   \n",
       "artist_name                                       Under Lover (地下情人)   \n",
       "composer                                                          楊琳   \n",
       "lyricist                                                          楊琳   \n",
       "language                                                           3   \n",
       "name                                                         愛你，不是我的   \n",
       "isrc                                                    TWD971500032   \n",
       "days_registered                                   2347 days 00:00:00   \n",
       "\n",
       "                                                                   2  \\\n",
       "msno                    Tq5aOJW9JNbbq3P+I3rv8sWBa7NoT3lvtdIizZ0QgRE=   \n",
       "song_id                 pqKBKh7xnbU2Ica1yFk8Pe+Oj3v4upPNV5xQqB1X1a8=   \n",
       "source_system_tab                                         my library   \n",
       "source_screen_name                               Local playlist more   \n",
       "source_type                                           local-playlist   \n",
       "city                                                               1   \n",
       "bd                                                                 0   \n",
       "gender                                                       unknown   \n",
       "registered_via                                                     9   \n",
       "registration_init_time                           2015-04-29 00:00:00   \n",
       "expiration_date                                  2018-09-15 00:00:00   \n",
       "song_length                                                   187193   \n",
       "genre_ids                                                        444   \n",
       "artist_name                                                BOYFRIEND   \n",
       "composer                                                     unknown   \n",
       "lyricist                                                     unknown   \n",
       "language                                                          31   \n",
       "name                                               BoyFriend (보이프렌드)   \n",
       "isrc                                                    KRA381001769   \n",
       "days_registered                                   1235 days 00:00:00   \n",
       "\n",
       "                                                                        3  \\\n",
       "msno                         rCXlxthM8GL0fsO1rFrGj7YIK2aauJ4C8N5Vgudpsj0=   \n",
       "song_id                      8J++ycX6j2kGYif6zlQUOYCBRXTyeF9v3YEQJP3mvfA=   \n",
       "source_system_tab                                              my library   \n",
       "source_screen_name                                    Local playlist more   \n",
       "source_type                                                 local-library   \n",
       "city                                                                    1   \n",
       "bd                                                                      0   \n",
       "gender                                                            unknown   \n",
       "registered_via                                                          7   \n",
       "registration_init_time                                2013-12-25 00:00:00   \n",
       "expiration_date                                       2017-03-10 00:00:00   \n",
       "song_length                                                        220063   \n",
       "genre_ids                                                            1609   \n",
       "artist_name                                                      Hardwell   \n",
       "composer                Chris Jones| Robbert van de Corput| Willem Bakker   \n",
       "lyricist                Chris Jones| Robbert van de Corput| Willem Bakker   \n",
       "language                                                               -1   \n",
       "name                                                          Young Again   \n",
       "isrc                                                         NLS241402172   \n",
       "days_registered                                        1171 days 00:00:00   \n",
       "\n",
       "                                                                   4  \n",
       "msno                    3eSVY14Bd3E+mRi0tDNThZsf35e3KU4V6/WGQdPIbXo=  \n",
       "song_id                 nW60n6qAGoytY/yX4w0r1IT462C9Xs/ZxbV6MLDSpUk=  \n",
       "source_system_tab                                           discover  \n",
       "source_screen_name                              Online playlist more  \n",
       "source_type                                          online-playlist  \n",
       "city                                                               1  \n",
       "bd                                                                 0  \n",
       "gender                                                       unknown  \n",
       "registered_via                                                     7  \n",
       "registration_init_time                           2016-01-21 00:00:00  \n",
       "expiration_date                                  2017-09-21 00:00:00  \n",
       "song_length                                                   252969  \n",
       "genre_ids                                                        458  \n",
       "artist_name                                            郁可唯 (Yisa Yu)  \n",
       "composer                                                         姜海威  \n",
       "lyricist                                                         張鵬鵬  \n",
       "language                                                           3  \n",
       "name                                                     倒流 (Revert)  \n",
       "isrc                                                    TWA451601501  \n",
       "days_registered                                    609 days 00:00:00  "
      ]
     },
     "execution_count": 154,
     "metadata": {},
     "output_type": "execute_result"
    }
   ],
   "source": [
    "X_train_with_user_and_song_meta.head().T"
   ]
  },
  {
   "cell_type": "code",
   "execution_count": 155,
   "metadata": {},
   "outputs": [],
   "source": [
    "X_train_with_user_and_song_meta['days_registered'] = X_train_with_user_and_song_meta.days_registered.apply(lambda x: x.days)"
   ]
  },
  {
   "cell_type": "code",
   "execution_count": 156,
   "metadata": {},
   "outputs": [
    {
     "data": {
      "text/html": [
       "<div>\n",
       "<style scoped>\n",
       "    .dataframe tbody tr th:only-of-type {\n",
       "        vertical-align: middle;\n",
       "    }\n",
       "\n",
       "    .dataframe tbody tr th {\n",
       "        vertical-align: top;\n",
       "    }\n",
       "\n",
       "    .dataframe thead th {\n",
       "        text-align: right;\n",
       "    }\n",
       "</style>\n",
       "<table border=\"1\" class=\"dataframe\">\n",
       "  <thead>\n",
       "    <tr style=\"text-align: right;\">\n",
       "      <th></th>\n",
       "      <th>0</th>\n",
       "      <th>1</th>\n",
       "      <th>2</th>\n",
       "      <th>3</th>\n",
       "      <th>4</th>\n",
       "    </tr>\n",
       "  </thead>\n",
       "  <tbody>\n",
       "    <tr>\n",
       "      <th>msno</th>\n",
       "      <td>zQUH+VmeTe7G1Rbr0gR8s+clsrrYWBvdxOkKXrCD7dY=</td>\n",
       "      <td>IEYAujzAmkudWUzTwvwKZakM9bjpoaWlF7ExJX3EaIg=</td>\n",
       "      <td>Tq5aOJW9JNbbq3P+I3rv8sWBa7NoT3lvtdIizZ0QgRE=</td>\n",
       "      <td>rCXlxthM8GL0fsO1rFrGj7YIK2aauJ4C8N5Vgudpsj0=</td>\n",
       "      <td>3eSVY14Bd3E+mRi0tDNThZsf35e3KU4V6/WGQdPIbXo=</td>\n",
       "    </tr>\n",
       "    <tr>\n",
       "      <th>song_id</th>\n",
       "      <td>ZHdjuwomjqa5+I7/e/o//ie9RPUmbxDRbipaYZs6DRw=</td>\n",
       "      <td>WrVBxKvotVYzAKxCxNAGssQ1oCgO0gAJ4sNCfhfdfOY=</td>\n",
       "      <td>pqKBKh7xnbU2Ica1yFk8Pe+Oj3v4upPNV5xQqB1X1a8=</td>\n",
       "      <td>8J++ycX6j2kGYif6zlQUOYCBRXTyeF9v3YEQJP3mvfA=</td>\n",
       "      <td>nW60n6qAGoytY/yX4w0r1IT462C9Xs/ZxbV6MLDSpUk=</td>\n",
       "    </tr>\n",
       "    <tr>\n",
       "      <th>source_system_tab</th>\n",
       "      <td>my library</td>\n",
       "      <td>discover</td>\n",
       "      <td>my library</td>\n",
       "      <td>my library</td>\n",
       "      <td>discover</td>\n",
       "    </tr>\n",
       "    <tr>\n",
       "      <th>source_screen_name</th>\n",
       "      <td>Local playlist more</td>\n",
       "      <td>Online playlist more</td>\n",
       "      <td>Local playlist more</td>\n",
       "      <td>Local playlist more</td>\n",
       "      <td>Online playlist more</td>\n",
       "    </tr>\n",
       "    <tr>\n",
       "      <th>source_type</th>\n",
       "      <td>local-library</td>\n",
       "      <td>online-playlist</td>\n",
       "      <td>local-playlist</td>\n",
       "      <td>local-library</td>\n",
       "      <td>online-playlist</td>\n",
       "    </tr>\n",
       "    <tr>\n",
       "      <th>city</th>\n",
       "      <td>5</td>\n",
       "      <td>15</td>\n",
       "      <td>1</td>\n",
       "      <td>1</td>\n",
       "      <td>1</td>\n",
       "    </tr>\n",
       "    <tr>\n",
       "      <th>bd</th>\n",
       "      <td>24</td>\n",
       "      <td>50</td>\n",
       "      <td>0</td>\n",
       "      <td>0</td>\n",
       "      <td>0</td>\n",
       "    </tr>\n",
       "    <tr>\n",
       "      <th>gender</th>\n",
       "      <td>female</td>\n",
       "      <td>female</td>\n",
       "      <td>unknown</td>\n",
       "      <td>unknown</td>\n",
       "      <td>unknown</td>\n",
       "    </tr>\n",
       "    <tr>\n",
       "      <th>registered_via</th>\n",
       "      <td>9</td>\n",
       "      <td>7</td>\n",
       "      <td>9</td>\n",
       "      <td>7</td>\n",
       "      <td>7</td>\n",
       "    </tr>\n",
       "    <tr>\n",
       "      <th>registration_init_time</th>\n",
       "      <td>2011-02-03 00:00:00</td>\n",
       "      <td>2011-04-28 00:00:00</td>\n",
       "      <td>2015-04-29 00:00:00</td>\n",
       "      <td>2013-12-25 00:00:00</td>\n",
       "      <td>2016-01-21 00:00:00</td>\n",
       "    </tr>\n",
       "    <tr>\n",
       "      <th>expiration_date</th>\n",
       "      <td>2017-10-05 00:00:00</td>\n",
       "      <td>2017-09-30 00:00:00</td>\n",
       "      <td>2018-09-15 00:00:00</td>\n",
       "      <td>2017-03-10 00:00:00</td>\n",
       "      <td>2017-09-21 00:00:00</td>\n",
       "    </tr>\n",
       "    <tr>\n",
       "      <th>song_length</th>\n",
       "      <td>136254</td>\n",
       "      <td>198426</td>\n",
       "      <td>187193</td>\n",
       "      <td>220063</td>\n",
       "      <td>252969</td>\n",
       "    </tr>\n",
       "    <tr>\n",
       "      <th>genre_ids</th>\n",
       "      <td>958</td>\n",
       "      <td>465</td>\n",
       "      <td>444</td>\n",
       "      <td>1609</td>\n",
       "      <td>458</td>\n",
       "    </tr>\n",
       "    <tr>\n",
       "      <th>artist_name</th>\n",
       "      <td>An Affair Original Soundtrack</td>\n",
       "      <td>Under Lover (地下情人)</td>\n",
       "      <td>BOYFRIEND</td>\n",
       "      <td>Hardwell</td>\n",
       "      <td>郁可唯 (Yisa Yu)</td>\n",
       "    </tr>\n",
       "    <tr>\n",
       "      <th>composer</th>\n",
       "      <td>Wolfgang Amadeus Mozart</td>\n",
       "      <td>楊琳</td>\n",
       "      <td>unknown</td>\n",
       "      <td>Chris Jones| Robbert van de Corput| Willem Bakker</td>\n",
       "      <td>姜海威</td>\n",
       "    </tr>\n",
       "    <tr>\n",
       "      <th>lyricist</th>\n",
       "      <td>unknown</td>\n",
       "      <td>楊琳</td>\n",
       "      <td>unknown</td>\n",
       "      <td>Chris Jones| Robbert van de Corput| Willem Bakker</td>\n",
       "      <td>張鵬鵬</td>\n",
       "    </tr>\n",
       "    <tr>\n",
       "      <th>language</th>\n",
       "      <td>31</td>\n",
       "      <td>3</td>\n",
       "      <td>31</td>\n",
       "      <td>-1</td>\n",
       "      <td>3</td>\n",
       "    </tr>\n",
       "    <tr>\n",
       "      <th>name</th>\n",
       "      <td>Sonata in C Major| K. 521| for Piano 4 hands</td>\n",
       "      <td>愛你，不是我的</td>\n",
       "      <td>BoyFriend (보이프렌드)</td>\n",
       "      <td>Young Again</td>\n",
       "      <td>倒流 (Revert)</td>\n",
       "    </tr>\n",
       "    <tr>\n",
       "      <th>isrc</th>\n",
       "      <td>KRA251400552</td>\n",
       "      <td>TWD971500032</td>\n",
       "      <td>KRA381001769</td>\n",
       "      <td>NLS241402172</td>\n",
       "      <td>TWA451601501</td>\n",
       "    </tr>\n",
       "    <tr>\n",
       "      <th>days_registered</th>\n",
       "      <td>2436</td>\n",
       "      <td>2347</td>\n",
       "      <td>1235</td>\n",
       "      <td>1171</td>\n",
       "      <td>609</td>\n",
       "    </tr>\n",
       "  </tbody>\n",
       "</table>\n",
       "</div>"
      ],
      "text/plain": [
       "                                                                   0  \\\n",
       "msno                    zQUH+VmeTe7G1Rbr0gR8s+clsrrYWBvdxOkKXrCD7dY=   \n",
       "song_id                 ZHdjuwomjqa5+I7/e/o//ie9RPUmbxDRbipaYZs6DRw=   \n",
       "source_system_tab                                         my library   \n",
       "source_screen_name                               Local playlist more   \n",
       "source_type                                            local-library   \n",
       "city                                                               5   \n",
       "bd                                                                24   \n",
       "gender                                                        female   \n",
       "registered_via                                                     9   \n",
       "registration_init_time                           2011-02-03 00:00:00   \n",
       "expiration_date                                  2017-10-05 00:00:00   \n",
       "song_length                                                   136254   \n",
       "genre_ids                                                        958   \n",
       "artist_name                            An Affair Original Soundtrack   \n",
       "composer                                     Wolfgang Amadeus Mozart   \n",
       "lyricist                                                     unknown   \n",
       "language                                                          31   \n",
       "name                    Sonata in C Major| K. 521| for Piano 4 hands   \n",
       "isrc                                                    KRA251400552   \n",
       "days_registered                                                 2436   \n",
       "\n",
       "                                                                   1  \\\n",
       "msno                    IEYAujzAmkudWUzTwvwKZakM9bjpoaWlF7ExJX3EaIg=   \n",
       "song_id                 WrVBxKvotVYzAKxCxNAGssQ1oCgO0gAJ4sNCfhfdfOY=   \n",
       "source_system_tab                                           discover   \n",
       "source_screen_name                              Online playlist more   \n",
       "source_type                                          online-playlist   \n",
       "city                                                              15   \n",
       "bd                                                                50   \n",
       "gender                                                        female   \n",
       "registered_via                                                     7   \n",
       "registration_init_time                           2011-04-28 00:00:00   \n",
       "expiration_date                                  2017-09-30 00:00:00   \n",
       "song_length                                                   198426   \n",
       "genre_ids                                                        465   \n",
       "artist_name                                       Under Lover (地下情人)   \n",
       "composer                                                          楊琳   \n",
       "lyricist                                                          楊琳   \n",
       "language                                                           3   \n",
       "name                                                         愛你，不是我的   \n",
       "isrc                                                    TWD971500032   \n",
       "days_registered                                                 2347   \n",
       "\n",
       "                                                                   2  \\\n",
       "msno                    Tq5aOJW9JNbbq3P+I3rv8sWBa7NoT3lvtdIizZ0QgRE=   \n",
       "song_id                 pqKBKh7xnbU2Ica1yFk8Pe+Oj3v4upPNV5xQqB1X1a8=   \n",
       "source_system_tab                                         my library   \n",
       "source_screen_name                               Local playlist more   \n",
       "source_type                                           local-playlist   \n",
       "city                                                               1   \n",
       "bd                                                                 0   \n",
       "gender                                                       unknown   \n",
       "registered_via                                                     9   \n",
       "registration_init_time                           2015-04-29 00:00:00   \n",
       "expiration_date                                  2018-09-15 00:00:00   \n",
       "song_length                                                   187193   \n",
       "genre_ids                                                        444   \n",
       "artist_name                                                BOYFRIEND   \n",
       "composer                                                     unknown   \n",
       "lyricist                                                     unknown   \n",
       "language                                                          31   \n",
       "name                                               BoyFriend (보이프렌드)   \n",
       "isrc                                                    KRA381001769   \n",
       "days_registered                                                 1235   \n",
       "\n",
       "                                                                        3  \\\n",
       "msno                         rCXlxthM8GL0fsO1rFrGj7YIK2aauJ4C8N5Vgudpsj0=   \n",
       "song_id                      8J++ycX6j2kGYif6zlQUOYCBRXTyeF9v3YEQJP3mvfA=   \n",
       "source_system_tab                                              my library   \n",
       "source_screen_name                                    Local playlist more   \n",
       "source_type                                                 local-library   \n",
       "city                                                                    1   \n",
       "bd                                                                      0   \n",
       "gender                                                            unknown   \n",
       "registered_via                                                          7   \n",
       "registration_init_time                                2013-12-25 00:00:00   \n",
       "expiration_date                                       2017-03-10 00:00:00   \n",
       "song_length                                                        220063   \n",
       "genre_ids                                                            1609   \n",
       "artist_name                                                      Hardwell   \n",
       "composer                Chris Jones| Robbert van de Corput| Willem Bakker   \n",
       "lyricist                Chris Jones| Robbert van de Corput| Willem Bakker   \n",
       "language                                                               -1   \n",
       "name                                                          Young Again   \n",
       "isrc                                                         NLS241402172   \n",
       "days_registered                                                      1171   \n",
       "\n",
       "                                                                   4  \n",
       "msno                    3eSVY14Bd3E+mRi0tDNThZsf35e3KU4V6/WGQdPIbXo=  \n",
       "song_id                 nW60n6qAGoytY/yX4w0r1IT462C9Xs/ZxbV6MLDSpUk=  \n",
       "source_system_tab                                           discover  \n",
       "source_screen_name                              Online playlist more  \n",
       "source_type                                          online-playlist  \n",
       "city                                                               1  \n",
       "bd                                                                 0  \n",
       "gender                                                       unknown  \n",
       "registered_via                                                     7  \n",
       "registration_init_time                           2016-01-21 00:00:00  \n",
       "expiration_date                                  2017-09-21 00:00:00  \n",
       "song_length                                                   252969  \n",
       "genre_ids                                                        458  \n",
       "artist_name                                            郁可唯 (Yisa Yu)  \n",
       "composer                                                         姜海威  \n",
       "lyricist                                                         張鵬鵬  \n",
       "language                                                           3  \n",
       "name                                                     倒流 (Revert)  \n",
       "isrc                                                    TWA451601501  \n",
       "days_registered                                                  609  "
      ]
     },
     "execution_count": 156,
     "metadata": {},
     "output_type": "execute_result"
    }
   ],
   "source": [
    "X_train_with_user_and_song_meta.head().T"
   ]
  },
  {
   "cell_type": "code",
   "execution_count": 180,
   "metadata": {},
   "outputs": [
    {
     "data": {
      "text/html": [
       "<div>\n",
       "<style scoped>\n",
       "    .dataframe tbody tr th:only-of-type {\n",
       "        vertical-align: middle;\n",
       "    }\n",
       "\n",
       "    .dataframe tbody tr th {\n",
       "        vertical-align: top;\n",
       "    }\n",
       "\n",
       "    .dataframe thead th {\n",
       "        text-align: right;\n",
       "    }\n",
       "</style>\n",
       "<table border=\"1\" class=\"dataframe\">\n",
       "  <thead>\n",
       "    <tr style=\"text-align: right;\">\n",
       "      <th></th>\n",
       "      <th>91586</th>\n",
       "      <th>4504601</th>\n",
       "      <th>2408056</th>\n",
       "      <th>2092954</th>\n",
       "      <th>599902</th>\n",
       "    </tr>\n",
       "  </thead>\n",
       "  <tbody>\n",
       "    <tr>\n",
       "      <th>msno</th>\n",
       "      <td>hULWxi63XYKIqb6o+isR9XDNF796Imv5bPVAzcZy034=</td>\n",
       "      <td>U4dki+BFKrOWq8aR5gMoNKqHe4VCT9OK8y0GK0nvwys=</td>\n",
       "      <td>pGHLzJo1pA5AAd5Q18rWJdXuVxUZAXWLQhwNUrdIwSA=</td>\n",
       "      <td>cCXArnzSSO6gfkbwA4eAbcyOArXf/9pFVyeDRvUfkNw=</td>\n",
       "      <td>ItVWiES9MtxVNUaYsp160+rvz3cV2lnDoA6x/NquPbw=</td>\n",
       "    </tr>\n",
       "    <tr>\n",
       "      <th>song_id</th>\n",
       "      <td>kAEMO7m3E9JFVghjtZcj9Zrzb37OJTRj0Ocq8d0hqSg=</td>\n",
       "      <td>bl1XsIxD9Q0IPmx4H+MfyPNTSpzuxXRKsfqI7GK2yMI=</td>\n",
       "      <td>qvy8OJxXwf5NSQqJzjaxYtBCSpRnFM420Ss/bjrf1VU=</td>\n",
       "      <td>kAEMO7m3E9JFVghjtZcj9Zrzb37OJTRj0Ocq8d0hqSg=</td>\n",
       "      <td>PvrxIVJn5e3MLAIRQUbBqks+gv6ROm0dH+vyuzyotnc=</td>\n",
       "    </tr>\n",
       "    <tr>\n",
       "      <th>source_system_tab</th>\n",
       "      <td>discover</td>\n",
       "      <td>my library</td>\n",
       "      <td>discover</td>\n",
       "      <td>discover</td>\n",
       "      <td>my library</td>\n",
       "    </tr>\n",
       "    <tr>\n",
       "      <th>source_screen_name</th>\n",
       "      <td>Discover Genre</td>\n",
       "      <td>Album more</td>\n",
       "      <td>Album more</td>\n",
       "      <td>Discover Genre</td>\n",
       "      <td>Local playlist more</td>\n",
       "    </tr>\n",
       "    <tr>\n",
       "      <th>source_type</th>\n",
       "      <td>online-playlist</td>\n",
       "      <td>album</td>\n",
       "      <td>album</td>\n",
       "      <td>online-playlist</td>\n",
       "      <td>local-playlist</td>\n",
       "    </tr>\n",
       "    <tr>\n",
       "      <th>city</th>\n",
       "      <td>1</td>\n",
       "      <td>4</td>\n",
       "      <td>1</td>\n",
       "      <td>5</td>\n",
       "      <td>13</td>\n",
       "    </tr>\n",
       "    <tr>\n",
       "      <th>bd</th>\n",
       "      <td>0</td>\n",
       "      <td>0</td>\n",
       "      <td>0</td>\n",
       "      <td>31</td>\n",
       "      <td>35</td>\n",
       "    </tr>\n",
       "    <tr>\n",
       "      <th>gender</th>\n",
       "      <td>unknown</td>\n",
       "      <td>unknown</td>\n",
       "      <td>unknown</td>\n",
       "      <td>unknown</td>\n",
       "      <td>male</td>\n",
       "    </tr>\n",
       "    <tr>\n",
       "      <th>registered_via</th>\n",
       "      <td>7</td>\n",
       "      <td>9</td>\n",
       "      <td>7</td>\n",
       "      <td>9</td>\n",
       "      <td>9</td>\n",
       "    </tr>\n",
       "    <tr>\n",
       "      <th>registration_init_time</th>\n",
       "      <td>2014-10-02 00:00:00</td>\n",
       "      <td>2015-09-08 00:00:00</td>\n",
       "      <td>2016-12-03 00:00:00</td>\n",
       "      <td>2015-03-26 00:00:00</td>\n",
       "      <td>2010-12-07 00:00:00</td>\n",
       "    </tr>\n",
       "    <tr>\n",
       "      <th>expiration_date</th>\n",
       "      <td>2017-09-19 00:00:00</td>\n",
       "      <td>2017-09-08 00:00:00</td>\n",
       "      <td>2017-10-02 00:00:00</td>\n",
       "      <td>2017-06-16 00:00:00</td>\n",
       "      <td>2017-12-08 00:00:00</td>\n",
       "    </tr>\n",
       "    <tr>\n",
       "      <th>song_length</th>\n",
       "      <td>327587</td>\n",
       "      <td>250032</td>\n",
       "      <td>372540</td>\n",
       "      <td>327587</td>\n",
       "      <td>207679</td>\n",
       "    </tr>\n",
       "    <tr>\n",
       "      <th>genre_ids</th>\n",
       "      <td>993|751</td>\n",
       "      <td>993|751</td>\n",
       "      <td>993|751</td>\n",
       "      <td>993|751</td>\n",
       "      <td>993|751</td>\n",
       "    </tr>\n",
       "    <tr>\n",
       "      <th>artist_name</th>\n",
       "      <td>Enrico Fagone| Walter Zagato| Corrado Giuffred...</td>\n",
       "      <td>Wolfgang Amadeus Mozart</td>\n",
       "      <td>Budapest Scoring Symphonic Orchestra| Peter Pe...</td>\n",
       "      <td>Enrico Fagone| Walter Zagato| Corrado Giuffred...</td>\n",
       "      <td>Wolfgang Amadeus Mozart</td>\n",
       "    </tr>\n",
       "    <tr>\n",
       "      <th>composer</th>\n",
       "      <td>Giovanni Bottesini</td>\n",
       "      <td>Wolfgang Amadeus Mozart</td>\n",
       "      <td>Giuseppe Verdi</td>\n",
       "      <td>Giovanni Bottesini</td>\n",
       "      <td>Wolfgang Amadeus Mozart</td>\n",
       "    </tr>\n",
       "    <tr>\n",
       "      <th>lyricist</th>\n",
       "      <td>unknown</td>\n",
       "      <td>unknown</td>\n",
       "      <td>unknown</td>\n",
       "      <td>unknown</td>\n",
       "      <td>unknown</td>\n",
       "    </tr>\n",
       "    <tr>\n",
       "      <th>language</th>\n",
       "      <td>-1</td>\n",
       "      <td>-1</td>\n",
       "      <td>-1</td>\n",
       "      <td>-1</td>\n",
       "      <td>-1</td>\n",
       "    </tr>\n",
       "    <tr>\n",
       "      <th>name</th>\n",
       "      <td>Double Bass Concerto No. 2 In B Minor. Allegro...</td>\n",
       "      <td>Requiem| KV 626: Lacrimosa</td>\n",
       "      <td>Aida: Triumphal March</td>\n",
       "      <td>Double Bass Concerto No. 2 In B Minor. Allegro...</td>\n",
       "      <td>Concerto For Horn No. 2 in E-Flat Major K417: ...</td>\n",
       "    </tr>\n",
       "    <tr>\n",
       "      <th>isrc</th>\n",
       "      <td>ITJ091000399</td>\n",
       "      <td>FR6V80070783</td>\n",
       "      <td>ITL731606378</td>\n",
       "      <td>ITJ091000399</td>\n",
       "      <td>FR3KD1100284</td>\n",
       "    </tr>\n",
       "    <tr>\n",
       "      <th>days_registered</th>\n",
       "      <td>1083</td>\n",
       "      <td>731</td>\n",
       "      <td>303</td>\n",
       "      <td>813</td>\n",
       "      <td>2558</td>\n",
       "    </tr>\n",
       "  </tbody>\n",
       "</table>\n",
       "</div>"
      ],
      "text/plain": [
       "                                                                  91586    \\\n",
       "msno                         hULWxi63XYKIqb6o+isR9XDNF796Imv5bPVAzcZy034=   \n",
       "song_id                      kAEMO7m3E9JFVghjtZcj9Zrzb37OJTRj0Ocq8d0hqSg=   \n",
       "source_system_tab                                                discover   \n",
       "source_screen_name                                         Discover Genre   \n",
       "source_type                                               online-playlist   \n",
       "city                                                                    1   \n",
       "bd                                                                      0   \n",
       "gender                                                            unknown   \n",
       "registered_via                                                          7   \n",
       "registration_init_time                                2014-10-02 00:00:00   \n",
       "expiration_date                                       2017-09-19 00:00:00   \n",
       "song_length                                                        327587   \n",
       "genre_ids                                                         993|751   \n",
       "artist_name             Enrico Fagone| Walter Zagato| Corrado Giuffred...   \n",
       "composer                                               Giovanni Bottesini   \n",
       "lyricist                                                          unknown   \n",
       "language                                                               -1   \n",
       "name                    Double Bass Concerto No. 2 In B Minor. Allegro...   \n",
       "isrc                                                         ITJ091000399   \n",
       "days_registered                                                      1083   \n",
       "\n",
       "                                                             4504601  \\\n",
       "msno                    U4dki+BFKrOWq8aR5gMoNKqHe4VCT9OK8y0GK0nvwys=   \n",
       "song_id                 bl1XsIxD9Q0IPmx4H+MfyPNTSpzuxXRKsfqI7GK2yMI=   \n",
       "source_system_tab                                         my library   \n",
       "source_screen_name                                        Album more   \n",
       "source_type                                                    album   \n",
       "city                                                               4   \n",
       "bd                                                                 0   \n",
       "gender                                                       unknown   \n",
       "registered_via                                                     9   \n",
       "registration_init_time                           2015-09-08 00:00:00   \n",
       "expiration_date                                  2017-09-08 00:00:00   \n",
       "song_length                                                   250032   \n",
       "genre_ids                                                    993|751   \n",
       "artist_name                                  Wolfgang Amadeus Mozart   \n",
       "composer                                     Wolfgang Amadeus Mozart   \n",
       "lyricist                                                     unknown   \n",
       "language                                                          -1   \n",
       "name                                      Requiem| KV 626: Lacrimosa   \n",
       "isrc                                                    FR6V80070783   \n",
       "days_registered                                                  731   \n",
       "\n",
       "                                                                  2408056  \\\n",
       "msno                         pGHLzJo1pA5AAd5Q18rWJdXuVxUZAXWLQhwNUrdIwSA=   \n",
       "song_id                      qvy8OJxXwf5NSQqJzjaxYtBCSpRnFM420Ss/bjrf1VU=   \n",
       "source_system_tab                                                discover   \n",
       "source_screen_name                                             Album more   \n",
       "source_type                                                         album   \n",
       "city                                                                    1   \n",
       "bd                                                                      0   \n",
       "gender                                                            unknown   \n",
       "registered_via                                                          7   \n",
       "registration_init_time                                2016-12-03 00:00:00   \n",
       "expiration_date                                       2017-10-02 00:00:00   \n",
       "song_length                                                        372540   \n",
       "genre_ids                                                         993|751   \n",
       "artist_name             Budapest Scoring Symphonic Orchestra| Peter Pe...   \n",
       "composer                                                   Giuseppe Verdi   \n",
       "lyricist                                                          unknown   \n",
       "language                                                               -1   \n",
       "name                                                Aida: Triumphal March   \n",
       "isrc                                                         ITL731606378   \n",
       "days_registered                                                       303   \n",
       "\n",
       "                                                                  2092954  \\\n",
       "msno                         cCXArnzSSO6gfkbwA4eAbcyOArXf/9pFVyeDRvUfkNw=   \n",
       "song_id                      kAEMO7m3E9JFVghjtZcj9Zrzb37OJTRj0Ocq8d0hqSg=   \n",
       "source_system_tab                                                discover   \n",
       "source_screen_name                                         Discover Genre   \n",
       "source_type                                               online-playlist   \n",
       "city                                                                    5   \n",
       "bd                                                                     31   \n",
       "gender                                                            unknown   \n",
       "registered_via                                                          9   \n",
       "registration_init_time                                2015-03-26 00:00:00   \n",
       "expiration_date                                       2017-06-16 00:00:00   \n",
       "song_length                                                        327587   \n",
       "genre_ids                                                         993|751   \n",
       "artist_name             Enrico Fagone| Walter Zagato| Corrado Giuffred...   \n",
       "composer                                               Giovanni Bottesini   \n",
       "lyricist                                                          unknown   \n",
       "language                                                               -1   \n",
       "name                    Double Bass Concerto No. 2 In B Minor. Allegro...   \n",
       "isrc                                                         ITJ091000399   \n",
       "days_registered                                                       813   \n",
       "\n",
       "                                                                  599902   \n",
       "msno                         ItVWiES9MtxVNUaYsp160+rvz3cV2lnDoA6x/NquPbw=  \n",
       "song_id                      PvrxIVJn5e3MLAIRQUbBqks+gv6ROm0dH+vyuzyotnc=  \n",
       "source_system_tab                                              my library  \n",
       "source_screen_name                                    Local playlist more  \n",
       "source_type                                                local-playlist  \n",
       "city                                                                   13  \n",
       "bd                                                                     35  \n",
       "gender                                                               male  \n",
       "registered_via                                                          9  \n",
       "registration_init_time                                2010-12-07 00:00:00  \n",
       "expiration_date                                       2017-12-08 00:00:00  \n",
       "song_length                                                        207679  \n",
       "genre_ids                                                         993|751  \n",
       "artist_name                                       Wolfgang Amadeus Mozart  \n",
       "composer                                          Wolfgang Amadeus Mozart  \n",
       "lyricist                                                          unknown  \n",
       "language                                                               -1  \n",
       "name                    Concerto For Horn No. 2 in E-Flat Major K417: ...  \n",
       "isrc                                                         FR3KD1100284  \n",
       "days_registered                                                      2558  "
      ]
     },
     "execution_count": 180,
     "metadata": {},
     "output_type": "execute_result"
    }
   ],
   "source": [
    "X_train_with_user_and_song_meta[X_train_with_user_and_song_meta.genre_ids.apply(lambda x: '|' in str(x))].sort_values(by='genre_ids', ascending=False).head().T"
   ]
  },
  {
   "cell_type": "code",
   "execution_count": 179,
   "metadata": {},
   "outputs": [
    {
     "name": "stdout",
     "output_type": "stream",
     "text": [
      "<class 'pandas.core.frame.DataFrame'>\n",
      "Int64Index: 4942870 entries, 0 to 4942869\n",
      "Data columns (total 20 columns):\n",
      "msno                      4942870 non-null object\n",
      "song_id                   4942870 non-null object\n",
      "source_system_tab         4942870 non-null object\n",
      "source_screen_name        4942870 non-null object\n",
      "source_type               4942870 non-null object\n",
      "city                      4942870 non-null int64\n",
      "bd                        4942870 non-null int64\n",
      "gender                    4942870 non-null object\n",
      "registered_via            4942870 non-null int64\n",
      "registration_init_time    4942870 non-null datetime64[ns]\n",
      "expiration_date           4942870 non-null datetime64[ns]\n",
      "song_length               4942794 non-null float64\n",
      "genre_ids                 4942794 non-null object\n",
      "artist_name               4942794 non-null object\n",
      "composer                  4942794 non-null object\n",
      "lyricist                  4942794 non-null object\n",
      "language                  4942794 non-null float64\n",
      "name                      4941912 non-null object\n",
      "isrc                      4555414 non-null object\n",
      "days_registered           4942870 non-null int64\n",
      "dtypes: datetime64[ns](2), float64(2), int64(4), object(12)\n",
      "memory usage: 951.9+ MB\n"
     ]
    }
   ],
   "source": [
    "X_train_with_user_and_song_meta.info(verbose=True, null_counts=True)"
   ]
  },
  {
   "cell_type": "code",
   "execution_count": 173,
   "metadata": {},
   "outputs": [],
   "source": [
    "X_train_with_user_and_song_meta_g = pd.concat([X_train_with_user_and_song_meta, y_train], axis=1).groupby('song_id')[['song_length', 'target']].aggregate(\n",
    "    {\n",
    "        'song_length': lambda x: sum(x) / len(x),\n",
    "        'target': lambda x: sum(x)\n",
    "    }\n",
    ")"
   ]
  },
  {
   "cell_type": "code",
   "execution_count": 174,
   "metadata": {},
   "outputs": [
    {
     "data": {
      "text/html": [
       "<div>\n",
       "<style scoped>\n",
       "    .dataframe tbody tr th:only-of-type {\n",
       "        vertical-align: middle;\n",
       "    }\n",
       "\n",
       "    .dataframe tbody tr th {\n",
       "        vertical-align: top;\n",
       "    }\n",
       "\n",
       "    .dataframe thead th {\n",
       "        text-align: right;\n",
       "    }\n",
       "</style>\n",
       "<table border=\"1\" class=\"dataframe\">\n",
       "  <thead>\n",
       "    <tr style=\"text-align: right;\">\n",
       "      <th></th>\n",
       "      <th>song_length</th>\n",
       "      <th>target</th>\n",
       "    </tr>\n",
       "    <tr>\n",
       "      <th>song_id</th>\n",
       "      <th></th>\n",
       "      <th></th>\n",
       "    </tr>\n",
       "  </thead>\n",
       "  <tbody>\n",
       "    <tr>\n",
       "      <th>Xv//7g9xmUKWzWdm4TOcdWSXDDLhmPsCPod1vM0DWl4=</th>\n",
       "      <td>174393.0</td>\n",
       "      <td>17.0</td>\n",
       "    </tr>\n",
       "    <tr>\n",
       "      <th>oHJCGsIHWr7ObEkDBvLWG0Iu+0ZrdKpf2KyOXgc2HaU=</th>\n",
       "      <td>226951.0</td>\n",
       "      <td>15.0</td>\n",
       "    </tr>\n",
       "    <tr>\n",
       "      <th>EFebrA4B8yHdCsSZYpCxV7w9qPcNaP7PAVZtBdrQuzQ=</th>\n",
       "      <td>224490.0</td>\n",
       "      <td>12.0</td>\n",
       "    </tr>\n",
       "    <tr>\n",
       "      <th>42oGjC69im9yUQhRi5Sl+Gj5ddVcftk18nvx7Sy3v40=</th>\n",
       "      <td>217443.0</td>\n",
       "      <td>11.0</td>\n",
       "    </tr>\n",
       "    <tr>\n",
       "      <th>Hn8RlGbrS+wDOa6TaJ3aT9xE7Xrf+CprELWrQ/47naA=</th>\n",
       "      <td>104071.0</td>\n",
       "      <td>11.0</td>\n",
       "    </tr>\n",
       "  </tbody>\n",
       "</table>\n",
       "</div>"
      ],
      "text/plain": [
       "                                              song_length  target\n",
       "song_id                                                          \n",
       "Xv//7g9xmUKWzWdm4TOcdWSXDDLhmPsCPod1vM0DWl4=     174393.0    17.0\n",
       "oHJCGsIHWr7ObEkDBvLWG0Iu+0ZrdKpf2KyOXgc2HaU=     226951.0    15.0\n",
       "EFebrA4B8yHdCsSZYpCxV7w9qPcNaP7PAVZtBdrQuzQ=     224490.0    12.0\n",
       "42oGjC69im9yUQhRi5Sl+Gj5ddVcftk18nvx7Sy3v40=     217443.0    11.0\n",
       "Hn8RlGbrS+wDOa6TaJ3aT9xE7Xrf+CprELWrQ/47naA=     104071.0    11.0"
      ]
     },
     "execution_count": 174,
     "metadata": {},
     "output_type": "execute_result"
    }
   ],
   "source": [
    "X_train_with_user_and_song_meta_g.sort_values(by='target', ascending=False).head()"
   ]
  },
  {
   "cell_type": "code",
   "execution_count": 175,
   "metadata": {},
   "outputs": [
    {
     "data": {
      "image/png": "[encoded data removed]",
      "text/plain": [
       "<Figure size 1440x720 with 1 Axes>"
      ]
     },
     "metadata": {
      "needs_background": "light"
     },
     "output_type": "display_data"
    }
   ],
   "source": [
    "f = plt.figure(figsize=(20, 10))\n",
    "plt.scatter(X_train_with_user_and_song_meta_g['song_length'], X_train_with_user_and_song_meta_g['target'])\n",
    "plt.show()"
   ]
  },
  {
   "cell_type": "code",
   "execution_count": 176,
   "metadata": {},
   "outputs": [],
   "source": [
    "X_train_with_user_and_song_meta_g1 = pd.concat([X_train_with_user_and_song_meta, y_train], axis=1).groupby('msno')[['days_registered', 'target']].aggregate(\n",
    "    {\n",
    "        'days_registered': lambda x: sum(x) / len(x),\n",
    "        'target': lambda x: sum(x)\n",
    "    }\n",
    ")"
   ]
  },
  {
   "cell_type": "code",
   "execution_count": 177,
   "metadata": {},
   "outputs": [
    {
     "data": {
      "text/html": [
       "<div>\n",
       "<style scoped>\n",
       "    .dataframe tbody tr th:only-of-type {\n",
       "        vertical-align: middle;\n",
       "    }\n",
       "\n",
       "    .dataframe tbody tr th {\n",
       "        vertical-align: top;\n",
       "    }\n",
       "\n",
       "    .dataframe thead th {\n",
       "        text-align: right;\n",
       "    }\n",
       "</style>\n",
       "<table border=\"1\" class=\"dataframe\">\n",
       "  <thead>\n",
       "    <tr style=\"text-align: right;\">\n",
       "      <th></th>\n",
       "      <th>days_registered</th>\n",
       "      <th>target</th>\n",
       "    </tr>\n",
       "    <tr>\n",
       "      <th>msno</th>\n",
       "      <th></th>\n",
       "      <th></th>\n",
       "    </tr>\n",
       "  </thead>\n",
       "  <tbody>\n",
       "    <tr>\n",
       "      <th>xuXgdsxljzm6p1B8nItr8+yySHmXdJh3kz2mHng6unc=</th>\n",
       "      <td>1517.0</td>\n",
       "      <td>12.0</td>\n",
       "    </tr>\n",
       "    <tr>\n",
       "      <th>csypkNjlgs2pcnclVhytqhIpjKEoJUslv/EMOoV7iS4=</th>\n",
       "      <td>670.0</td>\n",
       "      <td>11.0</td>\n",
       "    </tr>\n",
       "    <tr>\n",
       "      <th>rVp9aEQwUN/y5mrH28cSlnJCOvPkwFmYmbZa/0ez368=</th>\n",
       "      <td>242.0</td>\n",
       "      <td>10.0</td>\n",
       "    </tr>\n",
       "    <tr>\n",
       "      <th>/0rd9A6pKB4DEa4Sf6sN3luDHz5TeGUM6mul1PtlXHM=</th>\n",
       "      <td>1446.0</td>\n",
       "      <td>9.0</td>\n",
       "    </tr>\n",
       "    <tr>\n",
       "      <th>NjtqAllHKaTekoq3aPPybSTDQbnrISed2ocfCgKgPNo=</th>\n",
       "      <td>7.0</td>\n",
       "      <td>8.0</td>\n",
       "    </tr>\n",
       "  </tbody>\n",
       "</table>\n",
       "</div>"
      ],
      "text/plain": [
       "                                              days_registered  target\n",
       "msno                                                                 \n",
       "xuXgdsxljzm6p1B8nItr8+yySHmXdJh3kz2mHng6unc=           1517.0    12.0\n",
       "csypkNjlgs2pcnclVhytqhIpjKEoJUslv/EMOoV7iS4=            670.0    11.0\n",
       "rVp9aEQwUN/y5mrH28cSlnJCOvPkwFmYmbZa/0ez368=            242.0    10.0\n",
       "/0rd9A6pKB4DEa4Sf6sN3luDHz5TeGUM6mul1PtlXHM=           1446.0     9.0\n",
       "NjtqAllHKaTekoq3aPPybSTDQbnrISed2ocfCgKgPNo=              7.0     8.0"
      ]
     },
     "execution_count": 177,
     "metadata": {},
     "output_type": "execute_result"
    }
   ],
   "source": [
    "X_train_with_user_and_song_meta_g1.sort_values(by='target', ascending=False).head()"
   ]
  },
  {
   "cell_type": "code",
   "execution_count": 178,
   "metadata": {},
   "outputs": [
    {
     "data": {
      "image/png": "[encoded data removed]",
      "text/plain": [
       "<Figure size 1440x720 with 1 Axes>"
      ]
     },
     "metadata": {
      "needs_background": "light"
     },
     "output_type": "display_data"
    }
   ],
   "source": [
    "f = plt.figure(figsize=(20, 10))\n",
    "plt.scatter(X_train_with_user_and_song_meta_g1['days_registered'], X_train_with_user_and_song_meta_g1['target'])\n",
    "plt.show()"
   ]
  }
 ],
 "metadata": {
  "hide_input": false,
  "kernelspec": {
   "display_name": "RECOMMENDER_2",
   "language": "python",
   "name": "recommender_2"
  },
  "language_info": {
   "codemirror_mode": {
    "name": "ipython",
    "version": 3
   },
   "file_extension": ".py",
   "mimetype": "text/x-python",
   "name": "python",
   "nbconvert_exporter": "python",
   "pygments_lexer": "ipython3",
   "version": "3.6.5"
  },
  "toc": {
   "base_numbering": 1,
   "nav_menu": {},
   "number_sections": true,
   "sideBar": true,
   "skip_h1_title": false,
   "title_cell": "Table of Contents",
   "title_sidebar": "Table of Contents",
   "toc_cell": false,
   "toc_position": {
    "height": "calc(100% - 180px)",
    "left": "10px",
    "top": "150px",
    "width": "384px"
   },
   "toc_section_display": true,
   "toc_window_display": true
  }
 },
 "nbformat": 4,
 "nbformat_minor": 1
}
