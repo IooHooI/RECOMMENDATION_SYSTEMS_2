{
 "cells": [
  {
   "cell_type": "markdown",
   "metadata": {
    "collapsed": true
   },
   "source": [
    "# All imports necessary"
   ]
  },
  {
   "cell_type": "code",
   "execution_count": 1,
   "metadata": {
    "collapsed": true
   },
   "outputs": [],
   "source": [
    "import os"
   ]
  },
  {
   "cell_type": "code",
   "execution_count": 2,
   "metadata": {
    "collapsed": true
   },
   "outputs": [],
   "source": [
    "import sys"
   ]
  },
  {
   "cell_type": "code",
   "execution_count": 3,
   "metadata": {
    "collapsed": true
   },
   "outputs": [],
   "source": [
    "import lightgbm as lgb"
   ]
  },
  {
   "cell_type": "code",
   "execution_count": 4,
   "metadata": {
    "collapsed": true
   },
   "outputs": [],
   "source": [
    "import xgboost as xgb"
   ]
  },
  {
   "cell_type": "code",
   "execution_count": 5,
   "metadata": {
    "collapsed": true
   },
   "outputs": [],
   "source": [
    "import warnings"
   ]
  },
  {
   "cell_type": "code",
   "execution_count": 6,
   "metadata": {
    "collapsed": true
   },
   "outputs": [],
   "source": [
    "warnings.filterwarnings(\"ignore\")"
   ]
  },
  {
   "cell_type": "code",
   "execution_count": 7,
   "metadata": {
    "collapsed": true
   },
   "outputs": [],
   "source": [
    "import numpy as np"
   ]
  },
  {
   "cell_type": "code",
   "execution_count": 8,
   "metadata": {
    "collapsed": true
   },
   "outputs": [],
   "source": [
    "import pandas as pd"
   ]
  },
  {
   "cell_type": "code",
   "execution_count": 9,
   "metadata": {
    "collapsed": true
   },
   "outputs": [],
   "source": [
    "import multiprocessing"
   ]
  },
  {
   "cell_type": "code",
   "execution_count": 10,
   "metadata": {
    "collapsed": true
   },
   "outputs": [],
   "source": [
    "sys.path.append('..')"
   ]
  },
  {
   "cell_type": "code",
   "execution_count": 11,
   "metadata": {
    "collapsed": true
   },
   "outputs": [],
   "source": [
    "import seaborn as sns"
   ]
  },
  {
   "cell_type": "code",
   "execution_count": 12,
   "metadata": {
    "collapsed": true
   },
   "outputs": [],
   "source": [
    "import matplotlib.pyplot as plt"
   ]
  },
  {
   "cell_type": "code",
   "execution_count": 13,
   "metadata": {
    "collapsed": true
   },
   "outputs": [],
   "source": [
    "from sklearn.metrics import auc"
   ]
  },
  {
   "cell_type": "code",
   "execution_count": 14,
   "metadata": {
    "collapsed": true
   },
   "outputs": [],
   "source": [
    "from sklearn.pipeline import Pipeline"
   ]
  },
  {
   "cell_type": "code",
   "execution_count": 15,
   "metadata": {
    "collapsed": true
   },
   "outputs": [],
   "source": [
    "from sklearn.impute import SimpleImputer"
   ]
  },
  {
   "cell_type": "code",
   "execution_count": 16,
   "metadata": {
    "collapsed": true
   },
   "outputs": [],
   "source": [
    "from sklearn.preprocessing import KBinsDiscretizer"
   ]
  },
  {
   "cell_type": "code",
   "execution_count": 17,
   "metadata": {
    "collapsed": true
   },
   "outputs": [],
   "source": [
    "from sklearn.preprocessing import OneHotEncoder"
   ]
  },
  {
   "cell_type": "code",
   "execution_count": 18,
   "metadata": {
    "collapsed": true
   },
   "outputs": [],
   "source": [
    "from sklearn.preprocessing import OrdinalEncoder"
   ]
  },
  {
   "cell_type": "code",
   "execution_count": 19,
   "metadata": {
    "collapsed": true
   },
   "outputs": [],
   "source": [
    "from sklearn.compose import ColumnTransformer"
   ]
  },
  {
   "cell_type": "code",
   "execution_count": 20,
   "metadata": {
    "collapsed": true
   },
   "outputs": [],
   "source": [
    "from sklearn.metrics import roc_curve"
   ]
  },
  {
   "cell_type": "code",
   "execution_count": 21,
   "metadata": {
    "collapsed": true
   },
   "outputs": [],
   "source": [
    "from sklearn.model_selection import cross_val_score"
   ]
  },
  {
   "cell_type": "code",
   "execution_count": 22,
   "metadata": {
    "collapsed": true
   },
   "outputs": [],
   "source": [
    "from sklearn.model_selection import train_test_split"
   ]
  },
  {
   "cell_type": "code",
   "execution_count": 23,
   "metadata": {
    "collapsed": true
   },
   "outputs": [],
   "source": [
    "from source.code.transformers.metafeaturesextractor import MetaFeaturesExtractor"
   ]
  },
  {
   "cell_type": "code",
   "execution_count": 24,
   "metadata": {
    "collapsed": true
   },
   "outputs": [],
   "source": [
    "from source.code.models.svdbasedrecommender import SVDBasedRecommender"
   ]
  },
  {
   "cell_type": "code",
   "execution_count": 25,
   "metadata": {
    "collapsed": true
   },
   "outputs": [],
   "source": [
    "from source.code.models.songfrequencybasedrecommender import SongFrequencyBasedRecommender"
   ]
  },
  {
   "cell_type": "code",
   "execution_count": 26,
   "metadata": {
    "collapsed": true
   },
   "outputs": [],
   "source": [
    "from source.code.models.factorizationmachinebasedrecommender import FactorizationMachineBasedRecommender"
   ]
  },
  {
   "cell_type": "code",
   "execution_count": 27,
   "metadata": {
    "collapsed": true
   },
   "outputs": [],
   "source": [
    "from source.code.models.lightgbmbasedrecommender import LightGBMBasedRecommender"
   ]
  },
  {
   "cell_type": "code",
   "execution_count": 28,
   "metadata": {
    "collapsed": true
   },
   "outputs": [],
   "source": [
    "from source.code.models.xgboostbasedrecommender import XGBoostBasedRecommender"
   ]
  },
  {
   "cell_type": "code",
   "execution_count": 29,
   "metadata": {
    "collapsed": true
   },
   "outputs": [],
   "source": [
    "from source.code.models.ensemblebasedrecommender import EnsembleBasedRecommender"
   ]
  },
  {
   "cell_type": "code",
   "execution_count": 30,
   "metadata": {
    "collapsed": true
   },
   "outputs": [],
   "source": [
    "from tqdm.autonotebook import tqdm"
   ]
  },
  {
   "cell_type": "markdown",
   "metadata": {},
   "source": [
    "# Auxiliary methods"
   ]
  },
  {
   "cell_type": "code",
   "execution_count": 31,
   "metadata": {
    "collapsed": true
   },
   "outputs": [],
   "source": [
    "def plot_roc_auc(fpr, tpr, classifier):\n",
    "    plt.figure(figsize=(10, 10))\n",
    "    plt.plot(fpr, tpr, color='darkorange', lw=2, label='ROC curve (area = %0.5f)' % auc(fpr, tpr))\n",
    "    plt.plot([0, 1], [0, 1], color='navy', lw=2, linestyle='--')\n",
    "    plt.xlim([0.0, 1.0])\n",
    "    plt.ylim([0.0, 1.01])\n",
    "    plt.xlabel('False Positive Rate')\n",
    "    plt.ylabel('True Positive Rate')\n",
    "    plt.title('Receiver operating characteristic example ({})'.format(classifier))\n",
    "    plt.legend(loc=\"lower right\")\n",
    "    plt.show()"
   ]
  },
  {
   "cell_type": "markdown",
   "metadata": {},
   "source": [
    "# Read the data"
   ]
  },
  {
   "cell_type": "code",
   "execution_count": 32,
   "metadata": {
    "collapsed": true
   },
   "outputs": [],
   "source": [
    "data_directory = '../data/datasets/'"
   ]
  },
  {
   "cell_type": "code",
   "execution_count": 33,
   "metadata": {
    "collapsed": true
   },
   "outputs": [],
   "source": [
    "unknown_category_label = 'unknown'"
   ]
  },
  {
   "cell_type": "code",
   "execution_count": 34,
   "metadata": {
    "collapsed": true
   },
   "outputs": [],
   "source": [
    "unknown_language_label = -1"
   ]
  },
  {
   "cell_type": "markdown",
   "metadata": {},
   "source": [
    "## Train"
   ]
  },
  {
   "cell_type": "code",
   "execution_count": 35,
   "metadata": {
    "collapsed": true
   },
   "outputs": [],
   "source": [
    "train = pd.read_csv(os.path.join(data_directory, 'train.csv'), engine='python')"
   ]
  },
  {
   "cell_type": "code",
   "execution_count": 36,
   "metadata": {},
   "outputs": [
    {
     "data": {
      "text/html": [
       "<div>\n",
       "<style scoped>\n",
       "    .dataframe tbody tr th:only-of-type {\n",
       "        vertical-align: middle;\n",
       "    }\n",
       "\n",
       "    .dataframe tbody tr th {\n",
       "        vertical-align: top;\n",
       "    }\n",
       "\n",
       "    .dataframe thead th {\n",
       "        text-align: right;\n",
       "    }\n",
       "</style>\n",
       "<table border=\"1\" class=\"dataframe\">\n",
       "  <thead>\n",
       "    <tr style=\"text-align: right;\">\n",
       "      <th></th>\n",
       "      <th>0</th>\n",
       "      <th>1</th>\n",
       "      <th>2</th>\n",
       "      <th>3</th>\n",
       "    </tr>\n",
       "  </thead>\n",
       "  <tbody>\n",
       "    <tr>\n",
       "      <th>msno</th>\n",
       "      <td>FGtllVqz18RPiwJj/edr2gV78zirAiY/9SmYvia+kCg=</td>\n",
       "      <td>Xumu+NIjS6QYVxDS4/t3SawvJ7viT9hPKXmf0RtLNx8=</td>\n",
       "      <td>Xumu+NIjS6QYVxDS4/t3SawvJ7viT9hPKXmf0RtLNx8=</td>\n",
       "      <td>Xumu+NIjS6QYVxDS4/t3SawvJ7viT9hPKXmf0RtLNx8=</td>\n",
       "    </tr>\n",
       "    <tr>\n",
       "      <th>song_id</th>\n",
       "      <td>BBzumQNXUHKdEBOB7mAJuzok+IJA1c2Ryg/yzTF6tik=</td>\n",
       "      <td>bhp/MpSNoqoxOIB+/l8WPqu6jldth4DIpCm3ayXnJqM=</td>\n",
       "      <td>JNWfrrC7zNN7BdMpsISKa4Mw+xVJYNnxXh3/Epw7QgY=</td>\n",
       "      <td>2A87tzfnJTSWqD7gIZHisolhe4DMdzkbd6LzO1KHjNs=</td>\n",
       "    </tr>\n",
       "    <tr>\n",
       "      <th>source_system_tab</th>\n",
       "      <td>explore</td>\n",
       "      <td>my library</td>\n",
       "      <td>my library</td>\n",
       "      <td>my library</td>\n",
       "    </tr>\n",
       "    <tr>\n",
       "      <th>source_screen_name</th>\n",
       "      <td>Explore</td>\n",
       "      <td>Local playlist more</td>\n",
       "      <td>Local playlist more</td>\n",
       "      <td>Local playlist more</td>\n",
       "    </tr>\n",
       "    <tr>\n",
       "      <th>source_type</th>\n",
       "      <td>online-playlist</td>\n",
       "      <td>local-playlist</td>\n",
       "      <td>local-playlist</td>\n",
       "      <td>local-playlist</td>\n",
       "    </tr>\n",
       "    <tr>\n",
       "      <th>target</th>\n",
       "      <td>1</td>\n",
       "      <td>1</td>\n",
       "      <td>1</td>\n",
       "      <td>1</td>\n",
       "    </tr>\n",
       "  </tbody>\n",
       "</table>\n",
       "</div>"
      ],
      "text/plain": [
       "                                                               0  \\\n",
       "msno                FGtllVqz18RPiwJj/edr2gV78zirAiY/9SmYvia+kCg=   \n",
       "song_id             BBzumQNXUHKdEBOB7mAJuzok+IJA1c2Ryg/yzTF6tik=   \n",
       "source_system_tab                                        explore   \n",
       "source_screen_name                                       Explore   \n",
       "source_type                                      online-playlist   \n",
       "target                                                         1   \n",
       "\n",
       "                                                               1  \\\n",
       "msno                Xumu+NIjS6QYVxDS4/t3SawvJ7viT9hPKXmf0RtLNx8=   \n",
       "song_id             bhp/MpSNoqoxOIB+/l8WPqu6jldth4DIpCm3ayXnJqM=   \n",
       "source_system_tab                                     my library   \n",
       "source_screen_name                           Local playlist more   \n",
       "source_type                                       local-playlist   \n",
       "target                                                         1   \n",
       "\n",
       "                                                               2  \\\n",
       "msno                Xumu+NIjS6QYVxDS4/t3SawvJ7viT9hPKXmf0RtLNx8=   \n",
       "song_id             JNWfrrC7zNN7BdMpsISKa4Mw+xVJYNnxXh3/Epw7QgY=   \n",
       "source_system_tab                                     my library   \n",
       "source_screen_name                           Local playlist more   \n",
       "source_type                                       local-playlist   \n",
       "target                                                         1   \n",
       "\n",
       "                                                               3  \n",
       "msno                Xumu+NIjS6QYVxDS4/t3SawvJ7viT9hPKXmf0RtLNx8=  \n",
       "song_id             2A87tzfnJTSWqD7gIZHisolhe4DMdzkbd6LzO1KHjNs=  \n",
       "source_system_tab                                     my library  \n",
       "source_screen_name                           Local playlist more  \n",
       "source_type                                       local-playlist  \n",
       "target                                                         1  "
      ]
     },
     "execution_count": 36,
     "metadata": {},
     "output_type": "execute_result"
    }
   ],
   "source": [
    "train.head(4).T"
   ]
  },
  {
   "cell_type": "code",
   "execution_count": 37,
   "metadata": {},
   "outputs": [
    {
     "name": "stdout",
     "output_type": "stream",
     "text": [
      "<class 'pandas.core.frame.DataFrame'>\n",
      "RangeIndex: 7377418 entries, 0 to 7377417\n",
      "Data columns (total 6 columns):\n",
      "msno                  7377418 non-null object\n",
      "song_id               7377418 non-null object\n",
      "source_system_tab     7352569 non-null object\n",
      "source_screen_name    6962614 non-null object\n",
      "source_type           7355879 non-null object\n",
      "target                7377418 non-null int64\n",
      "dtypes: int64(1), object(5)\n",
      "memory usage: 337.7+ MB\n"
     ]
    }
   ],
   "source": [
    "train.info(verbose=True, null_counts=True)"
   ]
  },
  {
   "cell_type": "markdown",
   "metadata": {},
   "source": [
    "## Test"
   ]
  },
  {
   "cell_type": "code",
   "execution_count": 38,
   "metadata": {
    "collapsed": true
   },
   "outputs": [],
   "source": [
    "test = pd.read_csv(os.path.join(data_directory, 'test.csv'), engine='python')"
   ]
  },
  {
   "cell_type": "code",
   "execution_count": 39,
   "metadata": {},
   "outputs": [
    {
     "data": {
      "text/html": [
       "<div>\n",
       "<style scoped>\n",
       "    .dataframe tbody tr th:only-of-type {\n",
       "        vertical-align: middle;\n",
       "    }\n",
       "\n",
       "    .dataframe tbody tr th {\n",
       "        vertical-align: top;\n",
       "    }\n",
       "\n",
       "    .dataframe thead th {\n",
       "        text-align: right;\n",
       "    }\n",
       "</style>\n",
       "<table border=\"1\" class=\"dataframe\">\n",
       "  <thead>\n",
       "    <tr style=\"text-align: right;\">\n",
       "      <th></th>\n",
       "      <th>0</th>\n",
       "      <th>1</th>\n",
       "      <th>2</th>\n",
       "      <th>3</th>\n",
       "    </tr>\n",
       "  </thead>\n",
       "  <tbody>\n",
       "    <tr>\n",
       "      <th>id</th>\n",
       "      <td>0</td>\n",
       "      <td>1</td>\n",
       "      <td>2</td>\n",
       "      <td>3</td>\n",
       "    </tr>\n",
       "    <tr>\n",
       "      <th>msno</th>\n",
       "      <td>V8ruy7SGk7tDm3zA51DPpn6qutt+vmKMBKa21dp54uM=</td>\n",
       "      <td>V8ruy7SGk7tDm3zA51DPpn6qutt+vmKMBKa21dp54uM=</td>\n",
       "      <td>/uQAlrAkaczV+nWCd2sPF2ekvXPRipV7q0l+gbLuxjw=</td>\n",
       "      <td>1a6oo/iXKatxQx4eS9zTVD+KlSVaAFbTIqVvwLC1Y0k=</td>\n",
       "    </tr>\n",
       "    <tr>\n",
       "      <th>song_id</th>\n",
       "      <td>WmHKgKMlp1lQMecNdNvDMkvIycZYHnFwDT72I5sIssc=</td>\n",
       "      <td>y/rsZ9DC7FwK5F2PK2D5mj+aOBUJAjuu3dZ14NgE0vM=</td>\n",
       "      <td>8eZLFOdGVdXBSqoAv5nsLigeH2BvKXzTQYtUM53I0k4=</td>\n",
       "      <td>ztCf8thYsS4YN3GcIL/bvoxLm/T5mYBVKOO4C9NiVfQ=</td>\n",
       "    </tr>\n",
       "    <tr>\n",
       "      <th>source_system_tab</th>\n",
       "      <td>my library</td>\n",
       "      <td>my library</td>\n",
       "      <td>discover</td>\n",
       "      <td>radio</td>\n",
       "    </tr>\n",
       "    <tr>\n",
       "      <th>source_screen_name</th>\n",
       "      <td>Local playlist more</td>\n",
       "      <td>Local playlist more</td>\n",
       "      <td>NaN</td>\n",
       "      <td>Radio</td>\n",
       "    </tr>\n",
       "    <tr>\n",
       "      <th>source_type</th>\n",
       "      <td>local-library</td>\n",
       "      <td>local-library</td>\n",
       "      <td>song-based-playlist</td>\n",
       "      <td>radio</td>\n",
       "    </tr>\n",
       "  </tbody>\n",
       "</table>\n",
       "</div>"
      ],
      "text/plain": [
       "                                                               0  \\\n",
       "id                                                             0   \n",
       "msno                V8ruy7SGk7tDm3zA51DPpn6qutt+vmKMBKa21dp54uM=   \n",
       "song_id             WmHKgKMlp1lQMecNdNvDMkvIycZYHnFwDT72I5sIssc=   \n",
       "source_system_tab                                     my library   \n",
       "source_screen_name                           Local playlist more   \n",
       "source_type                                        local-library   \n",
       "\n",
       "                                                               1  \\\n",
       "id                                                             1   \n",
       "msno                V8ruy7SGk7tDm3zA51DPpn6qutt+vmKMBKa21dp54uM=   \n",
       "song_id             y/rsZ9DC7FwK5F2PK2D5mj+aOBUJAjuu3dZ14NgE0vM=   \n",
       "source_system_tab                                     my library   \n",
       "source_screen_name                           Local playlist more   \n",
       "source_type                                        local-library   \n",
       "\n",
       "                                                               2  \\\n",
       "id                                                             2   \n",
       "msno                /uQAlrAkaczV+nWCd2sPF2ekvXPRipV7q0l+gbLuxjw=   \n",
       "song_id             8eZLFOdGVdXBSqoAv5nsLigeH2BvKXzTQYtUM53I0k4=   \n",
       "source_system_tab                                       discover   \n",
       "source_screen_name                                           NaN   \n",
       "source_type                                  song-based-playlist   \n",
       "\n",
       "                                                               3  \n",
       "id                                                             3  \n",
       "msno                1a6oo/iXKatxQx4eS9zTVD+KlSVaAFbTIqVvwLC1Y0k=  \n",
       "song_id             ztCf8thYsS4YN3GcIL/bvoxLm/T5mYBVKOO4C9NiVfQ=  \n",
       "source_system_tab                                          radio  \n",
       "source_screen_name                                         Radio  \n",
       "source_type                                                radio  "
      ]
     },
     "execution_count": 39,
     "metadata": {},
     "output_type": "execute_result"
    }
   ],
   "source": [
    "test.head(4).T"
   ]
  },
  {
   "cell_type": "code",
   "execution_count": 40,
   "metadata": {},
   "outputs": [
    {
     "name": "stdout",
     "output_type": "stream",
     "text": [
      "<class 'pandas.core.frame.DataFrame'>\n",
      "RangeIndex: 2556790 entries, 0 to 2556789\n",
      "Data columns (total 6 columns):\n",
      "id                    2556790 non-null int64\n",
      "msno                  2556790 non-null object\n",
      "song_id               2556790 non-null object\n",
      "source_system_tab     2548348 non-null object\n",
      "source_screen_name    2393907 non-null object\n",
      "source_type           2549493 non-null object\n",
      "dtypes: int64(1), object(5)\n",
      "memory usage: 117.0+ MB\n"
     ]
    }
   ],
   "source": [
    "test.info(verbose=True, null_counts=True)"
   ]
  },
  {
   "cell_type": "markdown",
   "metadata": {},
   "source": [
    "## Songs"
   ]
  },
  {
   "cell_type": "code",
   "execution_count": 41,
   "metadata": {
    "collapsed": true
   },
   "outputs": [],
   "source": [
    "songs = pd.read_csv(os.path.join(data_directory, 'songs.csv'))"
   ]
  },
  {
   "cell_type": "code",
   "execution_count": 42,
   "metadata": {
    "scrolled": true
   },
   "outputs": [
    {
     "data": {
      "text/html": [
       "<div>\n",
       "<style scoped>\n",
       "    .dataframe tbody tr th:only-of-type {\n",
       "        vertical-align: middle;\n",
       "    }\n",
       "\n",
       "    .dataframe tbody tr th {\n",
       "        vertical-align: top;\n",
       "    }\n",
       "\n",
       "    .dataframe thead th {\n",
       "        text-align: right;\n",
       "    }\n",
       "</style>\n",
       "<table border=\"1\" class=\"dataframe\">\n",
       "  <thead>\n",
       "    <tr style=\"text-align: right;\">\n",
       "      <th></th>\n",
       "      <th>0</th>\n",
       "      <th>1</th>\n",
       "      <th>2</th>\n",
       "      <th>3</th>\n",
       "    </tr>\n",
       "  </thead>\n",
       "  <tbody>\n",
       "    <tr>\n",
       "      <th>song_id</th>\n",
       "      <td>CXoTN1eb7AI+DntdU1vbcwGRV4SCIDxZu+YD8JP8r4E=</td>\n",
       "      <td>o0kFgae9QtnYgRkVPqLJwa05zIhRlUjfF7O1tDw0ZDU=</td>\n",
       "      <td>DwVvVurfpuz+XPuFvucclVQEyPqcpUkHR0ne1RQzPs0=</td>\n",
       "      <td>dKMBWoZyScdxSkihKG+Vf47nc18N9q4m58+b4e7dSSE=</td>\n",
       "    </tr>\n",
       "    <tr>\n",
       "      <th>song_length</th>\n",
       "      <td>247640</td>\n",
       "      <td>197328</td>\n",
       "      <td>231781</td>\n",
       "      <td>273554</td>\n",
       "    </tr>\n",
       "    <tr>\n",
       "      <th>genre_ids</th>\n",
       "      <td>465</td>\n",
       "      <td>444</td>\n",
       "      <td>465</td>\n",
       "      <td>465</td>\n",
       "    </tr>\n",
       "    <tr>\n",
       "      <th>artist_name</th>\n",
       "      <td>張信哲 (Jeff Chang)</td>\n",
       "      <td>BLACKPINK</td>\n",
       "      <td>SUPER JUNIOR</td>\n",
       "      <td>S.H.E</td>\n",
       "    </tr>\n",
       "    <tr>\n",
       "      <th>composer</th>\n",
       "      <td>董貞</td>\n",
       "      <td>TEDDY|  FUTURE BOUNCE|  Bekuh BOOM</td>\n",
       "      <td>NaN</td>\n",
       "      <td>湯小康</td>\n",
       "    </tr>\n",
       "    <tr>\n",
       "      <th>lyricist</th>\n",
       "      <td>何啟弘</td>\n",
       "      <td>TEDDY</td>\n",
       "      <td>NaN</td>\n",
       "      <td>徐世珍</td>\n",
       "    </tr>\n",
       "    <tr>\n",
       "      <th>language</th>\n",
       "      <td>3</td>\n",
       "      <td>31</td>\n",
       "      <td>31</td>\n",
       "      <td>3</td>\n",
       "    </tr>\n",
       "  </tbody>\n",
       "</table>\n",
       "</div>"
      ],
      "text/plain": [
       "                                                        0  \\\n",
       "song_id      CXoTN1eb7AI+DntdU1vbcwGRV4SCIDxZu+YD8JP8r4E=   \n",
       "song_length                                        247640   \n",
       "genre_ids                                             465   \n",
       "artist_name                              張信哲 (Jeff Chang)   \n",
       "composer                                               董貞   \n",
       "lyricist                                              何啟弘   \n",
       "language                                                3   \n",
       "\n",
       "                                                        1  \\\n",
       "song_id      o0kFgae9QtnYgRkVPqLJwa05zIhRlUjfF7O1tDw0ZDU=   \n",
       "song_length                                        197328   \n",
       "genre_ids                                             444   \n",
       "artist_name                                     BLACKPINK   \n",
       "composer               TEDDY|  FUTURE BOUNCE|  Bekuh BOOM   \n",
       "lyricist                                            TEDDY   \n",
       "language                                               31   \n",
       "\n",
       "                                                        2  \\\n",
       "song_id      DwVvVurfpuz+XPuFvucclVQEyPqcpUkHR0ne1RQzPs0=   \n",
       "song_length                                        231781   \n",
       "genre_ids                                             465   \n",
       "artist_name                                  SUPER JUNIOR   \n",
       "composer                                              NaN   \n",
       "lyricist                                              NaN   \n",
       "language                                               31   \n",
       "\n",
       "                                                        3  \n",
       "song_id      dKMBWoZyScdxSkihKG+Vf47nc18N9q4m58+b4e7dSSE=  \n",
       "song_length                                        273554  \n",
       "genre_ids                                             465  \n",
       "artist_name                                         S.H.E  \n",
       "composer                                              湯小康  \n",
       "lyricist                                              徐世珍  \n",
       "language                                                3  "
      ]
     },
     "execution_count": 42,
     "metadata": {},
     "output_type": "execute_result"
    }
   ],
   "source": [
    "songs.head(4).T"
   ]
  },
  {
   "cell_type": "code",
   "execution_count": 43,
   "metadata": {},
   "outputs": [
    {
     "name": "stdout",
     "output_type": "stream",
     "text": [
      "<class 'pandas.core.frame.DataFrame'>\n",
      "RangeIndex: 2296320 entries, 0 to 2296319\n",
      "Data columns (total 7 columns):\n",
      "song_id        2296320 non-null object\n",
      "song_length    2296320 non-null int64\n",
      "genre_ids      2202204 non-null object\n",
      "artist_name    2296320 non-null object\n",
      "composer       1224966 non-null object\n",
      "lyricist       351052 non-null object\n",
      "language       2296319 non-null float64\n",
      "dtypes: float64(1), int64(1), object(5)\n",
      "memory usage: 122.6+ MB\n"
     ]
    }
   ],
   "source": [
    "songs.info(verbose=True, null_counts=True)"
   ]
  },
  {
   "cell_type": "markdown",
   "metadata": {},
   "source": [
    "## Members"
   ]
  },
  {
   "cell_type": "code",
   "execution_count": 44,
   "metadata": {
    "collapsed": true
   },
   "outputs": [],
   "source": [
    "members = pd.read_csv(os.path.join(data_directory, 'members.csv'))"
   ]
  },
  {
   "cell_type": "code",
   "execution_count": 45,
   "metadata": {},
   "outputs": [
    {
     "data": {
      "text/html": [
       "<div>\n",
       "<style scoped>\n",
       "    .dataframe tbody tr th:only-of-type {\n",
       "        vertical-align: middle;\n",
       "    }\n",
       "\n",
       "    .dataframe tbody tr th {\n",
       "        vertical-align: top;\n",
       "    }\n",
       "\n",
       "    .dataframe thead th {\n",
       "        text-align: right;\n",
       "    }\n",
       "</style>\n",
       "<table border=\"1\" class=\"dataframe\">\n",
       "  <thead>\n",
       "    <tr style=\"text-align: right;\">\n",
       "      <th></th>\n",
       "      <th>0</th>\n",
       "      <th>1</th>\n",
       "      <th>2</th>\n",
       "      <th>3</th>\n",
       "    </tr>\n",
       "  </thead>\n",
       "  <tbody>\n",
       "    <tr>\n",
       "      <th>msno</th>\n",
       "      <td>XQxgAYj3klVKjR3oxPPXYYFp4soD4TuBghkhMTD4oTw=</td>\n",
       "      <td>UizsfmJb9mV54qE9hCYyU07Va97c0lCRLEQX3ae+ztM=</td>\n",
       "      <td>D8nEhsIOBSoE6VthTaqDX8U6lqjJ7dLdr72mOyLya2A=</td>\n",
       "      <td>mCuD+tZ1hERA/o5GPqk38e041J8ZsBaLcu7nGoIIvhI=</td>\n",
       "    </tr>\n",
       "    <tr>\n",
       "      <th>city</th>\n",
       "      <td>1</td>\n",
       "      <td>1</td>\n",
       "      <td>1</td>\n",
       "      <td>1</td>\n",
       "    </tr>\n",
       "    <tr>\n",
       "      <th>bd</th>\n",
       "      <td>0</td>\n",
       "      <td>0</td>\n",
       "      <td>0</td>\n",
       "      <td>0</td>\n",
       "    </tr>\n",
       "    <tr>\n",
       "      <th>gender</th>\n",
       "      <td>NaN</td>\n",
       "      <td>NaN</td>\n",
       "      <td>NaN</td>\n",
       "      <td>NaN</td>\n",
       "    </tr>\n",
       "    <tr>\n",
       "      <th>registered_via</th>\n",
       "      <td>7</td>\n",
       "      <td>7</td>\n",
       "      <td>4</td>\n",
       "      <td>9</td>\n",
       "    </tr>\n",
       "    <tr>\n",
       "      <th>registration_init_time</th>\n",
       "      <td>20110820</td>\n",
       "      <td>20150628</td>\n",
       "      <td>20160411</td>\n",
       "      <td>20150906</td>\n",
       "    </tr>\n",
       "    <tr>\n",
       "      <th>expiration_date</th>\n",
       "      <td>20170920</td>\n",
       "      <td>20170622</td>\n",
       "      <td>20170712</td>\n",
       "      <td>20150907</td>\n",
       "    </tr>\n",
       "  </tbody>\n",
       "</table>\n",
       "</div>"
      ],
      "text/plain": [
       "                                                                   0  \\\n",
       "msno                    XQxgAYj3klVKjR3oxPPXYYFp4soD4TuBghkhMTD4oTw=   \n",
       "city                                                               1   \n",
       "bd                                                                 0   \n",
       "gender                                                           NaN   \n",
       "registered_via                                                     7   \n",
       "registration_init_time                                      20110820   \n",
       "expiration_date                                             20170920   \n",
       "\n",
       "                                                                   1  \\\n",
       "msno                    UizsfmJb9mV54qE9hCYyU07Va97c0lCRLEQX3ae+ztM=   \n",
       "city                                                               1   \n",
       "bd                                                                 0   \n",
       "gender                                                           NaN   \n",
       "registered_via                                                     7   \n",
       "registration_init_time                                      20150628   \n",
       "expiration_date                                             20170622   \n",
       "\n",
       "                                                                   2  \\\n",
       "msno                    D8nEhsIOBSoE6VthTaqDX8U6lqjJ7dLdr72mOyLya2A=   \n",
       "city                                                               1   \n",
       "bd                                                                 0   \n",
       "gender                                                           NaN   \n",
       "registered_via                                                     4   \n",
       "registration_init_time                                      20160411   \n",
       "expiration_date                                             20170712   \n",
       "\n",
       "                                                                   3  \n",
       "msno                    mCuD+tZ1hERA/o5GPqk38e041J8ZsBaLcu7nGoIIvhI=  \n",
       "city                                                               1  \n",
       "bd                                                                 0  \n",
       "gender                                                           NaN  \n",
       "registered_via                                                     9  \n",
       "registration_init_time                                      20150906  \n",
       "expiration_date                                             20150907  "
      ]
     },
     "execution_count": 45,
     "metadata": {},
     "output_type": "execute_result"
    }
   ],
   "source": [
    "members.head(4).T"
   ]
  },
  {
   "cell_type": "code",
   "execution_count": 46,
   "metadata": {},
   "outputs": [
    {
     "name": "stdout",
     "output_type": "stream",
     "text": [
      "<class 'pandas.core.frame.DataFrame'>\n",
      "RangeIndex: 34403 entries, 0 to 34402\n",
      "Data columns (total 7 columns):\n",
      "msno                      34403 non-null object\n",
      "city                      34403 non-null int64\n",
      "bd                        34403 non-null int64\n",
      "gender                    14501 non-null object\n",
      "registered_via            34403 non-null int64\n",
      "registration_init_time    34403 non-null int64\n",
      "expiration_date           34403 non-null int64\n",
      "dtypes: int64(5), object(2)\n",
      "memory usage: 1.8+ MB\n"
     ]
    }
   ],
   "source": [
    "members.info(verbose=True, null_counts=True)"
   ]
  },
  {
   "cell_type": "markdown",
   "metadata": {},
   "source": [
    "## Sample submission"
   ]
  },
  {
   "cell_type": "code",
   "execution_count": 47,
   "metadata": {
    "collapsed": true
   },
   "outputs": [],
   "source": [
    "sample_submission = pd.read_csv(os.path.join(data_directory, 'sample_submission.csv'))"
   ]
  },
  {
   "cell_type": "code",
   "execution_count": 48,
   "metadata": {},
   "outputs": [
    {
     "data": {
      "text/html": [
       "<div>\n",
       "<style scoped>\n",
       "    .dataframe tbody tr th:only-of-type {\n",
       "        vertical-align: middle;\n",
       "    }\n",
       "\n",
       "    .dataframe tbody tr th {\n",
       "        vertical-align: top;\n",
       "    }\n",
       "\n",
       "    .dataframe thead th {\n",
       "        text-align: right;\n",
       "    }\n",
       "</style>\n",
       "<table border=\"1\" class=\"dataframe\">\n",
       "  <thead>\n",
       "    <tr style=\"text-align: right;\">\n",
       "      <th></th>\n",
       "      <th>0</th>\n",
       "      <th>1</th>\n",
       "      <th>2</th>\n",
       "      <th>3</th>\n",
       "    </tr>\n",
       "  </thead>\n",
       "  <tbody>\n",
       "    <tr>\n",
       "      <th>id</th>\n",
       "      <td>0.0</td>\n",
       "      <td>1.0</td>\n",
       "      <td>2.0</td>\n",
       "      <td>3.0</td>\n",
       "    </tr>\n",
       "    <tr>\n",
       "      <th>target</th>\n",
       "      <td>0.5</td>\n",
       "      <td>0.5</td>\n",
       "      <td>0.5</td>\n",
       "      <td>0.5</td>\n",
       "    </tr>\n",
       "  </tbody>\n",
       "</table>\n",
       "</div>"
      ],
      "text/plain": [
       "          0    1    2    3\n",
       "id      0.0  1.0  2.0  3.0\n",
       "target  0.5  0.5  0.5  0.5"
      ]
     },
     "execution_count": 48,
     "metadata": {},
     "output_type": "execute_result"
    }
   ],
   "source": [
    "sample_submission.head(4).T"
   ]
  },
  {
   "cell_type": "code",
   "execution_count": 49,
   "metadata": {
    "scrolled": false
   },
   "outputs": [
    {
     "name": "stdout",
     "output_type": "stream",
     "text": [
      "<class 'pandas.core.frame.DataFrame'>\n",
      "RangeIndex: 2556790 entries, 0 to 2556789\n",
      "Data columns (total 2 columns):\n",
      "id        2556790 non-null int64\n",
      "target    2556790 non-null float64\n",
      "dtypes: float64(1), int64(1)\n",
      "memory usage: 39.0 MB\n"
     ]
    }
   ],
   "source": [
    "sample_submission.info(verbose=True, null_counts=True)"
   ]
  },
  {
   "cell_type": "markdown",
   "metadata": {},
   "source": [
    "# Solutions"
   ]
  },
  {
   "cell_type": "markdown",
   "metadata": {},
   "source": [
    "## Train / Test split preparation"
   ]
  },
  {
   "cell_type": "code",
   "execution_count": 50,
   "metadata": {
    "collapsed": true
   },
   "outputs": [],
   "source": [
    "X, y = train[train.columns[:-1]], train[train.columns[-1]]"
   ]
  },
  {
   "cell_type": "code",
   "execution_count": 51,
   "metadata": {
    "collapsed": true
   },
   "outputs": [],
   "source": [
    "X_for_submission = test[test.columns]"
   ]
  },
  {
   "cell_type": "code",
   "execution_count": null,
   "metadata": {
    "collapsed": true
   },
   "outputs": [],
   "source": [
    "X.head(4).T"
   ]
  },
  {
   "cell_type": "code",
   "execution_count": null,
   "metadata": {
    "collapsed": true
   },
   "outputs": [],
   "source": [
    "y.head(4).T"
   ]
  },
  {
   "cell_type": "code",
   "execution_count": null,
   "metadata": {
    "collapsed": true
   },
   "outputs": [],
   "source": [
    "X_for_submission.head(4).T"
   ]
  },
  {
   "cell_type": "code",
   "execution_count": null,
   "metadata": {
    "collapsed": true
   },
   "outputs": [],
   "source": [
    "X[['msno', 'song_id']].values.shape"
   ]
  },
  {
   "cell_type": "code",
   "execution_count": null,
   "metadata": {
    "collapsed": true
   },
   "outputs": [],
   "source": [
    "X_train, X_test, y_train, y_test = train_test_split(\n",
    "    X,\n",
    "    y,\n",
    "    test_size=0.3,\n",
    "    random_state=42,\n",
    "    stratify=y\n",
    ")"
   ]
  },
  {
   "cell_type": "code",
   "execution_count": null,
   "metadata": {
    "collapsed": true
   },
   "outputs": [],
   "source": [
    "print(X_train.shape, y_train.shape)"
   ]
  },
  {
   "cell_type": "code",
   "execution_count": null,
   "metadata": {
    "collapsed": true
   },
   "outputs": [],
   "source": [
    "print(type(X_train), type(y_train))"
   ]
  },
  {
   "cell_type": "code",
   "execution_count": null,
   "metadata": {
    "collapsed": true
   },
   "outputs": [],
   "source": [
    "print(X_test.shape, y_test.shape)"
   ]
  },
  {
   "cell_type": "code",
   "execution_count": null,
   "metadata": {
    "collapsed": true
   },
   "outputs": [],
   "source": [
    "print(type(X_test), type(y_test))"
   ]
  },
  {
   "cell_type": "markdown",
   "metadata": {},
   "source": [
    "## Preprocessing steps description"
   ]
  },
  {
   "cell_type": "code",
   "execution_count": 52,
   "metadata": {
    "collapsed": true
   },
   "outputs": [],
   "source": [
    "categorical_features = [\n",
    "    'source_system_tab',\n",
    "    'source_screen_name',\n",
    "    'city',\n",
    "    'gender'\n",
    "]"
   ]
  },
  {
   "cell_type": "code",
   "execution_count": 53,
   "metadata": {
    "collapsed": true
   },
   "outputs": [],
   "source": [
    "categorical_features_lang = [\n",
    "    'language'\n",
    "]"
   ]
  },
  {
   "cell_type": "code",
   "execution_count": 54,
   "metadata": {
    "collapsed": true
   },
   "outputs": [],
   "source": [
    "numerical_features = [\n",
    "    'bd',\n",
    "    'song_length'\n",
    "]"
   ]
  },
  {
   "cell_type": "code",
   "execution_count": 55,
   "metadata": {
    "collapsed": true
   },
   "outputs": [],
   "source": [
    "numerical_features_days_reg = [\n",
    "    'days_registered'\n",
    "]"
   ]
  },
  {
   "cell_type": "code",
   "execution_count": 56,
   "metadata": {
    "collapsed": true
   },
   "outputs": [],
   "source": [
    "num_features_pipeline = Pipeline([\n",
    "    ('impute', SimpleImputer(missing_values=np.nan, strategy='mean')),\n",
    "    ('discretize', KBinsDiscretizer(n_bins=4, encode='onehot-dense'))\n",
    "])"
   ]
  },
  {
   "cell_type": "code",
   "execution_count": 57,
   "metadata": {
    "collapsed": true
   },
   "outputs": [],
   "source": [
    "num_features_pipeline_days_reg = Pipeline([\n",
    "    ('impute', SimpleImputer(missing_values=np.nan, strategy='constant', fill_value=0)),\n",
    "    ('discretize', KBinsDiscretizer(n_bins=4, encode='onehot-dense'))\n",
    "])"
   ]
  },
  {
   "cell_type": "code",
   "execution_count": 58,
   "metadata": {
    "collapsed": true
   },
   "outputs": [],
   "source": [
    "cat_features_pipeline = Pipeline([\n",
    "    ('impute', SimpleImputer(missing_values=np.nan, strategy='constant', fill_value=unknown_category_label)),\n",
    "    ('onehot', OneHotEncoder(handle_unknown='ignore', sparse=False))\n",
    "])"
   ]
  },
  {
   "cell_type": "code",
   "execution_count": 59,
   "metadata": {
    "collapsed": true
   },
   "outputs": [],
   "source": [
    "cat_features_pipeline_lang = Pipeline([\n",
    "    ('impute', SimpleImputer(missing_values=np.nan, strategy='constant', fill_value=unknown_language_label)),\n",
    "    ('onehot', OneHotEncoder(handle_unknown='ignore', sparse=False))\n",
    "])"
   ]
  },
  {
   "cell_type": "code",
   "execution_count": 60,
   "metadata": {
    "collapsed": true
   },
   "outputs": [],
   "source": [
    "preprocessor = ColumnTransformer(\n",
    "    transformers=[\n",
    "        ('num', num_features_pipeline, numerical_features),\n",
    "        ('num_days_reg', num_features_pipeline_days_reg, numerical_features_days_reg),\n",
    "        ('cat', cat_features_pipeline, categorical_features),\n",
    "        ('cat_lang', cat_features_pipeline_lang, categorical_features_lang)\n",
    "    ]\n",
    ")"
   ]
  },
  {
   "cell_type": "code",
   "execution_count": 61,
   "metadata": {
    "collapsed": true
   },
   "outputs": [],
   "source": [
    "unified_pipeline = Pipeline(\n",
    "    steps=[\n",
    "        ('add_meta_info', MetaFeaturesExtractor(user_meta=members, item_meta=songs)),\n",
    "        ('preprocessing', preprocessor)\n",
    "    ]\n",
    ")"
   ]
  },
  {
   "cell_type": "markdown",
   "metadata": {
    "heading_collapsed": true
   },
   "source": [
    "## Naive frequency approach"
   ]
  },
  {
   "cell_type": "code",
   "execution_count": null,
   "metadata": {
    "collapsed": true,
    "hidden": true
   },
   "outputs": [],
   "source": [
    "naive_frequency_recommender = SongFrequencyBasedRecommender()"
   ]
  },
  {
   "cell_type": "code",
   "execution_count": null,
   "metadata": {
    "collapsed": true,
    "hidden": true
   },
   "outputs": [],
   "source": [
    "naive_frequency_recommender.fit(X_train, y_train)"
   ]
  },
  {
   "cell_type": "code",
   "execution_count": null,
   "metadata": {
    "collapsed": true,
    "hidden": true
   },
   "outputs": [],
   "source": [
    "y_pred = naive_frequency_recommender.predict_proba(X_test)"
   ]
  },
  {
   "cell_type": "code",
   "execution_count": null,
   "metadata": {
    "collapsed": true,
    "hidden": true
   },
   "outputs": [],
   "source": [
    "fpr, tpr, _ = roc_curve(y_test, y_pred)"
   ]
  },
  {
   "cell_type": "code",
   "execution_count": null,
   "metadata": {
    "collapsed": true,
    "hidden": true,
    "scrolled": false
   },
   "outputs": [],
   "source": [
    "plot_roc_auc(fpr, tpr, 'Naive frequency approach')"
   ]
  },
  {
   "cell_type": "markdown",
   "metadata": {
    "heading_collapsed": true
   },
   "source": [
    "## SVD"
   ]
  },
  {
   "cell_type": "code",
   "execution_count": null,
   "metadata": {
    "collapsed": true,
    "hidden": true
   },
   "outputs": [],
   "source": [
    "svd_recommender = SVDBasedRecommender()"
   ]
  },
  {
   "cell_type": "code",
   "execution_count": null,
   "metadata": {
    "collapsed": true,
    "hidden": true
   },
   "outputs": [],
   "source": [
    "svd_recommender.fit(X_train, y_train)"
   ]
  },
  {
   "cell_type": "code",
   "execution_count": null,
   "metadata": {
    "collapsed": true,
    "hidden": true
   },
   "outputs": [],
   "source": [
    "y_pred = svd_recommender.predict_proba(X_test)"
   ]
  },
  {
   "cell_type": "code",
   "execution_count": null,
   "metadata": {
    "collapsed": true,
    "hidden": true
   },
   "outputs": [],
   "source": [
    "fpr, tpr, _ = roc_curve(y_test, y_pred)"
   ]
  },
  {
   "cell_type": "code",
   "execution_count": null,
   "metadata": {
    "collapsed": true,
    "hidden": true
   },
   "outputs": [],
   "source": [
    "plot_roc_auc(fpr, tpr, 'SVD approach')"
   ]
  },
  {
   "cell_type": "markdown",
   "metadata": {
    "heading_collapsed": true
   },
   "source": [
    "## FM"
   ]
  },
  {
   "cell_type": "code",
   "execution_count": null,
   "metadata": {
    "collapsed": true,
    "hidden": true
   },
   "outputs": [],
   "source": [
    "fm_classifier_pipeline = Pipeline(\n",
    "    steps=[\n",
    "        ('data_preparation', unified_pipeline),\n",
    "        ('classification', FactorizationMachineBasedRecommender(show_progress=True))\n",
    "    ]\n",
    ")"
   ]
  },
  {
   "cell_type": "code",
   "execution_count": null,
   "metadata": {
    "collapsed": true,
    "hidden": true
   },
   "outputs": [],
   "source": [
    "fm_classifier_pipeline.fit(X_train, y_train.values)"
   ]
  },
  {
   "cell_type": "code",
   "execution_count": null,
   "metadata": {
    "collapsed": true,
    "hidden": true
   },
   "outputs": [],
   "source": [
    "y_pred = fm_classifier_pipeline.predict_proba(X_test)"
   ]
  },
  {
   "cell_type": "code",
   "execution_count": null,
   "metadata": {
    "collapsed": true,
    "hidden": true
   },
   "outputs": [],
   "source": [
    "y_pred.shape"
   ]
  },
  {
   "cell_type": "code",
   "execution_count": null,
   "metadata": {
    "collapsed": true,
    "hidden": true
   },
   "outputs": [],
   "source": [
    "fpr, tpr, _ = roc_curve(y_test, y_pred)"
   ]
  },
  {
   "cell_type": "code",
   "execution_count": null,
   "metadata": {
    "collapsed": true,
    "hidden": true
   },
   "outputs": [],
   "source": [
    "plot_roc_auc(fpr, tpr, 'Factorization machine approach')"
   ]
  },
  {
   "cell_type": "markdown",
   "metadata": {
    "heading_collapsed": true
   },
   "source": [
    "## LightGBM"
   ]
  },
  {
   "cell_type": "code",
   "execution_count": null,
   "metadata": {
    "collapsed": true,
    "hidden": true
   },
   "outputs": [],
   "source": [
    "lgb_classifier_pipeline = Pipeline(\n",
    "    steps=[\n",
    "        ('data_preparation', unified_pipeline),\n",
    "        ('classification', LightGBMBasedRecommender())\n",
    "    ]\n",
    ")"
   ]
  },
  {
   "cell_type": "code",
   "execution_count": null,
   "metadata": {
    "collapsed": true,
    "hidden": true,
    "scrolled": false
   },
   "outputs": [],
   "source": [
    "lgb_classifier_pipeline.fit(X_train, y_train.values)"
   ]
  },
  {
   "cell_type": "code",
   "execution_count": null,
   "metadata": {
    "collapsed": true,
    "hidden": true
   },
   "outputs": [],
   "source": [
    "y_pred = lgb_classifier_pipeline.predict_proba(X_test)"
   ]
  },
  {
   "cell_type": "code",
   "execution_count": null,
   "metadata": {
    "collapsed": true,
    "hidden": true
   },
   "outputs": [],
   "source": [
    "y_pred.shape"
   ]
  },
  {
   "cell_type": "code",
   "execution_count": null,
   "metadata": {
    "collapsed": true,
    "hidden": true
   },
   "outputs": [],
   "source": [
    "fpr, tpr, _ = roc_curve(y_test, y_pred)"
   ]
  },
  {
   "cell_type": "code",
   "execution_count": null,
   "metadata": {
    "collapsed": true,
    "hidden": true
   },
   "outputs": [],
   "source": [
    "plot_roc_auc(fpr, tpr, 'LightGBM classifier approach')"
   ]
  },
  {
   "cell_type": "markdown",
   "metadata": {
    "heading_collapsed": true
   },
   "source": [
    "## XGBoost"
   ]
  },
  {
   "cell_type": "code",
   "execution_count": null,
   "metadata": {
    "collapsed": true,
    "hidden": true
   },
   "outputs": [],
   "source": [
    "xgb_classifier_pipeline = Pipeline(\n",
    "    steps=[\n",
    "        ('data_preparation', unified_pipeline),\n",
    "        ('classification', XGBoostBasedRecommender())\n",
    "    ]\n",
    ")"
   ]
  },
  {
   "cell_type": "code",
   "execution_count": null,
   "metadata": {
    "collapsed": true,
    "hidden": true,
    "scrolled": false
   },
   "outputs": [],
   "source": [
    "xgb_classifier_pipeline.fit(X_train, y_train.values)"
   ]
  },
  {
   "cell_type": "code",
   "execution_count": null,
   "metadata": {
    "collapsed": true,
    "hidden": true
   },
   "outputs": [],
   "source": [
    "y_pred = xgb_classifier_pipeline.predict_proba(X_test)"
   ]
  },
  {
   "cell_type": "code",
   "execution_count": null,
   "metadata": {
    "collapsed": true,
    "hidden": true
   },
   "outputs": [],
   "source": [
    "y_pred.shape"
   ]
  },
  {
   "cell_type": "code",
   "execution_count": null,
   "metadata": {
    "collapsed": true,
    "hidden": true
   },
   "outputs": [],
   "source": [
    "fpr, tpr, _ = roc_curve(y_test, y_pred)"
   ]
  },
  {
   "cell_type": "code",
   "execution_count": null,
   "metadata": {
    "collapsed": true,
    "hidden": true
   },
   "outputs": [],
   "source": [
    "plot_roc_auc(fpr, tpr, 'XGBoost classifier approach')"
   ]
  },
  {
   "cell_type": "markdown",
   "metadata": {},
   "source": [
    "## StarSpace"
   ]
  },
  {
   "cell_type": "code",
   "execution_count": 72,
   "metadata": {
    "collapsed": true
   },
   "outputs": [],
   "source": [
    "star_space_num_features_pipeline = Pipeline([\n",
    "    ('impute', SimpleImputer(missing_values=np.nan, strategy='mean')),\n",
    "    ('discretize', KBinsDiscretizer(n_bins=4, encode='ordinal'))\n",
    "])"
   ]
  },
  {
   "cell_type": "code",
   "execution_count": 73,
   "metadata": {
    "collapsed": true
   },
   "outputs": [],
   "source": [
    "star_space_num_features_pipeline_days_reg = Pipeline([\n",
    "    ('impute', SimpleImputer(missing_values=np.nan, strategy='constant', fill_value=0)),\n",
    "    ('discretize', KBinsDiscretizer(n_bins=4, encode='ordinal'))\n",
    "])"
   ]
  },
  {
   "cell_type": "code",
   "execution_count": 74,
   "metadata": {
    "collapsed": true
   },
   "outputs": [],
   "source": [
    "star_space_cat_features_pipeline = Pipeline([\n",
    "    ('impute', SimpleImputer(missing_values=np.nan, strategy='constant', fill_value=unknown_category_label)),\n",
    "    ('encode', OrdinalEncoder())\n",
    "])"
   ]
  },
  {
   "cell_type": "code",
   "execution_count": 75,
   "metadata": {
    "collapsed": true
   },
   "outputs": [],
   "source": [
    "star_space_cat_features_pipeline_lang = Pipeline([\n",
    "    ('impute', SimpleImputer(missing_values=np.nan, strategy='constant', fill_value=unknown_language_label)),\n",
    "    ('encode', OrdinalEncoder())\n",
    "])"
   ]
  },
  {
   "cell_type": "code",
   "execution_count": 76,
   "metadata": {
    "collapsed": true
   },
   "outputs": [],
   "source": [
    "star_space_preprocessor = ColumnTransformer(\n",
    "    transformers=[\n",
    "        ('num', star_space_num_features_pipeline, numerical_features),\n",
    "        ('num_days_reg', star_space_num_features_pipeline_days_reg, numerical_features_days_reg),\n",
    "        ('cat', star_space_cat_features_pipeline, categorical_features),\n",
    "        ('cat_lang', star_space_cat_features_pipeline_lang, categorical_features_lang)\n",
    "    ]\n",
    ")"
   ]
  },
  {
   "cell_type": "code",
   "execution_count": 77,
   "metadata": {
    "collapsed": true
   },
   "outputs": [],
   "source": [
    "star_space_unified_pipeline = Pipeline(\n",
    "    steps=[\n",
    "        ('add_meta_info', MetaFeaturesExtractor(user_meta=members, item_meta=songs)),\n",
    "        ('preprocessing', star_space_preprocessor)\n",
    "    ]\n",
    ")"
   ]
  },
  {
   "cell_type": "code",
   "execution_count": 78,
   "metadata": {
    "collapsed": true
   },
   "outputs": [],
   "source": [
    "X_star_space = star_space_unified_pipeline.fit_transform(X, y)"
   ]
  },
  {
   "cell_type": "code",
   "execution_count": 79,
   "metadata": {},
   "outputs": [
    {
     "data": {
      "text/plain": [
       "(7377418, 5)"
      ]
     },
     "execution_count": 79,
     "metadata": {},
     "output_type": "execute_result"
    }
   ],
   "source": [
    "X.shape"
   ]
  },
  {
   "cell_type": "code",
   "execution_count": 80,
   "metadata": {},
   "outputs": [
    {
     "data": {
      "text/plain": [
       "['bd',\n",
       " 'song_length',\n",
       " 'days_registered',\n",
       " 'source_system_tab',\n",
       " 'source_screen_name',\n",
       " 'city',\n",
       " 'gender',\n",
       " 'language']"
      ]
     },
     "execution_count": 80,
     "metadata": {},
     "output_type": "execute_result"
    }
   ],
   "source": [
    "numerical_features + numerical_features_days_reg + categorical_features + categorical_features_lang"
   ]
  },
  {
   "cell_type": "code",
   "execution_count": 81,
   "metadata": {},
   "outputs": [
    {
     "data": {
      "text/plain": [
       "(7377418, 8)"
      ]
     },
     "execution_count": 81,
     "metadata": {},
     "output_type": "execute_result"
    }
   ],
   "source": [
    "X_star_space.shape"
   ]
  },
  {
   "cell_type": "code",
   "execution_count": 82,
   "metadata": {
    "collapsed": true
   },
   "outputs": [],
   "source": [
    "X_star_space = pd.DataFrame(X_star_space, columns=numerical_features + numerical_features_days_reg + categorical_features + categorical_features_lang)"
   ]
  },
  {
   "cell_type": "code",
   "execution_count": 83,
   "metadata": {},
   "outputs": [
    {
     "data": {
      "text/html": [
       "<div>\n",
       "<style scoped>\n",
       "    .dataframe tbody tr th:only-of-type {\n",
       "        vertical-align: middle;\n",
       "    }\n",
       "\n",
       "    .dataframe tbody tr th {\n",
       "        vertical-align: top;\n",
       "    }\n",
       "\n",
       "    .dataframe thead th {\n",
       "        text-align: right;\n",
       "    }\n",
       "</style>\n",
       "<table border=\"1\" class=\"dataframe\">\n",
       "  <thead>\n",
       "    <tr style=\"text-align: right;\">\n",
       "      <th></th>\n",
       "      <th>bd</th>\n",
       "      <th>song_length</th>\n",
       "      <th>days_registered</th>\n",
       "      <th>source_system_tab</th>\n",
       "      <th>source_screen_name</th>\n",
       "      <th>city</th>\n",
       "      <th>gender</th>\n",
       "      <th>language</th>\n",
       "    </tr>\n",
       "  </thead>\n",
       "  <tbody>\n",
       "    <tr>\n",
       "      <th>0</th>\n",
       "      <td>1.0</td>\n",
       "      <td>0.0</td>\n",
       "      <td>2.0</td>\n",
       "      <td>1.0</td>\n",
       "      <td>7.0</td>\n",
       "      <td>0.0</td>\n",
       "      <td>2.0</td>\n",
       "      <td>8.0</td>\n",
       "    </tr>\n",
       "    <tr>\n",
       "      <th>1</th>\n",
       "      <td>2.0</td>\n",
       "      <td>3.0</td>\n",
       "      <td>3.0</td>\n",
       "      <td>3.0</td>\n",
       "      <td>8.0</td>\n",
       "      <td>11.0</td>\n",
       "      <td>0.0</td>\n",
       "      <td>8.0</td>\n",
       "    </tr>\n",
       "    <tr>\n",
       "      <th>2</th>\n",
       "      <td>2.0</td>\n",
       "      <td>1.0</td>\n",
       "      <td>3.0</td>\n",
       "      <td>3.0</td>\n",
       "      <td>8.0</td>\n",
       "      <td>11.0</td>\n",
       "      <td>0.0</td>\n",
       "      <td>8.0</td>\n",
       "    </tr>\n",
       "    <tr>\n",
       "      <th>3</th>\n",
       "      <td>2.0</td>\n",
       "      <td>2.0</td>\n",
       "      <td>3.0</td>\n",
       "      <td>3.0</td>\n",
       "      <td>8.0</td>\n",
       "      <td>11.0</td>\n",
       "      <td>0.0</td>\n",
       "      <td>0.0</td>\n",
       "    </tr>\n",
       "    <tr>\n",
       "      <th>4</th>\n",
       "      <td>1.0</td>\n",
       "      <td>0.0</td>\n",
       "      <td>2.0</td>\n",
       "      <td>1.0</td>\n",
       "      <td>7.0</td>\n",
       "      <td>0.0</td>\n",
       "      <td>2.0</td>\n",
       "      <td>8.0</td>\n",
       "    </tr>\n",
       "  </tbody>\n",
       "</table>\n",
       "</div>"
      ],
      "text/plain": [
       "    bd  song_length  days_registered  source_system_tab  source_screen_name  \\\n",
       "0  1.0          0.0              2.0                1.0                 7.0   \n",
       "1  2.0          3.0              3.0                3.0                 8.0   \n",
       "2  2.0          1.0              3.0                3.0                 8.0   \n",
       "3  2.0          2.0              3.0                3.0                 8.0   \n",
       "4  1.0          0.0              2.0                1.0                 7.0   \n",
       "\n",
       "   city  gender  language  \n",
       "0   0.0     2.0       8.0  \n",
       "1  11.0     0.0       8.0  \n",
       "2  11.0     0.0       8.0  \n",
       "3  11.0     0.0       0.0  \n",
       "4   0.0     2.0       8.0  "
      ]
     },
     "execution_count": 83,
     "metadata": {},
     "output_type": "execute_result"
    }
   ],
   "source": [
    "X_star_space.head()"
   ]
  },
  {
   "cell_type": "code",
   "execution_count": 84,
   "metadata": {},
   "outputs": [
    {
     "name": "stdout",
     "output_type": "stream",
     "text": [
      "<class 'pandas.core.frame.DataFrame'>\n",
      "RangeIndex: 7377418 entries, 0 to 7377417\n",
      "Data columns (total 8 columns):\n",
      "bd                    7377418 non-null float64\n",
      "song_length           7377418 non-null float64\n",
      "days_registered       7377418 non-null float64\n",
      "source_system_tab     7377418 non-null float64\n",
      "source_screen_name    7377418 non-null float64\n",
      "city                  7377418 non-null float64\n",
      "gender                7377418 non-null float64\n",
      "language              7377418 non-null float64\n",
      "dtypes: float64(8)\n",
      "memory usage: 450.3 MB\n"
     ]
    }
   ],
   "source": [
    "X_star_space.info(verbose=True, null_counts=True)"
   ]
  },
  {
   "cell_type": "code",
   "execution_count": 85,
   "metadata": {
    "collapsed": true
   },
   "outputs": [],
   "source": [
    "X_star_space.bd = X_star_space.bd.astype(np.int32)\n",
    "X_star_space.song_length = X_star_space.song_length.astype(np.int32)\n",
    "X_star_space.days_registered = X_star_space.days_registered.astype(np.int32)\n",
    "X_star_space.source_system_tab = X_star_space.source_system_tab.astype(np.int32)\n",
    "X_star_space.source_screen_name = X_star_space.source_screen_name.astype(np.int32)\n",
    "X_star_space.city = X_star_space.city.astype(np.int32)\n",
    "X_star_space.gender = X_star_space.gender.astype(np.int32)\n",
    "X_star_space.language = X_star_space.language.astype(np.int32)"
   ]
  },
  {
   "cell_type": "code",
   "execution_count": 86,
   "metadata": {},
   "outputs": [
    {
     "name": "stdout",
     "output_type": "stream",
     "text": [
      "<class 'pandas.core.frame.DataFrame'>\n",
      "RangeIndex: 7377418 entries, 0 to 7377417\n",
      "Data columns (total 8 columns):\n",
      "bd                    7377418 non-null int32\n",
      "song_length           7377418 non-null int32\n",
      "days_registered       7377418 non-null int32\n",
      "source_system_tab     7377418 non-null int32\n",
      "source_screen_name    7377418 non-null int32\n",
      "city                  7377418 non-null int32\n",
      "gender                7377418 non-null int32\n",
      "language              7377418 non-null int32\n",
      "dtypes: int32(8)\n",
      "memory usage: 225.1 MB\n"
     ]
    }
   ],
   "source": [
    "X_star_space.info(verbose=True, null_counts=True)"
   ]
  },
  {
   "cell_type": "code",
   "execution_count": 87,
   "metadata": {
    "collapsed": true
   },
   "outputs": [],
   "source": [
    "curr = 0"
   ]
  },
  {
   "cell_type": "code",
   "execution_count": 88,
   "metadata": {
    "collapsed": true
   },
   "outputs": [],
   "source": [
    "bd_map = dict(zip(X_star_space.bd.unique(), range(curr, curr + len(X_star_space.bd.unique()))))\n",
    "curr += len(X_star_space.bd.unique())"
   ]
  },
  {
   "cell_type": "code",
   "execution_count": 89,
   "metadata": {
    "collapsed": true
   },
   "outputs": [],
   "source": [
    "song_length_map = dict(zip(X_star_space.song_length.unique(), range(curr, curr + len(X_star_space.song_length.unique()))))\n",
    "curr += len(X_star_space.song_length.unique())"
   ]
  },
  {
   "cell_type": "code",
   "execution_count": 90,
   "metadata": {
    "collapsed": true
   },
   "outputs": [],
   "source": [
    "days_registered_map = dict(zip(X_star_space.days_registered.unique(), range(curr, curr + len(X_star_space.days_registered.unique()))))\n",
    "curr += len(X_star_space.days_registered.unique())"
   ]
  },
  {
   "cell_type": "code",
   "execution_count": 91,
   "metadata": {
    "collapsed": true
   },
   "outputs": [],
   "source": [
    "source_system_tab_map = dict(zip(X_star_space.source_system_tab.unique(), range(curr, curr + len(X_star_space.source_system_tab.unique()))))\n",
    "curr += len(X_star_space.source_system_tab.unique())"
   ]
  },
  {
   "cell_type": "code",
   "execution_count": 92,
   "metadata": {
    "collapsed": true
   },
   "outputs": [],
   "source": [
    "source_screen_name_map = dict(zip(X_star_space.source_screen_name.unique(), range(curr, curr + len(X_star_space.source_screen_name.unique()))))\n",
    "curr += len(X_star_space.source_screen_name.unique())"
   ]
  },
  {
   "cell_type": "code",
   "execution_count": 93,
   "metadata": {
    "collapsed": true
   },
   "outputs": [],
   "source": [
    "city_map = dict(zip(X_star_space.city.unique(), range(curr, curr + len(X_star_space.city.unique()))))\n",
    "curr += len(X_star_space.city.unique())"
   ]
  },
  {
   "cell_type": "code",
   "execution_count": 94,
   "metadata": {
    "collapsed": true
   },
   "outputs": [],
   "source": [
    "gender_map = dict(zip(X_star_space.gender.unique(), range(curr, curr + len(X_star_space.gender.unique()))))\n",
    "curr += len(X_star_space.gender.unique())"
   ]
  },
  {
   "cell_type": "code",
   "execution_count": 95,
   "metadata": {
    "collapsed": true
   },
   "outputs": [],
   "source": [
    "language_map = dict(zip(X_star_space.language.unique(), range(curr, curr + len(X_star_space.language.unique()))))"
   ]
  },
  {
   "cell_type": "code",
   "execution_count": 96,
   "metadata": {},
   "outputs": [
    {
     "data": {
      "text/plain": [
       "{0: 3, 1: 0, 2: 1, 3: 2}"
      ]
     },
     "execution_count": 96,
     "metadata": {},
     "output_type": "execute_result"
    }
   ],
   "source": [
    "bd_map"
   ]
  },
  {
   "cell_type": "code",
   "execution_count": 97,
   "metadata": {},
   "outputs": [
    {
     "data": {
      "text/plain": [
       "{0: 4, 1: 6, 2: 7, 3: 5}"
      ]
     },
     "execution_count": 97,
     "metadata": {},
     "output_type": "execute_result"
    }
   ],
   "source": [
    "song_length_map"
   ]
  },
  {
   "cell_type": "code",
   "execution_count": 98,
   "metadata": {},
   "outputs": [
    {
     "data": {
      "text/plain": [
       "{0: 11, 1: 10, 2: 8, 3: 9}"
      ]
     },
     "execution_count": 98,
     "metadata": {},
     "output_type": "execute_result"
    }
   ],
   "source": [
    "days_registered_map"
   ]
  },
  {
   "cell_type": "code",
   "execution_count": 99,
   "metadata": {},
   "outputs": [
    {
     "data": {
      "text/plain": [
       "{0: 15, 1: 12, 2: 18, 3: 13, 4: 19, 5: 17, 6: 14, 7: 20, 8: 16}"
      ]
     },
     "execution_count": 99,
     "metadata": {},
     "output_type": "execute_result"
    }
   ],
   "source": [
    "source_system_tab_map"
   ]
  },
  {
   "cell_type": "code",
   "execution_count": 100,
   "metadata": {},
   "outputs": [
    {
     "data": {
      "text/plain": [
       "{0: 26,\n",
       " 1: 31,\n",
       " 2: 40,\n",
       " 3: 29,\n",
       " 4: 27,\n",
       " 5: 35,\n",
       " 6: 38,\n",
       " 7: 21,\n",
       " 8: 22,\n",
       " 9: 24,\n",
       " 10: 36,\n",
       " 11: 25,\n",
       " 12: 33,\n",
       " 13: 41,\n",
       " 14: 30,\n",
       " 15: 32,\n",
       " 16: 37,\n",
       " 17: 34,\n",
       " 18: 39,\n",
       " 19: 28,\n",
       " 20: 23}"
      ]
     },
     "execution_count": 100,
     "metadata": {},
     "output_type": "execute_result"
    }
   ],
   "source": [
    "source_screen_name_map"
   ]
  },
  {
   "cell_type": "code",
   "execution_count": 101,
   "metadata": {},
   "outputs": [
    {
     "data": {
      "text/plain": [
       "{0: 42,\n",
       " 1: 58,\n",
       " 2: 50,\n",
       " 3: 45,\n",
       " 4: 51,\n",
       " 5: 59,\n",
       " 6: 55,\n",
       " 7: 46,\n",
       " 8: 54,\n",
       " 9: 56,\n",
       " 10: 49,\n",
       " 11: 43,\n",
       " 12: 52,\n",
       " 13: 44,\n",
       " 14: 61,\n",
       " 15: 53,\n",
       " 16: 57,\n",
       " 17: 62,\n",
       " 18: 60,\n",
       " 19: 47,\n",
       " 20: 48}"
      ]
     },
     "execution_count": 101,
     "metadata": {},
     "output_type": "execute_result"
    }
   ],
   "source": [
    "city_map"
   ]
  },
  {
   "cell_type": "code",
   "execution_count": 102,
   "metadata": {},
   "outputs": [
    {
     "data": {
      "text/plain": [
       "{0: 64, 1: 65, 2: 63}"
      ]
     },
     "execution_count": 102,
     "metadata": {},
     "output_type": "execute_result"
    }
   ],
   "source": [
    "gender_map"
   ]
  },
  {
   "cell_type": "code",
   "execution_count": 103,
   "metadata": {},
   "outputs": [
    {
     "data": {
      "text/plain": [
       "{0: 67, 1: 69, 2: 71, 3: 70, 4: 72, 5: 68, 6: 75, 7: 74, 8: 66, 9: 73}"
      ]
     },
     "execution_count": 103,
     "metadata": {},
     "output_type": "execute_result"
    }
   ],
   "source": [
    "language_map"
   ]
  },
  {
   "cell_type": "code",
   "execution_count": 104,
   "metadata": {
    "collapsed": true
   },
   "outputs": [],
   "source": [
    "X_star_space.bd = X_star_space.bd.map(bd_map)\n",
    "X_star_space.song_length = X_star_space.song_length.map(song_length_map)\n",
    "X_star_space.days_registered = X_star_space.days_registered.map(days_registered_map)\n",
    "X_star_space.source_system_tab = X_star_space.source_system_tab.map(source_system_tab_map)\n",
    "X_star_space.source_screen_name = X_star_space.source_screen_name.map(source_screen_name_map)\n",
    "X_star_space.city = X_star_space.city.map(city_map)\n",
    "X_star_space.gender = X_star_space.gender.map(gender_map)\n",
    "X_star_space.language = X_star_space.language.map(language_map)"
   ]
  },
  {
   "cell_type": "code",
   "execution_count": 105,
   "metadata": {},
   "outputs": [
    {
     "data": {
      "text/html": [
       "<div>\n",
       "<style scoped>\n",
       "    .dataframe tbody tr th:only-of-type {\n",
       "        vertical-align: middle;\n",
       "    }\n",
       "\n",
       "    .dataframe tbody tr th {\n",
       "        vertical-align: top;\n",
       "    }\n",
       "\n",
       "    .dataframe thead th {\n",
       "        text-align: right;\n",
       "    }\n",
       "</style>\n",
       "<table border=\"1\" class=\"dataframe\">\n",
       "  <thead>\n",
       "    <tr style=\"text-align: right;\">\n",
       "      <th></th>\n",
       "      <th>bd</th>\n",
       "      <th>song_length</th>\n",
       "      <th>days_registered</th>\n",
       "      <th>source_system_tab</th>\n",
       "      <th>source_screen_name</th>\n",
       "      <th>city</th>\n",
       "      <th>gender</th>\n",
       "      <th>language</th>\n",
       "    </tr>\n",
       "  </thead>\n",
       "  <tbody>\n",
       "    <tr>\n",
       "      <th>0</th>\n",
       "      <td>0</td>\n",
       "      <td>4</td>\n",
       "      <td>8</td>\n",
       "      <td>12</td>\n",
       "      <td>21</td>\n",
       "      <td>42</td>\n",
       "      <td>63</td>\n",
       "      <td>66</td>\n",
       "    </tr>\n",
       "    <tr>\n",
       "      <th>1</th>\n",
       "      <td>1</td>\n",
       "      <td>5</td>\n",
       "      <td>9</td>\n",
       "      <td>13</td>\n",
       "      <td>22</td>\n",
       "      <td>43</td>\n",
       "      <td>64</td>\n",
       "      <td>66</td>\n",
       "    </tr>\n",
       "    <tr>\n",
       "      <th>2</th>\n",
       "      <td>1</td>\n",
       "      <td>6</td>\n",
       "      <td>9</td>\n",
       "      <td>13</td>\n",
       "      <td>22</td>\n",
       "      <td>43</td>\n",
       "      <td>64</td>\n",
       "      <td>66</td>\n",
       "    </tr>\n",
       "    <tr>\n",
       "      <th>3</th>\n",
       "      <td>1</td>\n",
       "      <td>7</td>\n",
       "      <td>9</td>\n",
       "      <td>13</td>\n",
       "      <td>22</td>\n",
       "      <td>43</td>\n",
       "      <td>64</td>\n",
       "      <td>67</td>\n",
       "    </tr>\n",
       "    <tr>\n",
       "      <th>4</th>\n",
       "      <td>0</td>\n",
       "      <td>4</td>\n",
       "      <td>8</td>\n",
       "      <td>12</td>\n",
       "      <td>21</td>\n",
       "      <td>42</td>\n",
       "      <td>63</td>\n",
       "      <td>66</td>\n",
       "    </tr>\n",
       "  </tbody>\n",
       "</table>\n",
       "</div>"
      ],
      "text/plain": [
       "   bd  song_length  days_registered  source_system_tab  source_screen_name  \\\n",
       "0   0            4                8                 12                  21   \n",
       "1   1            5                9                 13                  22   \n",
       "2   1            6                9                 13                  22   \n",
       "3   1            7                9                 13                  22   \n",
       "4   0            4                8                 12                  21   \n",
       "\n",
       "   city  gender  language  \n",
       "0    42      63        66  \n",
       "1    43      64        66  \n",
       "2    43      64        66  \n",
       "3    43      64        67  \n",
       "4    42      63        66  "
      ]
     },
     "execution_count": 105,
     "metadata": {},
     "output_type": "execute_result"
    }
   ],
   "source": [
    "X_star_space.head()"
   ]
  },
  {
   "cell_type": "code",
   "execution_count": 106,
   "metadata": {},
   "outputs": [
    {
     "name": "stdout",
     "output_type": "stream",
     "text": [
      "<class 'pandas.core.frame.DataFrame'>\n",
      "RangeIndex: 7377418 entries, 0 to 7377417\n",
      "Data columns (total 8 columns):\n",
      "bd                    7377418 non-null int64\n",
      "song_length           7377418 non-null int64\n",
      "days_registered       7377418 non-null int64\n",
      "source_system_tab     7377418 non-null int64\n",
      "source_screen_name    7377418 non-null int64\n",
      "city                  7377418 non-null int64\n",
      "gender                7377418 non-null int64\n",
      "language              7377418 non-null int64\n",
      "dtypes: int64(8)\n",
      "memory usage: 450.3 MB\n"
     ]
    }
   ],
   "source": [
    "X_star_space.info(verbose=True, null_counts=True)"
   ]
  },
  {
   "cell_type": "code",
   "execution_count": null,
   "metadata": {
    "collapsed": true
   },
   "outputs": [],
   "source": [
    "X_star_space = pd.concat([X[['msno', 'song_id']], X_star_space], axis=1)"
   ]
  },
  {
   "cell_type": "code",
   "execution_count": null,
   "metadata": {},
   "outputs": [],
   "source": [
    "X_star_space.info(verbose=True, null_counts=True)"
   ]
  },
  {
   "cell_type": "code",
   "execution_count": null,
   "metadata": {
    "collapsed": true
   },
   "outputs": [],
   "source": [
    "X_star_space.to_csv(os.path.join('/mnt/PROMO_INVESTIGATION_DATA/', 'X_star_space.csv'), index=False, header=False, sep=' ')"
   ]
  },
  {
   "cell_type": "code",
   "execution_count": null,
   "metadata": {
    "collapsed": true
   },
   "outputs": [],
   "source": [
    "# Code for StarSpace installation:\n",
    "# TBD on new machine"
   ]
  },
  {
   "cell_type": "code",
   "execution_count": null,
   "metadata": {},
   "outputs": [],
   "source": [
    "! ../../Starspace/starspace"
   ]
  },
  {
   "cell_type": "code",
   "execution_count": null,
   "metadata": {},
   "outputs": [],
   "source": [
    "! ../../Starspace/starspace train \\\n",
    "-trainFile /mnt/PROMO_INVESTIGATION_DATA/X_star_space.csv \\\n",
    "-model /mnt/PROMO_INVESTIGATION_DATA/star_space_model \\\n",
    "-trainMode 5"
   ]
  },
  {
   "cell_type": "code",
   "execution_count": 62,
   "metadata": {
    "collapsed": true
   },
   "outputs": [],
   "source": [
    "X_star_space_emb = pd.read_csv(os.path.join('/mnt/PROMO_INVESTIGATION_DATA/', 'star_space_model.tsv'), delimiter='\\t', header=None)"
   ]
  },
  {
   "cell_type": "code",
   "execution_count": 63,
   "metadata": {
    "scrolled": true
   },
   "outputs": [
    {
     "data": {
      "text/html": [
       "<div>\n",
       "<style scoped>\n",
       "    .dataframe tbody tr th:only-of-type {\n",
       "        vertical-align: middle;\n",
       "    }\n",
       "\n",
       "    .dataframe tbody tr th {\n",
       "        vertical-align: top;\n",
       "    }\n",
       "\n",
       "    .dataframe thead th {\n",
       "        text-align: right;\n",
       "    }\n",
       "</style>\n",
       "<table border=\"1\" class=\"dataframe\">\n",
       "  <thead>\n",
       "    <tr style=\"text-align: right;\">\n",
       "      <th></th>\n",
       "      <th>0</th>\n",
       "      <th>1</th>\n",
       "      <th>2</th>\n",
       "      <th>3</th>\n",
       "      <th>4</th>\n",
       "      <th>5</th>\n",
       "      <th>6</th>\n",
       "      <th>7</th>\n",
       "      <th>8</th>\n",
       "      <th>9</th>\n",
       "      <th>...</th>\n",
       "      <th>91</th>\n",
       "      <th>92</th>\n",
       "      <th>93</th>\n",
       "      <th>94</th>\n",
       "      <th>95</th>\n",
       "      <th>96</th>\n",
       "      <th>97</th>\n",
       "      <th>98</th>\n",
       "      <th>99</th>\n",
       "      <th>100</th>\n",
       "    </tr>\n",
       "  </thead>\n",
       "  <tbody>\n",
       "    <tr>\n",
       "      <th>0</th>\n",
       "      <td>69</td>\n",
       "      <td>1.224700e-06</td>\n",
       "      <td>-6.339670e-08</td>\n",
       "      <td>-1.767400e-06</td>\n",
       "      <td>7.851660e-07</td>\n",
       "      <td>-8.879650e-07</td>\n",
       "      <td>4.266440e-07</td>\n",
       "      <td>1.396810e-06</td>\n",
       "      <td>6.857180e-07</td>\n",
       "      <td>-1.031300e-06</td>\n",
       "      <td>...</td>\n",
       "      <td>-1.130790e-07</td>\n",
       "      <td>4.756250e-07</td>\n",
       "      <td>-4.377710e-07</td>\n",
       "      <td>-9.531500e-07</td>\n",
       "      <td>2.851450e-07</td>\n",
       "      <td>2.821770e-07</td>\n",
       "      <td>5.006500e-07</td>\n",
       "      <td>-2.463790e-06</td>\n",
       "      <td>-1.085030e-06</td>\n",
       "      <td>9.553340e-07</td>\n",
       "    </tr>\n",
       "    <tr>\n",
       "      <th>1</th>\n",
       "      <td>13</td>\n",
       "      <td>2.733760e-08</td>\n",
       "      <td>3.589730e-09</td>\n",
       "      <td>-3.291410e-08</td>\n",
       "      <td>1.603410e-08</td>\n",
       "      <td>-2.281670e-08</td>\n",
       "      <td>4.153110e-09</td>\n",
       "      <td>2.350510e-08</td>\n",
       "      <td>1.099790e-08</td>\n",
       "      <td>-1.490610e-08</td>\n",
       "      <td>...</td>\n",
       "      <td>-1.206110e-08</td>\n",
       "      <td>5.734250e-09</td>\n",
       "      <td>-4.669810e-09</td>\n",
       "      <td>-1.771730e-08</td>\n",
       "      <td>2.809160e-09</td>\n",
       "      <td>1.248170e-09</td>\n",
       "      <td>7.941900e-09</td>\n",
       "      <td>-4.643670e-08</td>\n",
       "      <td>-1.146920e-08</td>\n",
       "      <td>1.593460e-08</td>\n",
       "    </tr>\n",
       "    <tr>\n",
       "      <th>2</th>\n",
       "      <td>0</td>\n",
       "      <td>-1.356260e-06</td>\n",
       "      <td>1.001750e-07</td>\n",
       "      <td>2.075460e-06</td>\n",
       "      <td>-8.650810e-07</td>\n",
       "      <td>9.390600e-07</td>\n",
       "      <td>-5.241360e-07</td>\n",
       "      <td>-1.418820e-06</td>\n",
       "      <td>-6.180480e-07</td>\n",
       "      <td>1.200500e-06</td>\n",
       "      <td>...</td>\n",
       "      <td>8.630100e-08</td>\n",
       "      <td>-3.574820e-07</td>\n",
       "      <td>4.290890e-07</td>\n",
       "      <td>1.021510e-06</td>\n",
       "      <td>-3.258210e-07</td>\n",
       "      <td>-3.851790e-07</td>\n",
       "      <td>-4.998520e-07</td>\n",
       "      <td>2.507770e-06</td>\n",
       "      <td>1.210360e-06</td>\n",
       "      <td>-1.010100e-06</td>\n",
       "    </tr>\n",
       "    <tr>\n",
       "      <th>3</th>\n",
       "      <td>22</td>\n",
       "      <td>3.269010e-08</td>\n",
       "      <td>4.032160e-09</td>\n",
       "      <td>-4.015310e-08</td>\n",
       "      <td>1.966790e-08</td>\n",
       "      <td>-2.762200e-08</td>\n",
       "      <td>5.168260e-09</td>\n",
       "      <td>2.793920e-08</td>\n",
       "      <td>1.245500e-08</td>\n",
       "      <td>-1.747600e-08</td>\n",
       "      <td>...</td>\n",
       "      <td>-1.441370e-08</td>\n",
       "      <td>6.554140e-09</td>\n",
       "      <td>-5.545750e-09</td>\n",
       "      <td>-2.023560e-08</td>\n",
       "      <td>3.487980e-09</td>\n",
       "      <td>1.567720e-09</td>\n",
       "      <td>9.058400e-09</td>\n",
       "      <td>-5.494460e-08</td>\n",
       "      <td>-1.409680e-08</td>\n",
       "      <td>1.864190e-08</td>\n",
       "    </tr>\n",
       "    <tr>\n",
       "      <th>4</th>\n",
       "      <td>63</td>\n",
       "      <td>9.120640e-07</td>\n",
       "      <td>-3.216410e-08</td>\n",
       "      <td>-1.356770e-06</td>\n",
       "      <td>5.743890e-07</td>\n",
       "      <td>-6.543650e-07</td>\n",
       "      <td>3.227180e-07</td>\n",
       "      <td>1.098150e-06</td>\n",
       "      <td>5.624300e-07</td>\n",
       "      <td>-8.181430e-07</td>\n",
       "      <td>...</td>\n",
       "      <td>-8.314120e-08</td>\n",
       "      <td>3.782600e-07</td>\n",
       "      <td>-3.456450e-07</td>\n",
       "      <td>-7.760180e-07</td>\n",
       "      <td>1.967050e-07</td>\n",
       "      <td>2.026640e-07</td>\n",
       "      <td>4.244020e-07</td>\n",
       "      <td>-1.929800e-06</td>\n",
       "      <td>-8.133070e-07</td>\n",
       "      <td>7.574870e-07</td>\n",
       "    </tr>\n",
       "  </tbody>\n",
       "</table>\n",
       "<p>5 rows × 101 columns</p>\n",
       "</div>"
      ],
      "text/plain": [
       "   0             1             2             3             4             5    \\\n",
       "0   69  1.224700e-06 -6.339670e-08 -1.767400e-06  7.851660e-07 -8.879650e-07   \n",
       "1   13  2.733760e-08  3.589730e-09 -3.291410e-08  1.603410e-08 -2.281670e-08   \n",
       "2    0 -1.356260e-06  1.001750e-07  2.075460e-06 -8.650810e-07  9.390600e-07   \n",
       "3   22  3.269010e-08  4.032160e-09 -4.015310e-08  1.966790e-08 -2.762200e-08   \n",
       "4   63  9.120640e-07 -3.216410e-08 -1.356770e-06  5.743890e-07 -6.543650e-07   \n",
       "\n",
       "            6             7             8             9        ...       \\\n",
       "0  4.266440e-07  1.396810e-06  6.857180e-07 -1.031300e-06      ...        \n",
       "1  4.153110e-09  2.350510e-08  1.099790e-08 -1.490610e-08      ...        \n",
       "2 -5.241360e-07 -1.418820e-06 -6.180480e-07  1.200500e-06      ...        \n",
       "3  5.168260e-09  2.793920e-08  1.245500e-08 -1.747600e-08      ...        \n",
       "4  3.227180e-07  1.098150e-06  5.624300e-07 -8.181430e-07      ...        \n",
       "\n",
       "            91            92            93            94            95   \\\n",
       "0 -1.130790e-07  4.756250e-07 -4.377710e-07 -9.531500e-07  2.851450e-07   \n",
       "1 -1.206110e-08  5.734250e-09 -4.669810e-09 -1.771730e-08  2.809160e-09   \n",
       "2  8.630100e-08 -3.574820e-07  4.290890e-07  1.021510e-06 -3.258210e-07   \n",
       "3 -1.441370e-08  6.554140e-09 -5.545750e-09 -2.023560e-08  3.487980e-09   \n",
       "4 -8.314120e-08  3.782600e-07 -3.456450e-07 -7.760180e-07  1.967050e-07   \n",
       "\n",
       "            96            97            98            99            100  \n",
       "0  2.821770e-07  5.006500e-07 -2.463790e-06 -1.085030e-06  9.553340e-07  \n",
       "1  1.248170e-09  7.941900e-09 -4.643670e-08 -1.146920e-08  1.593460e-08  \n",
       "2 -3.851790e-07 -4.998520e-07  2.507770e-06  1.210360e-06 -1.010100e-06  \n",
       "3  1.567720e-09  9.058400e-09 -5.494460e-08 -1.409680e-08  1.864190e-08  \n",
       "4  2.026640e-07  4.244020e-07 -1.929800e-06 -8.133070e-07  7.574870e-07  \n",
       "\n",
       "[5 rows x 101 columns]"
      ]
     },
     "execution_count": 63,
     "metadata": {},
     "output_type": "execute_result"
    }
   ],
   "source": [
    "X_star_space_emb.head()"
   ]
  },
  {
   "cell_type": "code",
   "execution_count": 64,
   "metadata": {
    "collapsed": true
   },
   "outputs": [],
   "source": [
    "# SSF stands for StarSpace Feature\n",
    "X_star_space_emb.columns = ['SSF_{}'.format(i) for i in range(101)]"
   ]
  },
  {
   "cell_type": "code",
   "execution_count": 65,
   "metadata": {},
   "outputs": [
    {
     "data": {
      "text/html": [
       "<div>\n",
       "<style scoped>\n",
       "    .dataframe tbody tr th:only-of-type {\n",
       "        vertical-align: middle;\n",
       "    }\n",
       "\n",
       "    .dataframe tbody tr th {\n",
       "        vertical-align: top;\n",
       "    }\n",
       "\n",
       "    .dataframe thead th {\n",
       "        text-align: right;\n",
       "    }\n",
       "</style>\n",
       "<table border=\"1\" class=\"dataframe\">\n",
       "  <thead>\n",
       "    <tr style=\"text-align: right;\">\n",
       "      <th></th>\n",
       "      <th>SSF_0</th>\n",
       "      <th>SSF_1</th>\n",
       "      <th>SSF_2</th>\n",
       "      <th>SSF_3</th>\n",
       "      <th>SSF_4</th>\n",
       "      <th>SSF_5</th>\n",
       "      <th>SSF_6</th>\n",
       "      <th>SSF_7</th>\n",
       "      <th>SSF_8</th>\n",
       "      <th>SSF_9</th>\n",
       "      <th>...</th>\n",
       "      <th>SSF_91</th>\n",
       "      <th>SSF_92</th>\n",
       "      <th>SSF_93</th>\n",
       "      <th>SSF_94</th>\n",
       "      <th>SSF_95</th>\n",
       "      <th>SSF_96</th>\n",
       "      <th>SSF_97</th>\n",
       "      <th>SSF_98</th>\n",
       "      <th>SSF_99</th>\n",
       "      <th>SSF_100</th>\n",
       "    </tr>\n",
       "  </thead>\n",
       "  <tbody>\n",
       "    <tr>\n",
       "      <th>0</th>\n",
       "      <td>69</td>\n",
       "      <td>1.224700e-06</td>\n",
       "      <td>-6.339670e-08</td>\n",
       "      <td>-1.767400e-06</td>\n",
       "      <td>7.851660e-07</td>\n",
       "      <td>-8.879650e-07</td>\n",
       "      <td>4.266440e-07</td>\n",
       "      <td>1.396810e-06</td>\n",
       "      <td>6.857180e-07</td>\n",
       "      <td>-1.031300e-06</td>\n",
       "      <td>...</td>\n",
       "      <td>-1.130790e-07</td>\n",
       "      <td>4.756250e-07</td>\n",
       "      <td>-4.377710e-07</td>\n",
       "      <td>-9.531500e-07</td>\n",
       "      <td>2.851450e-07</td>\n",
       "      <td>2.821770e-07</td>\n",
       "      <td>5.006500e-07</td>\n",
       "      <td>-2.463790e-06</td>\n",
       "      <td>-1.085030e-06</td>\n",
       "      <td>9.553340e-07</td>\n",
       "    </tr>\n",
       "    <tr>\n",
       "      <th>1</th>\n",
       "      <td>13</td>\n",
       "      <td>2.733760e-08</td>\n",
       "      <td>3.589730e-09</td>\n",
       "      <td>-3.291410e-08</td>\n",
       "      <td>1.603410e-08</td>\n",
       "      <td>-2.281670e-08</td>\n",
       "      <td>4.153110e-09</td>\n",
       "      <td>2.350510e-08</td>\n",
       "      <td>1.099790e-08</td>\n",
       "      <td>-1.490610e-08</td>\n",
       "      <td>...</td>\n",
       "      <td>-1.206110e-08</td>\n",
       "      <td>5.734250e-09</td>\n",
       "      <td>-4.669810e-09</td>\n",
       "      <td>-1.771730e-08</td>\n",
       "      <td>2.809160e-09</td>\n",
       "      <td>1.248170e-09</td>\n",
       "      <td>7.941900e-09</td>\n",
       "      <td>-4.643670e-08</td>\n",
       "      <td>-1.146920e-08</td>\n",
       "      <td>1.593460e-08</td>\n",
       "    </tr>\n",
       "    <tr>\n",
       "      <th>2</th>\n",
       "      <td>0</td>\n",
       "      <td>-1.356260e-06</td>\n",
       "      <td>1.001750e-07</td>\n",
       "      <td>2.075460e-06</td>\n",
       "      <td>-8.650810e-07</td>\n",
       "      <td>9.390600e-07</td>\n",
       "      <td>-5.241360e-07</td>\n",
       "      <td>-1.418820e-06</td>\n",
       "      <td>-6.180480e-07</td>\n",
       "      <td>1.200500e-06</td>\n",
       "      <td>...</td>\n",
       "      <td>8.630100e-08</td>\n",
       "      <td>-3.574820e-07</td>\n",
       "      <td>4.290890e-07</td>\n",
       "      <td>1.021510e-06</td>\n",
       "      <td>-3.258210e-07</td>\n",
       "      <td>-3.851790e-07</td>\n",
       "      <td>-4.998520e-07</td>\n",
       "      <td>2.507770e-06</td>\n",
       "      <td>1.210360e-06</td>\n",
       "      <td>-1.010100e-06</td>\n",
       "    </tr>\n",
       "    <tr>\n",
       "      <th>3</th>\n",
       "      <td>22</td>\n",
       "      <td>3.269010e-08</td>\n",
       "      <td>4.032160e-09</td>\n",
       "      <td>-4.015310e-08</td>\n",
       "      <td>1.966790e-08</td>\n",
       "      <td>-2.762200e-08</td>\n",
       "      <td>5.168260e-09</td>\n",
       "      <td>2.793920e-08</td>\n",
       "      <td>1.245500e-08</td>\n",
       "      <td>-1.747600e-08</td>\n",
       "      <td>...</td>\n",
       "      <td>-1.441370e-08</td>\n",
       "      <td>6.554140e-09</td>\n",
       "      <td>-5.545750e-09</td>\n",
       "      <td>-2.023560e-08</td>\n",
       "      <td>3.487980e-09</td>\n",
       "      <td>1.567720e-09</td>\n",
       "      <td>9.058400e-09</td>\n",
       "      <td>-5.494460e-08</td>\n",
       "      <td>-1.409680e-08</td>\n",
       "      <td>1.864190e-08</td>\n",
       "    </tr>\n",
       "    <tr>\n",
       "      <th>4</th>\n",
       "      <td>63</td>\n",
       "      <td>9.120640e-07</td>\n",
       "      <td>-3.216410e-08</td>\n",
       "      <td>-1.356770e-06</td>\n",
       "      <td>5.743890e-07</td>\n",
       "      <td>-6.543650e-07</td>\n",
       "      <td>3.227180e-07</td>\n",
       "      <td>1.098150e-06</td>\n",
       "      <td>5.624300e-07</td>\n",
       "      <td>-8.181430e-07</td>\n",
       "      <td>...</td>\n",
       "      <td>-8.314120e-08</td>\n",
       "      <td>3.782600e-07</td>\n",
       "      <td>-3.456450e-07</td>\n",
       "      <td>-7.760180e-07</td>\n",
       "      <td>1.967050e-07</td>\n",
       "      <td>2.026640e-07</td>\n",
       "      <td>4.244020e-07</td>\n",
       "      <td>-1.929800e-06</td>\n",
       "      <td>-8.133070e-07</td>\n",
       "      <td>7.574870e-07</td>\n",
       "    </tr>\n",
       "  </tbody>\n",
       "</table>\n",
       "<p>5 rows × 101 columns</p>\n",
       "</div>"
      ],
      "text/plain": [
       "   SSF_0         SSF_1         SSF_2         SSF_3         SSF_4  \\\n",
       "0     69  1.224700e-06 -6.339670e-08 -1.767400e-06  7.851660e-07   \n",
       "1     13  2.733760e-08  3.589730e-09 -3.291410e-08  1.603410e-08   \n",
       "2      0 -1.356260e-06  1.001750e-07  2.075460e-06 -8.650810e-07   \n",
       "3     22  3.269010e-08  4.032160e-09 -4.015310e-08  1.966790e-08   \n",
       "4     63  9.120640e-07 -3.216410e-08 -1.356770e-06  5.743890e-07   \n",
       "\n",
       "          SSF_5         SSF_6         SSF_7         SSF_8         SSF_9  \\\n",
       "0 -8.879650e-07  4.266440e-07  1.396810e-06  6.857180e-07 -1.031300e-06   \n",
       "1 -2.281670e-08  4.153110e-09  2.350510e-08  1.099790e-08 -1.490610e-08   \n",
       "2  9.390600e-07 -5.241360e-07 -1.418820e-06 -6.180480e-07  1.200500e-06   \n",
       "3 -2.762200e-08  5.168260e-09  2.793920e-08  1.245500e-08 -1.747600e-08   \n",
       "4 -6.543650e-07  3.227180e-07  1.098150e-06  5.624300e-07 -8.181430e-07   \n",
       "\n",
       "       ...             SSF_91        SSF_92        SSF_93        SSF_94  \\\n",
       "0      ...      -1.130790e-07  4.756250e-07 -4.377710e-07 -9.531500e-07   \n",
       "1      ...      -1.206110e-08  5.734250e-09 -4.669810e-09 -1.771730e-08   \n",
       "2      ...       8.630100e-08 -3.574820e-07  4.290890e-07  1.021510e-06   \n",
       "3      ...      -1.441370e-08  6.554140e-09 -5.545750e-09 -2.023560e-08   \n",
       "4      ...      -8.314120e-08  3.782600e-07 -3.456450e-07 -7.760180e-07   \n",
       "\n",
       "         SSF_95        SSF_96        SSF_97        SSF_98        SSF_99  \\\n",
       "0  2.851450e-07  2.821770e-07  5.006500e-07 -2.463790e-06 -1.085030e-06   \n",
       "1  2.809160e-09  1.248170e-09  7.941900e-09 -4.643670e-08 -1.146920e-08   \n",
       "2 -3.258210e-07 -3.851790e-07 -4.998520e-07  2.507770e-06  1.210360e-06   \n",
       "3  3.487980e-09  1.567720e-09  9.058400e-09 -5.494460e-08 -1.409680e-08   \n",
       "4  1.967050e-07  2.026640e-07  4.244020e-07 -1.929800e-06 -8.133070e-07   \n",
       "\n",
       "        SSF_100  \n",
       "0  9.553340e-07  \n",
       "1  1.593460e-08  \n",
       "2 -1.010100e-06  \n",
       "3  1.864190e-08  \n",
       "4  7.574870e-07  \n",
       "\n",
       "[5 rows x 101 columns]"
      ]
     },
     "execution_count": 65,
     "metadata": {},
     "output_type": "execute_result"
    }
   ],
   "source": [
    "X_star_space_emb.head()"
   ]
  },
  {
   "cell_type": "code",
   "execution_count": 66,
   "metadata": {
    "collapsed": true
   },
   "outputs": [],
   "source": [
    "X_star_space_emb.rename({\"SSF_0\": \"WORD\"}, axis=1, inplace=True)"
   ]
  },
  {
   "cell_type": "code",
   "execution_count": 67,
   "metadata": {},
   "outputs": [
    {
     "data": {
      "text/html": [
       "<div>\n",
       "<style scoped>\n",
       "    .dataframe tbody tr th:only-of-type {\n",
       "        vertical-align: middle;\n",
       "    }\n",
       "\n",
       "    .dataframe tbody tr th {\n",
       "        vertical-align: top;\n",
       "    }\n",
       "\n",
       "    .dataframe thead th {\n",
       "        text-align: right;\n",
       "    }\n",
       "</style>\n",
       "<table border=\"1\" class=\"dataframe\">\n",
       "  <thead>\n",
       "    <tr style=\"text-align: right;\">\n",
       "      <th></th>\n",
       "      <th>WORD</th>\n",
       "      <th>SSF_1</th>\n",
       "      <th>SSF_2</th>\n",
       "      <th>SSF_3</th>\n",
       "      <th>SSF_4</th>\n",
       "      <th>SSF_5</th>\n",
       "      <th>SSF_6</th>\n",
       "      <th>SSF_7</th>\n",
       "      <th>SSF_8</th>\n",
       "      <th>SSF_9</th>\n",
       "      <th>...</th>\n",
       "      <th>SSF_91</th>\n",
       "      <th>SSF_92</th>\n",
       "      <th>SSF_93</th>\n",
       "      <th>SSF_94</th>\n",
       "      <th>SSF_95</th>\n",
       "      <th>SSF_96</th>\n",
       "      <th>SSF_97</th>\n",
       "      <th>SSF_98</th>\n",
       "      <th>SSF_99</th>\n",
       "      <th>SSF_100</th>\n",
       "    </tr>\n",
       "  </thead>\n",
       "  <tbody>\n",
       "    <tr>\n",
       "      <th>0</th>\n",
       "      <td>69</td>\n",
       "      <td>1.224700e-06</td>\n",
       "      <td>-6.339670e-08</td>\n",
       "      <td>-1.767400e-06</td>\n",
       "      <td>7.851660e-07</td>\n",
       "      <td>-8.879650e-07</td>\n",
       "      <td>4.266440e-07</td>\n",
       "      <td>1.396810e-06</td>\n",
       "      <td>6.857180e-07</td>\n",
       "      <td>-1.031300e-06</td>\n",
       "      <td>...</td>\n",
       "      <td>-1.130790e-07</td>\n",
       "      <td>4.756250e-07</td>\n",
       "      <td>-4.377710e-07</td>\n",
       "      <td>-9.531500e-07</td>\n",
       "      <td>2.851450e-07</td>\n",
       "      <td>2.821770e-07</td>\n",
       "      <td>5.006500e-07</td>\n",
       "      <td>-2.463790e-06</td>\n",
       "      <td>-1.085030e-06</td>\n",
       "      <td>9.553340e-07</td>\n",
       "    </tr>\n",
       "    <tr>\n",
       "      <th>1</th>\n",
       "      <td>13</td>\n",
       "      <td>2.733760e-08</td>\n",
       "      <td>3.589730e-09</td>\n",
       "      <td>-3.291410e-08</td>\n",
       "      <td>1.603410e-08</td>\n",
       "      <td>-2.281670e-08</td>\n",
       "      <td>4.153110e-09</td>\n",
       "      <td>2.350510e-08</td>\n",
       "      <td>1.099790e-08</td>\n",
       "      <td>-1.490610e-08</td>\n",
       "      <td>...</td>\n",
       "      <td>-1.206110e-08</td>\n",
       "      <td>5.734250e-09</td>\n",
       "      <td>-4.669810e-09</td>\n",
       "      <td>-1.771730e-08</td>\n",
       "      <td>2.809160e-09</td>\n",
       "      <td>1.248170e-09</td>\n",
       "      <td>7.941900e-09</td>\n",
       "      <td>-4.643670e-08</td>\n",
       "      <td>-1.146920e-08</td>\n",
       "      <td>1.593460e-08</td>\n",
       "    </tr>\n",
       "    <tr>\n",
       "      <th>2</th>\n",
       "      <td>0</td>\n",
       "      <td>-1.356260e-06</td>\n",
       "      <td>1.001750e-07</td>\n",
       "      <td>2.075460e-06</td>\n",
       "      <td>-8.650810e-07</td>\n",
       "      <td>9.390600e-07</td>\n",
       "      <td>-5.241360e-07</td>\n",
       "      <td>-1.418820e-06</td>\n",
       "      <td>-6.180480e-07</td>\n",
       "      <td>1.200500e-06</td>\n",
       "      <td>...</td>\n",
       "      <td>8.630100e-08</td>\n",
       "      <td>-3.574820e-07</td>\n",
       "      <td>4.290890e-07</td>\n",
       "      <td>1.021510e-06</td>\n",
       "      <td>-3.258210e-07</td>\n",
       "      <td>-3.851790e-07</td>\n",
       "      <td>-4.998520e-07</td>\n",
       "      <td>2.507770e-06</td>\n",
       "      <td>1.210360e-06</td>\n",
       "      <td>-1.010100e-06</td>\n",
       "    </tr>\n",
       "    <tr>\n",
       "      <th>3</th>\n",
       "      <td>22</td>\n",
       "      <td>3.269010e-08</td>\n",
       "      <td>4.032160e-09</td>\n",
       "      <td>-4.015310e-08</td>\n",
       "      <td>1.966790e-08</td>\n",
       "      <td>-2.762200e-08</td>\n",
       "      <td>5.168260e-09</td>\n",
       "      <td>2.793920e-08</td>\n",
       "      <td>1.245500e-08</td>\n",
       "      <td>-1.747600e-08</td>\n",
       "      <td>...</td>\n",
       "      <td>-1.441370e-08</td>\n",
       "      <td>6.554140e-09</td>\n",
       "      <td>-5.545750e-09</td>\n",
       "      <td>-2.023560e-08</td>\n",
       "      <td>3.487980e-09</td>\n",
       "      <td>1.567720e-09</td>\n",
       "      <td>9.058400e-09</td>\n",
       "      <td>-5.494460e-08</td>\n",
       "      <td>-1.409680e-08</td>\n",
       "      <td>1.864190e-08</td>\n",
       "    </tr>\n",
       "    <tr>\n",
       "      <th>4</th>\n",
       "      <td>63</td>\n",
       "      <td>9.120640e-07</td>\n",
       "      <td>-3.216410e-08</td>\n",
       "      <td>-1.356770e-06</td>\n",
       "      <td>5.743890e-07</td>\n",
       "      <td>-6.543650e-07</td>\n",
       "      <td>3.227180e-07</td>\n",
       "      <td>1.098150e-06</td>\n",
       "      <td>5.624300e-07</td>\n",
       "      <td>-8.181430e-07</td>\n",
       "      <td>...</td>\n",
       "      <td>-8.314120e-08</td>\n",
       "      <td>3.782600e-07</td>\n",
       "      <td>-3.456450e-07</td>\n",
       "      <td>-7.760180e-07</td>\n",
       "      <td>1.967050e-07</td>\n",
       "      <td>2.026640e-07</td>\n",
       "      <td>4.244020e-07</td>\n",
       "      <td>-1.929800e-06</td>\n",
       "      <td>-8.133070e-07</td>\n",
       "      <td>7.574870e-07</td>\n",
       "    </tr>\n",
       "  </tbody>\n",
       "</table>\n",
       "<p>5 rows × 101 columns</p>\n",
       "</div>"
      ],
      "text/plain": [
       "   WORD         SSF_1         SSF_2         SSF_3         SSF_4         SSF_5  \\\n",
       "0    69  1.224700e-06 -6.339670e-08 -1.767400e-06  7.851660e-07 -8.879650e-07   \n",
       "1    13  2.733760e-08  3.589730e-09 -3.291410e-08  1.603410e-08 -2.281670e-08   \n",
       "2     0 -1.356260e-06  1.001750e-07  2.075460e-06 -8.650810e-07  9.390600e-07   \n",
       "3    22  3.269010e-08  4.032160e-09 -4.015310e-08  1.966790e-08 -2.762200e-08   \n",
       "4    63  9.120640e-07 -3.216410e-08 -1.356770e-06  5.743890e-07 -6.543650e-07   \n",
       "\n",
       "          SSF_6         SSF_7         SSF_8         SSF_9      ...       \\\n",
       "0  4.266440e-07  1.396810e-06  6.857180e-07 -1.031300e-06      ...        \n",
       "1  4.153110e-09  2.350510e-08  1.099790e-08 -1.490610e-08      ...        \n",
       "2 -5.241360e-07 -1.418820e-06 -6.180480e-07  1.200500e-06      ...        \n",
       "3  5.168260e-09  2.793920e-08  1.245500e-08 -1.747600e-08      ...        \n",
       "4  3.227180e-07  1.098150e-06  5.624300e-07 -8.181430e-07      ...        \n",
       "\n",
       "         SSF_91        SSF_92        SSF_93        SSF_94        SSF_95  \\\n",
       "0 -1.130790e-07  4.756250e-07 -4.377710e-07 -9.531500e-07  2.851450e-07   \n",
       "1 -1.206110e-08  5.734250e-09 -4.669810e-09 -1.771730e-08  2.809160e-09   \n",
       "2  8.630100e-08 -3.574820e-07  4.290890e-07  1.021510e-06 -3.258210e-07   \n",
       "3 -1.441370e-08  6.554140e-09 -5.545750e-09 -2.023560e-08  3.487980e-09   \n",
       "4 -8.314120e-08  3.782600e-07 -3.456450e-07 -7.760180e-07  1.967050e-07   \n",
       "\n",
       "         SSF_96        SSF_97        SSF_98        SSF_99       SSF_100  \n",
       "0  2.821770e-07  5.006500e-07 -2.463790e-06 -1.085030e-06  9.553340e-07  \n",
       "1  1.248170e-09  7.941900e-09 -4.643670e-08 -1.146920e-08  1.593460e-08  \n",
       "2 -3.851790e-07 -4.998520e-07  2.507770e-06  1.210360e-06 -1.010100e-06  \n",
       "3  1.567720e-09  9.058400e-09 -5.494460e-08 -1.409680e-08  1.864190e-08  \n",
       "4  2.026640e-07  4.244020e-07 -1.929800e-06 -8.133070e-07  7.574870e-07  \n",
       "\n",
       "[5 rows x 101 columns]"
      ]
     },
     "execution_count": 67,
     "metadata": {},
     "output_type": "execute_result"
    }
   ],
   "source": [
    "X_star_space_emb.head()"
   ]
  },
  {
   "cell_type": "code",
   "execution_count": 68,
   "metadata": {
    "scrolled": false
   },
   "outputs": [
    {
     "name": "stdout",
     "output_type": "stream",
     "text": [
      "<class 'pandas.core.frame.DataFrame'>\n",
      "RangeIndex: 76 entries, 0 to 75\n",
      "Data columns (total 101 columns):\n",
      "WORD       76 non-null int64\n",
      "SSF_1      76 non-null float64\n",
      "SSF_2      76 non-null float64\n",
      "SSF_3      76 non-null float64\n",
      "SSF_4      76 non-null float64\n",
      "SSF_5      76 non-null float64\n",
      "SSF_6      76 non-null float64\n",
      "SSF_7      76 non-null float64\n",
      "SSF_8      76 non-null float64\n",
      "SSF_9      76 non-null float64\n",
      "SSF_10     76 non-null float64\n",
      "SSF_11     76 non-null float64\n",
      "SSF_12     76 non-null float64\n",
      "SSF_13     76 non-null float64\n",
      "SSF_14     76 non-null float64\n",
      "SSF_15     76 non-null float64\n",
      "SSF_16     76 non-null float64\n",
      "SSF_17     76 non-null float64\n",
      "SSF_18     76 non-null float64\n",
      "SSF_19     76 non-null float64\n",
      "SSF_20     76 non-null float64\n",
      "SSF_21     76 non-null float64\n",
      "SSF_22     76 non-null float64\n",
      "SSF_23     76 non-null float64\n",
      "SSF_24     76 non-null float64\n",
      "SSF_25     76 non-null float64\n",
      "SSF_26     76 non-null float64\n",
      "SSF_27     76 non-null float64\n",
      "SSF_28     76 non-null float64\n",
      "SSF_29     76 non-null float64\n",
      "SSF_30     76 non-null float64\n",
      "SSF_31     76 non-null float64\n",
      "SSF_32     76 non-null float64\n",
      "SSF_33     76 non-null float64\n",
      "SSF_34     76 non-null float64\n",
      "SSF_35     76 non-null float64\n",
      "SSF_36     76 non-null float64\n",
      "SSF_37     76 non-null float64\n",
      "SSF_38     76 non-null float64\n",
      "SSF_39     76 non-null float64\n",
      "SSF_40     76 non-null float64\n",
      "SSF_41     76 non-null float64\n",
      "SSF_42     76 non-null float64\n",
      "SSF_43     76 non-null float64\n",
      "SSF_44     76 non-null float64\n",
      "SSF_45     76 non-null float64\n",
      "SSF_46     76 non-null float64\n",
      "SSF_47     76 non-null float64\n",
      "SSF_48     76 non-null float64\n",
      "SSF_49     76 non-null float64\n",
      "SSF_50     76 non-null float64\n",
      "SSF_51     76 non-null float64\n",
      "SSF_52     76 non-null float64\n",
      "SSF_53     76 non-null float64\n",
      "SSF_54     76 non-null float64\n",
      "SSF_55     76 non-null float64\n",
      "SSF_56     76 non-null float64\n",
      "SSF_57     76 non-null float64\n",
      "SSF_58     76 non-null float64\n",
      "SSF_59     76 non-null float64\n",
      "SSF_60     76 non-null float64\n",
      "SSF_61     76 non-null float64\n",
      "SSF_62     76 non-null float64\n",
      "SSF_63     76 non-null float64\n",
      "SSF_64     76 non-null float64\n",
      "SSF_65     76 non-null float64\n",
      "SSF_66     76 non-null float64\n",
      "SSF_67     76 non-null float64\n",
      "SSF_68     76 non-null float64\n",
      "SSF_69     76 non-null float64\n",
      "SSF_70     76 non-null float64\n",
      "SSF_71     76 non-null float64\n",
      "SSF_72     76 non-null float64\n",
      "SSF_73     76 non-null float64\n",
      "SSF_74     76 non-null float64\n",
      "SSF_75     76 non-null float64\n",
      "SSF_76     76 non-null float64\n",
      "SSF_77     76 non-null float64\n",
      "SSF_78     76 non-null float64\n",
      "SSF_79     76 non-null float64\n",
      "SSF_80     76 non-null float64\n",
      "SSF_81     76 non-null float64\n",
      "SSF_82     76 non-null float64\n",
      "SSF_83     76 non-null float64\n",
      "SSF_84     76 non-null float64\n",
      "SSF_85     76 non-null float64\n",
      "SSF_86     76 non-null float64\n",
      "SSF_87     76 non-null float64\n",
      "SSF_88     76 non-null float64\n",
      "SSF_89     76 non-null float64\n",
      "SSF_90     76 non-null float64\n",
      "SSF_91     76 non-null float64\n",
      "SSF_92     76 non-null float64\n",
      "SSF_93     76 non-null float64\n",
      "SSF_94     76 non-null float64\n",
      "SSF_95     76 non-null float64\n",
      "SSF_96     76 non-null float64\n",
      "SSF_97     76 non-null float64\n",
      "SSF_98     76 non-null float64\n",
      "SSF_99     76 non-null float64\n",
      "SSF_100    76 non-null float64\n",
      "dtypes: float64(100), int64(1)\n",
      "memory usage: 60.0 KB\n"
     ]
    }
   ],
   "source": [
    "X_star_space_emb.info(verbose=True, null_counts=True)"
   ]
  },
  {
   "cell_type": "code",
   "execution_count": 69,
   "metadata": {
    "collapsed": true
   },
   "outputs": [],
   "source": [
    "X_star_space_emb.set_index('WORD', inplace=True)"
   ]
  },
  {
   "cell_type": "code",
   "execution_count": 70,
   "metadata": {
    "scrolled": false
   },
   "outputs": [
    {
     "data": {
      "text/html": [
       "<div>\n",
       "<style scoped>\n",
       "    .dataframe tbody tr th:only-of-type {\n",
       "        vertical-align: middle;\n",
       "    }\n",
       "\n",
       "    .dataframe tbody tr th {\n",
       "        vertical-align: top;\n",
       "    }\n",
       "\n",
       "    .dataframe thead th {\n",
       "        text-align: right;\n",
       "    }\n",
       "</style>\n",
       "<table border=\"1\" class=\"dataframe\">\n",
       "  <thead>\n",
       "    <tr style=\"text-align: right;\">\n",
       "      <th></th>\n",
       "      <th>SSF_1</th>\n",
       "      <th>SSF_2</th>\n",
       "      <th>SSF_3</th>\n",
       "      <th>SSF_4</th>\n",
       "      <th>SSF_5</th>\n",
       "      <th>SSF_6</th>\n",
       "      <th>SSF_7</th>\n",
       "      <th>SSF_8</th>\n",
       "      <th>SSF_9</th>\n",
       "      <th>SSF_10</th>\n",
       "      <th>...</th>\n",
       "      <th>SSF_91</th>\n",
       "      <th>SSF_92</th>\n",
       "      <th>SSF_93</th>\n",
       "      <th>SSF_94</th>\n",
       "      <th>SSF_95</th>\n",
       "      <th>SSF_96</th>\n",
       "      <th>SSF_97</th>\n",
       "      <th>SSF_98</th>\n",
       "      <th>SSF_99</th>\n",
       "      <th>SSF_100</th>\n",
       "    </tr>\n",
       "    <tr>\n",
       "      <th>WORD</th>\n",
       "      <th></th>\n",
       "      <th></th>\n",
       "      <th></th>\n",
       "      <th></th>\n",
       "      <th></th>\n",
       "      <th></th>\n",
       "      <th></th>\n",
       "      <th></th>\n",
       "      <th></th>\n",
       "      <th></th>\n",
       "      <th></th>\n",
       "      <th></th>\n",
       "      <th></th>\n",
       "      <th></th>\n",
       "      <th></th>\n",
       "      <th></th>\n",
       "      <th></th>\n",
       "      <th></th>\n",
       "      <th></th>\n",
       "      <th></th>\n",
       "      <th></th>\n",
       "    </tr>\n",
       "  </thead>\n",
       "  <tbody>\n",
       "    <tr>\n",
       "      <th>69</th>\n",
       "      <td>1.224700e-06</td>\n",
       "      <td>-6.339670e-08</td>\n",
       "      <td>-1.767400e-06</td>\n",
       "      <td>7.851660e-07</td>\n",
       "      <td>-8.879650e-07</td>\n",
       "      <td>4.266440e-07</td>\n",
       "      <td>1.396810e-06</td>\n",
       "      <td>6.857180e-07</td>\n",
       "      <td>-1.031300e-06</td>\n",
       "      <td>7.571830e-07</td>\n",
       "      <td>...</td>\n",
       "      <td>-1.130790e-07</td>\n",
       "      <td>4.756250e-07</td>\n",
       "      <td>-4.377710e-07</td>\n",
       "      <td>-9.531500e-07</td>\n",
       "      <td>2.851450e-07</td>\n",
       "      <td>2.821770e-07</td>\n",
       "      <td>5.006500e-07</td>\n",
       "      <td>-2.463790e-06</td>\n",
       "      <td>-1.085030e-06</td>\n",
       "      <td>9.553340e-07</td>\n",
       "    </tr>\n",
       "    <tr>\n",
       "      <th>13</th>\n",
       "      <td>2.733760e-08</td>\n",
       "      <td>3.589730e-09</td>\n",
       "      <td>-3.291410e-08</td>\n",
       "      <td>1.603410e-08</td>\n",
       "      <td>-2.281670e-08</td>\n",
       "      <td>4.153110e-09</td>\n",
       "      <td>2.350510e-08</td>\n",
       "      <td>1.099790e-08</td>\n",
       "      <td>-1.490610e-08</td>\n",
       "      <td>7.885580e-09</td>\n",
       "      <td>...</td>\n",
       "      <td>-1.206110e-08</td>\n",
       "      <td>5.734250e-09</td>\n",
       "      <td>-4.669810e-09</td>\n",
       "      <td>-1.771730e-08</td>\n",
       "      <td>2.809160e-09</td>\n",
       "      <td>1.248170e-09</td>\n",
       "      <td>7.941900e-09</td>\n",
       "      <td>-4.643670e-08</td>\n",
       "      <td>-1.146920e-08</td>\n",
       "      <td>1.593460e-08</td>\n",
       "    </tr>\n",
       "    <tr>\n",
       "      <th>0</th>\n",
       "      <td>-1.356260e-06</td>\n",
       "      <td>1.001750e-07</td>\n",
       "      <td>2.075460e-06</td>\n",
       "      <td>-8.650810e-07</td>\n",
       "      <td>9.390600e-07</td>\n",
       "      <td>-5.241360e-07</td>\n",
       "      <td>-1.418820e-06</td>\n",
       "      <td>-6.180480e-07</td>\n",
       "      <td>1.200500e-06</td>\n",
       "      <td>-7.174000e-07</td>\n",
       "      <td>...</td>\n",
       "      <td>8.630100e-08</td>\n",
       "      <td>-3.574820e-07</td>\n",
       "      <td>4.290890e-07</td>\n",
       "      <td>1.021510e-06</td>\n",
       "      <td>-3.258210e-07</td>\n",
       "      <td>-3.851790e-07</td>\n",
       "      <td>-4.998520e-07</td>\n",
       "      <td>2.507770e-06</td>\n",
       "      <td>1.210360e-06</td>\n",
       "      <td>-1.010100e-06</td>\n",
       "    </tr>\n",
       "    <tr>\n",
       "      <th>22</th>\n",
       "      <td>3.269010e-08</td>\n",
       "      <td>4.032160e-09</td>\n",
       "      <td>-4.015310e-08</td>\n",
       "      <td>1.966790e-08</td>\n",
       "      <td>-2.762200e-08</td>\n",
       "      <td>5.168260e-09</td>\n",
       "      <td>2.793920e-08</td>\n",
       "      <td>1.245500e-08</td>\n",
       "      <td>-1.747600e-08</td>\n",
       "      <td>9.077260e-09</td>\n",
       "      <td>...</td>\n",
       "      <td>-1.441370e-08</td>\n",
       "      <td>6.554140e-09</td>\n",
       "      <td>-5.545750e-09</td>\n",
       "      <td>-2.023560e-08</td>\n",
       "      <td>3.487980e-09</td>\n",
       "      <td>1.567720e-09</td>\n",
       "      <td>9.058400e-09</td>\n",
       "      <td>-5.494460e-08</td>\n",
       "      <td>-1.409680e-08</td>\n",
       "      <td>1.864190e-08</td>\n",
       "    </tr>\n",
       "    <tr>\n",
       "      <th>63</th>\n",
       "      <td>9.120640e-07</td>\n",
       "      <td>-3.216410e-08</td>\n",
       "      <td>-1.356770e-06</td>\n",
       "      <td>5.743890e-07</td>\n",
       "      <td>-6.543650e-07</td>\n",
       "      <td>3.227180e-07</td>\n",
       "      <td>1.098150e-06</td>\n",
       "      <td>5.624300e-07</td>\n",
       "      <td>-8.181430e-07</td>\n",
       "      <td>6.226500e-07</td>\n",
       "      <td>...</td>\n",
       "      <td>-8.314120e-08</td>\n",
       "      <td>3.782600e-07</td>\n",
       "      <td>-3.456450e-07</td>\n",
       "      <td>-7.760180e-07</td>\n",
       "      <td>1.967050e-07</td>\n",
       "      <td>2.026640e-07</td>\n",
       "      <td>4.244020e-07</td>\n",
       "      <td>-1.929800e-06</td>\n",
       "      <td>-8.133070e-07</td>\n",
       "      <td>7.574870e-07</td>\n",
       "    </tr>\n",
       "    <tr>\n",
       "      <th>42</th>\n",
       "      <td>1.125690e-08</td>\n",
       "      <td>3.017250e-10</td>\n",
       "      <td>-1.603960e-08</td>\n",
       "      <td>7.729870e-09</td>\n",
       "      <td>-6.484850e-09</td>\n",
       "      <td>3.591270e-09</td>\n",
       "      <td>1.743080e-08</td>\n",
       "      <td>1.138790e-08</td>\n",
       "      <td>-1.368310e-08</td>\n",
       "      <td>1.077520e-08</td>\n",
       "      <td>...</td>\n",
       "      <td>2.458290e-10</td>\n",
       "      <td>1.022630e-08</td>\n",
       "      <td>-6.023820e-09</td>\n",
       "      <td>-1.263620e-08</td>\n",
       "      <td>3.580050e-09</td>\n",
       "      <td>2.304400e-09</td>\n",
       "      <td>7.835510e-09</td>\n",
       "      <td>-3.044890e-08</td>\n",
       "      <td>-1.203900e-08</td>\n",
       "      <td>1.421310e-08</td>\n",
       "    </tr>\n",
       "    <tr>\n",
       "      <th>65</th>\n",
       "      <td>9.234820e-07</td>\n",
       "      <td>-2.416270e-08</td>\n",
       "      <td>-1.311110e-06</td>\n",
       "      <td>6.131700e-07</td>\n",
       "      <td>-6.574110e-07</td>\n",
       "      <td>2.891610e-07</td>\n",
       "      <td>1.006020e-06</td>\n",
       "      <td>4.911600e-07</td>\n",
       "      <td>-7.885510e-07</td>\n",
       "      <td>5.204070e-07</td>\n",
       "      <td>...</td>\n",
       "      <td>-6.535980e-08</td>\n",
       "      <td>3.322310e-07</td>\n",
       "      <td>-3.004810e-07</td>\n",
       "      <td>-7.342750e-07</td>\n",
       "      <td>2.400570e-07</td>\n",
       "      <td>2.122500e-07</td>\n",
       "      <td>3.500200e-07</td>\n",
       "      <td>-1.803450e-06</td>\n",
       "      <td>-8.060320e-07</td>\n",
       "      <td>7.126480e-07</td>\n",
       "    </tr>\n",
       "    <tr>\n",
       "      <th>15</th>\n",
       "      <td>1.058430e-07</td>\n",
       "      <td>1.543100e-08</td>\n",
       "      <td>-1.274760e-07</td>\n",
       "      <td>8.992550e-08</td>\n",
       "      <td>-3.990970e-08</td>\n",
       "      <td>4.853720e-08</td>\n",
       "      <td>1.113130e-07</td>\n",
       "      <td>7.197520e-08</td>\n",
       "      <td>-1.547280e-07</td>\n",
       "      <td>5.322580e-08</td>\n",
       "      <td>...</td>\n",
       "      <td>5.707940e-08</td>\n",
       "      <td>9.243990e-08</td>\n",
       "      <td>-4.875610e-08</td>\n",
       "      <td>-9.152910e-08</td>\n",
       "      <td>6.622350e-08</td>\n",
       "      <td>4.684290e-08</td>\n",
       "      <td>4.116620e-08</td>\n",
       "      <td>-2.095890e-07</td>\n",
       "      <td>-1.369060e-07</td>\n",
       "      <td>1.369000e-07</td>\n",
       "    </tr>\n",
       "    <tr>\n",
       "      <th>64</th>\n",
       "      <td>8.862840e-07</td>\n",
       "      <td>-2.759630e-08</td>\n",
       "      <td>-1.302990e-06</td>\n",
       "      <td>6.094610e-07</td>\n",
       "      <td>-6.670260e-07</td>\n",
       "      <td>3.162820e-07</td>\n",
       "      <td>1.008400e-06</td>\n",
       "      <td>4.892820e-07</td>\n",
       "      <td>-7.926750e-07</td>\n",
       "      <td>5.146000e-07</td>\n",
       "      <td>...</td>\n",
       "      <td>-7.550480e-08</td>\n",
       "      <td>3.141280e-07</td>\n",
       "      <td>-2.933490e-07</td>\n",
       "      <td>-7.295100e-07</td>\n",
       "      <td>2.275120e-07</td>\n",
       "      <td>2.242390e-07</td>\n",
       "      <td>3.481140e-07</td>\n",
       "      <td>-1.785800e-06</td>\n",
       "      <td>-7.770550e-07</td>\n",
       "      <td>7.182610e-07</td>\n",
       "    </tr>\n",
       "    <tr>\n",
       "      <th>1</th>\n",
       "      <td>-9.804670e-07</td>\n",
       "      <td>1.225860e-07</td>\n",
       "      <td>1.545680e-06</td>\n",
       "      <td>-5.735950e-07</td>\n",
       "      <td>7.740930e-07</td>\n",
       "      <td>-4.663580e-07</td>\n",
       "      <td>-1.445750e-06</td>\n",
       "      <td>-8.403010e-07</td>\n",
       "      <td>9.889920e-07</td>\n",
       "      <td>-1.038570e-06</td>\n",
       "      <td>...</td>\n",
       "      <td>4.708810e-08</td>\n",
       "      <td>-4.649680e-07</td>\n",
       "      <td>4.904830e-07</td>\n",
       "      <td>8.984130e-07</td>\n",
       "      <td>-2.616180e-07</td>\n",
       "      <td>-1.312890e-07</td>\n",
       "      <td>-5.844590e-07</td>\n",
       "      <td>2.417760e-06</td>\n",
       "      <td>1.010430e-06</td>\n",
       "      <td>-8.055940e-07</td>\n",
       "    </tr>\n",
       "    <tr>\n",
       "      <th>66</th>\n",
       "      <td>1.166150e-06</td>\n",
       "      <td>-3.416190e-08</td>\n",
       "      <td>-1.739460e-06</td>\n",
       "      <td>7.362910e-07</td>\n",
       "      <td>-8.409110e-07</td>\n",
       "      <td>4.135960e-07</td>\n",
       "      <td>1.335690e-06</td>\n",
       "      <td>6.633340e-07</td>\n",
       "      <td>-1.022450e-06</td>\n",
       "      <td>7.517510e-07</td>\n",
       "      <td>...</td>\n",
       "      <td>-8.719680e-08</td>\n",
       "      <td>4.354200e-07</td>\n",
       "      <td>-4.123370e-07</td>\n",
       "      <td>-9.780300e-07</td>\n",
       "      <td>2.754930e-07</td>\n",
       "      <td>2.769500e-07</td>\n",
       "      <td>5.166960e-07</td>\n",
       "      <td>-2.398200e-06</td>\n",
       "      <td>-1.036690e-06</td>\n",
       "      <td>9.549190e-07</td>\n",
       "    </tr>\n",
       "    <tr>\n",
       "      <th>2</th>\n",
       "      <td>-1.031940e-06</td>\n",
       "      <td>1.067580e-07</td>\n",
       "      <td>1.447820e-06</td>\n",
       "      <td>-4.188680e-07</td>\n",
       "      <td>7.090430e-07</td>\n",
       "      <td>-4.101780e-07</td>\n",
       "      <td>-1.379560e-06</td>\n",
       "      <td>-7.991010e-07</td>\n",
       "      <td>7.639980e-07</td>\n",
       "      <td>-1.087540e-06</td>\n",
       "      <td>...</td>\n",
       "      <td>1.685450e-09</td>\n",
       "      <td>-4.445650e-07</td>\n",
       "      <td>5.474170e-07</td>\n",
       "      <td>9.561530e-07</td>\n",
       "      <td>-9.235050e-08</td>\n",
       "      <td>-1.428630e-07</td>\n",
       "      <td>-6.329060e-07</td>\n",
       "      <td>2.433550e-06</td>\n",
       "      <td>1.006270e-06</td>\n",
       "      <td>-7.450120e-07</td>\n",
       "    </tr>\n",
       "    <tr>\n",
       "      <th>10</th>\n",
       "      <td>-2.132340e-07</td>\n",
       "      <td>3.076380e-08</td>\n",
       "      <td>3.316180e-07</td>\n",
       "      <td>-1.168620e-07</td>\n",
       "      <td>1.274170e-07</td>\n",
       "      <td>-8.609920e-08</td>\n",
       "      <td>-2.317990e-07</td>\n",
       "      <td>-1.042670e-07</td>\n",
       "      <td>2.010470e-07</td>\n",
       "      <td>-1.354300e-07</td>\n",
       "      <td>...</td>\n",
       "      <td>2.099860e-08</td>\n",
       "      <td>-7.944330e-08</td>\n",
       "      <td>8.527800e-08</td>\n",
       "      <td>1.522990e-07</td>\n",
       "      <td>-4.627820e-08</td>\n",
       "      <td>-4.872640e-08</td>\n",
       "      <td>-1.020400e-07</td>\n",
       "      <td>4.218470e-07</td>\n",
       "      <td>1.965830e-07</td>\n",
       "      <td>-1.548910e-07</td>\n",
       "    </tr>\n",
       "    <tr>\n",
       "      <th>9</th>\n",
       "      <td>-3.125060e-07</td>\n",
       "      <td>2.945080e-08</td>\n",
       "      <td>3.666790e-07</td>\n",
       "      <td>-8.953290e-08</td>\n",
       "      <td>1.964840e-07</td>\n",
       "      <td>-7.846830e-08</td>\n",
       "      <td>-4.572820e-07</td>\n",
       "      <td>-3.013200e-07</td>\n",
       "      <td>1.709170e-07</td>\n",
       "      <td>-4.025640e-07</td>\n",
       "      <td>...</td>\n",
       "      <td>-1.211800e-08</td>\n",
       "      <td>-1.690350e-07</td>\n",
       "      <td>2.040160e-07</td>\n",
       "      <td>3.419760e-07</td>\n",
       "      <td>2.647470e-08</td>\n",
       "      <td>-6.223600e-09</td>\n",
       "      <td>-2.362000e-07</td>\n",
       "      <td>8.401500e-07</td>\n",
       "      <td>2.953180e-07</td>\n",
       "      <td>-2.203630e-07</td>\n",
       "    </tr>\n",
       "    <tr>\n",
       "      <th>6</th>\n",
       "      <td>-4.437300e-07</td>\n",
       "      <td>4.418760e-08</td>\n",
       "      <td>6.792070e-07</td>\n",
       "      <td>-2.782580e-07</td>\n",
       "      <td>3.206140e-07</td>\n",
       "      <td>-1.931580e-07</td>\n",
       "      <td>-5.613460e-07</td>\n",
       "      <td>-2.912400e-07</td>\n",
       "      <td>4.195810e-07</td>\n",
       "      <td>-3.570180e-07</td>\n",
       "      <td>...</td>\n",
       "      <td>1.776690e-08</td>\n",
       "      <td>-1.760880e-07</td>\n",
       "      <td>1.838520e-07</td>\n",
       "      <td>4.051600e-07</td>\n",
       "      <td>-1.115840e-07</td>\n",
       "      <td>-1.037150e-07</td>\n",
       "      <td>-2.080030e-07</td>\n",
       "      <td>9.836740e-07</td>\n",
       "      <td>4.405130e-07</td>\n",
       "      <td>-3.707360e-07</td>\n",
       "    </tr>\n",
       "    <tr>\n",
       "      <th>7</th>\n",
       "      <td>-4.735060e-07</td>\n",
       "      <td>4.016310e-08</td>\n",
       "      <td>7.217010e-07</td>\n",
       "      <td>-2.776220e-07</td>\n",
       "      <td>3.210590e-07</td>\n",
       "      <td>-1.848750e-07</td>\n",
       "      <td>-5.729010e-07</td>\n",
       "      <td>-3.013540e-07</td>\n",
       "      <td>4.351450e-07</td>\n",
       "      <td>-3.703750e-07</td>\n",
       "      <td>...</td>\n",
       "      <td>1.855650e-08</td>\n",
       "      <td>-1.801420e-07</td>\n",
       "      <td>1.898890e-07</td>\n",
       "      <td>4.058500e-07</td>\n",
       "      <td>-1.071160e-07</td>\n",
       "      <td>-1.136160e-07</td>\n",
       "      <td>-2.345940e-07</td>\n",
       "      <td>1.018210e-06</td>\n",
       "      <td>4.619040e-07</td>\n",
       "      <td>-3.878330e-07</td>\n",
       "    </tr>\n",
       "    <tr>\n",
       "      <th>5</th>\n",
       "      <td>-4.848840e-07</td>\n",
       "      <td>9.038100e-09</td>\n",
       "      <td>7.116730e-07</td>\n",
       "      <td>-2.767840e-07</td>\n",
       "      <td>3.498470e-07</td>\n",
       "      <td>-1.936310e-07</td>\n",
       "      <td>-5.777290e-07</td>\n",
       "      <td>-2.948050e-07</td>\n",
       "      <td>4.115420e-07</td>\n",
       "      <td>-3.726170e-07</td>\n",
       "      <td>...</td>\n",
       "      <td>8.055200e-09</td>\n",
       "      <td>-1.859230e-07</td>\n",
       "      <td>2.012220e-07</td>\n",
       "      <td>3.947590e-07</td>\n",
       "      <td>-1.041210e-07</td>\n",
       "      <td>-9.791080e-08</td>\n",
       "      <td>-2.223280e-07</td>\n",
       "      <td>1.000190e-06</td>\n",
       "      <td>4.496640e-07</td>\n",
       "      <td>-3.517380e-07</td>\n",
       "    </tr>\n",
       "    <tr>\n",
       "      <th>8</th>\n",
       "      <td>-1.223630e-07</td>\n",
       "      <td>1.684040e-08</td>\n",
       "      <td>2.405200e-07</td>\n",
       "      <td>-5.494900e-08</td>\n",
       "      <td>1.428260e-07</td>\n",
       "      <td>-1.189870e-07</td>\n",
       "      <td>-2.417540e-07</td>\n",
       "      <td>-1.509490e-07</td>\n",
       "      <td>1.564490e-07</td>\n",
       "      <td>-2.173460e-07</td>\n",
       "      <td>...</td>\n",
       "      <td>9.480370e-09</td>\n",
       "      <td>-5.819560e-08</td>\n",
       "      <td>7.882750e-08</td>\n",
       "      <td>1.159660e-07</td>\n",
       "      <td>-5.523370e-08</td>\n",
       "      <td>-7.612320e-09</td>\n",
       "      <td>-9.669030e-08</td>\n",
       "      <td>3.618580e-07</td>\n",
       "      <td>1.578320e-07</td>\n",
       "      <td>-1.082020e-07</td>\n",
       "    </tr>\n",
       "    <tr>\n",
       "      <th>4</th>\n",
       "      <td>-4.812270e-07</td>\n",
       "      <td>4.084920e-08</td>\n",
       "      <td>7.005940e-07</td>\n",
       "      <td>-2.684940e-07</td>\n",
       "      <td>3.438240e-07</td>\n",
       "      <td>-1.657010e-07</td>\n",
       "      <td>-5.519390e-07</td>\n",
       "      <td>-2.725110e-07</td>\n",
       "      <td>3.980780e-07</td>\n",
       "      <td>-3.044820e-07</td>\n",
       "      <td>...</td>\n",
       "      <td>2.116550e-08</td>\n",
       "      <td>-1.596280e-07</td>\n",
       "      <td>1.825300e-07</td>\n",
       "      <td>3.970640e-07</td>\n",
       "      <td>-8.019650e-08</td>\n",
       "      <td>-1.178420e-07</td>\n",
       "      <td>-2.235920e-07</td>\n",
       "      <td>9.676410e-07</td>\n",
       "      <td>4.185190e-07</td>\n",
       "      <td>-3.626890e-07</td>\n",
       "    </tr>\n",
       "    <tr>\n",
       "      <th>11</th>\n",
       "      <td>-3.680030e-07</td>\n",
       "      <td>1.388160e-08</td>\n",
       "      <td>5.423360e-07</td>\n",
       "      <td>-2.467920e-07</td>\n",
       "      <td>2.490140e-07</td>\n",
       "      <td>-1.196850e-07</td>\n",
       "      <td>-3.100710e-07</td>\n",
       "      <td>-1.057530e-07</td>\n",
       "      <td>2.942920e-07</td>\n",
       "      <td>-1.020570e-07</td>\n",
       "      <td>...</td>\n",
       "      <td>1.829190e-08</td>\n",
       "      <td>-4.518620e-08</td>\n",
       "      <td>8.049940e-08</td>\n",
       "      <td>2.635660e-07</td>\n",
       "      <td>-7.660840e-08</td>\n",
       "      <td>-1.245840e-07</td>\n",
       "      <td>-8.907950e-08</td>\n",
       "      <td>5.761580e-07</td>\n",
       "      <td>2.941860e-07</td>\n",
       "      <td>-2.522810e-07</td>\n",
       "    </tr>\n",
       "    <tr>\n",
       "      <th>25</th>\n",
       "      <td>7.967460e-08</td>\n",
       "      <td>6.635630e-09</td>\n",
       "      <td>-1.303110e-07</td>\n",
       "      <td>8.248430e-08</td>\n",
       "      <td>-3.409960e-08</td>\n",
       "      <td>3.936510e-08</td>\n",
       "      <td>1.110530e-07</td>\n",
       "      <td>6.229170e-08</td>\n",
       "      <td>-1.322570e-07</td>\n",
       "      <td>5.083080e-08</td>\n",
       "      <td>...</td>\n",
       "      <td>5.124220e-08</td>\n",
       "      <td>7.682470e-08</td>\n",
       "      <td>-4.407440e-08</td>\n",
       "      <td>-8.317340e-08</td>\n",
       "      <td>5.710210e-08</td>\n",
       "      <td>5.259310e-08</td>\n",
       "      <td>4.591190e-08</td>\n",
       "      <td>-2.020500e-07</td>\n",
       "      <td>-1.325030e-07</td>\n",
       "      <td>1.393270e-07</td>\n",
       "    </tr>\n",
       "    <tr>\n",
       "      <th>43</th>\n",
       "      <td>2.320300e-08</td>\n",
       "      <td>-1.709140e-09</td>\n",
       "      <td>-3.064440e-08</td>\n",
       "      <td>1.569140e-08</td>\n",
       "      <td>-1.334580e-08</td>\n",
       "      <td>3.894430e-09</td>\n",
       "      <td>1.607420e-08</td>\n",
       "      <td>6.468630e-09</td>\n",
       "      <td>-1.460950e-08</td>\n",
       "      <td>1.859830e-10</td>\n",
       "      <td>...</td>\n",
       "      <td>-5.134030e-09</td>\n",
       "      <td>7.946620e-09</td>\n",
       "      <td>-6.433200e-09</td>\n",
       "      <td>-1.138180e-08</td>\n",
       "      <td>-1.695720e-09</td>\n",
       "      <td>4.838380e-09</td>\n",
       "      <td>7.243760e-09</td>\n",
       "      <td>-3.806070e-08</td>\n",
       "      <td>-1.204870e-08</td>\n",
       "      <td>1.709310e-08</td>\n",
       "    </tr>\n",
       "    <tr>\n",
       "      <th>45</th>\n",
       "      <td>1.327460e-08</td>\n",
       "      <td>-5.502850e-09</td>\n",
       "      <td>-3.095910e-08</td>\n",
       "      <td>1.570940e-08</td>\n",
       "      <td>-1.110070e-08</td>\n",
       "      <td>2.197490e-09</td>\n",
       "      <td>2.778050e-08</td>\n",
       "      <td>1.291970e-08</td>\n",
       "      <td>-2.069770e-08</td>\n",
       "      <td>1.543180e-08</td>\n",
       "      <td>...</td>\n",
       "      <td>-6.877360e-09</td>\n",
       "      <td>6.596060e-09</td>\n",
       "      <td>-1.387130e-09</td>\n",
       "      <td>-2.405580e-08</td>\n",
       "      <td>1.373550e-08</td>\n",
       "      <td>7.287510e-09</td>\n",
       "      <td>8.240560e-09</td>\n",
       "      <td>-4.512130e-08</td>\n",
       "      <td>-1.900370e-08</td>\n",
       "      <td>1.987820e-08</td>\n",
       "    </tr>\n",
       "    <tr>\n",
       "      <th>68</th>\n",
       "      <td>1.146280e-06</td>\n",
       "      <td>1.232830e-08</td>\n",
       "      <td>-1.688650e-06</td>\n",
       "      <td>7.320520e-07</td>\n",
       "      <td>-8.443540e-07</td>\n",
       "      <td>4.009690e-07</td>\n",
       "      <td>1.329600e-06</td>\n",
       "      <td>6.786970e-07</td>\n",
       "      <td>-1.076590e-06</td>\n",
       "      <td>6.920500e-07</td>\n",
       "      <td>...</td>\n",
       "      <td>-7.508940e-08</td>\n",
       "      <td>4.058190e-07</td>\n",
       "      <td>-4.011770e-07</td>\n",
       "      <td>-1.021450e-06</td>\n",
       "      <td>2.376190e-07</td>\n",
       "      <td>2.722070e-07</td>\n",
       "      <td>4.996810e-07</td>\n",
       "      <td>-2.359100e-06</td>\n",
       "      <td>-9.758180e-07</td>\n",
       "      <td>9.390260e-07</td>\n",
       "    </tr>\n",
       "    <tr>\n",
       "      <th>14</th>\n",
       "      <td>1.268800e-07</td>\n",
       "      <td>-2.108220e-08</td>\n",
       "      <td>-4.922190e-07</td>\n",
       "      <td>3.435150e-07</td>\n",
       "      <td>-2.302340e-07</td>\n",
       "      <td>2.408170e-08</td>\n",
       "      <td>4.204560e-07</td>\n",
       "      <td>6.346690e-08</td>\n",
       "      <td>-1.877060e-07</td>\n",
       "      <td>8.362260e-08</td>\n",
       "      <td>...</td>\n",
       "      <td>4.175360e-08</td>\n",
       "      <td>2.431770e-07</td>\n",
       "      <td>-1.355940e-08</td>\n",
       "      <td>-3.044310e-07</td>\n",
       "      <td>1.443110e-07</td>\n",
       "      <td>3.016760e-07</td>\n",
       "      <td>-7.164060e-09</td>\n",
       "      <td>-3.790290e-07</td>\n",
       "      <td>-3.290010e-07</td>\n",
       "      <td>3.133090e-07</td>\n",
       "    </tr>\n",
       "    <tr>\n",
       "      <th>50</th>\n",
       "      <td>1.646920e-08</td>\n",
       "      <td>3.481880e-09</td>\n",
       "      <td>-2.573150e-08</td>\n",
       "      <td>1.899670e-08</td>\n",
       "      <td>-2.488210e-08</td>\n",
       "      <td>8.546120e-09</td>\n",
       "      <td>2.724790e-08</td>\n",
       "      <td>7.113170e-09</td>\n",
       "      <td>-9.852280e-09</td>\n",
       "      <td>1.247920e-08</td>\n",
       "      <td>...</td>\n",
       "      <td>-3.706880e-09</td>\n",
       "      <td>8.228760e-09</td>\n",
       "      <td>-5.811590e-09</td>\n",
       "      <td>-1.466360e-08</td>\n",
       "      <td>8.779730e-09</td>\n",
       "      <td>6.342050e-09</td>\n",
       "      <td>2.889890e-09</td>\n",
       "      <td>-4.179130e-08</td>\n",
       "      <td>-2.059350e-08</td>\n",
       "      <td>1.706950e-08</td>\n",
       "    </tr>\n",
       "    <tr>\n",
       "      <th>44</th>\n",
       "      <td>2.829970e-08</td>\n",
       "      <td>8.730670e-09</td>\n",
       "      <td>-3.666050e-08</td>\n",
       "      <td>1.927760e-08</td>\n",
       "      <td>-3.069680e-08</td>\n",
       "      <td>1.257430e-08</td>\n",
       "      <td>2.629590e-08</td>\n",
       "      <td>1.160410e-08</td>\n",
       "      <td>-2.096570e-08</td>\n",
       "      <td>1.027070e-08</td>\n",
       "      <td>...</td>\n",
       "      <td>-3.817650e-09</td>\n",
       "      <td>5.493160e-09</td>\n",
       "      <td>-6.125490e-09</td>\n",
       "      <td>-1.121240e-08</td>\n",
       "      <td>1.238550e-08</td>\n",
       "      <td>3.874920e-09</td>\n",
       "      <td>3.714550e-09</td>\n",
       "      <td>-3.980690e-08</td>\n",
       "      <td>-2.129600e-08</td>\n",
       "      <td>1.889430e-08</td>\n",
       "    </tr>\n",
       "    <tr>\n",
       "      <th>17</th>\n",
       "      <td>5.191790e-08</td>\n",
       "      <td>-1.093390e-07</td>\n",
       "      <td>-1.852650e-07</td>\n",
       "      <td>2.202660e-07</td>\n",
       "      <td>-6.209050e-08</td>\n",
       "      <td>-7.932930e-08</td>\n",
       "      <td>2.053490e-07</td>\n",
       "      <td>1.762530e-07</td>\n",
       "      <td>-2.076410e-07</td>\n",
       "      <td>5.575150e-08</td>\n",
       "      <td>...</td>\n",
       "      <td>-3.010210e-09</td>\n",
       "      <td>1.988710e-08</td>\n",
       "      <td>-1.247060e-08</td>\n",
       "      <td>-9.407260e-08</td>\n",
       "      <td>9.483410e-08</td>\n",
       "      <td>-9.239170e-08</td>\n",
       "      <td>2.759350e-08</td>\n",
       "      <td>-3.043840e-07</td>\n",
       "      <td>-8.059590e-08</td>\n",
       "      <td>5.874610e-08</td>\n",
       "    </tr>\n",
       "    <tr>\n",
       "      <th>30</th>\n",
       "      <td>5.103730e-08</td>\n",
       "      <td>-1.123210e-07</td>\n",
       "      <td>-1.914440e-07</td>\n",
       "      <td>2.259650e-07</td>\n",
       "      <td>-6.498940e-08</td>\n",
       "      <td>-8.319890e-08</td>\n",
       "      <td>2.138980e-07</td>\n",
       "      <td>1.821980e-07</td>\n",
       "      <td>-2.113660e-07</td>\n",
       "      <td>5.916620e-08</td>\n",
       "      <td>...</td>\n",
       "      <td>-3.897980e-09</td>\n",
       "      <td>2.235240e-08</td>\n",
       "      <td>-1.273080e-08</td>\n",
       "      <td>-9.977380e-08</td>\n",
       "      <td>9.631590e-08</td>\n",
       "      <td>-9.363530e-08</td>\n",
       "      <td>2.992190e-08</td>\n",
       "      <td>-3.165510e-07</td>\n",
       "      <td>-8.229410e-08</td>\n",
       "      <td>6.247690e-08</td>\n",
       "    </tr>\n",
       "    <tr>\n",
       "      <th>48</th>\n",
       "      <td>2.111940e-08</td>\n",
       "      <td>-9.016890e-10</td>\n",
       "      <td>-2.718020e-08</td>\n",
       "      <td>2.536390e-08</td>\n",
       "      <td>-1.475500e-08</td>\n",
       "      <td>6.144750e-09</td>\n",
       "      <td>2.782670e-08</td>\n",
       "      <td>1.817610e-08</td>\n",
       "      <td>-3.157720e-08</td>\n",
       "      <td>1.686660e-08</td>\n",
       "      <td>...</td>\n",
       "      <td>7.478610e-09</td>\n",
       "      <td>1.026310e-08</td>\n",
       "      <td>-3.741540e-09</td>\n",
       "      <td>-2.731910e-08</td>\n",
       "      <td>1.667740e-08</td>\n",
       "      <td>7.878830e-09</td>\n",
       "      <td>3.485730e-09</td>\n",
       "      <td>-4.316750e-08</td>\n",
       "      <td>-2.507460e-08</td>\n",
       "      <td>1.647580e-08</td>\n",
       "    </tr>\n",
       "    <tr>\n",
       "      <th>...</th>\n",
       "      <td>...</td>\n",
       "      <td>...</td>\n",
       "      <td>...</td>\n",
       "      <td>...</td>\n",
       "      <td>...</td>\n",
       "      <td>...</td>\n",
       "      <td>...</td>\n",
       "      <td>...</td>\n",
       "      <td>...</td>\n",
       "      <td>...</td>\n",
       "      <td>...</td>\n",
       "      <td>...</td>\n",
       "      <td>...</td>\n",
       "      <td>...</td>\n",
       "      <td>...</td>\n",
       "      <td>...</td>\n",
       "      <td>...</td>\n",
       "      <td>...</td>\n",
       "      <td>...</td>\n",
       "      <td>...</td>\n",
       "      <td>...</td>\n",
       "    </tr>\n",
       "    <tr>\n",
       "      <th>55</th>\n",
       "      <td>8.379640e-08</td>\n",
       "      <td>1.564560e-08</td>\n",
       "      <td>-5.664490e-08</td>\n",
       "      <td>4.146090e-08</td>\n",
       "      <td>-3.189740e-08</td>\n",
       "      <td>7.501730e-10</td>\n",
       "      <td>3.573050e-08</td>\n",
       "      <td>2.575840e-08</td>\n",
       "      <td>-5.607240e-08</td>\n",
       "      <td>6.746720e-09</td>\n",
       "      <td>...</td>\n",
       "      <td>2.537560e-08</td>\n",
       "      <td>2.242170e-08</td>\n",
       "      <td>-1.980660e-08</td>\n",
       "      <td>-6.307480e-08</td>\n",
       "      <td>1.594040e-08</td>\n",
       "      <td>1.716760e-08</td>\n",
       "      <td>7.600390e-09</td>\n",
       "      <td>-1.037770e-07</td>\n",
       "      <td>-5.693080e-08</td>\n",
       "      <td>3.775020e-08</td>\n",
       "    </tr>\n",
       "    <tr>\n",
       "      <th>35</th>\n",
       "      <td>3.260430e-07</td>\n",
       "      <td>7.610200e-08</td>\n",
       "      <td>-4.217260e-07</td>\n",
       "      <td>1.496680e-07</td>\n",
       "      <td>-5.034580e-08</td>\n",
       "      <td>1.617950e-07</td>\n",
       "      <td>1.837320e-07</td>\n",
       "      <td>1.439700e-07</td>\n",
       "      <td>-4.020300e-07</td>\n",
       "      <td>2.269620e-07</td>\n",
       "      <td>...</td>\n",
       "      <td>1.868040e-07</td>\n",
       "      <td>1.530000e-07</td>\n",
       "      <td>-1.032950e-07</td>\n",
       "      <td>-3.550200e-07</td>\n",
       "      <td>1.837850e-07</td>\n",
       "      <td>8.826560e-08</td>\n",
       "      <td>1.905950e-07</td>\n",
       "      <td>-5.259320e-07</td>\n",
       "      <td>-3.045640e-07</td>\n",
       "      <td>3.405930e-07</td>\n",
       "    </tr>\n",
       "    <tr>\n",
       "      <th>57</th>\n",
       "      <td>5.362760e-08</td>\n",
       "      <td>1.348440e-08</td>\n",
       "      <td>-1.069920e-07</td>\n",
       "      <td>5.746160e-08</td>\n",
       "      <td>-2.299060e-08</td>\n",
       "      <td>-2.271980e-09</td>\n",
       "      <td>6.097920e-08</td>\n",
       "      <td>2.347450e-08</td>\n",
       "      <td>-5.867360e-08</td>\n",
       "      <td>5.158900e-09</td>\n",
       "      <td>...</td>\n",
       "      <td>4.412600e-09</td>\n",
       "      <td>3.562430e-08</td>\n",
       "      <td>-1.134900e-08</td>\n",
       "      <td>-2.278450e-08</td>\n",
       "      <td>1.362840e-08</td>\n",
       "      <td>3.113870e-08</td>\n",
       "      <td>1.113560e-08</td>\n",
       "      <td>-6.896470e-08</td>\n",
       "      <td>-5.692180e-08</td>\n",
       "      <td>5.821440e-08</td>\n",
       "    </tr>\n",
       "    <tr>\n",
       "      <th>72</th>\n",
       "      <td>1.155410e-06</td>\n",
       "      <td>3.437880e-08</td>\n",
       "      <td>-1.627870e-06</td>\n",
       "      <td>7.070660e-07</td>\n",
       "      <td>-8.002500e-07</td>\n",
       "      <td>3.699250e-07</td>\n",
       "      <td>1.288480e-06</td>\n",
       "      <td>6.614860e-07</td>\n",
       "      <td>-1.060550e-06</td>\n",
       "      <td>6.881260e-07</td>\n",
       "      <td>...</td>\n",
       "      <td>-5.071080e-08</td>\n",
       "      <td>3.749570e-07</td>\n",
       "      <td>-3.863150e-07</td>\n",
       "      <td>-1.086840e-06</td>\n",
       "      <td>1.923120e-07</td>\n",
       "      <td>2.532190e-07</td>\n",
       "      <td>5.140360e-07</td>\n",
       "      <td>-2.248100e-06</td>\n",
       "      <td>-8.997480e-07</td>\n",
       "      <td>8.920470e-07</td>\n",
       "    </tr>\n",
       "    <tr>\n",
       "      <th>24</th>\n",
       "      <td>1.045740e-07</td>\n",
       "      <td>-2.918720e-08</td>\n",
       "      <td>-1.342120e-07</td>\n",
       "      <td>2.988890e-08</td>\n",
       "      <td>-3.255210e-08</td>\n",
       "      <td>-4.949930e-09</td>\n",
       "      <td>5.315390e-08</td>\n",
       "      <td>4.308140e-08</td>\n",
       "      <td>-9.942930e-08</td>\n",
       "      <td>-2.303720e-08</td>\n",
       "      <td>...</td>\n",
       "      <td>1.106380e-08</td>\n",
       "      <td>3.806530e-08</td>\n",
       "      <td>-1.189760e-08</td>\n",
       "      <td>-1.348700e-07</td>\n",
       "      <td>-3.170350e-09</td>\n",
       "      <td>6.945600e-08</td>\n",
       "      <td>5.031650e-08</td>\n",
       "      <td>-1.829990e-07</td>\n",
       "      <td>-5.174740e-08</td>\n",
       "      <td>1.239170e-07</td>\n",
       "    </tr>\n",
       "    <tr>\n",
       "      <th>21</th>\n",
       "      <td>3.753390e-08</td>\n",
       "      <td>-1.005010e-07</td>\n",
       "      <td>-1.459210e-07</td>\n",
       "      <td>-8.492260e-08</td>\n",
       "      <td>5.942110e-08</td>\n",
       "      <td>-1.332420e-07</td>\n",
       "      <td>1.286710e-07</td>\n",
       "      <td>8.340860e-08</td>\n",
       "      <td>-1.226270e-07</td>\n",
       "      <td>1.771380e-07</td>\n",
       "      <td>...</td>\n",
       "      <td>1.752610e-08</td>\n",
       "      <td>-1.605590e-07</td>\n",
       "      <td>-1.902580e-08</td>\n",
       "      <td>-5.510360e-07</td>\n",
       "      <td>9.083820e-08</td>\n",
       "      <td>1.373610e-07</td>\n",
       "      <td>2.597430e-07</td>\n",
       "      <td>-8.323160e-07</td>\n",
       "      <td>-2.714670e-07</td>\n",
       "      <td>3.853400e-07</td>\n",
       "    </tr>\n",
       "    <tr>\n",
       "      <th>56</th>\n",
       "      <td>3.926810e-08</td>\n",
       "      <td>-2.377400e-09</td>\n",
       "      <td>-8.007010e-08</td>\n",
       "      <td>4.246450e-08</td>\n",
       "      <td>-3.741440e-08</td>\n",
       "      <td>8.128000e-10</td>\n",
       "      <td>5.620100e-08</td>\n",
       "      <td>6.974500e-09</td>\n",
       "      <td>-2.199590e-08</td>\n",
       "      <td>1.905970e-09</td>\n",
       "      <td>...</td>\n",
       "      <td>-4.721650e-09</td>\n",
       "      <td>3.917050e-08</td>\n",
       "      <td>-2.182860e-08</td>\n",
       "      <td>-1.386200e-08</td>\n",
       "      <td>6.560930e-09</td>\n",
       "      <td>1.380480e-08</td>\n",
       "      <td>2.022890e-08</td>\n",
       "      <td>-8.277810e-08</td>\n",
       "      <td>-4.149170e-08</td>\n",
       "      <td>4.650250e-08</td>\n",
       "    </tr>\n",
       "    <tr>\n",
       "      <th>54</th>\n",
       "      <td>5.283900e-08</td>\n",
       "      <td>-2.782060e-09</td>\n",
       "      <td>-4.353260e-08</td>\n",
       "      <td>3.148150e-08</td>\n",
       "      <td>-1.630880e-08</td>\n",
       "      <td>1.001430e-08</td>\n",
       "      <td>2.868690e-08</td>\n",
       "      <td>1.966750e-08</td>\n",
       "      <td>-4.735240e-08</td>\n",
       "      <td>5.634150e-09</td>\n",
       "      <td>...</td>\n",
       "      <td>4.078850e-09</td>\n",
       "      <td>3.225070e-08</td>\n",
       "      <td>-1.659420e-08</td>\n",
       "      <td>-3.084110e-08</td>\n",
       "      <td>1.140330e-08</td>\n",
       "      <td>2.025450e-08</td>\n",
       "      <td>1.925990e-08</td>\n",
       "      <td>-7.004770e-08</td>\n",
       "      <td>-2.842950e-08</td>\n",
       "      <td>4.135310e-08</td>\n",
       "    </tr>\n",
       "    <tr>\n",
       "      <th>47</th>\n",
       "      <td>7.286860e-08</td>\n",
       "      <td>1.889550e-09</td>\n",
       "      <td>-7.514640e-08</td>\n",
       "      <td>3.800970e-08</td>\n",
       "      <td>-7.358440e-08</td>\n",
       "      <td>2.288110e-08</td>\n",
       "      <td>6.444380e-08</td>\n",
       "      <td>4.598250e-08</td>\n",
       "      <td>-9.218080e-08</td>\n",
       "      <td>1.140890e-08</td>\n",
       "      <td>...</td>\n",
       "      <td>1.337590e-08</td>\n",
       "      <td>4.911580e-09</td>\n",
       "      <td>-1.508700e-08</td>\n",
       "      <td>-7.670560e-08</td>\n",
       "      <td>1.998210e-08</td>\n",
       "      <td>5.411800e-09</td>\n",
       "      <td>1.974460e-08</td>\n",
       "      <td>-1.253060e-07</td>\n",
       "      <td>-4.651330e-08</td>\n",
       "      <td>6.098800e-08</td>\n",
       "    </tr>\n",
       "    <tr>\n",
       "      <th>58</th>\n",
       "      <td>1.334890e-07</td>\n",
       "      <td>-3.637830e-10</td>\n",
       "      <td>-1.327240e-07</td>\n",
       "      <td>5.814270e-08</td>\n",
       "      <td>-5.457640e-08</td>\n",
       "      <td>-3.468620e-09</td>\n",
       "      <td>6.436210e-08</td>\n",
       "      <td>2.697380e-08</td>\n",
       "      <td>-7.487940e-08</td>\n",
       "      <td>1.226510e-08</td>\n",
       "      <td>...</td>\n",
       "      <td>2.708800e-08</td>\n",
       "      <td>3.808570e-08</td>\n",
       "      <td>-2.772260e-08</td>\n",
       "      <td>-1.334630e-07</td>\n",
       "      <td>1.093450e-08</td>\n",
       "      <td>3.923130e-08</td>\n",
       "      <td>4.221090e-08</td>\n",
       "      <td>-1.816150e-07</td>\n",
       "      <td>-7.204770e-08</td>\n",
       "      <td>8.532340e-08</td>\n",
       "    </tr>\n",
       "    <tr>\n",
       "      <th>28</th>\n",
       "      <td>3.696630e-07</td>\n",
       "      <td>7.972240e-08</td>\n",
       "      <td>-3.543920e-07</td>\n",
       "      <td>3.200890e-07</td>\n",
       "      <td>-1.559840e-07</td>\n",
       "      <td>2.369920e-07</td>\n",
       "      <td>2.585410e-07</td>\n",
       "      <td>2.770770e-07</td>\n",
       "      <td>-5.396060e-07</td>\n",
       "      <td>1.260620e-07</td>\n",
       "      <td>...</td>\n",
       "      <td>1.707720e-07</td>\n",
       "      <td>1.406890e-07</td>\n",
       "      <td>-1.405670e-07</td>\n",
       "      <td>-3.228610e-07</td>\n",
       "      <td>1.220470e-07</td>\n",
       "      <td>8.646200e-08</td>\n",
       "      <td>3.554320e-08</td>\n",
       "      <td>-6.211300e-07</td>\n",
       "      <td>-3.647330e-07</td>\n",
       "      <td>4.285530e-07</td>\n",
       "    </tr>\n",
       "    <tr>\n",
       "      <th>53</th>\n",
       "      <td>1.093850e-07</td>\n",
       "      <td>-4.665800e-09</td>\n",
       "      <td>-2.121260e-07</td>\n",
       "      <td>1.088240e-07</td>\n",
       "      <td>-1.152270e-07</td>\n",
       "      <td>2.201650e-08</td>\n",
       "      <td>1.200140e-07</td>\n",
       "      <td>1.751710e-08</td>\n",
       "      <td>-5.874160e-08</td>\n",
       "      <td>3.654940e-09</td>\n",
       "      <td>...</td>\n",
       "      <td>2.702420e-08</td>\n",
       "      <td>4.852360e-08</td>\n",
       "      <td>-8.414100e-09</td>\n",
       "      <td>-9.907010e-08</td>\n",
       "      <td>3.923810e-08</td>\n",
       "      <td>8.950280e-08</td>\n",
       "      <td>1.902140e-09</td>\n",
       "      <td>-1.288820e-07</td>\n",
       "      <td>-1.156340e-07</td>\n",
       "      <td>9.999220e-08</td>\n",
       "    </tr>\n",
       "    <tr>\n",
       "      <th>59</th>\n",
       "      <td>9.683480e-08</td>\n",
       "      <td>-1.125240e-08</td>\n",
       "      <td>-1.570270e-07</td>\n",
       "      <td>7.765070e-08</td>\n",
       "      <td>-6.784940e-08</td>\n",
       "      <td>-8.177890e-09</td>\n",
       "      <td>7.858950e-08</td>\n",
       "      <td>2.716500e-08</td>\n",
       "      <td>-4.220030e-08</td>\n",
       "      <td>-2.870790e-08</td>\n",
       "      <td>...</td>\n",
       "      <td>-6.652830e-09</td>\n",
       "      <td>2.191800e-08</td>\n",
       "      <td>-5.260370e-09</td>\n",
       "      <td>-6.556150e-08</td>\n",
       "      <td>-2.394770e-08</td>\n",
       "      <td>4.613090e-08</td>\n",
       "      <td>1.924400e-08</td>\n",
       "      <td>-1.080210e-07</td>\n",
       "      <td>-3.535160e-08</td>\n",
       "      <td>7.054450e-08</td>\n",
       "    </tr>\n",
       "    <tr>\n",
       "      <th>16</th>\n",
       "      <td>8.744840e-07</td>\n",
       "      <td>9.352340e-08</td>\n",
       "      <td>8.844650e-09</td>\n",
       "      <td>-1.605880e-07</td>\n",
       "      <td>1.123510e-07</td>\n",
       "      <td>2.490840e-07</td>\n",
       "      <td>4.464690e-08</td>\n",
       "      <td>2.466490e-07</td>\n",
       "      <td>-9.074500e-07</td>\n",
       "      <td>3.572720e-07</td>\n",
       "      <td>...</td>\n",
       "      <td>4.624830e-07</td>\n",
       "      <td>3.012130e-07</td>\n",
       "      <td>-2.276490e-07</td>\n",
       "      <td>-1.383300e-06</td>\n",
       "      <td>2.295060e-07</td>\n",
       "      <td>3.077330e-07</td>\n",
       "      <td>3.464430e-07</td>\n",
       "      <td>-1.287250e-06</td>\n",
       "      <td>-6.326680e-07</td>\n",
       "      <td>6.742420e-07</td>\n",
       "    </tr>\n",
       "    <tr>\n",
       "      <th>38</th>\n",
       "      <td>2.566930e-07</td>\n",
       "      <td>3.133890e-08</td>\n",
       "      <td>-2.187730e-07</td>\n",
       "      <td>4.309750e-07</td>\n",
       "      <td>-6.453760e-08</td>\n",
       "      <td>3.053620e-07</td>\n",
       "      <td>3.504650e-07</td>\n",
       "      <td>2.278130e-07</td>\n",
       "      <td>-7.363630e-07</td>\n",
       "      <td>2.524000e-07</td>\n",
       "      <td>...</td>\n",
       "      <td>3.421630e-08</td>\n",
       "      <td>1.736010e-07</td>\n",
       "      <td>-2.011350e-07</td>\n",
       "      <td>-2.951500e-07</td>\n",
       "      <td>1.418930e-07</td>\n",
       "      <td>-4.056530e-08</td>\n",
       "      <td>4.393540e-08</td>\n",
       "      <td>-8.076160e-07</td>\n",
       "      <td>-4.588230e-07</td>\n",
       "      <td>4.594350e-07</td>\n",
       "    </tr>\n",
       "    <tr>\n",
       "      <th>34</th>\n",
       "      <td>1.976130e-07</td>\n",
       "      <td>3.779990e-08</td>\n",
       "      <td>-1.997240e-07</td>\n",
       "      <td>1.395380e-07</td>\n",
       "      <td>-1.898970e-08</td>\n",
       "      <td>3.678920e-08</td>\n",
       "      <td>1.930460e-07</td>\n",
       "      <td>1.582050e-07</td>\n",
       "      <td>-2.158070e-07</td>\n",
       "      <td>1.434650e-07</td>\n",
       "      <td>...</td>\n",
       "      <td>2.268810e-08</td>\n",
       "      <td>1.018840e-07</td>\n",
       "      <td>-1.208170e-07</td>\n",
       "      <td>-2.051070e-07</td>\n",
       "      <td>5.037450e-08</td>\n",
       "      <td>-2.784990e-08</td>\n",
       "      <td>1.712700e-07</td>\n",
       "      <td>-5.840170e-07</td>\n",
       "      <td>-1.186690e-07</td>\n",
       "      <td>1.265950e-07</td>\n",
       "    </tr>\n",
       "    <tr>\n",
       "      <th>37</th>\n",
       "      <td>-1.416970e-07</td>\n",
       "      <td>3.880580e-07</td>\n",
       "      <td>-4.634490e-07</td>\n",
       "      <td>6.167610e-07</td>\n",
       "      <td>-5.131650e-07</td>\n",
       "      <td>4.010380e-07</td>\n",
       "      <td>8.953890e-07</td>\n",
       "      <td>1.995240e-07</td>\n",
       "      <td>-4.936090e-07</td>\n",
       "      <td>4.157020e-07</td>\n",
       "      <td>...</td>\n",
       "      <td>3.576380e-07</td>\n",
       "      <td>7.331760e-07</td>\n",
       "      <td>-2.090050e-07</td>\n",
       "      <td>-5.426570e-07</td>\n",
       "      <td>6.599950e-07</td>\n",
       "      <td>2.554840e-07</td>\n",
       "      <td>-2.009710e-07</td>\n",
       "      <td>-9.262360e-07</td>\n",
       "      <td>-7.786400e-07</td>\n",
       "      <td>3.055550e-07</td>\n",
       "    </tr>\n",
       "    <tr>\n",
       "      <th>61</th>\n",
       "      <td>6.072980e-07</td>\n",
       "      <td>2.144060e-08</td>\n",
       "      <td>-4.370350e-07</td>\n",
       "      <td>2.751340e-07</td>\n",
       "      <td>-1.232970e-07</td>\n",
       "      <td>3.293580e-07</td>\n",
       "      <td>8.512790e-08</td>\n",
       "      <td>3.607360e-08</td>\n",
       "      <td>-2.812580e-07</td>\n",
       "      <td>-3.645330e-08</td>\n",
       "      <td>...</td>\n",
       "      <td>3.863750e-09</td>\n",
       "      <td>-4.048010e-08</td>\n",
       "      <td>-9.505320e-08</td>\n",
       "      <td>-3.219720e-07</td>\n",
       "      <td>-1.618240e-07</td>\n",
       "      <td>1.846990e-07</td>\n",
       "      <td>-3.849770e-08</td>\n",
       "      <td>-4.934480e-07</td>\n",
       "      <td>-3.421030e-07</td>\n",
       "      <td>3.568670e-07</td>\n",
       "    </tr>\n",
       "    <tr>\n",
       "      <th>62</th>\n",
       "      <td>2.233180e-07</td>\n",
       "      <td>-1.959170e-07</td>\n",
       "      <td>-2.777220e-07</td>\n",
       "      <td>2.008420e-07</td>\n",
       "      <td>5.249030e-08</td>\n",
       "      <td>1.100050e-07</td>\n",
       "      <td>-2.447140e-08</td>\n",
       "      <td>-1.870330e-07</td>\n",
       "      <td>-3.140120e-07</td>\n",
       "      <td>-3.349180e-08</td>\n",
       "      <td>...</td>\n",
       "      <td>-1.200770e-07</td>\n",
       "      <td>-1.305300e-07</td>\n",
       "      <td>1.360920e-07</td>\n",
       "      <td>-3.201000e-07</td>\n",
       "      <td>1.375620e-07</td>\n",
       "      <td>3.027230e-07</td>\n",
       "      <td>2.139380e-07</td>\n",
       "      <td>-2.188970e-07</td>\n",
       "      <td>-6.788950e-08</td>\n",
       "      <td>2.023860e-07</td>\n",
       "    </tr>\n",
       "    <tr>\n",
       "      <th>36</th>\n",
       "      <td>1.777940e-07</td>\n",
       "      <td>2.939290e-08</td>\n",
       "      <td>-1.866430e-07</td>\n",
       "      <td>2.464450e-07</td>\n",
       "      <td>-2.039260e-07</td>\n",
       "      <td>4.090680e-07</td>\n",
       "      <td>5.858010e-07</td>\n",
       "      <td>3.156110e-07</td>\n",
       "      <td>-3.979120e-07</td>\n",
       "      <td>3.305970e-07</td>\n",
       "      <td>...</td>\n",
       "      <td>9.830200e-08</td>\n",
       "      <td>1.499510e-07</td>\n",
       "      <td>-1.486520e-07</td>\n",
       "      <td>-2.758980e-07</td>\n",
       "      <td>4.465250e-08</td>\n",
       "      <td>-9.920980e-08</td>\n",
       "      <td>-1.132870e-07</td>\n",
       "      <td>-3.082640e-07</td>\n",
       "      <td>-3.331210e-08</td>\n",
       "      <td>1.932000e-07</td>\n",
       "    </tr>\n",
       "    <tr>\n",
       "      <th>19</th>\n",
       "      <td>5.802330e-07</td>\n",
       "      <td>4.901190e-07</td>\n",
       "      <td>3.271260e-07</td>\n",
       "      <td>2.134420e-07</td>\n",
       "      <td>1.331500e-06</td>\n",
       "      <td>6.140250e-07</td>\n",
       "      <td>-1.537450e-07</td>\n",
       "      <td>6.750610e-07</td>\n",
       "      <td>-1.534660e-06</td>\n",
       "      <td>1.006330e-06</td>\n",
       "      <td>...</td>\n",
       "      <td>-1.862930e-07</td>\n",
       "      <td>5.171880e-07</td>\n",
       "      <td>-1.571680e-07</td>\n",
       "      <td>-1.528630e-07</td>\n",
       "      <td>4.866520e-07</td>\n",
       "      <td>-6.612910e-08</td>\n",
       "      <td>2.428660e-07</td>\n",
       "      <td>-9.454710e-07</td>\n",
       "      <td>-6.065410e-07</td>\n",
       "      <td>4.094900e-07</td>\n",
       "    </tr>\n",
       "    <tr>\n",
       "      <th>60</th>\n",
       "      <td>4.784670e-07</td>\n",
       "      <td>-3.488330e-08</td>\n",
       "      <td>-1.639260e-07</td>\n",
       "      <td>1.294410e-07</td>\n",
       "      <td>-2.309330e-07</td>\n",
       "      <td>1.135440e-07</td>\n",
       "      <td>1.699740e-07</td>\n",
       "      <td>7.599560e-08</td>\n",
       "      <td>-3.529610e-07</td>\n",
       "      <td>-2.033170e-07</td>\n",
       "      <td>...</td>\n",
       "      <td>1.374920e-07</td>\n",
       "      <td>-1.599630e-07</td>\n",
       "      <td>-1.502290e-07</td>\n",
       "      <td>-4.524330e-07</td>\n",
       "      <td>-7.905200e-08</td>\n",
       "      <td>-7.957280e-08</td>\n",
       "      <td>1.002130e-08</td>\n",
       "      <td>-4.663600e-07</td>\n",
       "      <td>-9.624880e-08</td>\n",
       "      <td>6.959240e-08</td>\n",
       "    </tr>\n",
       "    <tr>\n",
       "      <th>73</th>\n",
       "      <td>1.726900e-06</td>\n",
       "      <td>8.362140e-07</td>\n",
       "      <td>5.111670e-07</td>\n",
       "      <td>-2.942500e-07</td>\n",
       "      <td>1.319820e-06</td>\n",
       "      <td>1.302670e-06</td>\n",
       "      <td>2.633610e-07</td>\n",
       "      <td>2.018330e-06</td>\n",
       "      <td>-3.915390e-06</td>\n",
       "      <td>1.307560e-06</td>\n",
       "      <td>...</td>\n",
       "      <td>-5.932970e-07</td>\n",
       "      <td>3.594600e-07</td>\n",
       "      <td>2.586330e-08</td>\n",
       "      <td>-2.795280e-06</td>\n",
       "      <td>4.529730e-07</td>\n",
       "      <td>-5.337170e-07</td>\n",
       "      <td>-7.619680e-07</td>\n",
       "      <td>-3.844180e-06</td>\n",
       "      <td>-5.302430e-07</td>\n",
       "      <td>9.009150e-07</td>\n",
       "    </tr>\n",
       "    <tr>\n",
       "      <th>74</th>\n",
       "      <td>2.077380e-05</td>\n",
       "      <td>-1.379380e-05</td>\n",
       "      <td>-4.633390e-05</td>\n",
       "      <td>1.711780e-05</td>\n",
       "      <td>7.093750e-05</td>\n",
       "      <td>-1.398680e-05</td>\n",
       "      <td>-4.839920e-05</td>\n",
       "      <td>4.510770e-06</td>\n",
       "      <td>-4.282870e-05</td>\n",
       "      <td>-4.624900e-05</td>\n",
       "      <td>...</td>\n",
       "      <td>4.548420e-06</td>\n",
       "      <td>-1.630910e-05</td>\n",
       "      <td>2.063730e-05</td>\n",
       "      <td>1.633150e-05</td>\n",
       "      <td>-1.261370e-05</td>\n",
       "      <td>4.181840e-05</td>\n",
       "      <td>-2.064180e-05</td>\n",
       "      <td>6.161990e-05</td>\n",
       "      <td>-8.347950e-06</td>\n",
       "      <td>6.850400e-05</td>\n",
       "    </tr>\n",
       "    <tr>\n",
       "      <th>20</th>\n",
       "      <td>2.703290e-06</td>\n",
       "      <td>1.003350e-06</td>\n",
       "      <td>-2.134070e-06</td>\n",
       "      <td>-5.476960e-07</td>\n",
       "      <td>2.742000e-06</td>\n",
       "      <td>1.525850e-06</td>\n",
       "      <td>3.563610e-07</td>\n",
       "      <td>1.102120e-06</td>\n",
       "      <td>-1.076720e-06</td>\n",
       "      <td>4.364160e-07</td>\n",
       "      <td>...</td>\n",
       "      <td>7.951220e-07</td>\n",
       "      <td>-3.435070e-06</td>\n",
       "      <td>1.299810e-06</td>\n",
       "      <td>-1.575090e-06</td>\n",
       "      <td>7.970900e-07</td>\n",
       "      <td>1.634600e-06</td>\n",
       "      <td>7.346650e-08</td>\n",
       "      <td>1.344610e-06</td>\n",
       "      <td>-2.136080e-06</td>\n",
       "      <td>2.331890e-07</td>\n",
       "    </tr>\n",
       "    <tr>\n",
       "      <th>39</th>\n",
       "      <td>4.928110e-05</td>\n",
       "      <td>7.733540e-06</td>\n",
       "      <td>2.177440e-05</td>\n",
       "      <td>-7.680630e-05</td>\n",
       "      <td>-3.418290e-05</td>\n",
       "      <td>-7.128280e-05</td>\n",
       "      <td>-1.280290e-05</td>\n",
       "      <td>3.388690e-05</td>\n",
       "      <td>5.917970e-06</td>\n",
       "      <td>-4.474290e-06</td>\n",
       "      <td>...</td>\n",
       "      <td>2.562870e-05</td>\n",
       "      <td>-2.207670e-05</td>\n",
       "      <td>-2.836260e-05</td>\n",
       "      <td>7.912150e-05</td>\n",
       "      <td>5.687560e-06</td>\n",
       "      <td>1.134610e-05</td>\n",
       "      <td>6.086070e-05</td>\n",
       "      <td>1.115010e-04</td>\n",
       "      <td>-3.434170e-05</td>\n",
       "      <td>3.291580e-05</td>\n",
       "    </tr>\n",
       "    <tr>\n",
       "      <th>75</th>\n",
       "      <td>-4.030170e-03</td>\n",
       "      <td>6.742770e-03</td>\n",
       "      <td>-1.913010e-02</td>\n",
       "      <td>9.462350e-04</td>\n",
       "      <td>2.341160e-02</td>\n",
       "      <td>-1.255380e-03</td>\n",
       "      <td>-4.372950e-03</td>\n",
       "      <td>7.859800e-03</td>\n",
       "      <td>3.686420e-03</td>\n",
       "      <td>2.968860e-02</td>\n",
       "      <td>...</td>\n",
       "      <td>5.175610e-03</td>\n",
       "      <td>1.575000e-02</td>\n",
       "      <td>5.557950e-03</td>\n",
       "      <td>-1.491060e-02</td>\n",
       "      <td>1.529400e-02</td>\n",
       "      <td>-1.317940e-03</td>\n",
       "      <td>-5.505600e-03</td>\n",
       "      <td>2.192180e-03</td>\n",
       "      <td>2.359000e-03</td>\n",
       "      <td>1.467250e-03</td>\n",
       "    </tr>\n",
       "    <tr>\n",
       "      <th>3</th>\n",
       "      <td>2.487000e-03</td>\n",
       "      <td>-3.321500e-04</td>\n",
       "      <td>3.936120e-03</td>\n",
       "      <td>1.911050e-03</td>\n",
       "      <td>-5.273920e-03</td>\n",
       "      <td>-3.471480e-03</td>\n",
       "      <td>4.479850e-03</td>\n",
       "      <td>1.344970e-03</td>\n",
       "      <td>-2.984770e-03</td>\n",
       "      <td>-9.371170e-03</td>\n",
       "      <td>...</td>\n",
       "      <td>2.986540e-03</td>\n",
       "      <td>-1.861000e-03</td>\n",
       "      <td>6.336100e-04</td>\n",
       "      <td>-4.731010e-04</td>\n",
       "      <td>-2.137420e-03</td>\n",
       "      <td>-3.839310e-03</td>\n",
       "      <td>-1.281310e-03</td>\n",
       "      <td>-2.450760e-03</td>\n",
       "      <td>-1.155470e-03</td>\n",
       "      <td>-3.277090e-03</td>\n",
       "    </tr>\n",
       "    <tr>\n",
       "      <th>40</th>\n",
       "      <td>1.110750e-02</td>\n",
       "      <td>3.291080e-04</td>\n",
       "      <td>-5.467910e-03</td>\n",
       "      <td>1.871000e-03</td>\n",
       "      <td>1.219330e-03</td>\n",
       "      <td>-3.796660e-04</td>\n",
       "      <td>-1.077610e-02</td>\n",
       "      <td>4.892650e-03</td>\n",
       "      <td>-1.046560e-02</td>\n",
       "      <td>-1.284580e-03</td>\n",
       "      <td>...</td>\n",
       "      <td>-6.904630e-04</td>\n",
       "      <td>3.337640e-03</td>\n",
       "      <td>-7.772850e-04</td>\n",
       "      <td>-3.460490e-03</td>\n",
       "      <td>-1.394250e-03</td>\n",
       "      <td>-6.248120e-03</td>\n",
       "      <td>7.965410e-03</td>\n",
       "      <td>-3.290990e-03</td>\n",
       "      <td>4.445900e-03</td>\n",
       "      <td>3.026580e-03</td>\n",
       "    </tr>\n",
       "    <tr>\n",
       "      <th>41</th>\n",
       "      <td>2.230230e-02</td>\n",
       "      <td>1.984020e-02</td>\n",
       "      <td>-1.877390e-03</td>\n",
       "      <td>2.785160e-02</td>\n",
       "      <td>-4.837150e-03</td>\n",
       "      <td>-3.915850e-03</td>\n",
       "      <td>8.702150e-04</td>\n",
       "      <td>-1.848010e-03</td>\n",
       "      <td>1.497990e-02</td>\n",
       "      <td>3.176660e-02</td>\n",
       "      <td>...</td>\n",
       "      <td>-5.906060e-03</td>\n",
       "      <td>1.334190e-02</td>\n",
       "      <td>1.432630e-02</td>\n",
       "      <td>-2.568170e-03</td>\n",
       "      <td>-5.681400e-03</td>\n",
       "      <td>1.867780e-02</td>\n",
       "      <td>5.280230e-03</td>\n",
       "      <td>-5.307030e-03</td>\n",
       "      <td>-2.114920e-02</td>\n",
       "      <td>1.298860e-02</td>\n",
       "    </tr>\n",
       "  </tbody>\n",
       "</table>\n",
       "<p>76 rows × 100 columns</p>\n",
       "</div>"
      ],
      "text/plain": [
       "             SSF_1         SSF_2         SSF_3         SSF_4         SSF_5  \\\n",
       "WORD                                                                         \n",
       "69    1.224700e-06 -6.339670e-08 -1.767400e-06  7.851660e-07 -8.879650e-07   \n",
       "13    2.733760e-08  3.589730e-09 -3.291410e-08  1.603410e-08 -2.281670e-08   \n",
       "0    -1.356260e-06  1.001750e-07  2.075460e-06 -8.650810e-07  9.390600e-07   \n",
       "22    3.269010e-08  4.032160e-09 -4.015310e-08  1.966790e-08 -2.762200e-08   \n",
       "63    9.120640e-07 -3.216410e-08 -1.356770e-06  5.743890e-07 -6.543650e-07   \n",
       "42    1.125690e-08  3.017250e-10 -1.603960e-08  7.729870e-09 -6.484850e-09   \n",
       "65    9.234820e-07 -2.416270e-08 -1.311110e-06  6.131700e-07 -6.574110e-07   \n",
       "15    1.058430e-07  1.543100e-08 -1.274760e-07  8.992550e-08 -3.990970e-08   \n",
       "64    8.862840e-07 -2.759630e-08 -1.302990e-06  6.094610e-07 -6.670260e-07   \n",
       "1    -9.804670e-07  1.225860e-07  1.545680e-06 -5.735950e-07  7.740930e-07   \n",
       "66    1.166150e-06 -3.416190e-08 -1.739460e-06  7.362910e-07 -8.409110e-07   \n",
       "2    -1.031940e-06  1.067580e-07  1.447820e-06 -4.188680e-07  7.090430e-07   \n",
       "10   -2.132340e-07  3.076380e-08  3.316180e-07 -1.168620e-07  1.274170e-07   \n",
       "9    -3.125060e-07  2.945080e-08  3.666790e-07 -8.953290e-08  1.964840e-07   \n",
       "6    -4.437300e-07  4.418760e-08  6.792070e-07 -2.782580e-07  3.206140e-07   \n",
       "7    -4.735060e-07  4.016310e-08  7.217010e-07 -2.776220e-07  3.210590e-07   \n",
       "5    -4.848840e-07  9.038100e-09  7.116730e-07 -2.767840e-07  3.498470e-07   \n",
       "8    -1.223630e-07  1.684040e-08  2.405200e-07 -5.494900e-08  1.428260e-07   \n",
       "4    -4.812270e-07  4.084920e-08  7.005940e-07 -2.684940e-07  3.438240e-07   \n",
       "11   -3.680030e-07  1.388160e-08  5.423360e-07 -2.467920e-07  2.490140e-07   \n",
       "25    7.967460e-08  6.635630e-09 -1.303110e-07  8.248430e-08 -3.409960e-08   \n",
       "43    2.320300e-08 -1.709140e-09 -3.064440e-08  1.569140e-08 -1.334580e-08   \n",
       "45    1.327460e-08 -5.502850e-09 -3.095910e-08  1.570940e-08 -1.110070e-08   \n",
       "68    1.146280e-06  1.232830e-08 -1.688650e-06  7.320520e-07 -8.443540e-07   \n",
       "14    1.268800e-07 -2.108220e-08 -4.922190e-07  3.435150e-07 -2.302340e-07   \n",
       "50    1.646920e-08  3.481880e-09 -2.573150e-08  1.899670e-08 -2.488210e-08   \n",
       "44    2.829970e-08  8.730670e-09 -3.666050e-08  1.927760e-08 -3.069680e-08   \n",
       "17    5.191790e-08 -1.093390e-07 -1.852650e-07  2.202660e-07 -6.209050e-08   \n",
       "30    5.103730e-08 -1.123210e-07 -1.914440e-07  2.259650e-07 -6.498940e-08   \n",
       "48    2.111940e-08 -9.016890e-10 -2.718020e-08  2.536390e-08 -1.475500e-08   \n",
       "...            ...           ...           ...           ...           ...   \n",
       "55    8.379640e-08  1.564560e-08 -5.664490e-08  4.146090e-08 -3.189740e-08   \n",
       "35    3.260430e-07  7.610200e-08 -4.217260e-07  1.496680e-07 -5.034580e-08   \n",
       "57    5.362760e-08  1.348440e-08 -1.069920e-07  5.746160e-08 -2.299060e-08   \n",
       "72    1.155410e-06  3.437880e-08 -1.627870e-06  7.070660e-07 -8.002500e-07   \n",
       "24    1.045740e-07 -2.918720e-08 -1.342120e-07  2.988890e-08 -3.255210e-08   \n",
       "21    3.753390e-08 -1.005010e-07 -1.459210e-07 -8.492260e-08  5.942110e-08   \n",
       "56    3.926810e-08 -2.377400e-09 -8.007010e-08  4.246450e-08 -3.741440e-08   \n",
       "54    5.283900e-08 -2.782060e-09 -4.353260e-08  3.148150e-08 -1.630880e-08   \n",
       "47    7.286860e-08  1.889550e-09 -7.514640e-08  3.800970e-08 -7.358440e-08   \n",
       "58    1.334890e-07 -3.637830e-10 -1.327240e-07  5.814270e-08 -5.457640e-08   \n",
       "28    3.696630e-07  7.972240e-08 -3.543920e-07  3.200890e-07 -1.559840e-07   \n",
       "53    1.093850e-07 -4.665800e-09 -2.121260e-07  1.088240e-07 -1.152270e-07   \n",
       "59    9.683480e-08 -1.125240e-08 -1.570270e-07  7.765070e-08 -6.784940e-08   \n",
       "16    8.744840e-07  9.352340e-08  8.844650e-09 -1.605880e-07  1.123510e-07   \n",
       "38    2.566930e-07  3.133890e-08 -2.187730e-07  4.309750e-07 -6.453760e-08   \n",
       "34    1.976130e-07  3.779990e-08 -1.997240e-07  1.395380e-07 -1.898970e-08   \n",
       "37   -1.416970e-07  3.880580e-07 -4.634490e-07  6.167610e-07 -5.131650e-07   \n",
       "61    6.072980e-07  2.144060e-08 -4.370350e-07  2.751340e-07 -1.232970e-07   \n",
       "62    2.233180e-07 -1.959170e-07 -2.777220e-07  2.008420e-07  5.249030e-08   \n",
       "36    1.777940e-07  2.939290e-08 -1.866430e-07  2.464450e-07 -2.039260e-07   \n",
       "19    5.802330e-07  4.901190e-07  3.271260e-07  2.134420e-07  1.331500e-06   \n",
       "60    4.784670e-07 -3.488330e-08 -1.639260e-07  1.294410e-07 -2.309330e-07   \n",
       "73    1.726900e-06  8.362140e-07  5.111670e-07 -2.942500e-07  1.319820e-06   \n",
       "74    2.077380e-05 -1.379380e-05 -4.633390e-05  1.711780e-05  7.093750e-05   \n",
       "20    2.703290e-06  1.003350e-06 -2.134070e-06 -5.476960e-07  2.742000e-06   \n",
       "39    4.928110e-05  7.733540e-06  2.177440e-05 -7.680630e-05 -3.418290e-05   \n",
       "75   -4.030170e-03  6.742770e-03 -1.913010e-02  9.462350e-04  2.341160e-02   \n",
       "3     2.487000e-03 -3.321500e-04  3.936120e-03  1.911050e-03 -5.273920e-03   \n",
       "40    1.110750e-02  3.291080e-04 -5.467910e-03  1.871000e-03  1.219330e-03   \n",
       "41    2.230230e-02  1.984020e-02 -1.877390e-03  2.785160e-02 -4.837150e-03   \n",
       "\n",
       "             SSF_6         SSF_7         SSF_8         SSF_9        SSF_10  \\\n",
       "WORD                                                                         \n",
       "69    4.266440e-07  1.396810e-06  6.857180e-07 -1.031300e-06  7.571830e-07   \n",
       "13    4.153110e-09  2.350510e-08  1.099790e-08 -1.490610e-08  7.885580e-09   \n",
       "0    -5.241360e-07 -1.418820e-06 -6.180480e-07  1.200500e-06 -7.174000e-07   \n",
       "22    5.168260e-09  2.793920e-08  1.245500e-08 -1.747600e-08  9.077260e-09   \n",
       "63    3.227180e-07  1.098150e-06  5.624300e-07 -8.181430e-07  6.226500e-07   \n",
       "42    3.591270e-09  1.743080e-08  1.138790e-08 -1.368310e-08  1.077520e-08   \n",
       "65    2.891610e-07  1.006020e-06  4.911600e-07 -7.885510e-07  5.204070e-07   \n",
       "15    4.853720e-08  1.113130e-07  7.197520e-08 -1.547280e-07  5.322580e-08   \n",
       "64    3.162820e-07  1.008400e-06  4.892820e-07 -7.926750e-07  5.146000e-07   \n",
       "1    -4.663580e-07 -1.445750e-06 -8.403010e-07  9.889920e-07 -1.038570e-06   \n",
       "66    4.135960e-07  1.335690e-06  6.633340e-07 -1.022450e-06  7.517510e-07   \n",
       "2    -4.101780e-07 -1.379560e-06 -7.991010e-07  7.639980e-07 -1.087540e-06   \n",
       "10   -8.609920e-08 -2.317990e-07 -1.042670e-07  2.010470e-07 -1.354300e-07   \n",
       "9    -7.846830e-08 -4.572820e-07 -3.013200e-07  1.709170e-07 -4.025640e-07   \n",
       "6    -1.931580e-07 -5.613460e-07 -2.912400e-07  4.195810e-07 -3.570180e-07   \n",
       "7    -1.848750e-07 -5.729010e-07 -3.013540e-07  4.351450e-07 -3.703750e-07   \n",
       "5    -1.936310e-07 -5.777290e-07 -2.948050e-07  4.115420e-07 -3.726170e-07   \n",
       "8    -1.189870e-07 -2.417540e-07 -1.509490e-07  1.564490e-07 -2.173460e-07   \n",
       "4    -1.657010e-07 -5.519390e-07 -2.725110e-07  3.980780e-07 -3.044820e-07   \n",
       "11   -1.196850e-07 -3.100710e-07 -1.057530e-07  2.942920e-07 -1.020570e-07   \n",
       "25    3.936510e-08  1.110530e-07  6.229170e-08 -1.322570e-07  5.083080e-08   \n",
       "43    3.894430e-09  1.607420e-08  6.468630e-09 -1.460950e-08  1.859830e-10   \n",
       "45    2.197490e-09  2.778050e-08  1.291970e-08 -2.069770e-08  1.543180e-08   \n",
       "68    4.009690e-07  1.329600e-06  6.786970e-07 -1.076590e-06  6.920500e-07   \n",
       "14    2.408170e-08  4.204560e-07  6.346690e-08 -1.877060e-07  8.362260e-08   \n",
       "50    8.546120e-09  2.724790e-08  7.113170e-09 -9.852280e-09  1.247920e-08   \n",
       "44    1.257430e-08  2.629590e-08  1.160410e-08 -2.096570e-08  1.027070e-08   \n",
       "17   -7.932930e-08  2.053490e-07  1.762530e-07 -2.076410e-07  5.575150e-08   \n",
       "30   -8.319890e-08  2.138980e-07  1.821980e-07 -2.113660e-07  5.916620e-08   \n",
       "48    6.144750e-09  2.782670e-08  1.817610e-08 -3.157720e-08  1.686660e-08   \n",
       "...            ...           ...           ...           ...           ...   \n",
       "55    7.501730e-10  3.573050e-08  2.575840e-08 -5.607240e-08  6.746720e-09   \n",
       "35    1.617950e-07  1.837320e-07  1.439700e-07 -4.020300e-07  2.269620e-07   \n",
       "57   -2.271980e-09  6.097920e-08  2.347450e-08 -5.867360e-08  5.158900e-09   \n",
       "72    3.699250e-07  1.288480e-06  6.614860e-07 -1.060550e-06  6.881260e-07   \n",
       "24   -4.949930e-09  5.315390e-08  4.308140e-08 -9.942930e-08 -2.303720e-08   \n",
       "21   -1.332420e-07  1.286710e-07  8.340860e-08 -1.226270e-07  1.771380e-07   \n",
       "56    8.128000e-10  5.620100e-08  6.974500e-09 -2.199590e-08  1.905970e-09   \n",
       "54    1.001430e-08  2.868690e-08  1.966750e-08 -4.735240e-08  5.634150e-09   \n",
       "47    2.288110e-08  6.444380e-08  4.598250e-08 -9.218080e-08  1.140890e-08   \n",
       "58   -3.468620e-09  6.436210e-08  2.697380e-08 -7.487940e-08  1.226510e-08   \n",
       "28    2.369920e-07  2.585410e-07  2.770770e-07 -5.396060e-07  1.260620e-07   \n",
       "53    2.201650e-08  1.200140e-07  1.751710e-08 -5.874160e-08  3.654940e-09   \n",
       "59   -8.177890e-09  7.858950e-08  2.716500e-08 -4.220030e-08 -2.870790e-08   \n",
       "16    2.490840e-07  4.464690e-08  2.466490e-07 -9.074500e-07  3.572720e-07   \n",
       "38    3.053620e-07  3.504650e-07  2.278130e-07 -7.363630e-07  2.524000e-07   \n",
       "34    3.678920e-08  1.930460e-07  1.582050e-07 -2.158070e-07  1.434650e-07   \n",
       "37    4.010380e-07  8.953890e-07  1.995240e-07 -4.936090e-07  4.157020e-07   \n",
       "61    3.293580e-07  8.512790e-08  3.607360e-08 -2.812580e-07 -3.645330e-08   \n",
       "62    1.100050e-07 -2.447140e-08 -1.870330e-07 -3.140120e-07 -3.349180e-08   \n",
       "36    4.090680e-07  5.858010e-07  3.156110e-07 -3.979120e-07  3.305970e-07   \n",
       "19    6.140250e-07 -1.537450e-07  6.750610e-07 -1.534660e-06  1.006330e-06   \n",
       "60    1.135440e-07  1.699740e-07  7.599560e-08 -3.529610e-07 -2.033170e-07   \n",
       "73    1.302670e-06  2.633610e-07  2.018330e-06 -3.915390e-06  1.307560e-06   \n",
       "74   -1.398680e-05 -4.839920e-05  4.510770e-06 -4.282870e-05 -4.624900e-05   \n",
       "20    1.525850e-06  3.563610e-07  1.102120e-06 -1.076720e-06  4.364160e-07   \n",
       "39   -7.128280e-05 -1.280290e-05  3.388690e-05  5.917970e-06 -4.474290e-06   \n",
       "75   -1.255380e-03 -4.372950e-03  7.859800e-03  3.686420e-03  2.968860e-02   \n",
       "3    -3.471480e-03  4.479850e-03  1.344970e-03 -2.984770e-03 -9.371170e-03   \n",
       "40   -3.796660e-04 -1.077610e-02  4.892650e-03 -1.046560e-02 -1.284580e-03   \n",
       "41   -3.915850e-03  8.702150e-04 -1.848010e-03  1.497990e-02  3.176660e-02   \n",
       "\n",
       "          ...             SSF_91        SSF_92        SSF_93        SSF_94  \\\n",
       "WORD      ...                                                                \n",
       "69        ...      -1.130790e-07  4.756250e-07 -4.377710e-07 -9.531500e-07   \n",
       "13        ...      -1.206110e-08  5.734250e-09 -4.669810e-09 -1.771730e-08   \n",
       "0         ...       8.630100e-08 -3.574820e-07  4.290890e-07  1.021510e-06   \n",
       "22        ...      -1.441370e-08  6.554140e-09 -5.545750e-09 -2.023560e-08   \n",
       "63        ...      -8.314120e-08  3.782600e-07 -3.456450e-07 -7.760180e-07   \n",
       "42        ...       2.458290e-10  1.022630e-08 -6.023820e-09 -1.263620e-08   \n",
       "65        ...      -6.535980e-08  3.322310e-07 -3.004810e-07 -7.342750e-07   \n",
       "15        ...       5.707940e-08  9.243990e-08 -4.875610e-08 -9.152910e-08   \n",
       "64        ...      -7.550480e-08  3.141280e-07 -2.933490e-07 -7.295100e-07   \n",
       "1         ...       4.708810e-08 -4.649680e-07  4.904830e-07  8.984130e-07   \n",
       "66        ...      -8.719680e-08  4.354200e-07 -4.123370e-07 -9.780300e-07   \n",
       "2         ...       1.685450e-09 -4.445650e-07  5.474170e-07  9.561530e-07   \n",
       "10        ...       2.099860e-08 -7.944330e-08  8.527800e-08  1.522990e-07   \n",
       "9         ...      -1.211800e-08 -1.690350e-07  2.040160e-07  3.419760e-07   \n",
       "6         ...       1.776690e-08 -1.760880e-07  1.838520e-07  4.051600e-07   \n",
       "7         ...       1.855650e-08 -1.801420e-07  1.898890e-07  4.058500e-07   \n",
       "5         ...       8.055200e-09 -1.859230e-07  2.012220e-07  3.947590e-07   \n",
       "8         ...       9.480370e-09 -5.819560e-08  7.882750e-08  1.159660e-07   \n",
       "4         ...       2.116550e-08 -1.596280e-07  1.825300e-07  3.970640e-07   \n",
       "11        ...       1.829190e-08 -4.518620e-08  8.049940e-08  2.635660e-07   \n",
       "25        ...       5.124220e-08  7.682470e-08 -4.407440e-08 -8.317340e-08   \n",
       "43        ...      -5.134030e-09  7.946620e-09 -6.433200e-09 -1.138180e-08   \n",
       "45        ...      -6.877360e-09  6.596060e-09 -1.387130e-09 -2.405580e-08   \n",
       "68        ...      -7.508940e-08  4.058190e-07 -4.011770e-07 -1.021450e-06   \n",
       "14        ...       4.175360e-08  2.431770e-07 -1.355940e-08 -3.044310e-07   \n",
       "50        ...      -3.706880e-09  8.228760e-09 -5.811590e-09 -1.466360e-08   \n",
       "44        ...      -3.817650e-09  5.493160e-09 -6.125490e-09 -1.121240e-08   \n",
       "17        ...      -3.010210e-09  1.988710e-08 -1.247060e-08 -9.407260e-08   \n",
       "30        ...      -3.897980e-09  2.235240e-08 -1.273080e-08 -9.977380e-08   \n",
       "48        ...       7.478610e-09  1.026310e-08 -3.741540e-09 -2.731910e-08   \n",
       "...       ...                ...           ...           ...           ...   \n",
       "55        ...       2.537560e-08  2.242170e-08 -1.980660e-08 -6.307480e-08   \n",
       "35        ...       1.868040e-07  1.530000e-07 -1.032950e-07 -3.550200e-07   \n",
       "57        ...       4.412600e-09  3.562430e-08 -1.134900e-08 -2.278450e-08   \n",
       "72        ...      -5.071080e-08  3.749570e-07 -3.863150e-07 -1.086840e-06   \n",
       "24        ...       1.106380e-08  3.806530e-08 -1.189760e-08 -1.348700e-07   \n",
       "21        ...       1.752610e-08 -1.605590e-07 -1.902580e-08 -5.510360e-07   \n",
       "56        ...      -4.721650e-09  3.917050e-08 -2.182860e-08 -1.386200e-08   \n",
       "54        ...       4.078850e-09  3.225070e-08 -1.659420e-08 -3.084110e-08   \n",
       "47        ...       1.337590e-08  4.911580e-09 -1.508700e-08 -7.670560e-08   \n",
       "58        ...       2.708800e-08  3.808570e-08 -2.772260e-08 -1.334630e-07   \n",
       "28        ...       1.707720e-07  1.406890e-07 -1.405670e-07 -3.228610e-07   \n",
       "53        ...       2.702420e-08  4.852360e-08 -8.414100e-09 -9.907010e-08   \n",
       "59        ...      -6.652830e-09  2.191800e-08 -5.260370e-09 -6.556150e-08   \n",
       "16        ...       4.624830e-07  3.012130e-07 -2.276490e-07 -1.383300e-06   \n",
       "38        ...       3.421630e-08  1.736010e-07 -2.011350e-07 -2.951500e-07   \n",
       "34        ...       2.268810e-08  1.018840e-07 -1.208170e-07 -2.051070e-07   \n",
       "37        ...       3.576380e-07  7.331760e-07 -2.090050e-07 -5.426570e-07   \n",
       "61        ...       3.863750e-09 -4.048010e-08 -9.505320e-08 -3.219720e-07   \n",
       "62        ...      -1.200770e-07 -1.305300e-07  1.360920e-07 -3.201000e-07   \n",
       "36        ...       9.830200e-08  1.499510e-07 -1.486520e-07 -2.758980e-07   \n",
       "19        ...      -1.862930e-07  5.171880e-07 -1.571680e-07 -1.528630e-07   \n",
       "60        ...       1.374920e-07 -1.599630e-07 -1.502290e-07 -4.524330e-07   \n",
       "73        ...      -5.932970e-07  3.594600e-07  2.586330e-08 -2.795280e-06   \n",
       "74        ...       4.548420e-06 -1.630910e-05  2.063730e-05  1.633150e-05   \n",
       "20        ...       7.951220e-07 -3.435070e-06  1.299810e-06 -1.575090e-06   \n",
       "39        ...       2.562870e-05 -2.207670e-05 -2.836260e-05  7.912150e-05   \n",
       "75        ...       5.175610e-03  1.575000e-02  5.557950e-03 -1.491060e-02   \n",
       "3         ...       2.986540e-03 -1.861000e-03  6.336100e-04 -4.731010e-04   \n",
       "40        ...      -6.904630e-04  3.337640e-03 -7.772850e-04 -3.460490e-03   \n",
       "41        ...      -5.906060e-03  1.334190e-02  1.432630e-02 -2.568170e-03   \n",
       "\n",
       "            SSF_95        SSF_96        SSF_97        SSF_98        SSF_99  \\\n",
       "WORD                                                                         \n",
       "69    2.851450e-07  2.821770e-07  5.006500e-07 -2.463790e-06 -1.085030e-06   \n",
       "13    2.809160e-09  1.248170e-09  7.941900e-09 -4.643670e-08 -1.146920e-08   \n",
       "0    -3.258210e-07 -3.851790e-07 -4.998520e-07  2.507770e-06  1.210360e-06   \n",
       "22    3.487980e-09  1.567720e-09  9.058400e-09 -5.494460e-08 -1.409680e-08   \n",
       "63    1.967050e-07  2.026640e-07  4.244020e-07 -1.929800e-06 -8.133070e-07   \n",
       "42    3.580050e-09  2.304400e-09  7.835510e-09 -3.044890e-08 -1.203900e-08   \n",
       "65    2.400570e-07  2.122500e-07  3.500200e-07 -1.803450e-06 -8.060320e-07   \n",
       "15    6.622350e-08  4.684290e-08  4.116620e-08 -2.095890e-07 -1.369060e-07   \n",
       "64    2.275120e-07  2.242390e-07  3.481140e-07 -1.785800e-06 -7.770550e-07   \n",
       "1    -2.616180e-07 -1.312890e-07 -5.844590e-07  2.417760e-06  1.010430e-06   \n",
       "66    2.754930e-07  2.769500e-07  5.166960e-07 -2.398200e-06 -1.036690e-06   \n",
       "2    -9.235050e-08 -1.428630e-07 -6.329060e-07  2.433550e-06  1.006270e-06   \n",
       "10   -4.627820e-08 -4.872640e-08 -1.020400e-07  4.218470e-07  1.965830e-07   \n",
       "9     2.647470e-08 -6.223600e-09 -2.362000e-07  8.401500e-07  2.953180e-07   \n",
       "6    -1.115840e-07 -1.037150e-07 -2.080030e-07  9.836740e-07  4.405130e-07   \n",
       "7    -1.071160e-07 -1.136160e-07 -2.345940e-07  1.018210e-06  4.619040e-07   \n",
       "5    -1.041210e-07 -9.791080e-08 -2.223280e-07  1.000190e-06  4.496640e-07   \n",
       "8    -5.523370e-08 -7.612320e-09 -9.669030e-08  3.618580e-07  1.578320e-07   \n",
       "4    -8.019650e-08 -1.178420e-07 -2.235920e-07  9.676410e-07  4.185190e-07   \n",
       "11   -7.660840e-08 -1.245840e-07 -8.907950e-08  5.761580e-07  2.941860e-07   \n",
       "25    5.710210e-08  5.259310e-08  4.591190e-08 -2.020500e-07 -1.325030e-07   \n",
       "43   -1.695720e-09  4.838380e-09  7.243760e-09 -3.806070e-08 -1.204870e-08   \n",
       "45    1.373550e-08  7.287510e-09  8.240560e-09 -4.512130e-08 -1.900370e-08   \n",
       "68    2.376190e-07  2.722070e-07  4.996810e-07 -2.359100e-06 -9.758180e-07   \n",
       "14    1.443110e-07  3.016760e-07 -7.164060e-09 -3.790290e-07 -3.290010e-07   \n",
       "50    8.779730e-09  6.342050e-09  2.889890e-09 -4.179130e-08 -2.059350e-08   \n",
       "44    1.238550e-08  3.874920e-09  3.714550e-09 -3.980690e-08 -2.129600e-08   \n",
       "17    9.483410e-08 -9.239170e-08  2.759350e-08 -3.043840e-07 -8.059590e-08   \n",
       "30    9.631590e-08 -9.363530e-08  2.992190e-08 -3.165510e-07 -8.229410e-08   \n",
       "48    1.667740e-08  7.878830e-09  3.485730e-09 -4.316750e-08 -2.507460e-08   \n",
       "...            ...           ...           ...           ...           ...   \n",
       "55    1.594040e-08  1.716760e-08  7.600390e-09 -1.037770e-07 -5.693080e-08   \n",
       "35    1.837850e-07  8.826560e-08  1.905950e-07 -5.259320e-07 -3.045640e-07   \n",
       "57    1.362840e-08  3.113870e-08  1.113560e-08 -6.896470e-08 -5.692180e-08   \n",
       "72    1.923120e-07  2.532190e-07  5.140360e-07 -2.248100e-06 -8.997480e-07   \n",
       "24   -3.170350e-09  6.945600e-08  5.031650e-08 -1.829990e-07 -5.174740e-08   \n",
       "21    9.083820e-08  1.373610e-07  2.597430e-07 -8.323160e-07 -2.714670e-07   \n",
       "56    6.560930e-09  1.380480e-08  2.022890e-08 -8.277810e-08 -4.149170e-08   \n",
       "54    1.140330e-08  2.025450e-08  1.925990e-08 -7.004770e-08 -2.842950e-08   \n",
       "47    1.998210e-08  5.411800e-09  1.974460e-08 -1.253060e-07 -4.651330e-08   \n",
       "58    1.093450e-08  3.923130e-08  4.221090e-08 -1.816150e-07 -7.204770e-08   \n",
       "28    1.220470e-07  8.646200e-08  3.554320e-08 -6.211300e-07 -3.647330e-07   \n",
       "53    3.923810e-08  8.950280e-08  1.902140e-09 -1.288820e-07 -1.156340e-07   \n",
       "59   -2.394770e-08  4.613090e-08  1.924400e-08 -1.080210e-07 -3.535160e-08   \n",
       "16    2.295060e-07  3.077330e-07  3.464430e-07 -1.287250e-06 -6.326680e-07   \n",
       "38    1.418930e-07 -4.056530e-08  4.393540e-08 -8.076160e-07 -4.588230e-07   \n",
       "34    5.037450e-08 -2.784990e-08  1.712700e-07 -5.840170e-07 -1.186690e-07   \n",
       "37    6.599950e-07  2.554840e-07 -2.009710e-07 -9.262360e-07 -7.786400e-07   \n",
       "61   -1.618240e-07  1.846990e-07 -3.849770e-08 -4.934480e-07 -3.421030e-07   \n",
       "62    1.375620e-07  3.027230e-07  2.139380e-07 -2.188970e-07 -6.788950e-08   \n",
       "36    4.465250e-08 -9.920980e-08 -1.132870e-07 -3.082640e-07 -3.331210e-08   \n",
       "19    4.866520e-07 -6.612910e-08  2.428660e-07 -9.454710e-07 -6.065410e-07   \n",
       "60   -7.905200e-08 -7.957280e-08  1.002130e-08 -4.663600e-07 -9.624880e-08   \n",
       "73    4.529730e-07 -5.337170e-07 -7.619680e-07 -3.844180e-06 -5.302430e-07   \n",
       "74   -1.261370e-05  4.181840e-05 -2.064180e-05  6.161990e-05 -8.347950e-06   \n",
       "20    7.970900e-07  1.634600e-06  7.346650e-08  1.344610e-06 -2.136080e-06   \n",
       "39    5.687560e-06  1.134610e-05  6.086070e-05  1.115010e-04 -3.434170e-05   \n",
       "75    1.529400e-02 -1.317940e-03 -5.505600e-03  2.192180e-03  2.359000e-03   \n",
       "3    -2.137420e-03 -3.839310e-03 -1.281310e-03 -2.450760e-03 -1.155470e-03   \n",
       "40   -1.394250e-03 -6.248120e-03  7.965410e-03 -3.290990e-03  4.445900e-03   \n",
       "41   -5.681400e-03  1.867780e-02  5.280230e-03 -5.307030e-03 -2.114920e-02   \n",
       "\n",
       "           SSF_100  \n",
       "WORD                \n",
       "69    9.553340e-07  \n",
       "13    1.593460e-08  \n",
       "0    -1.010100e-06  \n",
       "22    1.864190e-08  \n",
       "63    7.574870e-07  \n",
       "42    1.421310e-08  \n",
       "65    7.126480e-07  \n",
       "15    1.369000e-07  \n",
       "64    7.182610e-07  \n",
       "1    -8.055940e-07  \n",
       "66    9.549190e-07  \n",
       "2    -7.450120e-07  \n",
       "10   -1.548910e-07  \n",
       "9    -2.203630e-07  \n",
       "6    -3.707360e-07  \n",
       "7    -3.878330e-07  \n",
       "5    -3.517380e-07  \n",
       "8    -1.082020e-07  \n",
       "4    -3.626890e-07  \n",
       "11   -2.522810e-07  \n",
       "25    1.393270e-07  \n",
       "43    1.709310e-08  \n",
       "45    1.987820e-08  \n",
       "68    9.390260e-07  \n",
       "14    3.133090e-07  \n",
       "50    1.706950e-08  \n",
       "44    1.889430e-08  \n",
       "17    5.874610e-08  \n",
       "30    6.247690e-08  \n",
       "48    1.647580e-08  \n",
       "...            ...  \n",
       "55    3.775020e-08  \n",
       "35    3.405930e-07  \n",
       "57    5.821440e-08  \n",
       "72    8.920470e-07  \n",
       "24    1.239170e-07  \n",
       "21    3.853400e-07  \n",
       "56    4.650250e-08  \n",
       "54    4.135310e-08  \n",
       "47    6.098800e-08  \n",
       "58    8.532340e-08  \n",
       "28    4.285530e-07  \n",
       "53    9.999220e-08  \n",
       "59    7.054450e-08  \n",
       "16    6.742420e-07  \n",
       "38    4.594350e-07  \n",
       "34    1.265950e-07  \n",
       "37    3.055550e-07  \n",
       "61    3.568670e-07  \n",
       "62    2.023860e-07  \n",
       "36    1.932000e-07  \n",
       "19    4.094900e-07  \n",
       "60    6.959240e-08  \n",
       "73    9.009150e-07  \n",
       "74    6.850400e-05  \n",
       "20    2.331890e-07  \n",
       "39    3.291580e-05  \n",
       "75    1.467250e-03  \n",
       "3    -3.277090e-03  \n",
       "40    3.026580e-03  \n",
       "41    1.298860e-02  \n",
       "\n",
       "[76 rows x 100 columns]"
      ]
     },
     "execution_count": 70,
     "metadata": {},
     "output_type": "execute_result"
    }
   ],
   "source": [
    "X_star_space_emb"
   ]
  },
  {
   "cell_type": "code",
   "execution_count": 107,
   "metadata": {},
   "outputs": [
    {
     "data": {
      "text/plain": [
       "bd                     0\n",
       "song_length            4\n",
       "days_registered        8\n",
       "source_system_tab     12\n",
       "source_screen_name    21\n",
       "city                  42\n",
       "gender                63\n",
       "language              66\n",
       "Name: 0, dtype: int64"
      ]
     },
     "execution_count": 107,
     "metadata": {},
     "output_type": "execute_result"
    }
   ],
   "source": [
    "X_star_space.loc[0]"
   ]
  },
  {
   "cell_type": "code",
   "execution_count": 108,
   "metadata": {},
   "outputs": [
    {
     "data": {
      "text/html": [
       "<div>\n",
       "<style scoped>\n",
       "    .dataframe tbody tr th:only-of-type {\n",
       "        vertical-align: middle;\n",
       "    }\n",
       "\n",
       "    .dataframe tbody tr th {\n",
       "        vertical-align: top;\n",
       "    }\n",
       "\n",
       "    .dataframe thead th {\n",
       "        text-align: right;\n",
       "    }\n",
       "</style>\n",
       "<table border=\"1\" class=\"dataframe\">\n",
       "  <thead>\n",
       "    <tr style=\"text-align: right;\">\n",
       "      <th></th>\n",
       "      <th>SSF_1</th>\n",
       "      <th>SSF_2</th>\n",
       "      <th>SSF_3</th>\n",
       "      <th>SSF_4</th>\n",
       "      <th>SSF_5</th>\n",
       "      <th>SSF_6</th>\n",
       "      <th>SSF_7</th>\n",
       "      <th>SSF_8</th>\n",
       "      <th>SSF_9</th>\n",
       "      <th>SSF_10</th>\n",
       "      <th>...</th>\n",
       "      <th>SSF_91</th>\n",
       "      <th>SSF_92</th>\n",
       "      <th>SSF_93</th>\n",
       "      <th>SSF_94</th>\n",
       "      <th>SSF_95</th>\n",
       "      <th>SSF_96</th>\n",
       "      <th>SSF_97</th>\n",
       "      <th>SSF_98</th>\n",
       "      <th>SSF_99</th>\n",
       "      <th>SSF_100</th>\n",
       "    </tr>\n",
       "    <tr>\n",
       "      <th>WORD</th>\n",
       "      <th></th>\n",
       "      <th></th>\n",
       "      <th></th>\n",
       "      <th></th>\n",
       "      <th></th>\n",
       "      <th></th>\n",
       "      <th></th>\n",
       "      <th></th>\n",
       "      <th></th>\n",
       "      <th></th>\n",
       "      <th></th>\n",
       "      <th></th>\n",
       "      <th></th>\n",
       "      <th></th>\n",
       "      <th></th>\n",
       "      <th></th>\n",
       "      <th></th>\n",
       "      <th></th>\n",
       "      <th></th>\n",
       "      <th></th>\n",
       "      <th></th>\n",
       "    </tr>\n",
       "  </thead>\n",
       "  <tbody>\n",
       "    <tr>\n",
       "      <th>0</th>\n",
       "      <td>-1.356260e-06</td>\n",
       "      <td>1.001750e-07</td>\n",
       "      <td>2.075460e-06</td>\n",
       "      <td>-8.650810e-07</td>\n",
       "      <td>9.390600e-07</td>\n",
       "      <td>-5.241360e-07</td>\n",
       "      <td>-1.418820e-06</td>\n",
       "      <td>-6.180480e-07</td>\n",
       "      <td>1.200500e-06</td>\n",
       "      <td>-7.174000e-07</td>\n",
       "      <td>...</td>\n",
       "      <td>8.630100e-08</td>\n",
       "      <td>-3.574820e-07</td>\n",
       "      <td>4.290890e-07</td>\n",
       "      <td>1.021510e-06</td>\n",
       "      <td>-3.258210e-07</td>\n",
       "      <td>-3.851790e-07</td>\n",
       "      <td>-4.998520e-07</td>\n",
       "      <td>2.507770e-06</td>\n",
       "      <td>1.210360e-06</td>\n",
       "      <td>-1.010100e-06</td>\n",
       "    </tr>\n",
       "    <tr>\n",
       "      <th>4</th>\n",
       "      <td>-4.812270e-07</td>\n",
       "      <td>4.084920e-08</td>\n",
       "      <td>7.005940e-07</td>\n",
       "      <td>-2.684940e-07</td>\n",
       "      <td>3.438240e-07</td>\n",
       "      <td>-1.657010e-07</td>\n",
       "      <td>-5.519390e-07</td>\n",
       "      <td>-2.725110e-07</td>\n",
       "      <td>3.980780e-07</td>\n",
       "      <td>-3.044820e-07</td>\n",
       "      <td>...</td>\n",
       "      <td>2.116550e-08</td>\n",
       "      <td>-1.596280e-07</td>\n",
       "      <td>1.825300e-07</td>\n",
       "      <td>3.970640e-07</td>\n",
       "      <td>-8.019650e-08</td>\n",
       "      <td>-1.178420e-07</td>\n",
       "      <td>-2.235920e-07</td>\n",
       "      <td>9.676410e-07</td>\n",
       "      <td>4.185190e-07</td>\n",
       "      <td>-3.626890e-07</td>\n",
       "    </tr>\n",
       "    <tr>\n",
       "      <th>8</th>\n",
       "      <td>-1.223630e-07</td>\n",
       "      <td>1.684040e-08</td>\n",
       "      <td>2.405200e-07</td>\n",
       "      <td>-5.494900e-08</td>\n",
       "      <td>1.428260e-07</td>\n",
       "      <td>-1.189870e-07</td>\n",
       "      <td>-2.417540e-07</td>\n",
       "      <td>-1.509490e-07</td>\n",
       "      <td>1.564490e-07</td>\n",
       "      <td>-2.173460e-07</td>\n",
       "      <td>...</td>\n",
       "      <td>9.480370e-09</td>\n",
       "      <td>-5.819560e-08</td>\n",
       "      <td>7.882750e-08</td>\n",
       "      <td>1.159660e-07</td>\n",
       "      <td>-5.523370e-08</td>\n",
       "      <td>-7.612320e-09</td>\n",
       "      <td>-9.669030e-08</td>\n",
       "      <td>3.618580e-07</td>\n",
       "      <td>1.578320e-07</td>\n",
       "      <td>-1.082020e-07</td>\n",
       "    </tr>\n",
       "    <tr>\n",
       "      <th>12</th>\n",
       "      <td>9.707400e-08</td>\n",
       "      <td>-4.188540e-08</td>\n",
       "      <td>-1.761910e-07</td>\n",
       "      <td>-7.931190e-09</td>\n",
       "      <td>3.016770e-08</td>\n",
       "      <td>-1.147810e-07</td>\n",
       "      <td>2.025150e-07</td>\n",
       "      <td>1.331860e-07</td>\n",
       "      <td>-2.254790e-07</td>\n",
       "      <td>1.852380e-07</td>\n",
       "      <td>...</td>\n",
       "      <td>6.855590e-08</td>\n",
       "      <td>-1.000420e-07</td>\n",
       "      <td>-4.053070e-08</td>\n",
       "      <td>-6.251500e-07</td>\n",
       "      <td>1.246260e-07</td>\n",
       "      <td>1.815200e-07</td>\n",
       "      <td>2.673580e-07</td>\n",
       "      <td>-9.106940e-07</td>\n",
       "      <td>-3.379350e-07</td>\n",
       "      <td>4.787010e-07</td>\n",
       "    </tr>\n",
       "    <tr>\n",
       "      <th>21</th>\n",
       "      <td>3.753390e-08</td>\n",
       "      <td>-1.005010e-07</td>\n",
       "      <td>-1.459210e-07</td>\n",
       "      <td>-8.492260e-08</td>\n",
       "      <td>5.942110e-08</td>\n",
       "      <td>-1.332420e-07</td>\n",
       "      <td>1.286710e-07</td>\n",
       "      <td>8.340860e-08</td>\n",
       "      <td>-1.226270e-07</td>\n",
       "      <td>1.771380e-07</td>\n",
       "      <td>...</td>\n",
       "      <td>1.752610e-08</td>\n",
       "      <td>-1.605590e-07</td>\n",
       "      <td>-1.902580e-08</td>\n",
       "      <td>-5.510360e-07</td>\n",
       "      <td>9.083820e-08</td>\n",
       "      <td>1.373610e-07</td>\n",
       "      <td>2.597430e-07</td>\n",
       "      <td>-8.323160e-07</td>\n",
       "      <td>-2.714670e-07</td>\n",
       "      <td>3.853400e-07</td>\n",
       "    </tr>\n",
       "    <tr>\n",
       "      <th>42</th>\n",
       "      <td>1.125690e-08</td>\n",
       "      <td>3.017250e-10</td>\n",
       "      <td>-1.603960e-08</td>\n",
       "      <td>7.729870e-09</td>\n",
       "      <td>-6.484850e-09</td>\n",
       "      <td>3.591270e-09</td>\n",
       "      <td>1.743080e-08</td>\n",
       "      <td>1.138790e-08</td>\n",
       "      <td>-1.368310e-08</td>\n",
       "      <td>1.077520e-08</td>\n",
       "      <td>...</td>\n",
       "      <td>2.458290e-10</td>\n",
       "      <td>1.022630e-08</td>\n",
       "      <td>-6.023820e-09</td>\n",
       "      <td>-1.263620e-08</td>\n",
       "      <td>3.580050e-09</td>\n",
       "      <td>2.304400e-09</td>\n",
       "      <td>7.835510e-09</td>\n",
       "      <td>-3.044890e-08</td>\n",
       "      <td>-1.203900e-08</td>\n",
       "      <td>1.421310e-08</td>\n",
       "    </tr>\n",
       "    <tr>\n",
       "      <th>63</th>\n",
       "      <td>9.120640e-07</td>\n",
       "      <td>-3.216410e-08</td>\n",
       "      <td>-1.356770e-06</td>\n",
       "      <td>5.743890e-07</td>\n",
       "      <td>-6.543650e-07</td>\n",
       "      <td>3.227180e-07</td>\n",
       "      <td>1.098150e-06</td>\n",
       "      <td>5.624300e-07</td>\n",
       "      <td>-8.181430e-07</td>\n",
       "      <td>6.226500e-07</td>\n",
       "      <td>...</td>\n",
       "      <td>-8.314120e-08</td>\n",
       "      <td>3.782600e-07</td>\n",
       "      <td>-3.456450e-07</td>\n",
       "      <td>-7.760180e-07</td>\n",
       "      <td>1.967050e-07</td>\n",
       "      <td>2.026640e-07</td>\n",
       "      <td>4.244020e-07</td>\n",
       "      <td>-1.929800e-06</td>\n",
       "      <td>-8.133070e-07</td>\n",
       "      <td>7.574870e-07</td>\n",
       "    </tr>\n",
       "    <tr>\n",
       "      <th>66</th>\n",
       "      <td>1.166150e-06</td>\n",
       "      <td>-3.416190e-08</td>\n",
       "      <td>-1.739460e-06</td>\n",
       "      <td>7.362910e-07</td>\n",
       "      <td>-8.409110e-07</td>\n",
       "      <td>4.135960e-07</td>\n",
       "      <td>1.335690e-06</td>\n",
       "      <td>6.633340e-07</td>\n",
       "      <td>-1.022450e-06</td>\n",
       "      <td>7.517510e-07</td>\n",
       "      <td>...</td>\n",
       "      <td>-8.719680e-08</td>\n",
       "      <td>4.354200e-07</td>\n",
       "      <td>-4.123370e-07</td>\n",
       "      <td>-9.780300e-07</td>\n",
       "      <td>2.754930e-07</td>\n",
       "      <td>2.769500e-07</td>\n",
       "      <td>5.166960e-07</td>\n",
       "      <td>-2.398200e-06</td>\n",
       "      <td>-1.036690e-06</td>\n",
       "      <td>9.549190e-07</td>\n",
       "    </tr>\n",
       "  </tbody>\n",
       "</table>\n",
       "<p>8 rows × 100 columns</p>\n",
       "</div>"
      ],
      "text/plain": [
       "             SSF_1         SSF_2         SSF_3         SSF_4         SSF_5  \\\n",
       "WORD                                                                         \n",
       "0    -1.356260e-06  1.001750e-07  2.075460e-06 -8.650810e-07  9.390600e-07   \n",
       "4    -4.812270e-07  4.084920e-08  7.005940e-07 -2.684940e-07  3.438240e-07   \n",
       "8    -1.223630e-07  1.684040e-08  2.405200e-07 -5.494900e-08  1.428260e-07   \n",
       "12    9.707400e-08 -4.188540e-08 -1.761910e-07 -7.931190e-09  3.016770e-08   \n",
       "21    3.753390e-08 -1.005010e-07 -1.459210e-07 -8.492260e-08  5.942110e-08   \n",
       "42    1.125690e-08  3.017250e-10 -1.603960e-08  7.729870e-09 -6.484850e-09   \n",
       "63    9.120640e-07 -3.216410e-08 -1.356770e-06  5.743890e-07 -6.543650e-07   \n",
       "66    1.166150e-06 -3.416190e-08 -1.739460e-06  7.362910e-07 -8.409110e-07   \n",
       "\n",
       "             SSF_6         SSF_7         SSF_8         SSF_9        SSF_10  \\\n",
       "WORD                                                                         \n",
       "0    -5.241360e-07 -1.418820e-06 -6.180480e-07  1.200500e-06 -7.174000e-07   \n",
       "4    -1.657010e-07 -5.519390e-07 -2.725110e-07  3.980780e-07 -3.044820e-07   \n",
       "8    -1.189870e-07 -2.417540e-07 -1.509490e-07  1.564490e-07 -2.173460e-07   \n",
       "12   -1.147810e-07  2.025150e-07  1.331860e-07 -2.254790e-07  1.852380e-07   \n",
       "21   -1.332420e-07  1.286710e-07  8.340860e-08 -1.226270e-07  1.771380e-07   \n",
       "42    3.591270e-09  1.743080e-08  1.138790e-08 -1.368310e-08  1.077520e-08   \n",
       "63    3.227180e-07  1.098150e-06  5.624300e-07 -8.181430e-07  6.226500e-07   \n",
       "66    4.135960e-07  1.335690e-06  6.633340e-07 -1.022450e-06  7.517510e-07   \n",
       "\n",
       "          ...             SSF_91        SSF_92        SSF_93        SSF_94  \\\n",
       "WORD      ...                                                                \n",
       "0         ...       8.630100e-08 -3.574820e-07  4.290890e-07  1.021510e-06   \n",
       "4         ...       2.116550e-08 -1.596280e-07  1.825300e-07  3.970640e-07   \n",
       "8         ...       9.480370e-09 -5.819560e-08  7.882750e-08  1.159660e-07   \n",
       "12        ...       6.855590e-08 -1.000420e-07 -4.053070e-08 -6.251500e-07   \n",
       "21        ...       1.752610e-08 -1.605590e-07 -1.902580e-08 -5.510360e-07   \n",
       "42        ...       2.458290e-10  1.022630e-08 -6.023820e-09 -1.263620e-08   \n",
       "63        ...      -8.314120e-08  3.782600e-07 -3.456450e-07 -7.760180e-07   \n",
       "66        ...      -8.719680e-08  4.354200e-07 -4.123370e-07 -9.780300e-07   \n",
       "\n",
       "            SSF_95        SSF_96        SSF_97        SSF_98        SSF_99  \\\n",
       "WORD                                                                         \n",
       "0    -3.258210e-07 -3.851790e-07 -4.998520e-07  2.507770e-06  1.210360e-06   \n",
       "4    -8.019650e-08 -1.178420e-07 -2.235920e-07  9.676410e-07  4.185190e-07   \n",
       "8    -5.523370e-08 -7.612320e-09 -9.669030e-08  3.618580e-07  1.578320e-07   \n",
       "12    1.246260e-07  1.815200e-07  2.673580e-07 -9.106940e-07 -3.379350e-07   \n",
       "21    9.083820e-08  1.373610e-07  2.597430e-07 -8.323160e-07 -2.714670e-07   \n",
       "42    3.580050e-09  2.304400e-09  7.835510e-09 -3.044890e-08 -1.203900e-08   \n",
       "63    1.967050e-07  2.026640e-07  4.244020e-07 -1.929800e-06 -8.133070e-07   \n",
       "66    2.754930e-07  2.769500e-07  5.166960e-07 -2.398200e-06 -1.036690e-06   \n",
       "\n",
       "           SSF_100  \n",
       "WORD                \n",
       "0    -1.010100e-06  \n",
       "4    -3.626890e-07  \n",
       "8    -1.082020e-07  \n",
       "12    4.787010e-07  \n",
       "21    3.853400e-07  \n",
       "42    1.421310e-08  \n",
       "63    7.574870e-07  \n",
       "66    9.549190e-07  \n",
       "\n",
       "[8 rows x 100 columns]"
      ]
     },
     "execution_count": 108,
     "metadata": {},
     "output_type": "execute_result"
    }
   ],
   "source": [
    "X_star_space_emb.loc[X_star_space.loc[4]]"
   ]
  },
  {
   "cell_type": "code",
   "execution_count": 109,
   "metadata": {
    "collapsed": true
   },
   "outputs": [],
   "source": [
    "def do_something(number):\n",
    "    return X_star_space_emb.loc[X_star_space.loc[number]].mean()"
   ]
  },
  {
   "cell_type": "code",
   "execution_count": 110,
   "metadata": {
    "collapsed": true
   },
   "outputs": [],
   "source": [
    "with multiprocessing.Pool(multiprocessing.cpu_count()) as p:\n",
    "    X_star_space_emb_extr = pd.concat(p.map(do_something, range(X_star_space.shape[0])), axis=1)"
   ]
  },
  {
   "cell_type": "code",
   "execution_count": 112,
   "metadata": {},
   "outputs": [],
   "source": [
    "X_star_space_emb_extr = X_star_space_emb_extr.transpose()"
   ]
  },
  {
   "cell_type": "code",
   "execution_count": 113,
   "metadata": {},
   "outputs": [
    {
     "data": {
      "text/html": [
       "<div>\n",
       "<style scoped>\n",
       "    .dataframe tbody tr th:only-of-type {\n",
       "        vertical-align: middle;\n",
       "    }\n",
       "\n",
       "    .dataframe tbody tr th {\n",
       "        vertical-align: top;\n",
       "    }\n",
       "\n",
       "    .dataframe thead th {\n",
       "        text-align: right;\n",
       "    }\n",
       "</style>\n",
       "<table border=\"1\" class=\"dataframe\">\n",
       "  <thead>\n",
       "    <tr style=\"text-align: right;\">\n",
       "      <th></th>\n",
       "      <th>SSF_1</th>\n",
       "      <th>SSF_2</th>\n",
       "      <th>SSF_3</th>\n",
       "      <th>SSF_4</th>\n",
       "      <th>SSF_5</th>\n",
       "      <th>SSF_6</th>\n",
       "      <th>SSF_7</th>\n",
       "      <th>SSF_8</th>\n",
       "      <th>SSF_9</th>\n",
       "      <th>SSF_10</th>\n",
       "      <th>...</th>\n",
       "      <th>SSF_91</th>\n",
       "      <th>SSF_92</th>\n",
       "      <th>SSF_93</th>\n",
       "      <th>SSF_94</th>\n",
       "      <th>SSF_95</th>\n",
       "      <th>SSF_96</th>\n",
       "      <th>SSF_97</th>\n",
       "      <th>SSF_98</th>\n",
       "      <th>SSF_99</th>\n",
       "      <th>SSF_100</th>\n",
       "    </tr>\n",
       "  </thead>\n",
       "  <tbody>\n",
       "    <tr>\n",
       "      <th>0</th>\n",
       "      <td>3.302860e-08</td>\n",
       "      <td>-6.318259e-09</td>\n",
       "      <td>-5.222595e-08</td>\n",
       "      <td>4.629010e-09</td>\n",
       "      <td>1.692244e-09</td>\n",
       "      <td>-3.961772e-08</td>\n",
       "      <td>7.124297e-08</td>\n",
       "      <td>5.152981e-08</td>\n",
       "      <td>-5.591939e-08</td>\n",
       "      <td>6.354052e-08</td>\n",
       "      <td>...</td>\n",
       "      <td>4.117087e-09</td>\n",
       "      <td>-1.500037e-09</td>\n",
       "      <td>-1.663948e-08</td>\n",
       "      <td>-1.760413e-07</td>\n",
       "      <td>2.874888e-08</td>\n",
       "      <td>3.627076e-08</td>\n",
       "      <td>8.198753e-08</td>\n",
       "      <td>-2.830237e-07</td>\n",
       "      <td>-8.559087e-08</td>\n",
       "      <td>1.387086e-07</td>\n",
       "    </tr>\n",
       "    <tr>\n",
       "      <th>1</th>\n",
       "      <td>4.472596e-08</td>\n",
       "      <td>1.315368e-08</td>\n",
       "      <td>-6.526620e-08</td>\n",
       "      <td>5.715419e-08</td>\n",
       "      <td>-3.141219e-08</td>\n",
       "      <td>5.795625e-10</td>\n",
       "      <td>-8.644062e-09</td>\n",
       "      <td>-3.173606e-08</td>\n",
       "      <td>-3.633320e-08</td>\n",
       "      <td>-6.628140e-08</td>\n",
       "      <td>...</td>\n",
       "      <td>-1.891064e-08</td>\n",
       "      <td>-6.267874e-09</td>\n",
       "      <td>2.167328e-08</td>\n",
       "      <td>-1.521584e-08</td>\n",
       "      <td>2.104276e-08</td>\n",
       "      <td>3.417748e-08</td>\n",
       "      <td>-1.924162e-08</td>\n",
       "      <td>-8.167750e-09</td>\n",
       "      <td>-1.199346e-08</td>\n",
       "      <td>4.339433e-08</td>\n",
       "    </tr>\n",
       "    <tr>\n",
       "      <th>2</th>\n",
       "      <td>4.987021e-08</td>\n",
       "      <td>1.754737e-08</td>\n",
       "      <td>-6.932445e-08</td>\n",
       "      <td>5.696994e-08</td>\n",
       "      <td>-3.506631e-08</td>\n",
       "      <td>6.386875e-10</td>\n",
       "      <td>-6.596187e-09</td>\n",
       "      <td>-3.129043e-08</td>\n",
       "      <td>-3.532832e-08</td>\n",
       "      <td>-6.433152e-08</td>\n",
       "      <td>...</td>\n",
       "      <td>-1.769668e-08</td>\n",
       "      <td>-5.038499e-09</td>\n",
       "      <td>1.950203e-08</td>\n",
       "      <td>-1.391571e-08</td>\n",
       "      <td>2.010989e-08</td>\n",
       "      <td>3.345196e-08</td>\n",
       "      <td>-1.745099e-08</td>\n",
       "      <td>-1.023225e-08</td>\n",
       "      <td>-1.313734e-08</td>\n",
       "      <td>4.101957e-08</td>\n",
       "    </tr>\n",
       "    <tr>\n",
       "      <th>3</th>\n",
       "      <td>4.122196e-08</td>\n",
       "      <td>2.811531e-08</td>\n",
       "      <td>-5.114020e-08</td>\n",
       "      <td>5.570894e-08</td>\n",
       "      <td>-2.859831e-08</td>\n",
       "      <td>-3.192687e-09</td>\n",
       "      <td>-9.241812e-09</td>\n",
       "      <td>-2.929793e-08</td>\n",
       "      <td>-3.965782e-08</td>\n",
       "      <td>-6.633927e-08</td>\n",
       "      <td>...</td>\n",
       "      <td>-1.694748e-08</td>\n",
       "      <td>-1.210962e-08</td>\n",
       "      <td>2.166553e-08</td>\n",
       "      <td>-2.263196e-08</td>\n",
       "      <td>1.672452e-08</td>\n",
       "      <td>2.426171e-08</td>\n",
       "      <td>-2.292224e-08</td>\n",
       "      <td>2.967250e-09</td>\n",
       "      <td>1.519037e-09</td>\n",
       "      <td>2.980083e-08</td>\n",
       "    </tr>\n",
       "    <tr>\n",
       "      <th>4</th>\n",
       "      <td>3.302860e-08</td>\n",
       "      <td>-6.318259e-09</td>\n",
       "      <td>-5.222595e-08</td>\n",
       "      <td>4.629010e-09</td>\n",
       "      <td>1.692244e-09</td>\n",
       "      <td>-3.961772e-08</td>\n",
       "      <td>7.124297e-08</td>\n",
       "      <td>5.152981e-08</td>\n",
       "      <td>-5.591939e-08</td>\n",
       "      <td>6.354052e-08</td>\n",
       "      <td>...</td>\n",
       "      <td>4.117087e-09</td>\n",
       "      <td>-1.500037e-09</td>\n",
       "      <td>-1.663948e-08</td>\n",
       "      <td>-1.760413e-07</td>\n",
       "      <td>2.874888e-08</td>\n",
       "      <td>3.627076e-08</td>\n",
       "      <td>8.198753e-08</td>\n",
       "      <td>-2.830237e-07</td>\n",
       "      <td>-8.559087e-08</td>\n",
       "      <td>1.387086e-07</td>\n",
       "    </tr>\n",
       "  </tbody>\n",
       "</table>\n",
       "<p>5 rows × 100 columns</p>\n",
       "</div>"
      ],
      "text/plain": [
       "          SSF_1         SSF_2         SSF_3         SSF_4         SSF_5  \\\n",
       "0  3.302860e-08 -6.318259e-09 -5.222595e-08  4.629010e-09  1.692244e-09   \n",
       "1  4.472596e-08  1.315368e-08 -6.526620e-08  5.715419e-08 -3.141219e-08   \n",
       "2  4.987021e-08  1.754737e-08 -6.932445e-08  5.696994e-08 -3.506631e-08   \n",
       "3  4.122196e-08  2.811531e-08 -5.114020e-08  5.570894e-08 -2.859831e-08   \n",
       "4  3.302860e-08 -6.318259e-09 -5.222595e-08  4.629010e-09  1.692244e-09   \n",
       "\n",
       "          SSF_6         SSF_7         SSF_8         SSF_9        SSF_10  \\\n",
       "0 -3.961772e-08  7.124297e-08  5.152981e-08 -5.591939e-08  6.354052e-08   \n",
       "1  5.795625e-10 -8.644062e-09 -3.173606e-08 -3.633320e-08 -6.628140e-08   \n",
       "2  6.386875e-10 -6.596187e-09 -3.129043e-08 -3.532832e-08 -6.433152e-08   \n",
       "3 -3.192687e-09 -9.241812e-09 -2.929793e-08 -3.965782e-08 -6.633927e-08   \n",
       "4 -3.961772e-08  7.124297e-08  5.152981e-08 -5.591939e-08  6.354052e-08   \n",
       "\n",
       "       ...             SSF_91        SSF_92        SSF_93        SSF_94  \\\n",
       "0      ...       4.117087e-09 -1.500037e-09 -1.663948e-08 -1.760413e-07   \n",
       "1      ...      -1.891064e-08 -6.267874e-09  2.167328e-08 -1.521584e-08   \n",
       "2      ...      -1.769668e-08 -5.038499e-09  1.950203e-08 -1.391571e-08   \n",
       "3      ...      -1.694748e-08 -1.210962e-08  2.166553e-08 -2.263196e-08   \n",
       "4      ...       4.117087e-09 -1.500037e-09 -1.663948e-08 -1.760413e-07   \n",
       "\n",
       "         SSF_95        SSF_96        SSF_97        SSF_98        SSF_99  \\\n",
       "0  2.874888e-08  3.627076e-08  8.198753e-08 -2.830237e-07 -8.559087e-08   \n",
       "1  2.104276e-08  3.417748e-08 -1.924162e-08 -8.167750e-09 -1.199346e-08   \n",
       "2  2.010989e-08  3.345196e-08 -1.745099e-08 -1.023225e-08 -1.313734e-08   \n",
       "3  1.672452e-08  2.426171e-08 -2.292224e-08  2.967250e-09  1.519037e-09   \n",
       "4  2.874888e-08  3.627076e-08  8.198753e-08 -2.830237e-07 -8.559087e-08   \n",
       "\n",
       "        SSF_100  \n",
       "0  1.387086e-07  \n",
       "1  4.339433e-08  \n",
       "2  4.101957e-08  \n",
       "3  2.980083e-08  \n",
       "4  1.387086e-07  \n",
       "\n",
       "[5 rows x 100 columns]"
      ]
     },
     "execution_count": 113,
     "metadata": {},
     "output_type": "execute_result"
    }
   ],
   "source": [
    "X_star_space_emb_extr.head()"
   ]
  },
  {
   "cell_type": "code",
   "execution_count": 114,
   "metadata": {},
   "outputs": [
    {
     "name": "stdout",
     "output_type": "stream",
     "text": [
      "<class 'pandas.core.frame.DataFrame'>\n",
      "RangeIndex: 7377418 entries, 0 to 7377417\n",
      "Data columns (total 100 columns):\n",
      "SSF_1      7377418 non-null float64\n",
      "SSF_2      7377418 non-null float64\n",
      "SSF_3      7377418 non-null float64\n",
      "SSF_4      7377418 non-null float64\n",
      "SSF_5      7377418 non-null float64\n",
      "SSF_6      7377418 non-null float64\n",
      "SSF_7      7377418 non-null float64\n",
      "SSF_8      7377418 non-null float64\n",
      "SSF_9      7377418 non-null float64\n",
      "SSF_10     7377418 non-null float64\n",
      "SSF_11     7377418 non-null float64\n",
      "SSF_12     7377418 non-null float64\n",
      "SSF_13     7377418 non-null float64\n",
      "SSF_14     7377418 non-null float64\n",
      "SSF_15     7377418 non-null float64\n",
      "SSF_16     7377418 non-null float64\n",
      "SSF_17     7377418 non-null float64\n",
      "SSF_18     7377418 non-null float64\n",
      "SSF_19     7377418 non-null float64\n",
      "SSF_20     7377418 non-null float64\n",
      "SSF_21     7377418 non-null float64\n",
      "SSF_22     7377418 non-null float64\n",
      "SSF_23     7377418 non-null float64\n",
      "SSF_24     7377418 non-null float64\n",
      "SSF_25     7377418 non-null float64\n",
      "SSF_26     7377418 non-null float64\n",
      "SSF_27     7377418 non-null float64\n",
      "SSF_28     7377418 non-null float64\n",
      "SSF_29     7377418 non-null float64\n",
      "SSF_30     7377418 non-null float64\n",
      "SSF_31     7377418 non-null float64\n",
      "SSF_32     7377418 non-null float64\n",
      "SSF_33     7377418 non-null float64\n",
      "SSF_34     7377418 non-null float64\n",
      "SSF_35     7377418 non-null float64\n",
      "SSF_36     7377418 non-null float64\n",
      "SSF_37     7377418 non-null float64\n",
      "SSF_38     7377418 non-null float64\n",
      "SSF_39     7377418 non-null float64\n",
      "SSF_40     7377418 non-null float64\n",
      "SSF_41     7377418 non-null float64\n",
      "SSF_42     7377418 non-null float64\n",
      "SSF_43     7377418 non-null float64\n",
      "SSF_44     7377418 non-null float64\n",
      "SSF_45     7377418 non-null float64\n",
      "SSF_46     7377418 non-null float64\n",
      "SSF_47     7377418 non-null float64\n",
      "SSF_48     7377418 non-null float64\n",
      "SSF_49     7377418 non-null float64\n",
      "SSF_50     7377418 non-null float64\n",
      "SSF_51     7377418 non-null float64\n",
      "SSF_52     7377418 non-null float64\n",
      "SSF_53     7377418 non-null float64\n",
      "SSF_54     7377418 non-null float64\n",
      "SSF_55     7377418 non-null float64\n",
      "SSF_56     7377418 non-null float64\n",
      "SSF_57     7377418 non-null float64\n",
      "SSF_58     7377418 non-null float64\n",
      "SSF_59     7377418 non-null float64\n",
      "SSF_60     7377418 non-null float64\n",
      "SSF_61     7377418 non-null float64\n",
      "SSF_62     7377418 non-null float64\n",
      "SSF_63     7377418 non-null float64\n",
      "SSF_64     7377418 non-null float64\n",
      "SSF_65     7377418 non-null float64\n",
      "SSF_66     7377418 non-null float64\n",
      "SSF_67     7377418 non-null float64\n",
      "SSF_68     7377418 non-null float64\n",
      "SSF_69     7377418 non-null float64\n",
      "SSF_70     7377418 non-null float64\n",
      "SSF_71     7377418 non-null float64\n",
      "SSF_72     7377418 non-null float64\n",
      "SSF_73     7377418 non-null float64\n",
      "SSF_74     7377418 non-null float64\n",
      "SSF_75     7377418 non-null float64\n",
      "SSF_76     7377418 non-null float64\n",
      "SSF_77     7377418 non-null float64\n",
      "SSF_78     7377418 non-null float64\n",
      "SSF_79     7377418 non-null float64\n",
      "SSF_80     7377418 non-null float64\n",
      "SSF_81     7377418 non-null float64\n",
      "SSF_82     7377418 non-null float64\n",
      "SSF_83     7377418 non-null float64\n",
      "SSF_84     7377418 non-null float64\n",
      "SSF_85     7377418 non-null float64\n",
      "SSF_86     7377418 non-null float64\n",
      "SSF_87     7377418 non-null float64\n",
      "SSF_88     7377418 non-null float64\n",
      "SSF_89     7377418 non-null float64\n",
      "SSF_90     7377418 non-null float64\n",
      "SSF_91     7377418 non-null float64\n",
      "SSF_92     7377418 non-null float64\n",
      "SSF_93     7377418 non-null float64\n",
      "SSF_94     7377418 non-null float64\n",
      "SSF_95     7377418 non-null float64\n",
      "SSF_96     7377418 non-null float64\n",
      "SSF_97     7377418 non-null float64\n",
      "SSF_98     7377418 non-null float64\n",
      "SSF_99     7377418 non-null float64\n",
      "SSF_100    7377418 non-null float64\n",
      "dtypes: float64(100)\n",
      "memory usage: 5.5 GB\n"
     ]
    }
   ],
   "source": [
    "X_star_space_emb_extr.info(verbose=True, null_counts=True)"
   ]
  },
  {
   "cell_type": "code",
   "execution_count": 115,
   "metadata": {
    "collapsed": true
   },
   "outputs": [],
   "source": [
    "X_emb_train, X_emb_test, y_emb_train, y_emb_test = train_test_split(\n",
    "    X_star_space_emb_extr,\n",
    "    y,\n",
    "    test_size=0.3,\n",
    "    random_state=42,\n",
    "    stratify=y\n",
    ")"
   ]
  },
  {
   "cell_type": "code",
   "execution_count": 116,
   "metadata": {},
   "outputs": [
    {
     "name": "stdout",
     "output_type": "stream",
     "text": [
      "(5164192, 100) (5164192,)\n"
     ]
    }
   ],
   "source": [
    "print(X_emb_train.shape, y_emb_train.shape)"
   ]
  },
  {
   "cell_type": "code",
   "execution_count": 117,
   "metadata": {},
   "outputs": [
    {
     "name": "stdout",
     "output_type": "stream",
     "text": [
      "<class 'pandas.core.frame.DataFrame'> <class 'pandas.core.series.Series'>\n"
     ]
    }
   ],
   "source": [
    "print(type(X_emb_train), type(y_emb_train))"
   ]
  },
  {
   "cell_type": "code",
   "execution_count": 118,
   "metadata": {},
   "outputs": [
    {
     "name": "stdout",
     "output_type": "stream",
     "text": [
      "(2213226, 100) (2213226,)\n"
     ]
    }
   ],
   "source": [
    "print(X_emb_test.shape, y_emb_test.shape)"
   ]
  },
  {
   "cell_type": "code",
   "execution_count": 119,
   "metadata": {},
   "outputs": [
    {
     "name": "stdout",
     "output_type": "stream",
     "text": [
      "<class 'pandas.core.frame.DataFrame'> <class 'pandas.core.series.Series'>\n"
     ]
    }
   ],
   "source": [
    "print(type(X_emb_test), type(y_emb_test))"
   ]
  },
  {
   "cell_type": "code",
   "execution_count": 120,
   "metadata": {
    "collapsed": true
   },
   "outputs": [],
   "source": [
    "lgb_classifier = LightGBMBasedRecommender()"
   ]
  },
  {
   "cell_type": "code",
   "execution_count": 121,
   "metadata": {
    "scrolled": false
   },
   "outputs": [
    {
     "data": {
      "text/plain": [
       "LightGBMBasedRecommender(val_size=0.3)"
      ]
     },
     "execution_count": 121,
     "metadata": {},
     "output_type": "execute_result"
    }
   ],
   "source": [
    "lgb_classifier.fit(X_emb_train, y_emb_train.values)"
   ]
  },
  {
   "cell_type": "code",
   "execution_count": 122,
   "metadata": {
    "collapsed": true
   },
   "outputs": [],
   "source": [
    "y_pred = lgb_classifier.predict_proba(X_emb_test)"
   ]
  },
  {
   "cell_type": "code",
   "execution_count": 123,
   "metadata": {},
   "outputs": [
    {
     "data": {
      "text/plain": [
       "(2213226,)"
      ]
     },
     "execution_count": 123,
     "metadata": {},
     "output_type": "execute_result"
    }
   ],
   "source": [
    "y_pred.shape"
   ]
  },
  {
   "cell_type": "code",
   "execution_count": 124,
   "metadata": {
    "collapsed": true
   },
   "outputs": [],
   "source": [
    "fpr, tpr, _ = roc_curve(y_emb_test, y_pred)"
   ]
  },
  {
   "cell_type": "code",
   "execution_count": 125,
   "metadata": {},
   "outputs": [
    {
     "data": {
      "image/png": "[encoded data removed]",
      "text/plain": [
       "<Figure size 720x720 with 1 Axes>"
      ]
     },
     "metadata": {},
     "output_type": "display_data"
    }
   ],
   "source": [
    "plot_roc_auc(fpr, tpr, 'LightGBM classifier on StarSpace embeddings approach')"
   ]
  },
  {
   "cell_type": "markdown",
   "metadata": {
    "heading_collapsed": true
   },
   "source": [
    "## Ensemble"
   ]
  },
  {
   "cell_type": "code",
   "execution_count": null,
   "metadata": {
    "collapsed": true,
    "hidden": true
   },
   "outputs": [],
   "source": [
    "ens_classifier_pipeline = Pipeline(\n",
    "    steps=[\n",
    "        ('data_preparation', unified_pipeline),\n",
    "        ('classification', EnsembleBasedRecommender(\n",
    "            base_estimators=[\n",
    "                FactorizationMachineBasedRecommender(),\n",
    "                LightGBMBasedRecommender(),\n",
    "                XGBoostBasedRecommender()\n",
    "            ]\n",
    "        ))\n",
    "    ]\n",
    ")"
   ]
  },
  {
   "cell_type": "code",
   "execution_count": null,
   "metadata": {
    "collapsed": true,
    "hidden": true
   },
   "outputs": [],
   "source": [
    "ens_classifier_pipeline.fit(X_train, y_train.values)"
   ]
  },
  {
   "cell_type": "code",
   "execution_count": null,
   "metadata": {
    "collapsed": true,
    "hidden": true
   },
   "outputs": [],
   "source": [
    "y_pred = ens_classifier_pipeline.predict_proba(X_test)"
   ]
  },
  {
   "cell_type": "code",
   "execution_count": null,
   "metadata": {
    "collapsed": true,
    "hidden": true
   },
   "outputs": [],
   "source": [
    "y_pred.shape"
   ]
  },
  {
   "cell_type": "code",
   "execution_count": null,
   "metadata": {
    "collapsed": true,
    "hidden": true
   },
   "outputs": [],
   "source": [
    "fpr, tpr, _ = roc_curve(y_test, y_pred)"
   ]
  },
  {
   "cell_type": "code",
   "execution_count": null,
   "metadata": {
    "collapsed": true,
    "hidden": true
   },
   "outputs": [],
   "source": [
    "plot_roc_auc(fpr, tpr, 'Ensemble')"
   ]
  },
  {
   "cell_type": "markdown",
   "metadata": {
    "heading_collapsed": true
   },
   "source": [
    "# Submission"
   ]
  },
  {
   "cell_type": "code",
   "execution_count": null,
   "metadata": {
    "collapsed": true,
    "hidden": true
   },
   "outputs": [],
   "source": [
    "ens_classifier_pipeline.fit(X, y.values)"
   ]
  },
  {
   "cell_type": "code",
   "execution_count": null,
   "metadata": {
    "collapsed": true,
    "hidden": true
   },
   "outputs": [],
   "source": [
    "y_pred_subm = ens_classifier_pipeline.predict_proba(X_for_submission)"
   ]
  },
  {
   "cell_type": "code",
   "execution_count": null,
   "metadata": {
    "collapsed": true,
    "hidden": true
   },
   "outputs": [],
   "source": [
    "y_pred_subm.shape"
   ]
  },
  {
   "cell_type": "code",
   "execution_count": null,
   "metadata": {
    "collapsed": true,
    "hidden": true
   },
   "outputs": [],
   "source": [
    "X_for_submission['target'] = y_pred_subm"
   ]
  },
  {
   "cell_type": "code",
   "execution_count": null,
   "metadata": {
    "collapsed": true,
    "hidden": true
   },
   "outputs": [],
   "source": [
    "X_for_submission[['id', 'target']].to_csv(os.path.join(data_directory, 'ensemble_submission_full_train_part.csv'), index=False)"
   ]
  },
  {
   "cell_type": "markdown",
   "metadata": {
    "heading_collapsed": true
   },
   "source": [
    "# Conclusion"
   ]
  },
  {
   "cell_type": "markdown",
   "metadata": {
    "collapsed": true,
    "hidden": true
   },
   "source": []
  }
 ],
 "metadata": {
  "hide_input": false,
  "kernelspec": {
   "display_name": "Local PySpark (Python-3.5 / Spark-2.1.0 )",
   "language": "python",
   "name": "py3spark_local"
  },
  "language_info": {
   "codemirror_mode": {
    "name": "ipython",
    "version": 3
   },
   "file_extension": ".py",
   "mimetype": "text/x-python",
   "name": "python",
   "nbconvert_exporter": "python",
   "pygments_lexer": "ipython3",
   "version": "3.5.2"
  },
  "toc": {
   "base_numbering": 1,
   "nav_menu": {},
   "number_sections": true,
   "sideBar": true,
   "skip_h1_title": false,
   "title_cell": "Table of Contents",
   "title_sidebar": "Table of Contents",
   "toc_cell": false,
   "toc_position": {
    "height": "calc(100% - 180px)",
    "left": "10px",
    "top": "150px",
    "width": "294px"
   },
   "toc_section_display": true,
   "toc_window_display": true
  },
  "varInspector": {
   "cols": {
    "lenName": "136",
    "lenType": "136",
    "lenVar": "160"
   },
   "kernels_config": {
    "python": {
     "delete_cmd_postfix": "",
     "delete_cmd_prefix": "del ",
     "library": "var_list.py",
     "varRefreshCmd": "print(var_dic_list())"
    },
    "r": {
     "delete_cmd_postfix": ") ",
     "delete_cmd_prefix": "rm(",
     "library": "var_list.r",
     "varRefreshCmd": "cat(var_dic_list()) "
    }
   },
   "oldHeight": 1019.8,
   "position": {
    "height": "40px",
    "left": "674.887px",
    "right": "20px",
    "top": "4.14063px",
    "width": "800px"
   },
   "types_to_exclude": [
    "module",
    "function",
    "builtin_function_or_method",
    "instance",
    "_Feature"
   ],
   "varInspector_section_display": "none",
   "window_display": true
  }
 },
 "nbformat": 4,
 "nbformat_minor": 1
}
