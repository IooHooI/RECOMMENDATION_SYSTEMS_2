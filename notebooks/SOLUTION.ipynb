{
 "cells": [
  {
   "cell_type": "markdown",
   "metadata": {
    "collapsed": true
   },
   "source": [
    "# All imports necessary"
   ]
  },
  {
   "cell_type": "code",
   "execution_count": 1,
   "metadata": {
    "collapsed": true
   },
   "outputs": [],
   "source": [
    "import os"
   ]
  },
  {
   "cell_type": "code",
   "execution_count": 2,
   "metadata": {
    "collapsed": true
   },
   "outputs": [],
   "source": [
    "import sys"
   ]
  },
  {
   "cell_type": "code",
   "execution_count": 3,
   "metadata": {
    "collapsed": true
   },
   "outputs": [],
   "source": [
    "import lightgbm as lgb"
   ]
  },
  {
   "cell_type": "code",
   "execution_count": 4,
   "metadata": {
    "collapsed": true
   },
   "outputs": [],
   "source": [
    "import xgboost as xgb"
   ]
  },
  {
   "cell_type": "code",
   "execution_count": 5,
   "metadata": {
    "collapsed": true
   },
   "outputs": [],
   "source": [
    "import warnings"
   ]
  },
  {
   "cell_type": "code",
   "execution_count": 6,
   "metadata": {
    "collapsed": true
   },
   "outputs": [],
   "source": [
    "warnings.filterwarnings(\"ignore\")"
   ]
  },
  {
   "cell_type": "code",
   "execution_count": 7,
   "metadata": {
    "collapsed": true
   },
   "outputs": [],
   "source": [
    "import numpy as np"
   ]
  },
  {
   "cell_type": "code",
   "execution_count": 8,
   "metadata": {
    "collapsed": true
   },
   "outputs": [],
   "source": [
    "import pandas as pd"
   ]
  },
  {
   "cell_type": "code",
   "execution_count": 9,
   "metadata": {
    "collapsed": true
   },
   "outputs": [],
   "source": [
    "import multiprocessing"
   ]
  },
  {
   "cell_type": "code",
   "execution_count": 10,
   "metadata": {
    "collapsed": true
   },
   "outputs": [],
   "source": [
    "sys.path.append('..')"
   ]
  },
  {
   "cell_type": "code",
   "execution_count": 11,
   "metadata": {
    "collapsed": true
   },
   "outputs": [],
   "source": [
    "import seaborn as sns"
   ]
  },
  {
   "cell_type": "code",
   "execution_count": 12,
   "metadata": {
    "collapsed": true
   },
   "outputs": [],
   "source": [
    "import matplotlib.pyplot as plt"
   ]
  },
  {
   "cell_type": "code",
   "execution_count": 13,
   "metadata": {
    "collapsed": true
   },
   "outputs": [],
   "source": [
    "from sklearn.metrics import auc"
   ]
  },
  {
   "cell_type": "code",
   "execution_count": 14,
   "metadata": {
    "collapsed": true
   },
   "outputs": [],
   "source": [
    "from sklearn.pipeline import Pipeline"
   ]
  },
  {
   "cell_type": "code",
   "execution_count": 15,
   "metadata": {
    "collapsed": true
   },
   "outputs": [],
   "source": [
    "from sklearn.impute import SimpleImputer"
   ]
  },
  {
   "cell_type": "code",
   "execution_count": 16,
   "metadata": {
    "collapsed": true
   },
   "outputs": [],
   "source": [
    "from sklearn.preprocessing import KBinsDiscretizer"
   ]
  },
  {
   "cell_type": "code",
   "execution_count": 17,
   "metadata": {
    "collapsed": true
   },
   "outputs": [],
   "source": [
    "from sklearn.preprocessing import OneHotEncoder"
   ]
  },
  {
   "cell_type": "code",
   "execution_count": 18,
   "metadata": {
    "collapsed": true
   },
   "outputs": [],
   "source": [
    "from sklearn.preprocessing import OrdinalEncoder"
   ]
  },
  {
   "cell_type": "code",
   "execution_count": 19,
   "metadata": {
    "collapsed": true
   },
   "outputs": [],
   "source": [
    "from sklearn.compose import ColumnTransformer"
   ]
  },
  {
   "cell_type": "code",
   "execution_count": 20,
   "metadata": {
    "collapsed": true
   },
   "outputs": [],
   "source": [
    "from sklearn.metrics import roc_curve"
   ]
  },
  {
   "cell_type": "code",
   "execution_count": 21,
   "metadata": {
    "collapsed": true
   },
   "outputs": [],
   "source": [
    "from sklearn.model_selection import cross_val_score"
   ]
  },
  {
   "cell_type": "code",
   "execution_count": 22,
   "metadata": {
    "collapsed": true
   },
   "outputs": [],
   "source": [
    "from sklearn.model_selection import train_test_split"
   ]
  },
  {
   "cell_type": "code",
   "execution_count": 23,
   "metadata": {
    "collapsed": true
   },
   "outputs": [],
   "source": [
    "from source.code.transformers.metafeaturesextractor import MetaFeaturesExtractor"
   ]
  },
  {
   "cell_type": "code",
   "execution_count": 24,
   "metadata": {
    "collapsed": true
   },
   "outputs": [],
   "source": [
    "from source.code.models.svdbasedrecommender import SVDBasedRecommender"
   ]
  },
  {
   "cell_type": "code",
   "execution_count": 25,
   "metadata": {
    "collapsed": true
   },
   "outputs": [],
   "source": [
    "from source.code.models.songfrequencybasedrecommender import SongFrequencyBasedRecommender"
   ]
  },
  {
   "cell_type": "code",
   "execution_count": 26,
   "metadata": {
    "collapsed": true
   },
   "outputs": [],
   "source": [
    "from source.code.models.factorizationmachinebasedrecommender import FactorizationMachineBasedRecommender"
   ]
  },
  {
   "cell_type": "code",
   "execution_count": 27,
   "metadata": {
    "collapsed": true
   },
   "outputs": [],
   "source": [
    "from source.code.models.lightgbmbasedrecommender import LightGBMBasedRecommender"
   ]
  },
  {
   "cell_type": "code",
   "execution_count": 28,
   "metadata": {
    "collapsed": true
   },
   "outputs": [],
   "source": [
    "from source.code.models.xgboostbasedrecommender import XGBoostBasedRecommender"
   ]
  },
  {
   "cell_type": "code",
   "execution_count": 29,
   "metadata": {
    "collapsed": true
   },
   "outputs": [],
   "source": [
    "from source.code.models.ensemblebasedrecommender import EnsembleBasedRecommender"
   ]
  },
  {
   "cell_type": "code",
   "execution_count": 30,
   "metadata": {
    "collapsed": true
   },
   "outputs": [],
   "source": [
    "from tqdm.autonotebook import tqdm"
   ]
  },
  {
   "cell_type": "markdown",
   "metadata": {},
   "source": [
    "# Auxiliary methods"
   ]
  },
  {
   "cell_type": "code",
   "execution_count": 31,
   "metadata": {
    "collapsed": true
   },
   "outputs": [],
   "source": [
    "def plot_roc_auc(fpr, tpr, classifier):\n",
    "    plt.figure(figsize=(10, 10))\n",
    "    plt.plot(fpr, tpr, color='darkorange', lw=2, label='ROC curve (area = %0.10f)' % auc(fpr, tpr))\n",
    "    plt.plot([0, 1], [0, 1], color='navy', lw=2, linestyle='--')\n",
    "    plt.xlim([0.0, 1.0])\n",
    "    plt.ylim([0.0, 1.01])\n",
    "    plt.xlabel('False Positive Rate')\n",
    "    plt.ylabel('True Positive Rate')\n",
    "    plt.title('Receiver operating characteristic example ({})'.format(classifier))\n",
    "    plt.legend(loc=\"lower right\")\n",
    "    plt.show()"
   ]
  },
  {
   "cell_type": "markdown",
   "metadata": {},
   "source": [
    "# Read the data"
   ]
  },
  {
   "cell_type": "code",
   "execution_count": 32,
   "metadata": {
    "collapsed": true
   },
   "outputs": [],
   "source": [
    "data_directory = '../data/datasets/'"
   ]
  },
  {
   "cell_type": "code",
   "execution_count": 33,
   "metadata": {
    "collapsed": true
   },
   "outputs": [],
   "source": [
    "unknown_category_label = 'unknown'"
   ]
  },
  {
   "cell_type": "code",
   "execution_count": 34,
   "metadata": {
    "collapsed": true
   },
   "outputs": [],
   "source": [
    "unknown_language_label = -1"
   ]
  },
  {
   "cell_type": "markdown",
   "metadata": {},
   "source": [
    "## Train"
   ]
  },
  {
   "cell_type": "code",
   "execution_count": 35,
   "metadata": {
    "collapsed": true
   },
   "outputs": [],
   "source": [
    "train = pd.read_csv(os.path.join(data_directory, 'train.csv'), engine='python')"
   ]
  },
  {
   "cell_type": "code",
   "execution_count": 36,
   "metadata": {},
   "outputs": [
    {
     "data": {
      "text/html": [
       "<div>\n",
       "<style scoped>\n",
       "    .dataframe tbody tr th:only-of-type {\n",
       "        vertical-align: middle;\n",
       "    }\n",
       "\n",
       "    .dataframe tbody tr th {\n",
       "        vertical-align: top;\n",
       "    }\n",
       "\n",
       "    .dataframe thead th {\n",
       "        text-align: right;\n",
       "    }\n",
       "</style>\n",
       "<table border=\"1\" class=\"dataframe\">\n",
       "  <thead>\n",
       "    <tr style=\"text-align: right;\">\n",
       "      <th></th>\n",
       "      <th>0</th>\n",
       "      <th>1</th>\n",
       "      <th>2</th>\n",
       "      <th>3</th>\n",
       "    </tr>\n",
       "  </thead>\n",
       "  <tbody>\n",
       "    <tr>\n",
       "      <th>msno</th>\n",
       "      <td>FGtllVqz18RPiwJj/edr2gV78zirAiY/9SmYvia+kCg=</td>\n",
       "      <td>Xumu+NIjS6QYVxDS4/t3SawvJ7viT9hPKXmf0RtLNx8=</td>\n",
       "      <td>Xumu+NIjS6QYVxDS4/t3SawvJ7viT9hPKXmf0RtLNx8=</td>\n",
       "      <td>Xumu+NIjS6QYVxDS4/t3SawvJ7viT9hPKXmf0RtLNx8=</td>\n",
       "    </tr>\n",
       "    <tr>\n",
       "      <th>song_id</th>\n",
       "      <td>BBzumQNXUHKdEBOB7mAJuzok+IJA1c2Ryg/yzTF6tik=</td>\n",
       "      <td>bhp/MpSNoqoxOIB+/l8WPqu6jldth4DIpCm3ayXnJqM=</td>\n",
       "      <td>JNWfrrC7zNN7BdMpsISKa4Mw+xVJYNnxXh3/Epw7QgY=</td>\n",
       "      <td>2A87tzfnJTSWqD7gIZHisolhe4DMdzkbd6LzO1KHjNs=</td>\n",
       "    </tr>\n",
       "    <tr>\n",
       "      <th>source_system_tab</th>\n",
       "      <td>explore</td>\n",
       "      <td>my library</td>\n",
       "      <td>my library</td>\n",
       "      <td>my library</td>\n",
       "    </tr>\n",
       "    <tr>\n",
       "      <th>source_screen_name</th>\n",
       "      <td>Explore</td>\n",
       "      <td>Local playlist more</td>\n",
       "      <td>Local playlist more</td>\n",
       "      <td>Local playlist more</td>\n",
       "    </tr>\n",
       "    <tr>\n",
       "      <th>source_type</th>\n",
       "      <td>online-playlist</td>\n",
       "      <td>local-playlist</td>\n",
       "      <td>local-playlist</td>\n",
       "      <td>local-playlist</td>\n",
       "    </tr>\n",
       "    <tr>\n",
       "      <th>target</th>\n",
       "      <td>1</td>\n",
       "      <td>1</td>\n",
       "      <td>1</td>\n",
       "      <td>1</td>\n",
       "    </tr>\n",
       "  </tbody>\n",
       "</table>\n",
       "</div>"
      ],
      "text/plain": [
       "                                                               0  \\\n",
       "msno                FGtllVqz18RPiwJj/edr2gV78zirAiY/9SmYvia+kCg=   \n",
       "song_id             BBzumQNXUHKdEBOB7mAJuzok+IJA1c2Ryg/yzTF6tik=   \n",
       "source_system_tab                                        explore   \n",
       "source_screen_name                                       Explore   \n",
       "source_type                                      online-playlist   \n",
       "target                                                         1   \n",
       "\n",
       "                                                               1  \\\n",
       "msno                Xumu+NIjS6QYVxDS4/t3SawvJ7viT9hPKXmf0RtLNx8=   \n",
       "song_id             bhp/MpSNoqoxOIB+/l8WPqu6jldth4DIpCm3ayXnJqM=   \n",
       "source_system_tab                                     my library   \n",
       "source_screen_name                           Local playlist more   \n",
       "source_type                                       local-playlist   \n",
       "target                                                         1   \n",
       "\n",
       "                                                               2  \\\n",
       "msno                Xumu+NIjS6QYVxDS4/t3SawvJ7viT9hPKXmf0RtLNx8=   \n",
       "song_id             JNWfrrC7zNN7BdMpsISKa4Mw+xVJYNnxXh3/Epw7QgY=   \n",
       "source_system_tab                                     my library   \n",
       "source_screen_name                           Local playlist more   \n",
       "source_type                                       local-playlist   \n",
       "target                                                         1   \n",
       "\n",
       "                                                               3  \n",
       "msno                Xumu+NIjS6QYVxDS4/t3SawvJ7viT9hPKXmf0RtLNx8=  \n",
       "song_id             2A87tzfnJTSWqD7gIZHisolhe4DMdzkbd6LzO1KHjNs=  \n",
       "source_system_tab                                     my library  \n",
       "source_screen_name                           Local playlist more  \n",
       "source_type                                       local-playlist  \n",
       "target                                                         1  "
      ]
     },
     "execution_count": 36,
     "metadata": {},
     "output_type": "execute_result"
    }
   ],
   "source": [
    "train.head(4).T"
   ]
  },
  {
   "cell_type": "code",
   "execution_count": 37,
   "metadata": {},
   "outputs": [
    {
     "name": "stdout",
     "output_type": "stream",
     "text": [
      "<class 'pandas.core.frame.DataFrame'>\n",
      "RangeIndex: 7377418 entries, 0 to 7377417\n",
      "Data columns (total 6 columns):\n",
      "msno                  7377418 non-null object\n",
      "song_id               7377418 non-null object\n",
      "source_system_tab     7352569 non-null object\n",
      "source_screen_name    6962614 non-null object\n",
      "source_type           7355879 non-null object\n",
      "target                7377418 non-null int64\n",
      "dtypes: int64(1), object(5)\n",
      "memory usage: 337.7+ MB\n"
     ]
    }
   ],
   "source": [
    "train.info(verbose=True, null_counts=True)"
   ]
  },
  {
   "cell_type": "markdown",
   "metadata": {},
   "source": [
    "## Test"
   ]
  },
  {
   "cell_type": "code",
   "execution_count": 38,
   "metadata": {
    "collapsed": true
   },
   "outputs": [],
   "source": [
    "test = pd.read_csv(os.path.join(data_directory, 'test.csv'), engine='python')"
   ]
  },
  {
   "cell_type": "code",
   "execution_count": 39,
   "metadata": {},
   "outputs": [
    {
     "data": {
      "text/html": [
       "<div>\n",
       "<style scoped>\n",
       "    .dataframe tbody tr th:only-of-type {\n",
       "        vertical-align: middle;\n",
       "    }\n",
       "\n",
       "    .dataframe tbody tr th {\n",
       "        vertical-align: top;\n",
       "    }\n",
       "\n",
       "    .dataframe thead th {\n",
       "        text-align: right;\n",
       "    }\n",
       "</style>\n",
       "<table border=\"1\" class=\"dataframe\">\n",
       "  <thead>\n",
       "    <tr style=\"text-align: right;\">\n",
       "      <th></th>\n",
       "      <th>0</th>\n",
       "      <th>1</th>\n",
       "      <th>2</th>\n",
       "      <th>3</th>\n",
       "    </tr>\n",
       "  </thead>\n",
       "  <tbody>\n",
       "    <tr>\n",
       "      <th>id</th>\n",
       "      <td>0</td>\n",
       "      <td>1</td>\n",
       "      <td>2</td>\n",
       "      <td>3</td>\n",
       "    </tr>\n",
       "    <tr>\n",
       "      <th>msno</th>\n",
       "      <td>V8ruy7SGk7tDm3zA51DPpn6qutt+vmKMBKa21dp54uM=</td>\n",
       "      <td>V8ruy7SGk7tDm3zA51DPpn6qutt+vmKMBKa21dp54uM=</td>\n",
       "      <td>/uQAlrAkaczV+nWCd2sPF2ekvXPRipV7q0l+gbLuxjw=</td>\n",
       "      <td>1a6oo/iXKatxQx4eS9zTVD+KlSVaAFbTIqVvwLC1Y0k=</td>\n",
       "    </tr>\n",
       "    <tr>\n",
       "      <th>song_id</th>\n",
       "      <td>WmHKgKMlp1lQMecNdNvDMkvIycZYHnFwDT72I5sIssc=</td>\n",
       "      <td>y/rsZ9DC7FwK5F2PK2D5mj+aOBUJAjuu3dZ14NgE0vM=</td>\n",
       "      <td>8eZLFOdGVdXBSqoAv5nsLigeH2BvKXzTQYtUM53I0k4=</td>\n",
       "      <td>ztCf8thYsS4YN3GcIL/bvoxLm/T5mYBVKOO4C9NiVfQ=</td>\n",
       "    </tr>\n",
       "    <tr>\n",
       "      <th>source_system_tab</th>\n",
       "      <td>my library</td>\n",
       "      <td>my library</td>\n",
       "      <td>discover</td>\n",
       "      <td>radio</td>\n",
       "    </tr>\n",
       "    <tr>\n",
       "      <th>source_screen_name</th>\n",
       "      <td>Local playlist more</td>\n",
       "      <td>Local playlist more</td>\n",
       "      <td>NaN</td>\n",
       "      <td>Radio</td>\n",
       "    </tr>\n",
       "    <tr>\n",
       "      <th>source_type</th>\n",
       "      <td>local-library</td>\n",
       "      <td>local-library</td>\n",
       "      <td>song-based-playlist</td>\n",
       "      <td>radio</td>\n",
       "    </tr>\n",
       "  </tbody>\n",
       "</table>\n",
       "</div>"
      ],
      "text/plain": [
       "                                                               0  \\\n",
       "id                                                             0   \n",
       "msno                V8ruy7SGk7tDm3zA51DPpn6qutt+vmKMBKa21dp54uM=   \n",
       "song_id             WmHKgKMlp1lQMecNdNvDMkvIycZYHnFwDT72I5sIssc=   \n",
       "source_system_tab                                     my library   \n",
       "source_screen_name                           Local playlist more   \n",
       "source_type                                        local-library   \n",
       "\n",
       "                                                               1  \\\n",
       "id                                                             1   \n",
       "msno                V8ruy7SGk7tDm3zA51DPpn6qutt+vmKMBKa21dp54uM=   \n",
       "song_id             y/rsZ9DC7FwK5F2PK2D5mj+aOBUJAjuu3dZ14NgE0vM=   \n",
       "source_system_tab                                     my library   \n",
       "source_screen_name                           Local playlist more   \n",
       "source_type                                        local-library   \n",
       "\n",
       "                                                               2  \\\n",
       "id                                                             2   \n",
       "msno                /uQAlrAkaczV+nWCd2sPF2ekvXPRipV7q0l+gbLuxjw=   \n",
       "song_id             8eZLFOdGVdXBSqoAv5nsLigeH2BvKXzTQYtUM53I0k4=   \n",
       "source_system_tab                                       discover   \n",
       "source_screen_name                                           NaN   \n",
       "source_type                                  song-based-playlist   \n",
       "\n",
       "                                                               3  \n",
       "id                                                             3  \n",
       "msno                1a6oo/iXKatxQx4eS9zTVD+KlSVaAFbTIqVvwLC1Y0k=  \n",
       "song_id             ztCf8thYsS4YN3GcIL/bvoxLm/T5mYBVKOO4C9NiVfQ=  \n",
       "source_system_tab                                          radio  \n",
       "source_screen_name                                         Radio  \n",
       "source_type                                                radio  "
      ]
     },
     "execution_count": 39,
     "metadata": {},
     "output_type": "execute_result"
    }
   ],
   "source": [
    "test.head(4).T"
   ]
  },
  {
   "cell_type": "code",
   "execution_count": 40,
   "metadata": {},
   "outputs": [
    {
     "name": "stdout",
     "output_type": "stream",
     "text": [
      "<class 'pandas.core.frame.DataFrame'>\n",
      "RangeIndex: 2556790 entries, 0 to 2556789\n",
      "Data columns (total 6 columns):\n",
      "id                    2556790 non-null int64\n",
      "msno                  2556790 non-null object\n",
      "song_id               2556790 non-null object\n",
      "source_system_tab     2548348 non-null object\n",
      "source_screen_name    2393907 non-null object\n",
      "source_type           2549493 non-null object\n",
      "dtypes: int64(1), object(5)\n",
      "memory usage: 117.0+ MB\n"
     ]
    }
   ],
   "source": [
    "test.info(verbose=True, null_counts=True)"
   ]
  },
  {
   "cell_type": "markdown",
   "metadata": {},
   "source": [
    "## Songs"
   ]
  },
  {
   "cell_type": "code",
   "execution_count": 41,
   "metadata": {
    "collapsed": true
   },
   "outputs": [],
   "source": [
    "songs = pd.read_csv(os.path.join(data_directory, 'songs.csv'))"
   ]
  },
  {
   "cell_type": "code",
   "execution_count": 42,
   "metadata": {
    "scrolled": true
   },
   "outputs": [
    {
     "data": {
      "text/html": [
       "<div>\n",
       "<style scoped>\n",
       "    .dataframe tbody tr th:only-of-type {\n",
       "        vertical-align: middle;\n",
       "    }\n",
       "\n",
       "    .dataframe tbody tr th {\n",
       "        vertical-align: top;\n",
       "    }\n",
       "\n",
       "    .dataframe thead th {\n",
       "        text-align: right;\n",
       "    }\n",
       "</style>\n",
       "<table border=\"1\" class=\"dataframe\">\n",
       "  <thead>\n",
       "    <tr style=\"text-align: right;\">\n",
       "      <th></th>\n",
       "      <th>0</th>\n",
       "      <th>1</th>\n",
       "      <th>2</th>\n",
       "      <th>3</th>\n",
       "    </tr>\n",
       "  </thead>\n",
       "  <tbody>\n",
       "    <tr>\n",
       "      <th>song_id</th>\n",
       "      <td>CXoTN1eb7AI+DntdU1vbcwGRV4SCIDxZu+YD8JP8r4E=</td>\n",
       "      <td>o0kFgae9QtnYgRkVPqLJwa05zIhRlUjfF7O1tDw0ZDU=</td>\n",
       "      <td>DwVvVurfpuz+XPuFvucclVQEyPqcpUkHR0ne1RQzPs0=</td>\n",
       "      <td>dKMBWoZyScdxSkihKG+Vf47nc18N9q4m58+b4e7dSSE=</td>\n",
       "    </tr>\n",
       "    <tr>\n",
       "      <th>song_length</th>\n",
       "      <td>247640</td>\n",
       "      <td>197328</td>\n",
       "      <td>231781</td>\n",
       "      <td>273554</td>\n",
       "    </tr>\n",
       "    <tr>\n",
       "      <th>genre_ids</th>\n",
       "      <td>465</td>\n",
       "      <td>444</td>\n",
       "      <td>465</td>\n",
       "      <td>465</td>\n",
       "    </tr>\n",
       "    <tr>\n",
       "      <th>artist_name</th>\n",
       "      <td>張信哲 (Jeff Chang)</td>\n",
       "      <td>BLACKPINK</td>\n",
       "      <td>SUPER JUNIOR</td>\n",
       "      <td>S.H.E</td>\n",
       "    </tr>\n",
       "    <tr>\n",
       "      <th>composer</th>\n",
       "      <td>董貞</td>\n",
       "      <td>TEDDY|  FUTURE BOUNCE|  Bekuh BOOM</td>\n",
       "      <td>NaN</td>\n",
       "      <td>湯小康</td>\n",
       "    </tr>\n",
       "    <tr>\n",
       "      <th>lyricist</th>\n",
       "      <td>何啟弘</td>\n",
       "      <td>TEDDY</td>\n",
       "      <td>NaN</td>\n",
       "      <td>徐世珍</td>\n",
       "    </tr>\n",
       "    <tr>\n",
       "      <th>language</th>\n",
       "      <td>3</td>\n",
       "      <td>31</td>\n",
       "      <td>31</td>\n",
       "      <td>3</td>\n",
       "    </tr>\n",
       "  </tbody>\n",
       "</table>\n",
       "</div>"
      ],
      "text/plain": [
       "                                                        0  \\\n",
       "song_id      CXoTN1eb7AI+DntdU1vbcwGRV4SCIDxZu+YD8JP8r4E=   \n",
       "song_length                                        247640   \n",
       "genre_ids                                             465   \n",
       "artist_name                              張信哲 (Jeff Chang)   \n",
       "composer                                               董貞   \n",
       "lyricist                                              何啟弘   \n",
       "language                                                3   \n",
       "\n",
       "                                                        1  \\\n",
       "song_id      o0kFgae9QtnYgRkVPqLJwa05zIhRlUjfF7O1tDw0ZDU=   \n",
       "song_length                                        197328   \n",
       "genre_ids                                             444   \n",
       "artist_name                                     BLACKPINK   \n",
       "composer               TEDDY|  FUTURE BOUNCE|  Bekuh BOOM   \n",
       "lyricist                                            TEDDY   \n",
       "language                                               31   \n",
       "\n",
       "                                                        2  \\\n",
       "song_id      DwVvVurfpuz+XPuFvucclVQEyPqcpUkHR0ne1RQzPs0=   \n",
       "song_length                                        231781   \n",
       "genre_ids                                             465   \n",
       "artist_name                                  SUPER JUNIOR   \n",
       "composer                                              NaN   \n",
       "lyricist                                              NaN   \n",
       "language                                               31   \n",
       "\n",
       "                                                        3  \n",
       "song_id      dKMBWoZyScdxSkihKG+Vf47nc18N9q4m58+b4e7dSSE=  \n",
       "song_length                                        273554  \n",
       "genre_ids                                             465  \n",
       "artist_name                                         S.H.E  \n",
       "composer                                              湯小康  \n",
       "lyricist                                              徐世珍  \n",
       "language                                                3  "
      ]
     },
     "execution_count": 42,
     "metadata": {},
     "output_type": "execute_result"
    }
   ],
   "source": [
    "songs.head(4).T"
   ]
  },
  {
   "cell_type": "code",
   "execution_count": 43,
   "metadata": {},
   "outputs": [
    {
     "name": "stdout",
     "output_type": "stream",
     "text": [
      "<class 'pandas.core.frame.DataFrame'>\n",
      "RangeIndex: 2296320 entries, 0 to 2296319\n",
      "Data columns (total 7 columns):\n",
      "song_id        2296320 non-null object\n",
      "song_length    2296320 non-null int64\n",
      "genre_ids      2202204 non-null object\n",
      "artist_name    2296320 non-null object\n",
      "composer       1224966 non-null object\n",
      "lyricist       351052 non-null object\n",
      "language       2296319 non-null float64\n",
      "dtypes: float64(1), int64(1), object(5)\n",
      "memory usage: 122.6+ MB\n"
     ]
    }
   ],
   "source": [
    "songs.info(verbose=True, null_counts=True)"
   ]
  },
  {
   "cell_type": "markdown",
   "metadata": {},
   "source": [
    "## Members"
   ]
  },
  {
   "cell_type": "code",
   "execution_count": 44,
   "metadata": {
    "collapsed": true
   },
   "outputs": [],
   "source": [
    "members = pd.read_csv(os.path.join(data_directory, 'members.csv'))"
   ]
  },
  {
   "cell_type": "code",
   "execution_count": 45,
   "metadata": {},
   "outputs": [
    {
     "data": {
      "text/html": [
       "<div>\n",
       "<style scoped>\n",
       "    .dataframe tbody tr th:only-of-type {\n",
       "        vertical-align: middle;\n",
       "    }\n",
       "\n",
       "    .dataframe tbody tr th {\n",
       "        vertical-align: top;\n",
       "    }\n",
       "\n",
       "    .dataframe thead th {\n",
       "        text-align: right;\n",
       "    }\n",
       "</style>\n",
       "<table border=\"1\" class=\"dataframe\">\n",
       "  <thead>\n",
       "    <tr style=\"text-align: right;\">\n",
       "      <th></th>\n",
       "      <th>0</th>\n",
       "      <th>1</th>\n",
       "      <th>2</th>\n",
       "      <th>3</th>\n",
       "    </tr>\n",
       "  </thead>\n",
       "  <tbody>\n",
       "    <tr>\n",
       "      <th>msno</th>\n",
       "      <td>XQxgAYj3klVKjR3oxPPXYYFp4soD4TuBghkhMTD4oTw=</td>\n",
       "      <td>UizsfmJb9mV54qE9hCYyU07Va97c0lCRLEQX3ae+ztM=</td>\n",
       "      <td>D8nEhsIOBSoE6VthTaqDX8U6lqjJ7dLdr72mOyLya2A=</td>\n",
       "      <td>mCuD+tZ1hERA/o5GPqk38e041J8ZsBaLcu7nGoIIvhI=</td>\n",
       "    </tr>\n",
       "    <tr>\n",
       "      <th>city</th>\n",
       "      <td>1</td>\n",
       "      <td>1</td>\n",
       "      <td>1</td>\n",
       "      <td>1</td>\n",
       "    </tr>\n",
       "    <tr>\n",
       "      <th>bd</th>\n",
       "      <td>0</td>\n",
       "      <td>0</td>\n",
       "      <td>0</td>\n",
       "      <td>0</td>\n",
       "    </tr>\n",
       "    <tr>\n",
       "      <th>gender</th>\n",
       "      <td>NaN</td>\n",
       "      <td>NaN</td>\n",
       "      <td>NaN</td>\n",
       "      <td>NaN</td>\n",
       "    </tr>\n",
       "    <tr>\n",
       "      <th>registered_via</th>\n",
       "      <td>7</td>\n",
       "      <td>7</td>\n",
       "      <td>4</td>\n",
       "      <td>9</td>\n",
       "    </tr>\n",
       "    <tr>\n",
       "      <th>registration_init_time</th>\n",
       "      <td>20110820</td>\n",
       "      <td>20150628</td>\n",
       "      <td>20160411</td>\n",
       "      <td>20150906</td>\n",
       "    </tr>\n",
       "    <tr>\n",
       "      <th>expiration_date</th>\n",
       "      <td>20170920</td>\n",
       "      <td>20170622</td>\n",
       "      <td>20170712</td>\n",
       "      <td>20150907</td>\n",
       "    </tr>\n",
       "  </tbody>\n",
       "</table>\n",
       "</div>"
      ],
      "text/plain": [
       "                                                                   0  \\\n",
       "msno                    XQxgAYj3klVKjR3oxPPXYYFp4soD4TuBghkhMTD4oTw=   \n",
       "city                                                               1   \n",
       "bd                                                                 0   \n",
       "gender                                                           NaN   \n",
       "registered_via                                                     7   \n",
       "registration_init_time                                      20110820   \n",
       "expiration_date                                             20170920   \n",
       "\n",
       "                                                                   1  \\\n",
       "msno                    UizsfmJb9mV54qE9hCYyU07Va97c0lCRLEQX3ae+ztM=   \n",
       "city                                                               1   \n",
       "bd                                                                 0   \n",
       "gender                                                           NaN   \n",
       "registered_via                                                     7   \n",
       "registration_init_time                                      20150628   \n",
       "expiration_date                                             20170622   \n",
       "\n",
       "                                                                   2  \\\n",
       "msno                    D8nEhsIOBSoE6VthTaqDX8U6lqjJ7dLdr72mOyLya2A=   \n",
       "city                                                               1   \n",
       "bd                                                                 0   \n",
       "gender                                                           NaN   \n",
       "registered_via                                                     4   \n",
       "registration_init_time                                      20160411   \n",
       "expiration_date                                             20170712   \n",
       "\n",
       "                                                                   3  \n",
       "msno                    mCuD+tZ1hERA/o5GPqk38e041J8ZsBaLcu7nGoIIvhI=  \n",
       "city                                                               1  \n",
       "bd                                                                 0  \n",
       "gender                                                           NaN  \n",
       "registered_via                                                     9  \n",
       "registration_init_time                                      20150906  \n",
       "expiration_date                                             20150907  "
      ]
     },
     "execution_count": 45,
     "metadata": {},
     "output_type": "execute_result"
    }
   ],
   "source": [
    "members.head(4).T"
   ]
  },
  {
   "cell_type": "code",
   "execution_count": 46,
   "metadata": {},
   "outputs": [
    {
     "name": "stdout",
     "output_type": "stream",
     "text": [
      "<class 'pandas.core.frame.DataFrame'>\n",
      "RangeIndex: 34403 entries, 0 to 34402\n",
      "Data columns (total 7 columns):\n",
      "msno                      34403 non-null object\n",
      "city                      34403 non-null int64\n",
      "bd                        34403 non-null int64\n",
      "gender                    14501 non-null object\n",
      "registered_via            34403 non-null int64\n",
      "registration_init_time    34403 non-null int64\n",
      "expiration_date           34403 non-null int64\n",
      "dtypes: int64(5), object(2)\n",
      "memory usage: 1.8+ MB\n"
     ]
    }
   ],
   "source": [
    "members.info(verbose=True, null_counts=True)"
   ]
  },
  {
   "cell_type": "markdown",
   "metadata": {},
   "source": [
    "## Sample submission"
   ]
  },
  {
   "cell_type": "code",
   "execution_count": 47,
   "metadata": {
    "collapsed": true
   },
   "outputs": [],
   "source": [
    "sample_submission = pd.read_csv(os.path.join(data_directory, 'sample_submission.csv'))"
   ]
  },
  {
   "cell_type": "code",
   "execution_count": 48,
   "metadata": {},
   "outputs": [
    {
     "data": {
      "text/html": [
       "<div>\n",
       "<style scoped>\n",
       "    .dataframe tbody tr th:only-of-type {\n",
       "        vertical-align: middle;\n",
       "    }\n",
       "\n",
       "    .dataframe tbody tr th {\n",
       "        vertical-align: top;\n",
       "    }\n",
       "\n",
       "    .dataframe thead th {\n",
       "        text-align: right;\n",
       "    }\n",
       "</style>\n",
       "<table border=\"1\" class=\"dataframe\">\n",
       "  <thead>\n",
       "    <tr style=\"text-align: right;\">\n",
       "      <th></th>\n",
       "      <th>0</th>\n",
       "      <th>1</th>\n",
       "      <th>2</th>\n",
       "      <th>3</th>\n",
       "    </tr>\n",
       "  </thead>\n",
       "  <tbody>\n",
       "    <tr>\n",
       "      <th>id</th>\n",
       "      <td>0.0</td>\n",
       "      <td>1.0</td>\n",
       "      <td>2.0</td>\n",
       "      <td>3.0</td>\n",
       "    </tr>\n",
       "    <tr>\n",
       "      <th>target</th>\n",
       "      <td>0.5</td>\n",
       "      <td>0.5</td>\n",
       "      <td>0.5</td>\n",
       "      <td>0.5</td>\n",
       "    </tr>\n",
       "  </tbody>\n",
       "</table>\n",
       "</div>"
      ],
      "text/plain": [
       "          0    1    2    3\n",
       "id      0.0  1.0  2.0  3.0\n",
       "target  0.5  0.5  0.5  0.5"
      ]
     },
     "execution_count": 48,
     "metadata": {},
     "output_type": "execute_result"
    }
   ],
   "source": [
    "sample_submission.head(4).T"
   ]
  },
  {
   "cell_type": "code",
   "execution_count": 49,
   "metadata": {
    "scrolled": false
   },
   "outputs": [
    {
     "name": "stdout",
     "output_type": "stream",
     "text": [
      "<class 'pandas.core.frame.DataFrame'>\n",
      "RangeIndex: 2556790 entries, 0 to 2556789\n",
      "Data columns (total 2 columns):\n",
      "id        2556790 non-null int64\n",
      "target    2556790 non-null float64\n",
      "dtypes: float64(1), int64(1)\n",
      "memory usage: 39.0 MB\n"
     ]
    }
   ],
   "source": [
    "sample_submission.info(verbose=True, null_counts=True)"
   ]
  },
  {
   "cell_type": "markdown",
   "metadata": {},
   "source": [
    "# Solutions"
   ]
  },
  {
   "cell_type": "markdown",
   "metadata": {},
   "source": [
    "## Train / Test split preparation"
   ]
  },
  {
   "cell_type": "code",
   "execution_count": 50,
   "metadata": {
    "collapsed": true
   },
   "outputs": [],
   "source": [
    "X, y = train[train.columns[:-1]], train[train.columns[-1]]"
   ]
  },
  {
   "cell_type": "code",
   "execution_count": 51,
   "metadata": {
    "collapsed": true
   },
   "outputs": [],
   "source": [
    "X_for_submission = test[test.columns]"
   ]
  },
  {
   "cell_type": "code",
   "execution_count": 52,
   "metadata": {},
   "outputs": [
    {
     "data": {
      "text/html": [
       "<div>\n",
       "<style scoped>\n",
       "    .dataframe tbody tr th:only-of-type {\n",
       "        vertical-align: middle;\n",
       "    }\n",
       "\n",
       "    .dataframe tbody tr th {\n",
       "        vertical-align: top;\n",
       "    }\n",
       "\n",
       "    .dataframe thead th {\n",
       "        text-align: right;\n",
       "    }\n",
       "</style>\n",
       "<table border=\"1\" class=\"dataframe\">\n",
       "  <thead>\n",
       "    <tr style=\"text-align: right;\">\n",
       "      <th></th>\n",
       "      <th>0</th>\n",
       "      <th>1</th>\n",
       "      <th>2</th>\n",
       "      <th>3</th>\n",
       "    </tr>\n",
       "  </thead>\n",
       "  <tbody>\n",
       "    <tr>\n",
       "      <th>msno</th>\n",
       "      <td>FGtllVqz18RPiwJj/edr2gV78zirAiY/9SmYvia+kCg=</td>\n",
       "      <td>Xumu+NIjS6QYVxDS4/t3SawvJ7viT9hPKXmf0RtLNx8=</td>\n",
       "      <td>Xumu+NIjS6QYVxDS4/t3SawvJ7viT9hPKXmf0RtLNx8=</td>\n",
       "      <td>Xumu+NIjS6QYVxDS4/t3SawvJ7viT9hPKXmf0RtLNx8=</td>\n",
       "    </tr>\n",
       "    <tr>\n",
       "      <th>song_id</th>\n",
       "      <td>BBzumQNXUHKdEBOB7mAJuzok+IJA1c2Ryg/yzTF6tik=</td>\n",
       "      <td>bhp/MpSNoqoxOIB+/l8WPqu6jldth4DIpCm3ayXnJqM=</td>\n",
       "      <td>JNWfrrC7zNN7BdMpsISKa4Mw+xVJYNnxXh3/Epw7QgY=</td>\n",
       "      <td>2A87tzfnJTSWqD7gIZHisolhe4DMdzkbd6LzO1KHjNs=</td>\n",
       "    </tr>\n",
       "    <tr>\n",
       "      <th>source_system_tab</th>\n",
       "      <td>explore</td>\n",
       "      <td>my library</td>\n",
       "      <td>my library</td>\n",
       "      <td>my library</td>\n",
       "    </tr>\n",
       "    <tr>\n",
       "      <th>source_screen_name</th>\n",
       "      <td>Explore</td>\n",
       "      <td>Local playlist more</td>\n",
       "      <td>Local playlist more</td>\n",
       "      <td>Local playlist more</td>\n",
       "    </tr>\n",
       "    <tr>\n",
       "      <th>source_type</th>\n",
       "      <td>online-playlist</td>\n",
       "      <td>local-playlist</td>\n",
       "      <td>local-playlist</td>\n",
       "      <td>local-playlist</td>\n",
       "    </tr>\n",
       "  </tbody>\n",
       "</table>\n",
       "</div>"
      ],
      "text/plain": [
       "                                                               0  \\\n",
       "msno                FGtllVqz18RPiwJj/edr2gV78zirAiY/9SmYvia+kCg=   \n",
       "song_id             BBzumQNXUHKdEBOB7mAJuzok+IJA1c2Ryg/yzTF6tik=   \n",
       "source_system_tab                                        explore   \n",
       "source_screen_name                                       Explore   \n",
       "source_type                                      online-playlist   \n",
       "\n",
       "                                                               1  \\\n",
       "msno                Xumu+NIjS6QYVxDS4/t3SawvJ7viT9hPKXmf0RtLNx8=   \n",
       "song_id             bhp/MpSNoqoxOIB+/l8WPqu6jldth4DIpCm3ayXnJqM=   \n",
       "source_system_tab                                     my library   \n",
       "source_screen_name                           Local playlist more   \n",
       "source_type                                       local-playlist   \n",
       "\n",
       "                                                               2  \\\n",
       "msno                Xumu+NIjS6QYVxDS4/t3SawvJ7viT9hPKXmf0RtLNx8=   \n",
       "song_id             JNWfrrC7zNN7BdMpsISKa4Mw+xVJYNnxXh3/Epw7QgY=   \n",
       "source_system_tab                                     my library   \n",
       "source_screen_name                           Local playlist more   \n",
       "source_type                                       local-playlist   \n",
       "\n",
       "                                                               3  \n",
       "msno                Xumu+NIjS6QYVxDS4/t3SawvJ7viT9hPKXmf0RtLNx8=  \n",
       "song_id             2A87tzfnJTSWqD7gIZHisolhe4DMdzkbd6LzO1KHjNs=  \n",
       "source_system_tab                                     my library  \n",
       "source_screen_name                           Local playlist more  \n",
       "source_type                                       local-playlist  "
      ]
     },
     "execution_count": 52,
     "metadata": {},
     "output_type": "execute_result"
    }
   ],
   "source": [
    "X.head(4).T"
   ]
  },
  {
   "cell_type": "code",
   "execution_count": 53,
   "metadata": {},
   "outputs": [
    {
     "data": {
      "text/plain": [
       "0    1\n",
       "1    1\n",
       "2    1\n",
       "3    1\n",
       "Name: target, dtype: int64"
      ]
     },
     "execution_count": 53,
     "metadata": {},
     "output_type": "execute_result"
    }
   ],
   "source": [
    "y.head(4).T"
   ]
  },
  {
   "cell_type": "code",
   "execution_count": 54,
   "metadata": {},
   "outputs": [
    {
     "data": {
      "text/html": [
       "<div>\n",
       "<style scoped>\n",
       "    .dataframe tbody tr th:only-of-type {\n",
       "        vertical-align: middle;\n",
       "    }\n",
       "\n",
       "    .dataframe tbody tr th {\n",
       "        vertical-align: top;\n",
       "    }\n",
       "\n",
       "    .dataframe thead th {\n",
       "        text-align: right;\n",
       "    }\n",
       "</style>\n",
       "<table border=\"1\" class=\"dataframe\">\n",
       "  <thead>\n",
       "    <tr style=\"text-align: right;\">\n",
       "      <th></th>\n",
       "      <th>0</th>\n",
       "      <th>1</th>\n",
       "      <th>2</th>\n",
       "      <th>3</th>\n",
       "    </tr>\n",
       "  </thead>\n",
       "  <tbody>\n",
       "    <tr>\n",
       "      <th>id</th>\n",
       "      <td>0</td>\n",
       "      <td>1</td>\n",
       "      <td>2</td>\n",
       "      <td>3</td>\n",
       "    </tr>\n",
       "    <tr>\n",
       "      <th>msno</th>\n",
       "      <td>V8ruy7SGk7tDm3zA51DPpn6qutt+vmKMBKa21dp54uM=</td>\n",
       "      <td>V8ruy7SGk7tDm3zA51DPpn6qutt+vmKMBKa21dp54uM=</td>\n",
       "      <td>/uQAlrAkaczV+nWCd2sPF2ekvXPRipV7q0l+gbLuxjw=</td>\n",
       "      <td>1a6oo/iXKatxQx4eS9zTVD+KlSVaAFbTIqVvwLC1Y0k=</td>\n",
       "    </tr>\n",
       "    <tr>\n",
       "      <th>song_id</th>\n",
       "      <td>WmHKgKMlp1lQMecNdNvDMkvIycZYHnFwDT72I5sIssc=</td>\n",
       "      <td>y/rsZ9DC7FwK5F2PK2D5mj+aOBUJAjuu3dZ14NgE0vM=</td>\n",
       "      <td>8eZLFOdGVdXBSqoAv5nsLigeH2BvKXzTQYtUM53I0k4=</td>\n",
       "      <td>ztCf8thYsS4YN3GcIL/bvoxLm/T5mYBVKOO4C9NiVfQ=</td>\n",
       "    </tr>\n",
       "    <tr>\n",
       "      <th>source_system_tab</th>\n",
       "      <td>my library</td>\n",
       "      <td>my library</td>\n",
       "      <td>discover</td>\n",
       "      <td>radio</td>\n",
       "    </tr>\n",
       "    <tr>\n",
       "      <th>source_screen_name</th>\n",
       "      <td>Local playlist more</td>\n",
       "      <td>Local playlist more</td>\n",
       "      <td>NaN</td>\n",
       "      <td>Radio</td>\n",
       "    </tr>\n",
       "    <tr>\n",
       "      <th>source_type</th>\n",
       "      <td>local-library</td>\n",
       "      <td>local-library</td>\n",
       "      <td>song-based-playlist</td>\n",
       "      <td>radio</td>\n",
       "    </tr>\n",
       "  </tbody>\n",
       "</table>\n",
       "</div>"
      ],
      "text/plain": [
       "                                                               0  \\\n",
       "id                                                             0   \n",
       "msno                V8ruy7SGk7tDm3zA51DPpn6qutt+vmKMBKa21dp54uM=   \n",
       "song_id             WmHKgKMlp1lQMecNdNvDMkvIycZYHnFwDT72I5sIssc=   \n",
       "source_system_tab                                     my library   \n",
       "source_screen_name                           Local playlist more   \n",
       "source_type                                        local-library   \n",
       "\n",
       "                                                               1  \\\n",
       "id                                                             1   \n",
       "msno                V8ruy7SGk7tDm3zA51DPpn6qutt+vmKMBKa21dp54uM=   \n",
       "song_id             y/rsZ9DC7FwK5F2PK2D5mj+aOBUJAjuu3dZ14NgE0vM=   \n",
       "source_system_tab                                     my library   \n",
       "source_screen_name                           Local playlist more   \n",
       "source_type                                        local-library   \n",
       "\n",
       "                                                               2  \\\n",
       "id                                                             2   \n",
       "msno                /uQAlrAkaczV+nWCd2sPF2ekvXPRipV7q0l+gbLuxjw=   \n",
       "song_id             8eZLFOdGVdXBSqoAv5nsLigeH2BvKXzTQYtUM53I0k4=   \n",
       "source_system_tab                                       discover   \n",
       "source_screen_name                                           NaN   \n",
       "source_type                                  song-based-playlist   \n",
       "\n",
       "                                                               3  \n",
       "id                                                             3  \n",
       "msno                1a6oo/iXKatxQx4eS9zTVD+KlSVaAFbTIqVvwLC1Y0k=  \n",
       "song_id             ztCf8thYsS4YN3GcIL/bvoxLm/T5mYBVKOO4C9NiVfQ=  \n",
       "source_system_tab                                          radio  \n",
       "source_screen_name                                         Radio  \n",
       "source_type                                                radio  "
      ]
     },
     "execution_count": 54,
     "metadata": {},
     "output_type": "execute_result"
    }
   ],
   "source": [
    "X_for_submission.head(4).T"
   ]
  },
  {
   "cell_type": "code",
   "execution_count": 55,
   "metadata": {},
   "outputs": [
    {
     "data": {
      "text/plain": [
       "(7377418, 2)"
      ]
     },
     "execution_count": 55,
     "metadata": {},
     "output_type": "execute_result"
    }
   ],
   "source": [
    "X[['msno', 'song_id']].values.shape"
   ]
  },
  {
   "cell_type": "code",
   "execution_count": 56,
   "metadata": {
    "collapsed": true
   },
   "outputs": [],
   "source": [
    "X_train, X_test, y_train, y_test = train_test_split(\n",
    "    X,\n",
    "    y,\n",
    "    test_size=0.3,\n",
    "    random_state=42,\n",
    "    stratify=y\n",
    ")"
   ]
  },
  {
   "cell_type": "code",
   "execution_count": 57,
   "metadata": {},
   "outputs": [
    {
     "name": "stdout",
     "output_type": "stream",
     "text": [
      "(5164192, 5) (5164192,)\n"
     ]
    }
   ],
   "source": [
    "print(X_train.shape, y_train.shape)"
   ]
  },
  {
   "cell_type": "code",
   "execution_count": 58,
   "metadata": {},
   "outputs": [
    {
     "name": "stdout",
     "output_type": "stream",
     "text": [
      "<class 'pandas.core.frame.DataFrame'> <class 'pandas.core.series.Series'>\n"
     ]
    }
   ],
   "source": [
    "print(type(X_train), type(y_train))"
   ]
  },
  {
   "cell_type": "code",
   "execution_count": 59,
   "metadata": {},
   "outputs": [
    {
     "name": "stdout",
     "output_type": "stream",
     "text": [
      "(2213226, 5) (2213226,)\n"
     ]
    }
   ],
   "source": [
    "print(X_test.shape, y_test.shape)"
   ]
  },
  {
   "cell_type": "code",
   "execution_count": 60,
   "metadata": {},
   "outputs": [
    {
     "name": "stdout",
     "output_type": "stream",
     "text": [
      "<class 'pandas.core.frame.DataFrame'> <class 'pandas.core.series.Series'>\n"
     ]
    }
   ],
   "source": [
    "print(type(X_test), type(y_test))"
   ]
  },
  {
   "cell_type": "markdown",
   "metadata": {},
   "source": [
    "## Preprocessing steps description"
   ]
  },
  {
   "cell_type": "code",
   "execution_count": 61,
   "metadata": {
    "collapsed": true
   },
   "outputs": [],
   "source": [
    "categorical_features = [\n",
    "    'source_system_tab',\n",
    "    'source_screen_name',\n",
    "    'city',\n",
    "    'gender'\n",
    "]"
   ]
  },
  {
   "cell_type": "code",
   "execution_count": 62,
   "metadata": {
    "collapsed": true
   },
   "outputs": [],
   "source": [
    "categorical_features_lang = [\n",
    "    'language'\n",
    "]"
   ]
  },
  {
   "cell_type": "code",
   "execution_count": 63,
   "metadata": {
    "collapsed": true
   },
   "outputs": [],
   "source": [
    "numerical_features = [\n",
    "    'bd',\n",
    "    'song_length'\n",
    "]"
   ]
  },
  {
   "cell_type": "code",
   "execution_count": 64,
   "metadata": {
    "collapsed": true
   },
   "outputs": [],
   "source": [
    "numerical_features_days_reg = [\n",
    "    'days_registered'\n",
    "]"
   ]
  },
  {
   "cell_type": "code",
   "execution_count": 65,
   "metadata": {
    "collapsed": true
   },
   "outputs": [],
   "source": [
    "num_features_pipeline = Pipeline([\n",
    "    ('impute', SimpleImputer(missing_values=np.nan, strategy='mean')),\n",
    "    ('discretize', KBinsDiscretizer(n_bins=4, encode='onehot-dense'))\n",
    "])"
   ]
  },
  {
   "cell_type": "code",
   "execution_count": 66,
   "metadata": {
    "collapsed": true
   },
   "outputs": [],
   "source": [
    "num_features_pipeline_days_reg = Pipeline([\n",
    "    ('impute', SimpleImputer(missing_values=np.nan, strategy='constant', fill_value=0)),\n",
    "    ('discretize', KBinsDiscretizer(n_bins=4, encode='onehot-dense'))\n",
    "])"
   ]
  },
  {
   "cell_type": "code",
   "execution_count": 67,
   "metadata": {
    "collapsed": true
   },
   "outputs": [],
   "source": [
    "cat_features_pipeline = Pipeline([\n",
    "    ('impute', SimpleImputer(missing_values=np.nan, strategy='constant', fill_value=unknown_category_label)),\n",
    "    ('onehot', OneHotEncoder(handle_unknown='ignore', sparse=False))\n",
    "])"
   ]
  },
  {
   "cell_type": "code",
   "execution_count": 68,
   "metadata": {
    "collapsed": true
   },
   "outputs": [],
   "source": [
    "cat_features_pipeline_lang = Pipeline([\n",
    "    ('impute', SimpleImputer(missing_values=np.nan, strategy='constant', fill_value=unknown_language_label)),\n",
    "    ('onehot', OneHotEncoder(handle_unknown='ignore', sparse=False))\n",
    "])"
   ]
  },
  {
   "cell_type": "code",
   "execution_count": 69,
   "metadata": {
    "collapsed": true
   },
   "outputs": [],
   "source": [
    "preprocessor = ColumnTransformer(\n",
    "    transformers=[\n",
    "        ('num', num_features_pipeline, numerical_features),\n",
    "        ('num_days_reg', num_features_pipeline_days_reg, numerical_features_days_reg),\n",
    "        ('cat', cat_features_pipeline, categorical_features),\n",
    "        ('cat_lang', cat_features_pipeline_lang, categorical_features_lang)\n",
    "    ]\n",
    ")"
   ]
  },
  {
   "cell_type": "code",
   "execution_count": 70,
   "metadata": {
    "collapsed": true
   },
   "outputs": [],
   "source": [
    "unified_pipeline = Pipeline(\n",
    "    steps=[\n",
    "        ('add_meta_info', MetaFeaturesExtractor(user_meta=members, item_meta=songs)),\n",
    "        ('preprocessing', preprocessor)\n",
    "    ]\n",
    ")"
   ]
  },
  {
   "cell_type": "markdown",
   "metadata": {},
   "source": [
    "## Naive frequency approach"
   ]
  },
  {
   "cell_type": "code",
   "execution_count": 230,
   "metadata": {
    "collapsed": true
   },
   "outputs": [],
   "source": [
    "naive_frequency_recommender = SongFrequencyBasedRecommender()"
   ]
  },
  {
   "cell_type": "code",
   "execution_count": 231,
   "metadata": {},
   "outputs": [
    {
     "data": {
      "text/plain": [
       "SongFrequencyBasedRecommender()"
      ]
     },
     "execution_count": 231,
     "metadata": {},
     "output_type": "execute_result"
    }
   ],
   "source": [
    "naive_frequency_recommender.fit(X_train, y_train)"
   ]
  },
  {
   "cell_type": "code",
   "execution_count": 232,
   "metadata": {
    "collapsed": true
   },
   "outputs": [],
   "source": [
    "y_pred = naive_frequency_recommender.predict_proba(X_test)"
   ]
  },
  {
   "cell_type": "code",
   "execution_count": 233,
   "metadata": {
    "collapsed": true
   },
   "outputs": [],
   "source": [
    "fpr, tpr, _ = roc_curve(y_test, y_pred)"
   ]
  },
  {
   "cell_type": "code",
   "execution_count": 234,
   "metadata": {
    "scrolled": false
   },
   "outputs": [
    {
     "data": {
      "image/png": "[encoded data removed]",
      "text/plain": [
       "<Figure size 720x720 with 1 Axes>"
      ]
     },
     "metadata": {},
     "output_type": "display_data"
    }
   ],
   "source": [
    "plot_roc_auc(fpr, tpr, 'Naive frequency approach')"
   ]
  },
  {
   "cell_type": "markdown",
   "metadata": {},
   "source": [
    "## SVD"
   ]
  },
  {
   "cell_type": "code",
   "execution_count": 235,
   "metadata": {
    "collapsed": true
   },
   "outputs": [],
   "source": [
    "svd_recommender = SVDBasedRecommender()"
   ]
  },
  {
   "cell_type": "code",
   "execution_count": 236,
   "metadata": {},
   "outputs": [
    {
     "data": {
      "text/plain": [
       "SVDBasedRecommender()"
      ]
     },
     "execution_count": 236,
     "metadata": {},
     "output_type": "execute_result"
    }
   ],
   "source": [
    "svd_recommender.fit(X_train, y_train)"
   ]
  },
  {
   "cell_type": "code",
   "execution_count": 237,
   "metadata": {},
   "outputs": [
    {
     "data": {
      "application/vnd.jupyter.widget-view+json": {
       "model_id": "35956815511542388ee0c3de37e49977",
       "version_major": 2,
       "version_minor": 0
      },
      "text/plain": [
       "HBox(children=(IntProgress(value=1, bar_style='info', max=1), HTML(value='')))"
      ]
     },
     "metadata": {},
     "output_type": "display_data"
    },
    {
     "name": "stdout",
     "output_type": "stream",
     "text": [
      "\n"
     ]
    }
   ],
   "source": [
    "y_pred = svd_recommender.predict_proba(X_test)"
   ]
  },
  {
   "cell_type": "code",
   "execution_count": 238,
   "metadata": {
    "collapsed": true
   },
   "outputs": [],
   "source": [
    "fpr, tpr, _ = roc_curve(y_test, y_pred)"
   ]
  },
  {
   "cell_type": "code",
   "execution_count": 239,
   "metadata": {},
   "outputs": [
    {
     "data": {
      "image/png": "[encoded data removed]",
      "text/plain": [
       "<Figure size 720x720 with 1 Axes>"
      ]
     },
     "metadata": {},
     "output_type": "display_data"
    }
   ],
   "source": [
    "plot_roc_auc(fpr, tpr, 'SVD approach')"
   ]
  },
  {
   "cell_type": "markdown",
   "metadata": {},
   "source": [
    "## FM"
   ]
  },
  {
   "cell_type": "code",
   "execution_count": 240,
   "metadata": {
    "collapsed": true
   },
   "outputs": [],
   "source": [
    "fm_classifier_pipeline = Pipeline(\n",
    "    steps=[\n",
    "        ('data_preparation', unified_pipeline),\n",
    "        ('classification', FactorizationMachineBasedRecommender(show_progress=True))\n",
    "    ]\n",
    ")"
   ]
  },
  {
   "cell_type": "code",
   "execution_count": 241,
   "metadata": {},
   "outputs": [
    {
     "name": "stderr",
     "output_type": "stream",
     "text": [
      "100%|██████████| 100/100 [38:00<00:00, 22.91s/epoch]\n"
     ]
    },
    {
     "data": {
      "text/plain": [
       "Pipeline(memory=None,\n",
       "     steps=[('data_preparation', Pipeline(memory=None,\n",
       "     steps=[('add_meta_info', MetaFeaturesExtractor(item_meta=                                              song_id  song_length  \\\n",
       "0        CXoTN1eb7AI+DntdU1vbcwGRV4SCIDxZu+YD8JP8r4E=       247640\n",
       "1        o0kFgae9QtnYgRkVPqLJwa05zIhRlUjfF7O1tDw0ZD..., ['language'])]))])), ('classification', FactorizationMachineBasedRecommender(show_progress=True))])"
      ]
     },
     "execution_count": 241,
     "metadata": {},
     "output_type": "execute_result"
    }
   ],
   "source": [
    "fm_classifier_pipeline.fit(X_train, y_train.values)"
   ]
  },
  {
   "cell_type": "code",
   "execution_count": 242,
   "metadata": {
    "collapsed": true
   },
   "outputs": [],
   "source": [
    "y_pred = fm_classifier_pipeline.predict_proba(X_test)"
   ]
  },
  {
   "cell_type": "code",
   "execution_count": 243,
   "metadata": {},
   "outputs": [
    {
     "data": {
      "text/plain": [
       "(2213226,)"
      ]
     },
     "execution_count": 243,
     "metadata": {},
     "output_type": "execute_result"
    }
   ],
   "source": [
    "y_pred.shape"
   ]
  },
  {
   "cell_type": "code",
   "execution_count": 244,
   "metadata": {
    "collapsed": true
   },
   "outputs": [],
   "source": [
    "fpr, tpr, _ = roc_curve(y_test, y_pred)"
   ]
  },
  {
   "cell_type": "code",
   "execution_count": 245,
   "metadata": {},
   "outputs": [
    {
     "data": {
      "image/png": "[encoded data removed]",
      "text/plain": [
       "<Figure size 720x720 with 1 Axes>"
      ]
     },
     "metadata": {},
     "output_type": "display_data"
    }
   ],
   "source": [
    "plot_roc_auc(fpr, tpr, 'Factorization machine approach')"
   ]
  },
  {
   "cell_type": "markdown",
   "metadata": {},
   "source": [
    "## LightGBM"
   ]
  },
  {
   "cell_type": "code",
   "execution_count": 246,
   "metadata": {
    "collapsed": true
   },
   "outputs": [],
   "source": [
    "lgb_classifier_pipeline = Pipeline(\n",
    "    steps=[\n",
    "        ('data_preparation', unified_pipeline),\n",
    "        ('classification', LightGBMBasedRecommender())\n",
    "    ]\n",
    ")"
   ]
  },
  {
   "cell_type": "code",
   "execution_count": 247,
   "metadata": {
    "scrolled": false
   },
   "outputs": [
    {
     "data": {
      "text/plain": [
       "Pipeline(memory=None,\n",
       "     steps=[('data_preparation', Pipeline(memory=None,\n",
       "     steps=[('add_meta_info', MetaFeaturesExtractor(item_meta=                                              song_id  song_length  \\\n",
       "0        CXoTN1eb7AI+DntdU1vbcwGRV4SCIDxZu+YD8JP8r4E=       247640\n",
       "1        o0kFgae9QtnYgRkVPqLJwa05zIhRlUjfF7O1tDw0ZD..., sparse=False))]), ['language'])]))])), ('classification', LightGBMBasedRecommender(val_size=0.3))])"
      ]
     },
     "execution_count": 247,
     "metadata": {},
     "output_type": "execute_result"
    }
   ],
   "source": [
    "lgb_classifier_pipeline.fit(X_train, y_train.values)"
   ]
  },
  {
   "cell_type": "code",
   "execution_count": 248,
   "metadata": {
    "collapsed": true
   },
   "outputs": [],
   "source": [
    "y_pred = lgb_classifier_pipeline.predict_proba(X_test)"
   ]
  },
  {
   "cell_type": "code",
   "execution_count": 249,
   "metadata": {},
   "outputs": [
    {
     "data": {
      "text/plain": [
       "(2213226,)"
      ]
     },
     "execution_count": 249,
     "metadata": {},
     "output_type": "execute_result"
    }
   ],
   "source": [
    "y_pred.shape"
   ]
  },
  {
   "cell_type": "code",
   "execution_count": 250,
   "metadata": {
    "collapsed": true
   },
   "outputs": [],
   "source": [
    "fpr, tpr, _ = roc_curve(y_test, y_pred)"
   ]
  },
  {
   "cell_type": "code",
   "execution_count": 251,
   "metadata": {},
   "outputs": [
    {
     "data": {
      "image/png": "[encoded data removed]",
      "text/plain": [
       "<Figure size 720x720 with 1 Axes>"
      ]
     },
     "metadata": {},
     "output_type": "display_data"
    }
   ],
   "source": [
    "plot_roc_auc(fpr, tpr, 'LightGBM classifier approach')"
   ]
  },
  {
   "cell_type": "markdown",
   "metadata": {},
   "source": [
    "## XGBoost"
   ]
  },
  {
   "cell_type": "code",
   "execution_count": 252,
   "metadata": {
    "collapsed": true
   },
   "outputs": [],
   "source": [
    "xgb_classifier_pipeline = Pipeline(\n",
    "    steps=[\n",
    "        ('data_preparation', unified_pipeline),\n",
    "        ('classification', XGBoostBasedRecommender())\n",
    "    ]\n",
    ")"
   ]
  },
  {
   "cell_type": "code",
   "execution_count": 253,
   "metadata": {
    "scrolled": false
   },
   "outputs": [
    {
     "name": "stdout",
     "output_type": "stream",
     "text": [
      "[15:13:20] Tree method is automatically selected to be 'approx' for faster speed. to use old behavior(exact greedy algorithm on single machine), set tree_method to 'exact'\n"
     ]
    },
    {
     "data": {
      "text/plain": [
       "Pipeline(memory=None,\n",
       "     steps=[('data_preparation', Pipeline(memory=None,\n",
       "     steps=[('add_meta_info', MetaFeaturesExtractor(item_meta=                                              song_id  song_length  \\\n",
       "0        CXoTN1eb7AI+DntdU1vbcwGRV4SCIDxZu+YD8JP8r4E=       247640\n",
       "1        o0kFgae9QtnYgRkVPqLJwa05zIhRlUjfF7O1tDw0ZD...e, sparse=False))]), ['language'])]))])), ('classification', XGBoostBasedRecommender(val_size=0.3))])"
      ]
     },
     "execution_count": 253,
     "metadata": {},
     "output_type": "execute_result"
    }
   ],
   "source": [
    "xgb_classifier_pipeline.fit(X_train, y_train.values)"
   ]
  },
  {
   "cell_type": "code",
   "execution_count": 254,
   "metadata": {
    "collapsed": true
   },
   "outputs": [],
   "source": [
    "y_pred = xgb_classifier_pipeline.predict_proba(X_test)"
   ]
  },
  {
   "cell_type": "code",
   "execution_count": 255,
   "metadata": {},
   "outputs": [
    {
     "data": {
      "text/plain": [
       "(2213226,)"
      ]
     },
     "execution_count": 255,
     "metadata": {},
     "output_type": "execute_result"
    }
   ],
   "source": [
    "y_pred.shape"
   ]
  },
  {
   "cell_type": "code",
   "execution_count": 256,
   "metadata": {
    "collapsed": true
   },
   "outputs": [],
   "source": [
    "fpr, tpr, _ = roc_curve(y_test, y_pred)"
   ]
  },
  {
   "cell_type": "code",
   "execution_count": 257,
   "metadata": {},
   "outputs": [
    {
     "data": {
      "image/png": "[encoded data removed]",
      "text/plain": [
       "<Figure size 720x720 with 1 Axes>"
      ]
     },
     "metadata": {},
     "output_type": "display_data"
    }
   ],
   "source": [
    "plot_roc_auc(fpr, tpr, 'XGBoost classifier approach')"
   ]
  },
  {
   "cell_type": "markdown",
   "metadata": {},
   "source": [
    "## StarSpace"
   ]
  },
  {
   "cell_type": "code",
   "execution_count": 71,
   "metadata": {
    "collapsed": true
   },
   "outputs": [],
   "source": [
    "star_space_num_features_pipeline = Pipeline([\n",
    "    ('impute', SimpleImputer(missing_values=np.nan, strategy='mean')),\n",
    "    ('discretize', KBinsDiscretizer(n_bins=4, encode='ordinal'))\n",
    "])"
   ]
  },
  {
   "cell_type": "code",
   "execution_count": 72,
   "metadata": {
    "collapsed": true
   },
   "outputs": [],
   "source": [
    "star_space_num_features_pipeline_days_reg = Pipeline([\n",
    "    ('impute', SimpleImputer(missing_values=np.nan, strategy='constant', fill_value=0)),\n",
    "    ('discretize', KBinsDiscretizer(n_bins=4, encode='ordinal'))\n",
    "])"
   ]
  },
  {
   "cell_type": "code",
   "execution_count": 73,
   "metadata": {
    "collapsed": true
   },
   "outputs": [],
   "source": [
    "star_space_cat_features_pipeline = Pipeline([\n",
    "    ('impute', SimpleImputer(missing_values=np.nan, strategy='constant', fill_value=unknown_category_label)),\n",
    "    ('encode', OrdinalEncoder())\n",
    "])"
   ]
  },
  {
   "cell_type": "code",
   "execution_count": 74,
   "metadata": {
    "collapsed": true
   },
   "outputs": [],
   "source": [
    "star_space_cat_features_pipeline_lang = Pipeline([\n",
    "    ('impute', SimpleImputer(missing_values=np.nan, strategy='constant', fill_value=unknown_language_label)),\n",
    "    ('encode', OrdinalEncoder())\n",
    "])"
   ]
  },
  {
   "cell_type": "code",
   "execution_count": 75,
   "metadata": {},
   "outputs": [],
   "source": [
    "star_space_preprocessor = ColumnTransformer(\n",
    "    transformers=[\n",
    "        ('num', star_space_num_features_pipeline, numerical_features),\n",
    "        ('num_days_reg', star_space_num_features_pipeline_days_reg, numerical_features_days_reg),\n",
    "        ('cat', star_space_cat_features_pipeline, categorical_features),\n",
    "        ('cat_lang', star_space_cat_features_pipeline_lang, categorical_features_lang)\n",
    "    ]\n",
    ")"
   ]
  },
  {
   "cell_type": "code",
   "execution_count": 76,
   "metadata": {
    "collapsed": true
   },
   "outputs": [],
   "source": [
    "star_space_unified_pipeline = Pipeline(\n",
    "    steps=[\n",
    "        ('add_meta_info', MetaFeaturesExtractor(user_meta=members, item_meta=songs)),\n",
    "        ('preprocessing', star_space_preprocessor)\n",
    "    ]\n",
    ")"
   ]
  },
  {
   "cell_type": "code",
   "execution_count": 76,
   "metadata": {},
   "outputs": [],
   "source": [
    "X_star_space = star_space_unified_pipeline.fit_transform(X, y)"
   ]
  },
  {
   "cell_type": "code",
   "execution_count": 71,
   "metadata": {},
   "outputs": [
    {
     "data": {
      "text/plain": [
       "(7377418, 5)"
      ]
     },
     "execution_count": 71,
     "metadata": {},
     "output_type": "execute_result"
    }
   ],
   "source": [
    "X.shape"
   ]
  },
  {
   "cell_type": "code",
   "execution_count": 72,
   "metadata": {},
   "outputs": [
    {
     "data": {
      "text/plain": [
       "['bd',\n",
       " 'song_length',\n",
       " 'days_registered',\n",
       " 'source_system_tab',\n",
       " 'source_screen_name',\n",
       " 'city',\n",
       " 'gender',\n",
       " 'language']"
      ]
     },
     "execution_count": 72,
     "metadata": {},
     "output_type": "execute_result"
    }
   ],
   "source": [
    "numerical_features + numerical_features_days_reg + categorical_features + categorical_features_lang"
   ]
  },
  {
   "cell_type": "code",
   "execution_count": null,
   "metadata": {},
   "outputs": [],
   "source": [
    "X_star_space.shape"
   ]
  },
  {
   "cell_type": "code",
   "execution_count": 80,
   "metadata": {
    "collapsed": true
   },
   "outputs": [],
   "source": [
    "X_star_space = pd.DataFrame(X_star_space, columns=numerical_features + numerical_features_days_reg + categorical_features + categorical_features_lang)"
   ]
  },
  {
   "cell_type": "code",
   "execution_count": 81,
   "metadata": {},
   "outputs": [
    {
     "data": {
      "text/html": [
       "<div>\n",
       "<style scoped>\n",
       "    .dataframe tbody tr th:only-of-type {\n",
       "        vertical-align: middle;\n",
       "    }\n",
       "\n",
       "    .dataframe tbody tr th {\n",
       "        vertical-align: top;\n",
       "    }\n",
       "\n",
       "    .dataframe thead th {\n",
       "        text-align: right;\n",
       "    }\n",
       "</style>\n",
       "<table border=\"1\" class=\"dataframe\">\n",
       "  <thead>\n",
       "    <tr style=\"text-align: right;\">\n",
       "      <th></th>\n",
       "      <th>bd</th>\n",
       "      <th>song_length</th>\n",
       "      <th>days_registered</th>\n",
       "      <th>source_system_tab</th>\n",
       "      <th>source_screen_name</th>\n",
       "      <th>city</th>\n",
       "      <th>gender</th>\n",
       "      <th>language</th>\n",
       "    </tr>\n",
       "  </thead>\n",
       "  <tbody>\n",
       "    <tr>\n",
       "      <th>0</th>\n",
       "      <td>1.0</td>\n",
       "      <td>0.0</td>\n",
       "      <td>2.0</td>\n",
       "      <td>1.0</td>\n",
       "      <td>7.0</td>\n",
       "      <td>0.0</td>\n",
       "      <td>2.0</td>\n",
       "      <td>8.0</td>\n",
       "    </tr>\n",
       "    <tr>\n",
       "      <th>1</th>\n",
       "      <td>2.0</td>\n",
       "      <td>3.0</td>\n",
       "      <td>3.0</td>\n",
       "      <td>3.0</td>\n",
       "      <td>8.0</td>\n",
       "      <td>11.0</td>\n",
       "      <td>0.0</td>\n",
       "      <td>8.0</td>\n",
       "    </tr>\n",
       "    <tr>\n",
       "      <th>2</th>\n",
       "      <td>2.0</td>\n",
       "      <td>1.0</td>\n",
       "      <td>3.0</td>\n",
       "      <td>3.0</td>\n",
       "      <td>8.0</td>\n",
       "      <td>11.0</td>\n",
       "      <td>0.0</td>\n",
       "      <td>8.0</td>\n",
       "    </tr>\n",
       "    <tr>\n",
       "      <th>3</th>\n",
       "      <td>2.0</td>\n",
       "      <td>2.0</td>\n",
       "      <td>3.0</td>\n",
       "      <td>3.0</td>\n",
       "      <td>8.0</td>\n",
       "      <td>11.0</td>\n",
       "      <td>0.0</td>\n",
       "      <td>0.0</td>\n",
       "    </tr>\n",
       "    <tr>\n",
       "      <th>4</th>\n",
       "      <td>1.0</td>\n",
       "      <td>0.0</td>\n",
       "      <td>2.0</td>\n",
       "      <td>1.0</td>\n",
       "      <td>7.0</td>\n",
       "      <td>0.0</td>\n",
       "      <td>2.0</td>\n",
       "      <td>8.0</td>\n",
       "    </tr>\n",
       "  </tbody>\n",
       "</table>\n",
       "</div>"
      ],
      "text/plain": [
       "    bd  song_length  days_registered  source_system_tab  source_screen_name  \\\n",
       "0  1.0          0.0              2.0                1.0                 7.0   \n",
       "1  2.0          3.0              3.0                3.0                 8.0   \n",
       "2  2.0          1.0              3.0                3.0                 8.0   \n",
       "3  2.0          2.0              3.0                3.0                 8.0   \n",
       "4  1.0          0.0              2.0                1.0                 7.0   \n",
       "\n",
       "   city  gender  language  \n",
       "0   0.0     2.0       8.0  \n",
       "1  11.0     0.0       8.0  \n",
       "2  11.0     0.0       8.0  \n",
       "3  11.0     0.0       0.0  \n",
       "4   0.0     2.0       8.0  "
      ]
     },
     "execution_count": 81,
     "metadata": {},
     "output_type": "execute_result"
    }
   ],
   "source": [
    "X_star_space.head()"
   ]
  },
  {
   "cell_type": "code",
   "execution_count": 82,
   "metadata": {},
   "outputs": [
    {
     "name": "stdout",
     "output_type": "stream",
     "text": [
      "<class 'pandas.core.frame.DataFrame'>\n",
      "RangeIndex: 7377418 entries, 0 to 7377417\n",
      "Data columns (total 8 columns):\n",
      "bd                    7377418 non-null float64\n",
      "song_length           7377418 non-null float64\n",
      "days_registered       7377418 non-null float64\n",
      "source_system_tab     7377418 non-null float64\n",
      "source_screen_name    7377418 non-null float64\n",
      "city                  7377418 non-null float64\n",
      "gender                7377418 non-null float64\n",
      "language              7377418 non-null float64\n",
      "dtypes: float64(8)\n",
      "memory usage: 450.3 MB\n"
     ]
    }
   ],
   "source": [
    "X_star_space.info(verbose=True, null_counts=True)"
   ]
  },
  {
   "cell_type": "code",
   "execution_count": 83,
   "metadata": {
    "collapsed": true
   },
   "outputs": [],
   "source": [
    "X_star_space.bd = X_star_space.bd.astype(np.int32)\n",
    "X_star_space.song_length = X_star_space.song_length.astype(np.int32)\n",
    "X_star_space.days_registered = X_star_space.days_registered.astype(np.int32)\n",
    "X_star_space.source_system_tab = X_star_space.source_system_tab.astype(np.int32)\n",
    "X_star_space.source_screen_name = X_star_space.source_screen_name.astype(np.int32)\n",
    "X_star_space.city = X_star_space.city.astype(np.int32)\n",
    "X_star_space.gender = X_star_space.gender.astype(np.int32)\n",
    "X_star_space.language = X_star_space.language.astype(np.int32)"
   ]
  },
  {
   "cell_type": "code",
   "execution_count": 84,
   "metadata": {},
   "outputs": [
    {
     "name": "stdout",
     "output_type": "stream",
     "text": [
      "<class 'pandas.core.frame.DataFrame'>\n",
      "RangeIndex: 7377418 entries, 0 to 7377417\n",
      "Data columns (total 8 columns):\n",
      "bd                    7377418 non-null int32\n",
      "song_length           7377418 non-null int32\n",
      "days_registered       7377418 non-null int32\n",
      "source_system_tab     7377418 non-null int32\n",
      "source_screen_name    7377418 non-null int32\n",
      "city                  7377418 non-null int32\n",
      "gender                7377418 non-null int32\n",
      "language              7377418 non-null int32\n",
      "dtypes: int32(8)\n",
      "memory usage: 225.1 MB\n"
     ]
    }
   ],
   "source": [
    "X_star_space.info(verbose=True, null_counts=True)"
   ]
  },
  {
   "cell_type": "code",
   "execution_count": 85,
   "metadata": {
    "collapsed": true
   },
   "outputs": [],
   "source": [
    "curr = 0"
   ]
  },
  {
   "cell_type": "code",
   "execution_count": 86,
   "metadata": {
    "collapsed": true
   },
   "outputs": [],
   "source": [
    "bd_map = dict(zip(X_star_space.bd.unique(), range(curr, curr + len(X_star_space.bd.unique()))))\n",
    "curr += len(X_star_space.bd.unique())"
   ]
  },
  {
   "cell_type": "code",
   "execution_count": 87,
   "metadata": {
    "collapsed": true
   },
   "outputs": [],
   "source": [
    "song_length_map = dict(zip(X_star_space.song_length.unique(), range(curr, curr + len(X_star_space.song_length.unique()))))\n",
    "curr += len(X_star_space.song_length.unique())"
   ]
  },
  {
   "cell_type": "code",
   "execution_count": 88,
   "metadata": {
    "collapsed": true
   },
   "outputs": [],
   "source": [
    "days_registered_map = dict(zip(X_star_space.days_registered.unique(), range(curr, curr + len(X_star_space.days_registered.unique()))))\n",
    "curr += len(X_star_space.days_registered.unique())"
   ]
  },
  {
   "cell_type": "code",
   "execution_count": 89,
   "metadata": {
    "collapsed": true
   },
   "outputs": [],
   "source": [
    "source_system_tab_map = dict(zip(X_star_space.source_system_tab.unique(), range(curr, curr + len(X_star_space.source_system_tab.unique()))))\n",
    "curr += len(X_star_space.source_system_tab.unique())"
   ]
  },
  {
   "cell_type": "code",
   "execution_count": 90,
   "metadata": {
    "collapsed": true
   },
   "outputs": [],
   "source": [
    "source_screen_name_map = dict(zip(X_star_space.source_screen_name.unique(), range(curr, curr + len(X_star_space.source_screen_name.unique()))))\n",
    "curr += len(X_star_space.source_screen_name.unique())"
   ]
  },
  {
   "cell_type": "code",
   "execution_count": 91,
   "metadata": {
    "collapsed": true
   },
   "outputs": [],
   "source": [
    "city_map = dict(zip(X_star_space.city.unique(), range(curr, curr + len(X_star_space.city.unique()))))\n",
    "curr += len(X_star_space.city.unique())"
   ]
  },
  {
   "cell_type": "code",
   "execution_count": 92,
   "metadata": {
    "collapsed": true
   },
   "outputs": [],
   "source": [
    "gender_map = dict(zip(X_star_space.gender.unique(), range(curr, curr + len(X_star_space.gender.unique()))))\n",
    "curr += len(X_star_space.gender.unique())"
   ]
  },
  {
   "cell_type": "code",
   "execution_count": 93,
   "metadata": {
    "collapsed": true
   },
   "outputs": [],
   "source": [
    "language_map = dict(zip(X_star_space.language.unique(), range(curr, curr + len(X_star_space.language.unique()))))"
   ]
  },
  {
   "cell_type": "code",
   "execution_count": 94,
   "metadata": {},
   "outputs": [
    {
     "data": {
      "text/plain": [
       "{0: 3, 1: 0, 2: 1, 3: 2}"
      ]
     },
     "execution_count": 94,
     "metadata": {},
     "output_type": "execute_result"
    }
   ],
   "source": [
    "bd_map"
   ]
  },
  {
   "cell_type": "code",
   "execution_count": 95,
   "metadata": {},
   "outputs": [
    {
     "data": {
      "text/plain": [
       "{0: 4, 1: 6, 2: 7, 3: 5}"
      ]
     },
     "execution_count": 95,
     "metadata": {},
     "output_type": "execute_result"
    }
   ],
   "source": [
    "song_length_map"
   ]
  },
  {
   "cell_type": "code",
   "execution_count": 96,
   "metadata": {},
   "outputs": [
    {
     "data": {
      "text/plain": [
       "{0: 11, 1: 10, 2: 8, 3: 9}"
      ]
     },
     "execution_count": 96,
     "metadata": {},
     "output_type": "execute_result"
    }
   ],
   "source": [
    "days_registered_map"
   ]
  },
  {
   "cell_type": "code",
   "execution_count": 97,
   "metadata": {},
   "outputs": [
    {
     "data": {
      "text/plain": [
       "{0: 15, 1: 12, 2: 18, 3: 13, 4: 19, 5: 17, 6: 14, 7: 20, 8: 16}"
      ]
     },
     "execution_count": 97,
     "metadata": {},
     "output_type": "execute_result"
    }
   ],
   "source": [
    "source_system_tab_map"
   ]
  },
  {
   "cell_type": "code",
   "execution_count": 98,
   "metadata": {},
   "outputs": [
    {
     "data": {
      "text/plain": [
       "{0: 26,\n",
       " 1: 31,\n",
       " 2: 40,\n",
       " 3: 29,\n",
       " 4: 27,\n",
       " 5: 35,\n",
       " 6: 38,\n",
       " 7: 21,\n",
       " 8: 22,\n",
       " 9: 24,\n",
       " 10: 36,\n",
       " 11: 25,\n",
       " 12: 33,\n",
       " 13: 41,\n",
       " 14: 30,\n",
       " 15: 32,\n",
       " 16: 37,\n",
       " 17: 34,\n",
       " 18: 39,\n",
       " 19: 28,\n",
       " 20: 23}"
      ]
     },
     "execution_count": 98,
     "metadata": {},
     "output_type": "execute_result"
    }
   ],
   "source": [
    "source_screen_name_map"
   ]
  },
  {
   "cell_type": "code",
   "execution_count": 99,
   "metadata": {},
   "outputs": [
    {
     "data": {
      "text/plain": [
       "{0: 42,\n",
       " 1: 58,\n",
       " 2: 50,\n",
       " 3: 45,\n",
       " 4: 51,\n",
       " 5: 59,\n",
       " 6: 55,\n",
       " 7: 46,\n",
       " 8: 54,\n",
       " 9: 56,\n",
       " 10: 49,\n",
       " 11: 43,\n",
       " 12: 52,\n",
       " 13: 44,\n",
       " 14: 61,\n",
       " 15: 53,\n",
       " 16: 57,\n",
       " 17: 62,\n",
       " 18: 60,\n",
       " 19: 47,\n",
       " 20: 48}"
      ]
     },
     "execution_count": 99,
     "metadata": {},
     "output_type": "execute_result"
    }
   ],
   "source": [
    "city_map"
   ]
  },
  {
   "cell_type": "code",
   "execution_count": 100,
   "metadata": {},
   "outputs": [
    {
     "data": {
      "text/plain": [
       "{0: 64, 1: 65, 2: 63}"
      ]
     },
     "execution_count": 100,
     "metadata": {},
     "output_type": "execute_result"
    }
   ],
   "source": [
    "gender_map"
   ]
  },
  {
   "cell_type": "code",
   "execution_count": 101,
   "metadata": {},
   "outputs": [
    {
     "data": {
      "text/plain": [
       "{0: 67, 1: 69, 2: 71, 3: 70, 4: 72, 5: 68, 6: 75, 7: 74, 8: 66, 9: 73}"
      ]
     },
     "execution_count": 101,
     "metadata": {},
     "output_type": "execute_result"
    }
   ],
   "source": [
    "language_map"
   ]
  },
  {
   "cell_type": "code",
   "execution_count": 102,
   "metadata": {
    "collapsed": true
   },
   "outputs": [],
   "source": [
    "X_star_space.bd = X_star_space.bd.map(bd_map)\n",
    "X_star_space.song_length = X_star_space.song_length.map(song_length_map)\n",
    "X_star_space.days_registered = X_star_space.days_registered.map(days_registered_map)\n",
    "X_star_space.source_system_tab = X_star_space.source_system_tab.map(source_system_tab_map)\n",
    "X_star_space.source_screen_name = X_star_space.source_screen_name.map(source_screen_name_map)\n",
    "X_star_space.city = X_star_space.city.map(city_map)\n",
    "X_star_space.gender = X_star_space.gender.map(gender_map)\n",
    "X_star_space.language = X_star_space.language.map(language_map)"
   ]
  },
  {
   "cell_type": "code",
   "execution_count": 103,
   "metadata": {},
   "outputs": [
    {
     "data": {
      "text/html": [
       "<div>\n",
       "<style scoped>\n",
       "    .dataframe tbody tr th:only-of-type {\n",
       "        vertical-align: middle;\n",
       "    }\n",
       "\n",
       "    .dataframe tbody tr th {\n",
       "        vertical-align: top;\n",
       "    }\n",
       "\n",
       "    .dataframe thead th {\n",
       "        text-align: right;\n",
       "    }\n",
       "</style>\n",
       "<table border=\"1\" class=\"dataframe\">\n",
       "  <thead>\n",
       "    <tr style=\"text-align: right;\">\n",
       "      <th></th>\n",
       "      <th>bd</th>\n",
       "      <th>song_length</th>\n",
       "      <th>days_registered</th>\n",
       "      <th>source_system_tab</th>\n",
       "      <th>source_screen_name</th>\n",
       "      <th>city</th>\n",
       "      <th>gender</th>\n",
       "      <th>language</th>\n",
       "    </tr>\n",
       "  </thead>\n",
       "  <tbody>\n",
       "    <tr>\n",
       "      <th>0</th>\n",
       "      <td>0</td>\n",
       "      <td>4</td>\n",
       "      <td>8</td>\n",
       "      <td>12</td>\n",
       "      <td>21</td>\n",
       "      <td>42</td>\n",
       "      <td>63</td>\n",
       "      <td>66</td>\n",
       "    </tr>\n",
       "    <tr>\n",
       "      <th>1</th>\n",
       "      <td>1</td>\n",
       "      <td>5</td>\n",
       "      <td>9</td>\n",
       "      <td>13</td>\n",
       "      <td>22</td>\n",
       "      <td>43</td>\n",
       "      <td>64</td>\n",
       "      <td>66</td>\n",
       "    </tr>\n",
       "    <tr>\n",
       "      <th>2</th>\n",
       "      <td>1</td>\n",
       "      <td>6</td>\n",
       "      <td>9</td>\n",
       "      <td>13</td>\n",
       "      <td>22</td>\n",
       "      <td>43</td>\n",
       "      <td>64</td>\n",
       "      <td>66</td>\n",
       "    </tr>\n",
       "    <tr>\n",
       "      <th>3</th>\n",
       "      <td>1</td>\n",
       "      <td>7</td>\n",
       "      <td>9</td>\n",
       "      <td>13</td>\n",
       "      <td>22</td>\n",
       "      <td>43</td>\n",
       "      <td>64</td>\n",
       "      <td>67</td>\n",
       "    </tr>\n",
       "    <tr>\n",
       "      <th>4</th>\n",
       "      <td>0</td>\n",
       "      <td>4</td>\n",
       "      <td>8</td>\n",
       "      <td>12</td>\n",
       "      <td>21</td>\n",
       "      <td>42</td>\n",
       "      <td>63</td>\n",
       "      <td>66</td>\n",
       "    </tr>\n",
       "  </tbody>\n",
       "</table>\n",
       "</div>"
      ],
      "text/plain": [
       "   bd  song_length  days_registered  source_system_tab  source_screen_name  \\\n",
       "0   0            4                8                 12                  21   \n",
       "1   1            5                9                 13                  22   \n",
       "2   1            6                9                 13                  22   \n",
       "3   1            7                9                 13                  22   \n",
       "4   0            4                8                 12                  21   \n",
       "\n",
       "   city  gender  language  \n",
       "0    42      63        66  \n",
       "1    43      64        66  \n",
       "2    43      64        66  \n",
       "3    43      64        67  \n",
       "4    42      63        66  "
      ]
     },
     "execution_count": 103,
     "metadata": {},
     "output_type": "execute_result"
    }
   ],
   "source": [
    "X_star_space.head()"
   ]
  },
  {
   "cell_type": "code",
   "execution_count": 104,
   "metadata": {},
   "outputs": [
    {
     "name": "stdout",
     "output_type": "stream",
     "text": [
      "<class 'pandas.core.frame.DataFrame'>\n",
      "RangeIndex: 7377418 entries, 0 to 7377417\n",
      "Data columns (total 8 columns):\n",
      "bd                    7377418 non-null int64\n",
      "song_length           7377418 non-null int64\n",
      "days_registered       7377418 non-null int64\n",
      "source_system_tab     7377418 non-null int64\n",
      "source_screen_name    7377418 non-null int64\n",
      "city                  7377418 non-null int64\n",
      "gender                7377418 non-null int64\n",
      "language              7377418 non-null int64\n",
      "dtypes: int64(8)\n",
      "memory usage: 450.3 MB\n"
     ]
    }
   ],
   "source": [
    "X_star_space.info(verbose=True, null_counts=True)"
   ]
  },
  {
   "cell_type": "code",
   "execution_count": 105,
   "metadata": {
    "collapsed": true
   },
   "outputs": [],
   "source": [
    "X_star_space.to_csv(os.path.join('/mnt/PROMO_INVESTIGATION_DATA/', 'X_star_space.csv'), index=False, header=False, sep=' ')"
   ]
  },
  {
   "cell_type": "code",
   "execution_count": 106,
   "metadata": {
    "collapsed": true
   },
   "outputs": [],
   "source": [
    "# Code for StarSpace installation:\n",
    "# TBD on new machine"
   ]
  },
  {
   "cell_type": "code",
   "execution_count": 107,
   "metadata": {},
   "outputs": [
    {
     "name": "stdout",
     "output_type": "stream",
     "text": [
      "Usage: need to specify whether it is train or test.\r\n",
      "\r\n",
      "\"starspace train ...\"  or \"starspace test ...\"\r\n",
      "\r\n",
      "The following arguments are mandatory for train: \r\n",
      "  -trainFile       training file path\r\n",
      "  -model           output model file path\r\n",
      "\r\n",
      "The following arguments are mandatory for test: \r\n",
      "  -testFile        test file path\r\n",
      "  -model           model file path\r\n",
      "\r\n",
      "The following arguments for the dictionary are optional:\r\n",
      "  -minCount        minimal number of word occurences [1]\r\n",
      "  -minCountLabel   minimal number of label occurences [1]\r\n",
      "  -ngrams          max length of word ngram [1]\r\n",
      "  -bucket          number of buckets [2000000]\r\n",
      "  -label           labels prefix [__label__]\r\n",
      "\r\n",
      "The following arguments for training are optional:\r\n",
      "  -initModel       if not empty, it loads a previously trained model in -initModel and carry on training.\r\n",
      "  -trainMode       takes value in [0, 1, 2, 3, 4, 5], see Training Mode Section. [0]\r\n",
      "  -fileFormat      currently support 'fastText' and 'labelDoc', see File Format Section. [fastText]\r\n",
      "  -validationFile  validation file path\r\n",
      "  -validationPatience    number of iterations of validation where does not improve before we stop training [10]\r\n",
      "  -saveEveryEpoch  save intermediate models after each epoch [0]\r\n",
      "  -saveTempModel   save intermediate models after each epoch with an unique name including epoch number [0]\r\n",
      "  -lr              learning rate [0.01]\r\n",
      "  -dim             size of embedding vectors [100]\r\n",
      "  -epoch           number of epochs [5]\r\n",
      "  -maxTrainTime    max train time (secs) [8640000]\r\n",
      "  -negSearchLimit  number of negatives sampled [50]\r\n",
      "  -maxNegSamples   max number of negatives in a batch update [10]\r\n",
      "  -loss            loss function {hinge, softmax} [hinge]\r\n",
      "  -margin          margin parameter in hinge loss. It's only effective if hinge loss is used. [0.05]\r\n",
      "  -similarity      takes value in [cosine, dot]. Whether to use cosine or dot product as similarity function in  hinge loss.\r\n",
      "                   It's only effective if hinge loss is used. [cosine]\r\n",
      "  -adagrad         whether to use adagrad in training [1]\r\n",
      "  -shareEmb        whether to use the same embedding matrix for LHS and RHS. [1]\r\n",
      "  -ws              only used in trainMode 5, the size of the context window for word level training. [5]\r\n",
      "  -dropoutLHS      dropout probability for LHS features. [0]\r\n",
      "  -dropoutRHS      dropout probability for RHS features. [0]\r\n",
      "  -initRandSd      initial values of embeddings are randomly generated from normal distribution with mean=0, standard deviation=initRandSd. [0.001]\r\n",
      "  -trainWord       whether to train word level together with other tasks (for multi-tasking). [0]\r\n",
      "  -wordWeight      if trainWord is true, wordWeight specifies example weight for word level training examples. [0.5]\r\n",
      "\r\n",
      "The following arguments for test are optional:\r\n",
      "  -basedoc         file path for a set of labels to compare against true label. It is required when -fileFormat='labelDoc'.\r\n",
      "                   In the case -fileFormat='fastText' and -basedoc is not provided, we compare true label with all other labels in the dictionary.\r\n",
      "  -predictionFile  file path for save predictions. If not empty, top K predictions for each example will be saved.\r\n",
      "  -K               if -predictionFile is not empty, top K predictions for each example will be saved.\r\n",
      "  -excludeLHS      exclude elements in the LHS from predictions\r\n",
      "\r\n",
      "The following arguments are optional:\r\n",
      "  -normalizeText   whether to run basic text preprocess for input files [0]\r\n",
      "  -useWeight       whether input file contains weights [0]\r\n",
      "  -verbose         verbosity level [0]\r\n",
      "  -debug           whether it's in debug mode [0]\r\n",
      "  -thread          number of threads [10]\r\n",
      "\r\n"
     ]
    }
   ],
   "source": [
    "! ../../Starspace/starspace"
   ]
  },
  {
   "cell_type": "code",
   "execution_count": null,
   "metadata": {
    "collapsed": true
   },
   "outputs": [],
   "source": [
    "! ../../Starspace/starspace train \\\n",
    "-trainFile /mnt/PROMO_INVESTIGATION_DATA/X_star_space.csv \\\n",
    "-model /mnt/PROMO_INVESTIGATION_DATA/star_space_model \\\n",
    "-trainMode 5"
   ]
  },
  {
   "cell_type": "code",
   "execution_count": 108,
   "metadata": {
    "collapsed": true
   },
   "outputs": [],
   "source": [
    "X_star_space_emb = pd.read_csv(os.path.join('/mnt/PROMO_INVESTIGATION_DATA/', 'star_space_model.tsv'), delimiter='\\t', header=None)"
   ]
  },
  {
   "cell_type": "code",
   "execution_count": 109,
   "metadata": {
    "scrolled": true
   },
   "outputs": [
    {
     "data": {
      "text/html": [
       "<div>\n",
       "<style scoped>\n",
       "    .dataframe tbody tr th:only-of-type {\n",
       "        vertical-align: middle;\n",
       "    }\n",
       "\n",
       "    .dataframe tbody tr th {\n",
       "        vertical-align: top;\n",
       "    }\n",
       "\n",
       "    .dataframe thead th {\n",
       "        text-align: right;\n",
       "    }\n",
       "</style>\n",
       "<table border=\"1\" class=\"dataframe\">\n",
       "  <thead>\n",
       "    <tr style=\"text-align: right;\">\n",
       "      <th></th>\n",
       "      <th>0</th>\n",
       "      <th>1</th>\n",
       "      <th>2</th>\n",
       "      <th>3</th>\n",
       "      <th>4</th>\n",
       "      <th>5</th>\n",
       "      <th>6</th>\n",
       "      <th>7</th>\n",
       "      <th>8</th>\n",
       "      <th>9</th>\n",
       "      <th>...</th>\n",
       "      <th>91</th>\n",
       "      <th>92</th>\n",
       "      <th>93</th>\n",
       "      <th>94</th>\n",
       "      <th>95</th>\n",
       "      <th>96</th>\n",
       "      <th>97</th>\n",
       "      <th>98</th>\n",
       "      <th>99</th>\n",
       "      <th>100</th>\n",
       "    </tr>\n",
       "  </thead>\n",
       "  <tbody>\n",
       "    <tr>\n",
       "      <th>0</th>\n",
       "      <td>69</td>\n",
       "      <td>1.224700e-06</td>\n",
       "      <td>-6.339670e-08</td>\n",
       "      <td>-1.767400e-06</td>\n",
       "      <td>7.851660e-07</td>\n",
       "      <td>-8.879650e-07</td>\n",
       "      <td>4.266440e-07</td>\n",
       "      <td>1.396810e-06</td>\n",
       "      <td>6.857180e-07</td>\n",
       "      <td>-1.031300e-06</td>\n",
       "      <td>...</td>\n",
       "      <td>-1.130790e-07</td>\n",
       "      <td>4.756250e-07</td>\n",
       "      <td>-4.377710e-07</td>\n",
       "      <td>-9.531500e-07</td>\n",
       "      <td>2.851450e-07</td>\n",
       "      <td>2.821770e-07</td>\n",
       "      <td>5.006500e-07</td>\n",
       "      <td>-2.463790e-06</td>\n",
       "      <td>-1.085030e-06</td>\n",
       "      <td>9.553340e-07</td>\n",
       "    </tr>\n",
       "    <tr>\n",
       "      <th>1</th>\n",
       "      <td>13</td>\n",
       "      <td>2.733760e-08</td>\n",
       "      <td>3.589730e-09</td>\n",
       "      <td>-3.291410e-08</td>\n",
       "      <td>1.603410e-08</td>\n",
       "      <td>-2.281670e-08</td>\n",
       "      <td>4.153110e-09</td>\n",
       "      <td>2.350510e-08</td>\n",
       "      <td>1.099790e-08</td>\n",
       "      <td>-1.490610e-08</td>\n",
       "      <td>...</td>\n",
       "      <td>-1.206110e-08</td>\n",
       "      <td>5.734250e-09</td>\n",
       "      <td>-4.669810e-09</td>\n",
       "      <td>-1.771730e-08</td>\n",
       "      <td>2.809160e-09</td>\n",
       "      <td>1.248170e-09</td>\n",
       "      <td>7.941900e-09</td>\n",
       "      <td>-4.643670e-08</td>\n",
       "      <td>-1.146920e-08</td>\n",
       "      <td>1.593460e-08</td>\n",
       "    </tr>\n",
       "    <tr>\n",
       "      <th>2</th>\n",
       "      <td>0</td>\n",
       "      <td>-1.356260e-06</td>\n",
       "      <td>1.001750e-07</td>\n",
       "      <td>2.075460e-06</td>\n",
       "      <td>-8.650810e-07</td>\n",
       "      <td>9.390600e-07</td>\n",
       "      <td>-5.241360e-07</td>\n",
       "      <td>-1.418820e-06</td>\n",
       "      <td>-6.180480e-07</td>\n",
       "      <td>1.200500e-06</td>\n",
       "      <td>...</td>\n",
       "      <td>8.630100e-08</td>\n",
       "      <td>-3.574820e-07</td>\n",
       "      <td>4.290890e-07</td>\n",
       "      <td>1.021510e-06</td>\n",
       "      <td>-3.258210e-07</td>\n",
       "      <td>-3.851790e-07</td>\n",
       "      <td>-4.998520e-07</td>\n",
       "      <td>2.507770e-06</td>\n",
       "      <td>1.210360e-06</td>\n",
       "      <td>-1.010100e-06</td>\n",
       "    </tr>\n",
       "    <tr>\n",
       "      <th>3</th>\n",
       "      <td>22</td>\n",
       "      <td>3.269010e-08</td>\n",
       "      <td>4.032160e-09</td>\n",
       "      <td>-4.015310e-08</td>\n",
       "      <td>1.966790e-08</td>\n",
       "      <td>-2.762200e-08</td>\n",
       "      <td>5.168260e-09</td>\n",
       "      <td>2.793920e-08</td>\n",
       "      <td>1.245500e-08</td>\n",
       "      <td>-1.747600e-08</td>\n",
       "      <td>...</td>\n",
       "      <td>-1.441370e-08</td>\n",
       "      <td>6.554140e-09</td>\n",
       "      <td>-5.545750e-09</td>\n",
       "      <td>-2.023560e-08</td>\n",
       "      <td>3.487980e-09</td>\n",
       "      <td>1.567720e-09</td>\n",
       "      <td>9.058400e-09</td>\n",
       "      <td>-5.494460e-08</td>\n",
       "      <td>-1.409680e-08</td>\n",
       "      <td>1.864190e-08</td>\n",
       "    </tr>\n",
       "    <tr>\n",
       "      <th>4</th>\n",
       "      <td>63</td>\n",
       "      <td>9.120640e-07</td>\n",
       "      <td>-3.216410e-08</td>\n",
       "      <td>-1.356770e-06</td>\n",
       "      <td>5.743890e-07</td>\n",
       "      <td>-6.543650e-07</td>\n",
       "      <td>3.227180e-07</td>\n",
       "      <td>1.098150e-06</td>\n",
       "      <td>5.624300e-07</td>\n",
       "      <td>-8.181430e-07</td>\n",
       "      <td>...</td>\n",
       "      <td>-8.314120e-08</td>\n",
       "      <td>3.782600e-07</td>\n",
       "      <td>-3.456450e-07</td>\n",
       "      <td>-7.760180e-07</td>\n",
       "      <td>1.967050e-07</td>\n",
       "      <td>2.026640e-07</td>\n",
       "      <td>4.244020e-07</td>\n",
       "      <td>-1.929800e-06</td>\n",
       "      <td>-8.133070e-07</td>\n",
       "      <td>7.574870e-07</td>\n",
       "    </tr>\n",
       "  </tbody>\n",
       "</table>\n",
       "<p>5 rows × 101 columns</p>\n",
       "</div>"
      ],
      "text/plain": [
       "   0             1             2             3             4             5    \\\n",
       "0   69  1.224700e-06 -6.339670e-08 -1.767400e-06  7.851660e-07 -8.879650e-07   \n",
       "1   13  2.733760e-08  3.589730e-09 -3.291410e-08  1.603410e-08 -2.281670e-08   \n",
       "2    0 -1.356260e-06  1.001750e-07  2.075460e-06 -8.650810e-07  9.390600e-07   \n",
       "3   22  3.269010e-08  4.032160e-09 -4.015310e-08  1.966790e-08 -2.762200e-08   \n",
       "4   63  9.120640e-07 -3.216410e-08 -1.356770e-06  5.743890e-07 -6.543650e-07   \n",
       "\n",
       "            6             7             8             9        ...       \\\n",
       "0  4.266440e-07  1.396810e-06  6.857180e-07 -1.031300e-06      ...        \n",
       "1  4.153110e-09  2.350510e-08  1.099790e-08 -1.490610e-08      ...        \n",
       "2 -5.241360e-07 -1.418820e-06 -6.180480e-07  1.200500e-06      ...        \n",
       "3  5.168260e-09  2.793920e-08  1.245500e-08 -1.747600e-08      ...        \n",
       "4  3.227180e-07  1.098150e-06  5.624300e-07 -8.181430e-07      ...        \n",
       "\n",
       "            91            92            93            94            95   \\\n",
       "0 -1.130790e-07  4.756250e-07 -4.377710e-07 -9.531500e-07  2.851450e-07   \n",
       "1 -1.206110e-08  5.734250e-09 -4.669810e-09 -1.771730e-08  2.809160e-09   \n",
       "2  8.630100e-08 -3.574820e-07  4.290890e-07  1.021510e-06 -3.258210e-07   \n",
       "3 -1.441370e-08  6.554140e-09 -5.545750e-09 -2.023560e-08  3.487980e-09   \n",
       "4 -8.314120e-08  3.782600e-07 -3.456450e-07 -7.760180e-07  1.967050e-07   \n",
       "\n",
       "            96            97            98            99            100  \n",
       "0  2.821770e-07  5.006500e-07 -2.463790e-06 -1.085030e-06  9.553340e-07  \n",
       "1  1.248170e-09  7.941900e-09 -4.643670e-08 -1.146920e-08  1.593460e-08  \n",
       "2 -3.851790e-07 -4.998520e-07  2.507770e-06  1.210360e-06 -1.010100e-06  \n",
       "3  1.567720e-09  9.058400e-09 -5.494460e-08 -1.409680e-08  1.864190e-08  \n",
       "4  2.026640e-07  4.244020e-07 -1.929800e-06 -8.133070e-07  7.574870e-07  \n",
       "\n",
       "[5 rows x 101 columns]"
      ]
     },
     "execution_count": 109,
     "metadata": {},
     "output_type": "execute_result"
    }
   ],
   "source": [
    "X_star_space_emb.head()"
   ]
  },
  {
   "cell_type": "code",
   "execution_count": 110,
   "metadata": {
    "collapsed": true
   },
   "outputs": [],
   "source": [
    "# SSF stands for StarSpace Feature\n",
    "X_star_space_emb.columns = ['SSF_{}'.format(i) for i in range(101)]"
   ]
  },
  {
   "cell_type": "code",
   "execution_count": 111,
   "metadata": {},
   "outputs": [
    {
     "data": {
      "text/html": [
       "<div>\n",
       "<style scoped>\n",
       "    .dataframe tbody tr th:only-of-type {\n",
       "        vertical-align: middle;\n",
       "    }\n",
       "\n",
       "    .dataframe tbody tr th {\n",
       "        vertical-align: top;\n",
       "    }\n",
       "\n",
       "    .dataframe thead th {\n",
       "        text-align: right;\n",
       "    }\n",
       "</style>\n",
       "<table border=\"1\" class=\"dataframe\">\n",
       "  <thead>\n",
       "    <tr style=\"text-align: right;\">\n",
       "      <th></th>\n",
       "      <th>SSF_0</th>\n",
       "      <th>SSF_1</th>\n",
       "      <th>SSF_2</th>\n",
       "      <th>SSF_3</th>\n",
       "      <th>SSF_4</th>\n",
       "      <th>SSF_5</th>\n",
       "      <th>SSF_6</th>\n",
       "      <th>SSF_7</th>\n",
       "      <th>SSF_8</th>\n",
       "      <th>SSF_9</th>\n",
       "      <th>...</th>\n",
       "      <th>SSF_91</th>\n",
       "      <th>SSF_92</th>\n",
       "      <th>SSF_93</th>\n",
       "      <th>SSF_94</th>\n",
       "      <th>SSF_95</th>\n",
       "      <th>SSF_96</th>\n",
       "      <th>SSF_97</th>\n",
       "      <th>SSF_98</th>\n",
       "      <th>SSF_99</th>\n",
       "      <th>SSF_100</th>\n",
       "    </tr>\n",
       "  </thead>\n",
       "  <tbody>\n",
       "    <tr>\n",
       "      <th>0</th>\n",
       "      <td>69</td>\n",
       "      <td>1.224700e-06</td>\n",
       "      <td>-6.339670e-08</td>\n",
       "      <td>-1.767400e-06</td>\n",
       "      <td>7.851660e-07</td>\n",
       "      <td>-8.879650e-07</td>\n",
       "      <td>4.266440e-07</td>\n",
       "      <td>1.396810e-06</td>\n",
       "      <td>6.857180e-07</td>\n",
       "      <td>-1.031300e-06</td>\n",
       "      <td>...</td>\n",
       "      <td>-1.130790e-07</td>\n",
       "      <td>4.756250e-07</td>\n",
       "      <td>-4.377710e-07</td>\n",
       "      <td>-9.531500e-07</td>\n",
       "      <td>2.851450e-07</td>\n",
       "      <td>2.821770e-07</td>\n",
       "      <td>5.006500e-07</td>\n",
       "      <td>-2.463790e-06</td>\n",
       "      <td>-1.085030e-06</td>\n",
       "      <td>9.553340e-07</td>\n",
       "    </tr>\n",
       "    <tr>\n",
       "      <th>1</th>\n",
       "      <td>13</td>\n",
       "      <td>2.733760e-08</td>\n",
       "      <td>3.589730e-09</td>\n",
       "      <td>-3.291410e-08</td>\n",
       "      <td>1.603410e-08</td>\n",
       "      <td>-2.281670e-08</td>\n",
       "      <td>4.153110e-09</td>\n",
       "      <td>2.350510e-08</td>\n",
       "      <td>1.099790e-08</td>\n",
       "      <td>-1.490610e-08</td>\n",
       "      <td>...</td>\n",
       "      <td>-1.206110e-08</td>\n",
       "      <td>5.734250e-09</td>\n",
       "      <td>-4.669810e-09</td>\n",
       "      <td>-1.771730e-08</td>\n",
       "      <td>2.809160e-09</td>\n",
       "      <td>1.248170e-09</td>\n",
       "      <td>7.941900e-09</td>\n",
       "      <td>-4.643670e-08</td>\n",
       "      <td>-1.146920e-08</td>\n",
       "      <td>1.593460e-08</td>\n",
       "    </tr>\n",
       "    <tr>\n",
       "      <th>2</th>\n",
       "      <td>0</td>\n",
       "      <td>-1.356260e-06</td>\n",
       "      <td>1.001750e-07</td>\n",
       "      <td>2.075460e-06</td>\n",
       "      <td>-8.650810e-07</td>\n",
       "      <td>9.390600e-07</td>\n",
       "      <td>-5.241360e-07</td>\n",
       "      <td>-1.418820e-06</td>\n",
       "      <td>-6.180480e-07</td>\n",
       "      <td>1.200500e-06</td>\n",
       "      <td>...</td>\n",
       "      <td>8.630100e-08</td>\n",
       "      <td>-3.574820e-07</td>\n",
       "      <td>4.290890e-07</td>\n",
       "      <td>1.021510e-06</td>\n",
       "      <td>-3.258210e-07</td>\n",
       "      <td>-3.851790e-07</td>\n",
       "      <td>-4.998520e-07</td>\n",
       "      <td>2.507770e-06</td>\n",
       "      <td>1.210360e-06</td>\n",
       "      <td>-1.010100e-06</td>\n",
       "    </tr>\n",
       "    <tr>\n",
       "      <th>3</th>\n",
       "      <td>22</td>\n",
       "      <td>3.269010e-08</td>\n",
       "      <td>4.032160e-09</td>\n",
       "      <td>-4.015310e-08</td>\n",
       "      <td>1.966790e-08</td>\n",
       "      <td>-2.762200e-08</td>\n",
       "      <td>5.168260e-09</td>\n",
       "      <td>2.793920e-08</td>\n",
       "      <td>1.245500e-08</td>\n",
       "      <td>-1.747600e-08</td>\n",
       "      <td>...</td>\n",
       "      <td>-1.441370e-08</td>\n",
       "      <td>6.554140e-09</td>\n",
       "      <td>-5.545750e-09</td>\n",
       "      <td>-2.023560e-08</td>\n",
       "      <td>3.487980e-09</td>\n",
       "      <td>1.567720e-09</td>\n",
       "      <td>9.058400e-09</td>\n",
       "      <td>-5.494460e-08</td>\n",
       "      <td>-1.409680e-08</td>\n",
       "      <td>1.864190e-08</td>\n",
       "    </tr>\n",
       "    <tr>\n",
       "      <th>4</th>\n",
       "      <td>63</td>\n",
       "      <td>9.120640e-07</td>\n",
       "      <td>-3.216410e-08</td>\n",
       "      <td>-1.356770e-06</td>\n",
       "      <td>5.743890e-07</td>\n",
       "      <td>-6.543650e-07</td>\n",
       "      <td>3.227180e-07</td>\n",
       "      <td>1.098150e-06</td>\n",
       "      <td>5.624300e-07</td>\n",
       "      <td>-8.181430e-07</td>\n",
       "      <td>...</td>\n",
       "      <td>-8.314120e-08</td>\n",
       "      <td>3.782600e-07</td>\n",
       "      <td>-3.456450e-07</td>\n",
       "      <td>-7.760180e-07</td>\n",
       "      <td>1.967050e-07</td>\n",
       "      <td>2.026640e-07</td>\n",
       "      <td>4.244020e-07</td>\n",
       "      <td>-1.929800e-06</td>\n",
       "      <td>-8.133070e-07</td>\n",
       "      <td>7.574870e-07</td>\n",
       "    </tr>\n",
       "  </tbody>\n",
       "</table>\n",
       "<p>5 rows × 101 columns</p>\n",
       "</div>"
      ],
      "text/plain": [
       "   SSF_0         SSF_1         SSF_2         SSF_3         SSF_4  \\\n",
       "0     69  1.224700e-06 -6.339670e-08 -1.767400e-06  7.851660e-07   \n",
       "1     13  2.733760e-08  3.589730e-09 -3.291410e-08  1.603410e-08   \n",
       "2      0 -1.356260e-06  1.001750e-07  2.075460e-06 -8.650810e-07   \n",
       "3     22  3.269010e-08  4.032160e-09 -4.015310e-08  1.966790e-08   \n",
       "4     63  9.120640e-07 -3.216410e-08 -1.356770e-06  5.743890e-07   \n",
       "\n",
       "          SSF_5         SSF_6         SSF_7         SSF_8         SSF_9  \\\n",
       "0 -8.879650e-07  4.266440e-07  1.396810e-06  6.857180e-07 -1.031300e-06   \n",
       "1 -2.281670e-08  4.153110e-09  2.350510e-08  1.099790e-08 -1.490610e-08   \n",
       "2  9.390600e-07 -5.241360e-07 -1.418820e-06 -6.180480e-07  1.200500e-06   \n",
       "3 -2.762200e-08  5.168260e-09  2.793920e-08  1.245500e-08 -1.747600e-08   \n",
       "4 -6.543650e-07  3.227180e-07  1.098150e-06  5.624300e-07 -8.181430e-07   \n",
       "\n",
       "       ...             SSF_91        SSF_92        SSF_93        SSF_94  \\\n",
       "0      ...      -1.130790e-07  4.756250e-07 -4.377710e-07 -9.531500e-07   \n",
       "1      ...      -1.206110e-08  5.734250e-09 -4.669810e-09 -1.771730e-08   \n",
       "2      ...       8.630100e-08 -3.574820e-07  4.290890e-07  1.021510e-06   \n",
       "3      ...      -1.441370e-08  6.554140e-09 -5.545750e-09 -2.023560e-08   \n",
       "4      ...      -8.314120e-08  3.782600e-07 -3.456450e-07 -7.760180e-07   \n",
       "\n",
       "         SSF_95        SSF_96        SSF_97        SSF_98        SSF_99  \\\n",
       "0  2.851450e-07  2.821770e-07  5.006500e-07 -2.463790e-06 -1.085030e-06   \n",
       "1  2.809160e-09  1.248170e-09  7.941900e-09 -4.643670e-08 -1.146920e-08   \n",
       "2 -3.258210e-07 -3.851790e-07 -4.998520e-07  2.507770e-06  1.210360e-06   \n",
       "3  3.487980e-09  1.567720e-09  9.058400e-09 -5.494460e-08 -1.409680e-08   \n",
       "4  1.967050e-07  2.026640e-07  4.244020e-07 -1.929800e-06 -8.133070e-07   \n",
       "\n",
       "        SSF_100  \n",
       "0  9.553340e-07  \n",
       "1  1.593460e-08  \n",
       "2 -1.010100e-06  \n",
       "3  1.864190e-08  \n",
       "4  7.574870e-07  \n",
       "\n",
       "[5 rows x 101 columns]"
      ]
     },
     "execution_count": 111,
     "metadata": {},
     "output_type": "execute_result"
    }
   ],
   "source": [
    "X_star_space_emb.head()"
   ]
  },
  {
   "cell_type": "code",
   "execution_count": 112,
   "metadata": {
    "collapsed": true
   },
   "outputs": [],
   "source": [
    "X_star_space_emb.rename({\"SSF_0\": \"WORD\"}, axis=1, inplace=True)"
   ]
  },
  {
   "cell_type": "code",
   "execution_count": 113,
   "metadata": {},
   "outputs": [
    {
     "data": {
      "text/html": [
       "<div>\n",
       "<style scoped>\n",
       "    .dataframe tbody tr th:only-of-type {\n",
       "        vertical-align: middle;\n",
       "    }\n",
       "\n",
       "    .dataframe tbody tr th {\n",
       "        vertical-align: top;\n",
       "    }\n",
       "\n",
       "    .dataframe thead th {\n",
       "        text-align: right;\n",
       "    }\n",
       "</style>\n",
       "<table border=\"1\" class=\"dataframe\">\n",
       "  <thead>\n",
       "    <tr style=\"text-align: right;\">\n",
       "      <th></th>\n",
       "      <th>WORD</th>\n",
       "      <th>SSF_1</th>\n",
       "      <th>SSF_2</th>\n",
       "      <th>SSF_3</th>\n",
       "      <th>SSF_4</th>\n",
       "      <th>SSF_5</th>\n",
       "      <th>SSF_6</th>\n",
       "      <th>SSF_7</th>\n",
       "      <th>SSF_8</th>\n",
       "      <th>SSF_9</th>\n",
       "      <th>...</th>\n",
       "      <th>SSF_91</th>\n",
       "      <th>SSF_92</th>\n",
       "      <th>SSF_93</th>\n",
       "      <th>SSF_94</th>\n",
       "      <th>SSF_95</th>\n",
       "      <th>SSF_96</th>\n",
       "      <th>SSF_97</th>\n",
       "      <th>SSF_98</th>\n",
       "      <th>SSF_99</th>\n",
       "      <th>SSF_100</th>\n",
       "    </tr>\n",
       "  </thead>\n",
       "  <tbody>\n",
       "    <tr>\n",
       "      <th>0</th>\n",
       "      <td>69</td>\n",
       "      <td>1.224700e-06</td>\n",
       "      <td>-6.339670e-08</td>\n",
       "      <td>-1.767400e-06</td>\n",
       "      <td>7.851660e-07</td>\n",
       "      <td>-8.879650e-07</td>\n",
       "      <td>4.266440e-07</td>\n",
       "      <td>1.396810e-06</td>\n",
       "      <td>6.857180e-07</td>\n",
       "      <td>-1.031300e-06</td>\n",
       "      <td>...</td>\n",
       "      <td>-1.130790e-07</td>\n",
       "      <td>4.756250e-07</td>\n",
       "      <td>-4.377710e-07</td>\n",
       "      <td>-9.531500e-07</td>\n",
       "      <td>2.851450e-07</td>\n",
       "      <td>2.821770e-07</td>\n",
       "      <td>5.006500e-07</td>\n",
       "      <td>-2.463790e-06</td>\n",
       "      <td>-1.085030e-06</td>\n",
       "      <td>9.553340e-07</td>\n",
       "    </tr>\n",
       "    <tr>\n",
       "      <th>1</th>\n",
       "      <td>13</td>\n",
       "      <td>2.733760e-08</td>\n",
       "      <td>3.589730e-09</td>\n",
       "      <td>-3.291410e-08</td>\n",
       "      <td>1.603410e-08</td>\n",
       "      <td>-2.281670e-08</td>\n",
       "      <td>4.153110e-09</td>\n",
       "      <td>2.350510e-08</td>\n",
       "      <td>1.099790e-08</td>\n",
       "      <td>-1.490610e-08</td>\n",
       "      <td>...</td>\n",
       "      <td>-1.206110e-08</td>\n",
       "      <td>5.734250e-09</td>\n",
       "      <td>-4.669810e-09</td>\n",
       "      <td>-1.771730e-08</td>\n",
       "      <td>2.809160e-09</td>\n",
       "      <td>1.248170e-09</td>\n",
       "      <td>7.941900e-09</td>\n",
       "      <td>-4.643670e-08</td>\n",
       "      <td>-1.146920e-08</td>\n",
       "      <td>1.593460e-08</td>\n",
       "    </tr>\n",
       "    <tr>\n",
       "      <th>2</th>\n",
       "      <td>0</td>\n",
       "      <td>-1.356260e-06</td>\n",
       "      <td>1.001750e-07</td>\n",
       "      <td>2.075460e-06</td>\n",
       "      <td>-8.650810e-07</td>\n",
       "      <td>9.390600e-07</td>\n",
       "      <td>-5.241360e-07</td>\n",
       "      <td>-1.418820e-06</td>\n",
       "      <td>-6.180480e-07</td>\n",
       "      <td>1.200500e-06</td>\n",
       "      <td>...</td>\n",
       "      <td>8.630100e-08</td>\n",
       "      <td>-3.574820e-07</td>\n",
       "      <td>4.290890e-07</td>\n",
       "      <td>1.021510e-06</td>\n",
       "      <td>-3.258210e-07</td>\n",
       "      <td>-3.851790e-07</td>\n",
       "      <td>-4.998520e-07</td>\n",
       "      <td>2.507770e-06</td>\n",
       "      <td>1.210360e-06</td>\n",
       "      <td>-1.010100e-06</td>\n",
       "    </tr>\n",
       "    <tr>\n",
       "      <th>3</th>\n",
       "      <td>22</td>\n",
       "      <td>3.269010e-08</td>\n",
       "      <td>4.032160e-09</td>\n",
       "      <td>-4.015310e-08</td>\n",
       "      <td>1.966790e-08</td>\n",
       "      <td>-2.762200e-08</td>\n",
       "      <td>5.168260e-09</td>\n",
       "      <td>2.793920e-08</td>\n",
       "      <td>1.245500e-08</td>\n",
       "      <td>-1.747600e-08</td>\n",
       "      <td>...</td>\n",
       "      <td>-1.441370e-08</td>\n",
       "      <td>6.554140e-09</td>\n",
       "      <td>-5.545750e-09</td>\n",
       "      <td>-2.023560e-08</td>\n",
       "      <td>3.487980e-09</td>\n",
       "      <td>1.567720e-09</td>\n",
       "      <td>9.058400e-09</td>\n",
       "      <td>-5.494460e-08</td>\n",
       "      <td>-1.409680e-08</td>\n",
       "      <td>1.864190e-08</td>\n",
       "    </tr>\n",
       "    <tr>\n",
       "      <th>4</th>\n",
       "      <td>63</td>\n",
       "      <td>9.120640e-07</td>\n",
       "      <td>-3.216410e-08</td>\n",
       "      <td>-1.356770e-06</td>\n",
       "      <td>5.743890e-07</td>\n",
       "      <td>-6.543650e-07</td>\n",
       "      <td>3.227180e-07</td>\n",
       "      <td>1.098150e-06</td>\n",
       "      <td>5.624300e-07</td>\n",
       "      <td>-8.181430e-07</td>\n",
       "      <td>...</td>\n",
       "      <td>-8.314120e-08</td>\n",
       "      <td>3.782600e-07</td>\n",
       "      <td>-3.456450e-07</td>\n",
       "      <td>-7.760180e-07</td>\n",
       "      <td>1.967050e-07</td>\n",
       "      <td>2.026640e-07</td>\n",
       "      <td>4.244020e-07</td>\n",
       "      <td>-1.929800e-06</td>\n",
       "      <td>-8.133070e-07</td>\n",
       "      <td>7.574870e-07</td>\n",
       "    </tr>\n",
       "  </tbody>\n",
       "</table>\n",
       "<p>5 rows × 101 columns</p>\n",
       "</div>"
      ],
      "text/plain": [
       "   WORD         SSF_1         SSF_2         SSF_3         SSF_4         SSF_5  \\\n",
       "0    69  1.224700e-06 -6.339670e-08 -1.767400e-06  7.851660e-07 -8.879650e-07   \n",
       "1    13  2.733760e-08  3.589730e-09 -3.291410e-08  1.603410e-08 -2.281670e-08   \n",
       "2     0 -1.356260e-06  1.001750e-07  2.075460e-06 -8.650810e-07  9.390600e-07   \n",
       "3    22  3.269010e-08  4.032160e-09 -4.015310e-08  1.966790e-08 -2.762200e-08   \n",
       "4    63  9.120640e-07 -3.216410e-08 -1.356770e-06  5.743890e-07 -6.543650e-07   \n",
       "\n",
       "          SSF_6         SSF_7         SSF_8         SSF_9      ...       \\\n",
       "0  4.266440e-07  1.396810e-06  6.857180e-07 -1.031300e-06      ...        \n",
       "1  4.153110e-09  2.350510e-08  1.099790e-08 -1.490610e-08      ...        \n",
       "2 -5.241360e-07 -1.418820e-06 -6.180480e-07  1.200500e-06      ...        \n",
       "3  5.168260e-09  2.793920e-08  1.245500e-08 -1.747600e-08      ...        \n",
       "4  3.227180e-07  1.098150e-06  5.624300e-07 -8.181430e-07      ...        \n",
       "\n",
       "         SSF_91        SSF_92        SSF_93        SSF_94        SSF_95  \\\n",
       "0 -1.130790e-07  4.756250e-07 -4.377710e-07 -9.531500e-07  2.851450e-07   \n",
       "1 -1.206110e-08  5.734250e-09 -4.669810e-09 -1.771730e-08  2.809160e-09   \n",
       "2  8.630100e-08 -3.574820e-07  4.290890e-07  1.021510e-06 -3.258210e-07   \n",
       "3 -1.441370e-08  6.554140e-09 -5.545750e-09 -2.023560e-08  3.487980e-09   \n",
       "4 -8.314120e-08  3.782600e-07 -3.456450e-07 -7.760180e-07  1.967050e-07   \n",
       "\n",
       "         SSF_96        SSF_97        SSF_98        SSF_99       SSF_100  \n",
       "0  2.821770e-07  5.006500e-07 -2.463790e-06 -1.085030e-06  9.553340e-07  \n",
       "1  1.248170e-09  7.941900e-09 -4.643670e-08 -1.146920e-08  1.593460e-08  \n",
       "2 -3.851790e-07 -4.998520e-07  2.507770e-06  1.210360e-06 -1.010100e-06  \n",
       "3  1.567720e-09  9.058400e-09 -5.494460e-08 -1.409680e-08  1.864190e-08  \n",
       "4  2.026640e-07  4.244020e-07 -1.929800e-06 -8.133070e-07  7.574870e-07  \n",
       "\n",
       "[5 rows x 101 columns]"
      ]
     },
     "execution_count": 113,
     "metadata": {},
     "output_type": "execute_result"
    }
   ],
   "source": [
    "X_star_space_emb.head()"
   ]
  },
  {
   "cell_type": "code",
   "execution_count": 114,
   "metadata": {
    "scrolled": true
   },
   "outputs": [
    {
     "name": "stdout",
     "output_type": "stream",
     "text": [
      "<class 'pandas.core.frame.DataFrame'>\n",
      "RangeIndex: 76 entries, 0 to 75\n",
      "Data columns (total 101 columns):\n",
      "WORD       76 non-null int64\n",
      "SSF_1      76 non-null float64\n",
      "SSF_2      76 non-null float64\n",
      "SSF_3      76 non-null float64\n",
      "SSF_4      76 non-null float64\n",
      "SSF_5      76 non-null float64\n",
      "SSF_6      76 non-null float64\n",
      "SSF_7      76 non-null float64\n",
      "SSF_8      76 non-null float64\n",
      "SSF_9      76 non-null float64\n",
      "SSF_10     76 non-null float64\n",
      "SSF_11     76 non-null float64\n",
      "SSF_12     76 non-null float64\n",
      "SSF_13     76 non-null float64\n",
      "SSF_14     76 non-null float64\n",
      "SSF_15     76 non-null float64\n",
      "SSF_16     76 non-null float64\n",
      "SSF_17     76 non-null float64\n",
      "SSF_18     76 non-null float64\n",
      "SSF_19     76 non-null float64\n",
      "SSF_20     76 non-null float64\n",
      "SSF_21     76 non-null float64\n",
      "SSF_22     76 non-null float64\n",
      "SSF_23     76 non-null float64\n",
      "SSF_24     76 non-null float64\n",
      "SSF_25     76 non-null float64\n",
      "SSF_26     76 non-null float64\n",
      "SSF_27     76 non-null float64\n",
      "SSF_28     76 non-null float64\n",
      "SSF_29     76 non-null float64\n",
      "SSF_30     76 non-null float64\n",
      "SSF_31     76 non-null float64\n",
      "SSF_32     76 non-null float64\n",
      "SSF_33     76 non-null float64\n",
      "SSF_34     76 non-null float64\n",
      "SSF_35     76 non-null float64\n",
      "SSF_36     76 non-null float64\n",
      "SSF_37     76 non-null float64\n",
      "SSF_38     76 non-null float64\n",
      "SSF_39     76 non-null float64\n",
      "SSF_40     76 non-null float64\n",
      "SSF_41     76 non-null float64\n",
      "SSF_42     76 non-null float64\n",
      "SSF_43     76 non-null float64\n",
      "SSF_44     76 non-null float64\n",
      "SSF_45     76 non-null float64\n",
      "SSF_46     76 non-null float64\n",
      "SSF_47     76 non-null float64\n",
      "SSF_48     76 non-null float64\n",
      "SSF_49     76 non-null float64\n",
      "SSF_50     76 non-null float64\n",
      "SSF_51     76 non-null float64\n",
      "SSF_52     76 non-null float64\n",
      "SSF_53     76 non-null float64\n",
      "SSF_54     76 non-null float64\n",
      "SSF_55     76 non-null float64\n",
      "SSF_56     76 non-null float64\n",
      "SSF_57     76 non-null float64\n",
      "SSF_58     76 non-null float64\n",
      "SSF_59     76 non-null float64\n",
      "SSF_60     76 non-null float64\n",
      "SSF_61     76 non-null float64\n",
      "SSF_62     76 non-null float64\n",
      "SSF_63     76 non-null float64\n",
      "SSF_64     76 non-null float64\n",
      "SSF_65     76 non-null float64\n",
      "SSF_66     76 non-null float64\n",
      "SSF_67     76 non-null float64\n",
      "SSF_68     76 non-null float64\n",
      "SSF_69     76 non-null float64\n",
      "SSF_70     76 non-null float64\n",
      "SSF_71     76 non-null float64\n",
      "SSF_72     76 non-null float64\n",
      "SSF_73     76 non-null float64\n",
      "SSF_74     76 non-null float64\n",
      "SSF_75     76 non-null float64\n",
      "SSF_76     76 non-null float64\n",
      "SSF_77     76 non-null float64\n",
      "SSF_78     76 non-null float64\n",
      "SSF_79     76 non-null float64\n",
      "SSF_80     76 non-null float64\n",
      "SSF_81     76 non-null float64\n",
      "SSF_82     76 non-null float64\n",
      "SSF_83     76 non-null float64\n",
      "SSF_84     76 non-null float64\n",
      "SSF_85     76 non-null float64\n",
      "SSF_86     76 non-null float64\n",
      "SSF_87     76 non-null float64\n",
      "SSF_88     76 non-null float64\n",
      "SSF_89     76 non-null float64\n",
      "SSF_90     76 non-null float64\n",
      "SSF_91     76 non-null float64\n",
      "SSF_92     76 non-null float64\n",
      "SSF_93     76 non-null float64\n",
      "SSF_94     76 non-null float64\n",
      "SSF_95     76 non-null float64\n",
      "SSF_96     76 non-null float64\n",
      "SSF_97     76 non-null float64\n",
      "SSF_98     76 non-null float64\n",
      "SSF_99     76 non-null float64\n",
      "SSF_100    76 non-null float64\n",
      "dtypes: float64(100), int64(1)\n",
      "memory usage: 60.0 KB\n"
     ]
    }
   ],
   "source": [
    "X_star_space_emb.info(verbose=True, null_counts=True)"
   ]
  },
  {
   "cell_type": "code",
   "execution_count": 115,
   "metadata": {
    "collapsed": true
   },
   "outputs": [],
   "source": [
    "X_star_space_emb.set_index('WORD', inplace=True)"
   ]
  },
  {
   "cell_type": "code",
   "execution_count": 116,
   "metadata": {
    "scrolled": false
   },
   "outputs": [
    {
     "data": {
      "text/html": [
       "<div>\n",
       "<style scoped>\n",
       "    .dataframe tbody tr th:only-of-type {\n",
       "        vertical-align: middle;\n",
       "    }\n",
       "\n",
       "    .dataframe tbody tr th {\n",
       "        vertical-align: top;\n",
       "    }\n",
       "\n",
       "    .dataframe thead th {\n",
       "        text-align: right;\n",
       "    }\n",
       "</style>\n",
       "<table border=\"1\" class=\"dataframe\">\n",
       "  <thead>\n",
       "    <tr style=\"text-align: right;\">\n",
       "      <th></th>\n",
       "      <th>SSF_1</th>\n",
       "      <th>SSF_2</th>\n",
       "      <th>SSF_3</th>\n",
       "      <th>SSF_4</th>\n",
       "      <th>SSF_5</th>\n",
       "      <th>SSF_6</th>\n",
       "      <th>SSF_7</th>\n",
       "      <th>SSF_8</th>\n",
       "      <th>SSF_9</th>\n",
       "      <th>SSF_10</th>\n",
       "      <th>...</th>\n",
       "      <th>SSF_91</th>\n",
       "      <th>SSF_92</th>\n",
       "      <th>SSF_93</th>\n",
       "      <th>SSF_94</th>\n",
       "      <th>SSF_95</th>\n",
       "      <th>SSF_96</th>\n",
       "      <th>SSF_97</th>\n",
       "      <th>SSF_98</th>\n",
       "      <th>SSF_99</th>\n",
       "      <th>SSF_100</th>\n",
       "    </tr>\n",
       "    <tr>\n",
       "      <th>WORD</th>\n",
       "      <th></th>\n",
       "      <th></th>\n",
       "      <th></th>\n",
       "      <th></th>\n",
       "      <th></th>\n",
       "      <th></th>\n",
       "      <th></th>\n",
       "      <th></th>\n",
       "      <th></th>\n",
       "      <th></th>\n",
       "      <th></th>\n",
       "      <th></th>\n",
       "      <th></th>\n",
       "      <th></th>\n",
       "      <th></th>\n",
       "      <th></th>\n",
       "      <th></th>\n",
       "      <th></th>\n",
       "      <th></th>\n",
       "      <th></th>\n",
       "      <th></th>\n",
       "    </tr>\n",
       "  </thead>\n",
       "  <tbody>\n",
       "    <tr>\n",
       "      <th>69</th>\n",
       "      <td>1.224700e-06</td>\n",
       "      <td>-6.339670e-08</td>\n",
       "      <td>-1.767400e-06</td>\n",
       "      <td>7.851660e-07</td>\n",
       "      <td>-8.879650e-07</td>\n",
       "      <td>4.266440e-07</td>\n",
       "      <td>1.396810e-06</td>\n",
       "      <td>6.857180e-07</td>\n",
       "      <td>-1.031300e-06</td>\n",
       "      <td>7.571830e-07</td>\n",
       "      <td>...</td>\n",
       "      <td>-1.130790e-07</td>\n",
       "      <td>4.756250e-07</td>\n",
       "      <td>-4.377710e-07</td>\n",
       "      <td>-9.531500e-07</td>\n",
       "      <td>2.851450e-07</td>\n",
       "      <td>2.821770e-07</td>\n",
       "      <td>5.006500e-07</td>\n",
       "      <td>-2.463790e-06</td>\n",
       "      <td>-1.085030e-06</td>\n",
       "      <td>9.553340e-07</td>\n",
       "    </tr>\n",
       "    <tr>\n",
       "      <th>13</th>\n",
       "      <td>2.733760e-08</td>\n",
       "      <td>3.589730e-09</td>\n",
       "      <td>-3.291410e-08</td>\n",
       "      <td>1.603410e-08</td>\n",
       "      <td>-2.281670e-08</td>\n",
       "      <td>4.153110e-09</td>\n",
       "      <td>2.350510e-08</td>\n",
       "      <td>1.099790e-08</td>\n",
       "      <td>-1.490610e-08</td>\n",
       "      <td>7.885580e-09</td>\n",
       "      <td>...</td>\n",
       "      <td>-1.206110e-08</td>\n",
       "      <td>5.734250e-09</td>\n",
       "      <td>-4.669810e-09</td>\n",
       "      <td>-1.771730e-08</td>\n",
       "      <td>2.809160e-09</td>\n",
       "      <td>1.248170e-09</td>\n",
       "      <td>7.941900e-09</td>\n",
       "      <td>-4.643670e-08</td>\n",
       "      <td>-1.146920e-08</td>\n",
       "      <td>1.593460e-08</td>\n",
       "    </tr>\n",
       "    <tr>\n",
       "      <th>0</th>\n",
       "      <td>-1.356260e-06</td>\n",
       "      <td>1.001750e-07</td>\n",
       "      <td>2.075460e-06</td>\n",
       "      <td>-8.650810e-07</td>\n",
       "      <td>9.390600e-07</td>\n",
       "      <td>-5.241360e-07</td>\n",
       "      <td>-1.418820e-06</td>\n",
       "      <td>-6.180480e-07</td>\n",
       "      <td>1.200500e-06</td>\n",
       "      <td>-7.174000e-07</td>\n",
       "      <td>...</td>\n",
       "      <td>8.630100e-08</td>\n",
       "      <td>-3.574820e-07</td>\n",
       "      <td>4.290890e-07</td>\n",
       "      <td>1.021510e-06</td>\n",
       "      <td>-3.258210e-07</td>\n",
       "      <td>-3.851790e-07</td>\n",
       "      <td>-4.998520e-07</td>\n",
       "      <td>2.507770e-06</td>\n",
       "      <td>1.210360e-06</td>\n",
       "      <td>-1.010100e-06</td>\n",
       "    </tr>\n",
       "    <tr>\n",
       "      <th>22</th>\n",
       "      <td>3.269010e-08</td>\n",
       "      <td>4.032160e-09</td>\n",
       "      <td>-4.015310e-08</td>\n",
       "      <td>1.966790e-08</td>\n",
       "      <td>-2.762200e-08</td>\n",
       "      <td>5.168260e-09</td>\n",
       "      <td>2.793920e-08</td>\n",
       "      <td>1.245500e-08</td>\n",
       "      <td>-1.747600e-08</td>\n",
       "      <td>9.077260e-09</td>\n",
       "      <td>...</td>\n",
       "      <td>-1.441370e-08</td>\n",
       "      <td>6.554140e-09</td>\n",
       "      <td>-5.545750e-09</td>\n",
       "      <td>-2.023560e-08</td>\n",
       "      <td>3.487980e-09</td>\n",
       "      <td>1.567720e-09</td>\n",
       "      <td>9.058400e-09</td>\n",
       "      <td>-5.494460e-08</td>\n",
       "      <td>-1.409680e-08</td>\n",
       "      <td>1.864190e-08</td>\n",
       "    </tr>\n",
       "    <tr>\n",
       "      <th>63</th>\n",
       "      <td>9.120640e-07</td>\n",
       "      <td>-3.216410e-08</td>\n",
       "      <td>-1.356770e-06</td>\n",
       "      <td>5.743890e-07</td>\n",
       "      <td>-6.543650e-07</td>\n",
       "      <td>3.227180e-07</td>\n",
       "      <td>1.098150e-06</td>\n",
       "      <td>5.624300e-07</td>\n",
       "      <td>-8.181430e-07</td>\n",
       "      <td>6.226500e-07</td>\n",
       "      <td>...</td>\n",
       "      <td>-8.314120e-08</td>\n",
       "      <td>3.782600e-07</td>\n",
       "      <td>-3.456450e-07</td>\n",
       "      <td>-7.760180e-07</td>\n",
       "      <td>1.967050e-07</td>\n",
       "      <td>2.026640e-07</td>\n",
       "      <td>4.244020e-07</td>\n",
       "      <td>-1.929800e-06</td>\n",
       "      <td>-8.133070e-07</td>\n",
       "      <td>7.574870e-07</td>\n",
       "    </tr>\n",
       "  </tbody>\n",
       "</table>\n",
       "<p>5 rows × 100 columns</p>\n",
       "</div>"
      ],
      "text/plain": [
       "             SSF_1         SSF_2         SSF_3         SSF_4         SSF_5  \\\n",
       "WORD                                                                         \n",
       "69    1.224700e-06 -6.339670e-08 -1.767400e-06  7.851660e-07 -8.879650e-07   \n",
       "13    2.733760e-08  3.589730e-09 -3.291410e-08  1.603410e-08 -2.281670e-08   \n",
       "0    -1.356260e-06  1.001750e-07  2.075460e-06 -8.650810e-07  9.390600e-07   \n",
       "22    3.269010e-08  4.032160e-09 -4.015310e-08  1.966790e-08 -2.762200e-08   \n",
       "63    9.120640e-07 -3.216410e-08 -1.356770e-06  5.743890e-07 -6.543650e-07   \n",
       "\n",
       "             SSF_6         SSF_7         SSF_8         SSF_9        SSF_10  \\\n",
       "WORD                                                                         \n",
       "69    4.266440e-07  1.396810e-06  6.857180e-07 -1.031300e-06  7.571830e-07   \n",
       "13    4.153110e-09  2.350510e-08  1.099790e-08 -1.490610e-08  7.885580e-09   \n",
       "0    -5.241360e-07 -1.418820e-06 -6.180480e-07  1.200500e-06 -7.174000e-07   \n",
       "22    5.168260e-09  2.793920e-08  1.245500e-08 -1.747600e-08  9.077260e-09   \n",
       "63    3.227180e-07  1.098150e-06  5.624300e-07 -8.181430e-07  6.226500e-07   \n",
       "\n",
       "          ...             SSF_91        SSF_92        SSF_93        SSF_94  \\\n",
       "WORD      ...                                                                \n",
       "69        ...      -1.130790e-07  4.756250e-07 -4.377710e-07 -9.531500e-07   \n",
       "13        ...      -1.206110e-08  5.734250e-09 -4.669810e-09 -1.771730e-08   \n",
       "0         ...       8.630100e-08 -3.574820e-07  4.290890e-07  1.021510e-06   \n",
       "22        ...      -1.441370e-08  6.554140e-09 -5.545750e-09 -2.023560e-08   \n",
       "63        ...      -8.314120e-08  3.782600e-07 -3.456450e-07 -7.760180e-07   \n",
       "\n",
       "            SSF_95        SSF_96        SSF_97        SSF_98        SSF_99  \\\n",
       "WORD                                                                         \n",
       "69    2.851450e-07  2.821770e-07  5.006500e-07 -2.463790e-06 -1.085030e-06   \n",
       "13    2.809160e-09  1.248170e-09  7.941900e-09 -4.643670e-08 -1.146920e-08   \n",
       "0    -3.258210e-07 -3.851790e-07 -4.998520e-07  2.507770e-06  1.210360e-06   \n",
       "22    3.487980e-09  1.567720e-09  9.058400e-09 -5.494460e-08 -1.409680e-08   \n",
       "63    1.967050e-07  2.026640e-07  4.244020e-07 -1.929800e-06 -8.133070e-07   \n",
       "\n",
       "           SSF_100  \n",
       "WORD                \n",
       "69    9.553340e-07  \n",
       "13    1.593460e-08  \n",
       "0    -1.010100e-06  \n",
       "22    1.864190e-08  \n",
       "63    7.574870e-07  \n",
       "\n",
       "[5 rows x 100 columns]"
      ]
     },
     "execution_count": 116,
     "metadata": {},
     "output_type": "execute_result"
    }
   ],
   "source": [
    "X_star_space_emb.head()"
   ]
  },
  {
   "cell_type": "code",
   "execution_count": 117,
   "metadata": {},
   "outputs": [
    {
     "data": {
      "text/plain": [
       "bd                     0\n",
       "song_length            4\n",
       "days_registered        8\n",
       "source_system_tab     12\n",
       "source_screen_name    21\n",
       "city                  42\n",
       "gender                63\n",
       "language              66\n",
       "Name: 0, dtype: int64"
      ]
     },
     "execution_count": 117,
     "metadata": {},
     "output_type": "execute_result"
    }
   ],
   "source": [
    "X_star_space.loc[0]"
   ]
  },
  {
   "cell_type": "code",
   "execution_count": 118,
   "metadata": {},
   "outputs": [
    {
     "data": {
      "text/html": [
       "<div>\n",
       "<style scoped>\n",
       "    .dataframe tbody tr th:only-of-type {\n",
       "        vertical-align: middle;\n",
       "    }\n",
       "\n",
       "    .dataframe tbody tr th {\n",
       "        vertical-align: top;\n",
       "    }\n",
       "\n",
       "    .dataframe thead th {\n",
       "        text-align: right;\n",
       "    }\n",
       "</style>\n",
       "<table border=\"1\" class=\"dataframe\">\n",
       "  <thead>\n",
       "    <tr style=\"text-align: right;\">\n",
       "      <th></th>\n",
       "      <th>SSF_1</th>\n",
       "      <th>SSF_2</th>\n",
       "      <th>SSF_3</th>\n",
       "      <th>SSF_4</th>\n",
       "      <th>SSF_5</th>\n",
       "      <th>SSF_6</th>\n",
       "      <th>SSF_7</th>\n",
       "      <th>SSF_8</th>\n",
       "      <th>SSF_9</th>\n",
       "      <th>SSF_10</th>\n",
       "      <th>...</th>\n",
       "      <th>SSF_91</th>\n",
       "      <th>SSF_92</th>\n",
       "      <th>SSF_93</th>\n",
       "      <th>SSF_94</th>\n",
       "      <th>SSF_95</th>\n",
       "      <th>SSF_96</th>\n",
       "      <th>SSF_97</th>\n",
       "      <th>SSF_98</th>\n",
       "      <th>SSF_99</th>\n",
       "      <th>SSF_100</th>\n",
       "    </tr>\n",
       "    <tr>\n",
       "      <th>WORD</th>\n",
       "      <th></th>\n",
       "      <th></th>\n",
       "      <th></th>\n",
       "      <th></th>\n",
       "      <th></th>\n",
       "      <th></th>\n",
       "      <th></th>\n",
       "      <th></th>\n",
       "      <th></th>\n",
       "      <th></th>\n",
       "      <th></th>\n",
       "      <th></th>\n",
       "      <th></th>\n",
       "      <th></th>\n",
       "      <th></th>\n",
       "      <th></th>\n",
       "      <th></th>\n",
       "      <th></th>\n",
       "      <th></th>\n",
       "      <th></th>\n",
       "      <th></th>\n",
       "    </tr>\n",
       "  </thead>\n",
       "  <tbody>\n",
       "    <tr>\n",
       "      <th>0</th>\n",
       "      <td>-1.356260e-06</td>\n",
       "      <td>1.001750e-07</td>\n",
       "      <td>2.075460e-06</td>\n",
       "      <td>-8.650810e-07</td>\n",
       "      <td>9.390600e-07</td>\n",
       "      <td>-5.241360e-07</td>\n",
       "      <td>-1.418820e-06</td>\n",
       "      <td>-6.180480e-07</td>\n",
       "      <td>1.200500e-06</td>\n",
       "      <td>-7.174000e-07</td>\n",
       "      <td>...</td>\n",
       "      <td>8.630100e-08</td>\n",
       "      <td>-3.574820e-07</td>\n",
       "      <td>4.290890e-07</td>\n",
       "      <td>1.021510e-06</td>\n",
       "      <td>-3.258210e-07</td>\n",
       "      <td>-3.851790e-07</td>\n",
       "      <td>-4.998520e-07</td>\n",
       "      <td>2.507770e-06</td>\n",
       "      <td>1.210360e-06</td>\n",
       "      <td>-1.010100e-06</td>\n",
       "    </tr>\n",
       "    <tr>\n",
       "      <th>4</th>\n",
       "      <td>-4.812270e-07</td>\n",
       "      <td>4.084920e-08</td>\n",
       "      <td>7.005940e-07</td>\n",
       "      <td>-2.684940e-07</td>\n",
       "      <td>3.438240e-07</td>\n",
       "      <td>-1.657010e-07</td>\n",
       "      <td>-5.519390e-07</td>\n",
       "      <td>-2.725110e-07</td>\n",
       "      <td>3.980780e-07</td>\n",
       "      <td>-3.044820e-07</td>\n",
       "      <td>...</td>\n",
       "      <td>2.116550e-08</td>\n",
       "      <td>-1.596280e-07</td>\n",
       "      <td>1.825300e-07</td>\n",
       "      <td>3.970640e-07</td>\n",
       "      <td>-8.019650e-08</td>\n",
       "      <td>-1.178420e-07</td>\n",
       "      <td>-2.235920e-07</td>\n",
       "      <td>9.676410e-07</td>\n",
       "      <td>4.185190e-07</td>\n",
       "      <td>-3.626890e-07</td>\n",
       "    </tr>\n",
       "    <tr>\n",
       "      <th>8</th>\n",
       "      <td>-1.223630e-07</td>\n",
       "      <td>1.684040e-08</td>\n",
       "      <td>2.405200e-07</td>\n",
       "      <td>-5.494900e-08</td>\n",
       "      <td>1.428260e-07</td>\n",
       "      <td>-1.189870e-07</td>\n",
       "      <td>-2.417540e-07</td>\n",
       "      <td>-1.509490e-07</td>\n",
       "      <td>1.564490e-07</td>\n",
       "      <td>-2.173460e-07</td>\n",
       "      <td>...</td>\n",
       "      <td>9.480370e-09</td>\n",
       "      <td>-5.819560e-08</td>\n",
       "      <td>7.882750e-08</td>\n",
       "      <td>1.159660e-07</td>\n",
       "      <td>-5.523370e-08</td>\n",
       "      <td>-7.612320e-09</td>\n",
       "      <td>-9.669030e-08</td>\n",
       "      <td>3.618580e-07</td>\n",
       "      <td>1.578320e-07</td>\n",
       "      <td>-1.082020e-07</td>\n",
       "    </tr>\n",
       "    <tr>\n",
       "      <th>12</th>\n",
       "      <td>9.707400e-08</td>\n",
       "      <td>-4.188540e-08</td>\n",
       "      <td>-1.761910e-07</td>\n",
       "      <td>-7.931190e-09</td>\n",
       "      <td>3.016770e-08</td>\n",
       "      <td>-1.147810e-07</td>\n",
       "      <td>2.025150e-07</td>\n",
       "      <td>1.331860e-07</td>\n",
       "      <td>-2.254790e-07</td>\n",
       "      <td>1.852380e-07</td>\n",
       "      <td>...</td>\n",
       "      <td>6.855590e-08</td>\n",
       "      <td>-1.000420e-07</td>\n",
       "      <td>-4.053070e-08</td>\n",
       "      <td>-6.251500e-07</td>\n",
       "      <td>1.246260e-07</td>\n",
       "      <td>1.815200e-07</td>\n",
       "      <td>2.673580e-07</td>\n",
       "      <td>-9.106940e-07</td>\n",
       "      <td>-3.379350e-07</td>\n",
       "      <td>4.787010e-07</td>\n",
       "    </tr>\n",
       "    <tr>\n",
       "      <th>21</th>\n",
       "      <td>3.753390e-08</td>\n",
       "      <td>-1.005010e-07</td>\n",
       "      <td>-1.459210e-07</td>\n",
       "      <td>-8.492260e-08</td>\n",
       "      <td>5.942110e-08</td>\n",
       "      <td>-1.332420e-07</td>\n",
       "      <td>1.286710e-07</td>\n",
       "      <td>8.340860e-08</td>\n",
       "      <td>-1.226270e-07</td>\n",
       "      <td>1.771380e-07</td>\n",
       "      <td>...</td>\n",
       "      <td>1.752610e-08</td>\n",
       "      <td>-1.605590e-07</td>\n",
       "      <td>-1.902580e-08</td>\n",
       "      <td>-5.510360e-07</td>\n",
       "      <td>9.083820e-08</td>\n",
       "      <td>1.373610e-07</td>\n",
       "      <td>2.597430e-07</td>\n",
       "      <td>-8.323160e-07</td>\n",
       "      <td>-2.714670e-07</td>\n",
       "      <td>3.853400e-07</td>\n",
       "    </tr>\n",
       "    <tr>\n",
       "      <th>42</th>\n",
       "      <td>1.125690e-08</td>\n",
       "      <td>3.017250e-10</td>\n",
       "      <td>-1.603960e-08</td>\n",
       "      <td>7.729870e-09</td>\n",
       "      <td>-6.484850e-09</td>\n",
       "      <td>3.591270e-09</td>\n",
       "      <td>1.743080e-08</td>\n",
       "      <td>1.138790e-08</td>\n",
       "      <td>-1.368310e-08</td>\n",
       "      <td>1.077520e-08</td>\n",
       "      <td>...</td>\n",
       "      <td>2.458290e-10</td>\n",
       "      <td>1.022630e-08</td>\n",
       "      <td>-6.023820e-09</td>\n",
       "      <td>-1.263620e-08</td>\n",
       "      <td>3.580050e-09</td>\n",
       "      <td>2.304400e-09</td>\n",
       "      <td>7.835510e-09</td>\n",
       "      <td>-3.044890e-08</td>\n",
       "      <td>-1.203900e-08</td>\n",
       "      <td>1.421310e-08</td>\n",
       "    </tr>\n",
       "    <tr>\n",
       "      <th>63</th>\n",
       "      <td>9.120640e-07</td>\n",
       "      <td>-3.216410e-08</td>\n",
       "      <td>-1.356770e-06</td>\n",
       "      <td>5.743890e-07</td>\n",
       "      <td>-6.543650e-07</td>\n",
       "      <td>3.227180e-07</td>\n",
       "      <td>1.098150e-06</td>\n",
       "      <td>5.624300e-07</td>\n",
       "      <td>-8.181430e-07</td>\n",
       "      <td>6.226500e-07</td>\n",
       "      <td>...</td>\n",
       "      <td>-8.314120e-08</td>\n",
       "      <td>3.782600e-07</td>\n",
       "      <td>-3.456450e-07</td>\n",
       "      <td>-7.760180e-07</td>\n",
       "      <td>1.967050e-07</td>\n",
       "      <td>2.026640e-07</td>\n",
       "      <td>4.244020e-07</td>\n",
       "      <td>-1.929800e-06</td>\n",
       "      <td>-8.133070e-07</td>\n",
       "      <td>7.574870e-07</td>\n",
       "    </tr>\n",
       "    <tr>\n",
       "      <th>66</th>\n",
       "      <td>1.166150e-06</td>\n",
       "      <td>-3.416190e-08</td>\n",
       "      <td>-1.739460e-06</td>\n",
       "      <td>7.362910e-07</td>\n",
       "      <td>-8.409110e-07</td>\n",
       "      <td>4.135960e-07</td>\n",
       "      <td>1.335690e-06</td>\n",
       "      <td>6.633340e-07</td>\n",
       "      <td>-1.022450e-06</td>\n",
       "      <td>7.517510e-07</td>\n",
       "      <td>...</td>\n",
       "      <td>-8.719680e-08</td>\n",
       "      <td>4.354200e-07</td>\n",
       "      <td>-4.123370e-07</td>\n",
       "      <td>-9.780300e-07</td>\n",
       "      <td>2.754930e-07</td>\n",
       "      <td>2.769500e-07</td>\n",
       "      <td>5.166960e-07</td>\n",
       "      <td>-2.398200e-06</td>\n",
       "      <td>-1.036690e-06</td>\n",
       "      <td>9.549190e-07</td>\n",
       "    </tr>\n",
       "  </tbody>\n",
       "</table>\n",
       "<p>8 rows × 100 columns</p>\n",
       "</div>"
      ],
      "text/plain": [
       "             SSF_1         SSF_2         SSF_3         SSF_4         SSF_5  \\\n",
       "WORD                                                                         \n",
       "0    -1.356260e-06  1.001750e-07  2.075460e-06 -8.650810e-07  9.390600e-07   \n",
       "4    -4.812270e-07  4.084920e-08  7.005940e-07 -2.684940e-07  3.438240e-07   \n",
       "8    -1.223630e-07  1.684040e-08  2.405200e-07 -5.494900e-08  1.428260e-07   \n",
       "12    9.707400e-08 -4.188540e-08 -1.761910e-07 -7.931190e-09  3.016770e-08   \n",
       "21    3.753390e-08 -1.005010e-07 -1.459210e-07 -8.492260e-08  5.942110e-08   \n",
       "42    1.125690e-08  3.017250e-10 -1.603960e-08  7.729870e-09 -6.484850e-09   \n",
       "63    9.120640e-07 -3.216410e-08 -1.356770e-06  5.743890e-07 -6.543650e-07   \n",
       "66    1.166150e-06 -3.416190e-08 -1.739460e-06  7.362910e-07 -8.409110e-07   \n",
       "\n",
       "             SSF_6         SSF_7         SSF_8         SSF_9        SSF_10  \\\n",
       "WORD                                                                         \n",
       "0    -5.241360e-07 -1.418820e-06 -6.180480e-07  1.200500e-06 -7.174000e-07   \n",
       "4    -1.657010e-07 -5.519390e-07 -2.725110e-07  3.980780e-07 -3.044820e-07   \n",
       "8    -1.189870e-07 -2.417540e-07 -1.509490e-07  1.564490e-07 -2.173460e-07   \n",
       "12   -1.147810e-07  2.025150e-07  1.331860e-07 -2.254790e-07  1.852380e-07   \n",
       "21   -1.332420e-07  1.286710e-07  8.340860e-08 -1.226270e-07  1.771380e-07   \n",
       "42    3.591270e-09  1.743080e-08  1.138790e-08 -1.368310e-08  1.077520e-08   \n",
       "63    3.227180e-07  1.098150e-06  5.624300e-07 -8.181430e-07  6.226500e-07   \n",
       "66    4.135960e-07  1.335690e-06  6.633340e-07 -1.022450e-06  7.517510e-07   \n",
       "\n",
       "          ...             SSF_91        SSF_92        SSF_93        SSF_94  \\\n",
       "WORD      ...                                                                \n",
       "0         ...       8.630100e-08 -3.574820e-07  4.290890e-07  1.021510e-06   \n",
       "4         ...       2.116550e-08 -1.596280e-07  1.825300e-07  3.970640e-07   \n",
       "8         ...       9.480370e-09 -5.819560e-08  7.882750e-08  1.159660e-07   \n",
       "12        ...       6.855590e-08 -1.000420e-07 -4.053070e-08 -6.251500e-07   \n",
       "21        ...       1.752610e-08 -1.605590e-07 -1.902580e-08 -5.510360e-07   \n",
       "42        ...       2.458290e-10  1.022630e-08 -6.023820e-09 -1.263620e-08   \n",
       "63        ...      -8.314120e-08  3.782600e-07 -3.456450e-07 -7.760180e-07   \n",
       "66        ...      -8.719680e-08  4.354200e-07 -4.123370e-07 -9.780300e-07   \n",
       "\n",
       "            SSF_95        SSF_96        SSF_97        SSF_98        SSF_99  \\\n",
       "WORD                                                                         \n",
       "0    -3.258210e-07 -3.851790e-07 -4.998520e-07  2.507770e-06  1.210360e-06   \n",
       "4    -8.019650e-08 -1.178420e-07 -2.235920e-07  9.676410e-07  4.185190e-07   \n",
       "8    -5.523370e-08 -7.612320e-09 -9.669030e-08  3.618580e-07  1.578320e-07   \n",
       "12    1.246260e-07  1.815200e-07  2.673580e-07 -9.106940e-07 -3.379350e-07   \n",
       "21    9.083820e-08  1.373610e-07  2.597430e-07 -8.323160e-07 -2.714670e-07   \n",
       "42    3.580050e-09  2.304400e-09  7.835510e-09 -3.044890e-08 -1.203900e-08   \n",
       "63    1.967050e-07  2.026640e-07  4.244020e-07 -1.929800e-06 -8.133070e-07   \n",
       "66    2.754930e-07  2.769500e-07  5.166960e-07 -2.398200e-06 -1.036690e-06   \n",
       "\n",
       "           SSF_100  \n",
       "WORD                \n",
       "0    -1.010100e-06  \n",
       "4    -3.626890e-07  \n",
       "8    -1.082020e-07  \n",
       "12    4.787010e-07  \n",
       "21    3.853400e-07  \n",
       "42    1.421310e-08  \n",
       "63    7.574870e-07  \n",
       "66    9.549190e-07  \n",
       "\n",
       "[8 rows x 100 columns]"
      ]
     },
     "execution_count": 118,
     "metadata": {},
     "output_type": "execute_result"
    }
   ],
   "source": [
    "X_star_space_emb.loc[X_star_space.loc[4]]"
   ]
  },
  {
   "cell_type": "code",
   "execution_count": 119,
   "metadata": {
    "collapsed": true
   },
   "outputs": [],
   "source": [
    "def do_something(number):\n",
    "    return X_star_space_emb.loc[X_star_space.loc[number]].mean()"
   ]
  },
  {
   "cell_type": "code",
   "execution_count": 120,
   "metadata": {
    "collapsed": true
   },
   "outputs": [],
   "source": [
    "with multiprocessing.Pool(multiprocessing.cpu_count()) as p:\n",
    "    X_star_space_emb_extr = pd.concat(p.map(do_something, range(X_star_space.shape[0])), axis=1)"
   ]
  },
  {
   "cell_type": "code",
   "execution_count": 121,
   "metadata": {
    "collapsed": true
   },
   "outputs": [],
   "source": [
    "X_star_space_emb_extr = X_star_space_emb_extr.transpose()"
   ]
  },
  {
   "cell_type": "code",
   "execution_count": 122,
   "metadata": {},
   "outputs": [
    {
     "data": {
      "text/html": [
       "<div>\n",
       "<style scoped>\n",
       "    .dataframe tbody tr th:only-of-type {\n",
       "        vertical-align: middle;\n",
       "    }\n",
       "\n",
       "    .dataframe tbody tr th {\n",
       "        vertical-align: top;\n",
       "    }\n",
       "\n",
       "    .dataframe thead th {\n",
       "        text-align: right;\n",
       "    }\n",
       "</style>\n",
       "<table border=\"1\" class=\"dataframe\">\n",
       "  <thead>\n",
       "    <tr style=\"text-align: right;\">\n",
       "      <th></th>\n",
       "      <th>SSF_1</th>\n",
       "      <th>SSF_2</th>\n",
       "      <th>SSF_3</th>\n",
       "      <th>SSF_4</th>\n",
       "      <th>SSF_5</th>\n",
       "      <th>SSF_6</th>\n",
       "      <th>SSF_7</th>\n",
       "      <th>SSF_8</th>\n",
       "      <th>SSF_9</th>\n",
       "      <th>SSF_10</th>\n",
       "      <th>...</th>\n",
       "      <th>SSF_91</th>\n",
       "      <th>SSF_92</th>\n",
       "      <th>SSF_93</th>\n",
       "      <th>SSF_94</th>\n",
       "      <th>SSF_95</th>\n",
       "      <th>SSF_96</th>\n",
       "      <th>SSF_97</th>\n",
       "      <th>SSF_98</th>\n",
       "      <th>SSF_99</th>\n",
       "      <th>SSF_100</th>\n",
       "    </tr>\n",
       "  </thead>\n",
       "  <tbody>\n",
       "    <tr>\n",
       "      <th>0</th>\n",
       "      <td>3.302860e-08</td>\n",
       "      <td>-6.318259e-09</td>\n",
       "      <td>-5.222595e-08</td>\n",
       "      <td>4.629010e-09</td>\n",
       "      <td>1.692244e-09</td>\n",
       "      <td>-3.961772e-08</td>\n",
       "      <td>7.124297e-08</td>\n",
       "      <td>5.152981e-08</td>\n",
       "      <td>-5.591939e-08</td>\n",
       "      <td>6.354052e-08</td>\n",
       "      <td>...</td>\n",
       "      <td>4.117087e-09</td>\n",
       "      <td>-1.500037e-09</td>\n",
       "      <td>-1.663948e-08</td>\n",
       "      <td>-1.760413e-07</td>\n",
       "      <td>2.874888e-08</td>\n",
       "      <td>3.627076e-08</td>\n",
       "      <td>8.198753e-08</td>\n",
       "      <td>-2.830237e-07</td>\n",
       "      <td>-8.559087e-08</td>\n",
       "      <td>1.387086e-07</td>\n",
       "    </tr>\n",
       "    <tr>\n",
       "      <th>1</th>\n",
       "      <td>4.472596e-08</td>\n",
       "      <td>1.315368e-08</td>\n",
       "      <td>-6.526620e-08</td>\n",
       "      <td>5.715419e-08</td>\n",
       "      <td>-3.141219e-08</td>\n",
       "      <td>5.795625e-10</td>\n",
       "      <td>-8.644062e-09</td>\n",
       "      <td>-3.173606e-08</td>\n",
       "      <td>-3.633320e-08</td>\n",
       "      <td>-6.628140e-08</td>\n",
       "      <td>...</td>\n",
       "      <td>-1.891064e-08</td>\n",
       "      <td>-6.267874e-09</td>\n",
       "      <td>2.167328e-08</td>\n",
       "      <td>-1.521584e-08</td>\n",
       "      <td>2.104276e-08</td>\n",
       "      <td>3.417748e-08</td>\n",
       "      <td>-1.924162e-08</td>\n",
       "      <td>-8.167750e-09</td>\n",
       "      <td>-1.199346e-08</td>\n",
       "      <td>4.339433e-08</td>\n",
       "    </tr>\n",
       "    <tr>\n",
       "      <th>2</th>\n",
       "      <td>4.987021e-08</td>\n",
       "      <td>1.754737e-08</td>\n",
       "      <td>-6.932445e-08</td>\n",
       "      <td>5.696994e-08</td>\n",
       "      <td>-3.506631e-08</td>\n",
       "      <td>6.386875e-10</td>\n",
       "      <td>-6.596187e-09</td>\n",
       "      <td>-3.129043e-08</td>\n",
       "      <td>-3.532832e-08</td>\n",
       "      <td>-6.433152e-08</td>\n",
       "      <td>...</td>\n",
       "      <td>-1.769668e-08</td>\n",
       "      <td>-5.038499e-09</td>\n",
       "      <td>1.950203e-08</td>\n",
       "      <td>-1.391571e-08</td>\n",
       "      <td>2.010989e-08</td>\n",
       "      <td>3.345196e-08</td>\n",
       "      <td>-1.745099e-08</td>\n",
       "      <td>-1.023225e-08</td>\n",
       "      <td>-1.313734e-08</td>\n",
       "      <td>4.101957e-08</td>\n",
       "    </tr>\n",
       "    <tr>\n",
       "      <th>3</th>\n",
       "      <td>4.122196e-08</td>\n",
       "      <td>2.811531e-08</td>\n",
       "      <td>-5.114020e-08</td>\n",
       "      <td>5.570894e-08</td>\n",
       "      <td>-2.859831e-08</td>\n",
       "      <td>-3.192687e-09</td>\n",
       "      <td>-9.241812e-09</td>\n",
       "      <td>-2.929793e-08</td>\n",
       "      <td>-3.965782e-08</td>\n",
       "      <td>-6.633927e-08</td>\n",
       "      <td>...</td>\n",
       "      <td>-1.694748e-08</td>\n",
       "      <td>-1.210962e-08</td>\n",
       "      <td>2.166553e-08</td>\n",
       "      <td>-2.263196e-08</td>\n",
       "      <td>1.672452e-08</td>\n",
       "      <td>2.426171e-08</td>\n",
       "      <td>-2.292224e-08</td>\n",
       "      <td>2.967250e-09</td>\n",
       "      <td>1.519037e-09</td>\n",
       "      <td>2.980083e-08</td>\n",
       "    </tr>\n",
       "    <tr>\n",
       "      <th>4</th>\n",
       "      <td>3.302860e-08</td>\n",
       "      <td>-6.318259e-09</td>\n",
       "      <td>-5.222595e-08</td>\n",
       "      <td>4.629010e-09</td>\n",
       "      <td>1.692244e-09</td>\n",
       "      <td>-3.961772e-08</td>\n",
       "      <td>7.124297e-08</td>\n",
       "      <td>5.152981e-08</td>\n",
       "      <td>-5.591939e-08</td>\n",
       "      <td>6.354052e-08</td>\n",
       "      <td>...</td>\n",
       "      <td>4.117087e-09</td>\n",
       "      <td>-1.500037e-09</td>\n",
       "      <td>-1.663948e-08</td>\n",
       "      <td>-1.760413e-07</td>\n",
       "      <td>2.874888e-08</td>\n",
       "      <td>3.627076e-08</td>\n",
       "      <td>8.198753e-08</td>\n",
       "      <td>-2.830237e-07</td>\n",
       "      <td>-8.559087e-08</td>\n",
       "      <td>1.387086e-07</td>\n",
       "    </tr>\n",
       "  </tbody>\n",
       "</table>\n",
       "<p>5 rows × 100 columns</p>\n",
       "</div>"
      ],
      "text/plain": [
       "          SSF_1         SSF_2         SSF_3         SSF_4         SSF_5  \\\n",
       "0  3.302860e-08 -6.318259e-09 -5.222595e-08  4.629010e-09  1.692244e-09   \n",
       "1  4.472596e-08  1.315368e-08 -6.526620e-08  5.715419e-08 -3.141219e-08   \n",
       "2  4.987021e-08  1.754737e-08 -6.932445e-08  5.696994e-08 -3.506631e-08   \n",
       "3  4.122196e-08  2.811531e-08 -5.114020e-08  5.570894e-08 -2.859831e-08   \n",
       "4  3.302860e-08 -6.318259e-09 -5.222595e-08  4.629010e-09  1.692244e-09   \n",
       "\n",
       "          SSF_6         SSF_7         SSF_8         SSF_9        SSF_10  \\\n",
       "0 -3.961772e-08  7.124297e-08  5.152981e-08 -5.591939e-08  6.354052e-08   \n",
       "1  5.795625e-10 -8.644062e-09 -3.173606e-08 -3.633320e-08 -6.628140e-08   \n",
       "2  6.386875e-10 -6.596187e-09 -3.129043e-08 -3.532832e-08 -6.433152e-08   \n",
       "3 -3.192687e-09 -9.241812e-09 -2.929793e-08 -3.965782e-08 -6.633927e-08   \n",
       "4 -3.961772e-08  7.124297e-08  5.152981e-08 -5.591939e-08  6.354052e-08   \n",
       "\n",
       "       ...             SSF_91        SSF_92        SSF_93        SSF_94  \\\n",
       "0      ...       4.117087e-09 -1.500037e-09 -1.663948e-08 -1.760413e-07   \n",
       "1      ...      -1.891064e-08 -6.267874e-09  2.167328e-08 -1.521584e-08   \n",
       "2      ...      -1.769668e-08 -5.038499e-09  1.950203e-08 -1.391571e-08   \n",
       "3      ...      -1.694748e-08 -1.210962e-08  2.166553e-08 -2.263196e-08   \n",
       "4      ...       4.117087e-09 -1.500037e-09 -1.663948e-08 -1.760413e-07   \n",
       "\n",
       "         SSF_95        SSF_96        SSF_97        SSF_98        SSF_99  \\\n",
       "0  2.874888e-08  3.627076e-08  8.198753e-08 -2.830237e-07 -8.559087e-08   \n",
       "1  2.104276e-08  3.417748e-08 -1.924162e-08 -8.167750e-09 -1.199346e-08   \n",
       "2  2.010989e-08  3.345196e-08 -1.745099e-08 -1.023225e-08 -1.313734e-08   \n",
       "3  1.672452e-08  2.426171e-08 -2.292224e-08  2.967250e-09  1.519037e-09   \n",
       "4  2.874888e-08  3.627076e-08  8.198753e-08 -2.830237e-07 -8.559087e-08   \n",
       "\n",
       "        SSF_100  \n",
       "0  1.387086e-07  \n",
       "1  4.339433e-08  \n",
       "2  4.101957e-08  \n",
       "3  2.980083e-08  \n",
       "4  1.387086e-07  \n",
       "\n",
       "[5 rows x 100 columns]"
      ]
     },
     "execution_count": 122,
     "metadata": {},
     "output_type": "execute_result"
    }
   ],
   "source": [
    "X_star_space_emb_extr.head()"
   ]
  },
  {
   "cell_type": "code",
   "execution_count": 123,
   "metadata": {
    "scrolled": true
   },
   "outputs": [
    {
     "name": "stdout",
     "output_type": "stream",
     "text": [
      "<class 'pandas.core.frame.DataFrame'>\n",
      "RangeIndex: 7377418 entries, 0 to 7377417\n",
      "Data columns (total 100 columns):\n",
      "SSF_1      7377418 non-null float64\n",
      "SSF_2      7377418 non-null float64\n",
      "SSF_3      7377418 non-null float64\n",
      "SSF_4      7377418 non-null float64\n",
      "SSF_5      7377418 non-null float64\n",
      "SSF_6      7377418 non-null float64\n",
      "SSF_7      7377418 non-null float64\n",
      "SSF_8      7377418 non-null float64\n",
      "SSF_9      7377418 non-null float64\n",
      "SSF_10     7377418 non-null float64\n",
      "SSF_11     7377418 non-null float64\n",
      "SSF_12     7377418 non-null float64\n",
      "SSF_13     7377418 non-null float64\n",
      "SSF_14     7377418 non-null float64\n",
      "SSF_15     7377418 non-null float64\n",
      "SSF_16     7377418 non-null float64\n",
      "SSF_17     7377418 non-null float64\n",
      "SSF_18     7377418 non-null float64\n",
      "SSF_19     7377418 non-null float64\n",
      "SSF_20     7377418 non-null float64\n",
      "SSF_21     7377418 non-null float64\n",
      "SSF_22     7377418 non-null float64\n",
      "SSF_23     7377418 non-null float64\n",
      "SSF_24     7377418 non-null float64\n",
      "SSF_25     7377418 non-null float64\n",
      "SSF_26     7377418 non-null float64\n",
      "SSF_27     7377418 non-null float64\n",
      "SSF_28     7377418 non-null float64\n",
      "SSF_29     7377418 non-null float64\n",
      "SSF_30     7377418 non-null float64\n",
      "SSF_31     7377418 non-null float64\n",
      "SSF_32     7377418 non-null float64\n",
      "SSF_33     7377418 non-null float64\n",
      "SSF_34     7377418 non-null float64\n",
      "SSF_35     7377418 non-null float64\n",
      "SSF_36     7377418 non-null float64\n",
      "SSF_37     7377418 non-null float64\n",
      "SSF_38     7377418 non-null float64\n",
      "SSF_39     7377418 non-null float64\n",
      "SSF_40     7377418 non-null float64\n",
      "SSF_41     7377418 non-null float64\n",
      "SSF_42     7377418 non-null float64\n",
      "SSF_43     7377418 non-null float64\n",
      "SSF_44     7377418 non-null float64\n",
      "SSF_45     7377418 non-null float64\n",
      "SSF_46     7377418 non-null float64\n",
      "SSF_47     7377418 non-null float64\n",
      "SSF_48     7377418 non-null float64\n",
      "SSF_49     7377418 non-null float64\n",
      "SSF_50     7377418 non-null float64\n",
      "SSF_51     7377418 non-null float64\n",
      "SSF_52     7377418 non-null float64\n",
      "SSF_53     7377418 non-null float64\n",
      "SSF_54     7377418 non-null float64\n",
      "SSF_55     7377418 non-null float64\n",
      "SSF_56     7377418 non-null float64\n",
      "SSF_57     7377418 non-null float64\n",
      "SSF_58     7377418 non-null float64\n",
      "SSF_59     7377418 non-null float64\n",
      "SSF_60     7377418 non-null float64\n",
      "SSF_61     7377418 non-null float64\n",
      "SSF_62     7377418 non-null float64\n",
      "SSF_63     7377418 non-null float64\n",
      "SSF_64     7377418 non-null float64\n",
      "SSF_65     7377418 non-null float64\n",
      "SSF_66     7377418 non-null float64\n",
      "SSF_67     7377418 non-null float64\n",
      "SSF_68     7377418 non-null float64\n",
      "SSF_69     7377418 non-null float64\n",
      "SSF_70     7377418 non-null float64\n",
      "SSF_71     7377418 non-null float64\n",
      "SSF_72     7377418 non-null float64\n",
      "SSF_73     7377418 non-null float64\n",
      "SSF_74     7377418 non-null float64\n",
      "SSF_75     7377418 non-null float64\n",
      "SSF_76     7377418 non-null float64\n",
      "SSF_77     7377418 non-null float64\n",
      "SSF_78     7377418 non-null float64\n",
      "SSF_79     7377418 non-null float64\n",
      "SSF_80     7377418 non-null float64\n",
      "SSF_81     7377418 non-null float64\n",
      "SSF_82     7377418 non-null float64\n",
      "SSF_83     7377418 non-null float64\n",
      "SSF_84     7377418 non-null float64\n",
      "SSF_85     7377418 non-null float64\n",
      "SSF_86     7377418 non-null float64\n",
      "SSF_87     7377418 non-null float64\n",
      "SSF_88     7377418 non-null float64\n",
      "SSF_89     7377418 non-null float64\n",
      "SSF_90     7377418 non-null float64\n",
      "SSF_91     7377418 non-null float64\n",
      "SSF_92     7377418 non-null float64\n",
      "SSF_93     7377418 non-null float64\n",
      "SSF_94     7377418 non-null float64\n",
      "SSF_95     7377418 non-null float64\n",
      "SSF_96     7377418 non-null float64\n",
      "SSF_97     7377418 non-null float64\n",
      "SSF_98     7377418 non-null float64\n",
      "SSF_99     7377418 non-null float64\n",
      "SSF_100    7377418 non-null float64\n",
      "dtypes: float64(100)\n",
      "memory usage: 5.5 GB\n"
     ]
    }
   ],
   "source": [
    "X_star_space_emb_extr.info(verbose=True, null_counts=True)"
   ]
  },
  {
   "cell_type": "code",
   "execution_count": 124,
   "metadata": {
    "collapsed": true
   },
   "outputs": [],
   "source": [
    "starspace_features = X_star_space_emb_extr.columns"
   ]
  },
  {
   "cell_type": "code",
   "execution_count": 125,
   "metadata": {},
   "outputs": [],
   "source": [
    "starspace_features = starspace_features.values.tolist()"
   ]
  },
  {
   "cell_type": "code",
   "execution_count": 126,
   "metadata": {},
   "outputs": [],
   "source": [
    "X_star_space_emb_extr = pd.concat([X[['msno', 'song_id']], X_star_space_emb_extr], axis=1)"
   ]
  },
  {
   "cell_type": "code",
   "execution_count": 127,
   "metadata": {
    "collapsed": true
   },
   "outputs": [],
   "source": [
    "X_star_space_emb_extr.to_csv(os.path.join('/mnt/PROMO_INVESTIGATION_DATA/', 'X_star_space_emb_extr.csv'))"
   ]
  },
  {
   "cell_type": "code",
   "execution_count": 70,
   "metadata": {
    "collapsed": true
   },
   "outputs": [],
   "source": [
    "X_star_space_emb_extr = pd.read_csv(os.path.join('/mnt/PROMO_INVESTIGATION_DATA/', 'X_star_space_emb_extr.csv'))"
   ]
  },
  {
   "cell_type": "code",
   "execution_count": 71,
   "metadata": {
    "collapsed": true
   },
   "outputs": [],
   "source": [
    "from sklearn.base import BaseEstimator, TransformerMixin"
   ]
  },
  {
   "cell_type": "code",
   "execution_count": 72,
   "metadata": {
    "collapsed": true
   },
   "outputs": [],
   "source": [
    "starspace_features = ['SSF_{}'.format(i) for i in range(1, 51)]"
   ]
  },
  {
   "cell_type": "code",
   "execution_count": 73,
   "metadata": {
    "collapsed": true
   },
   "outputs": [],
   "source": [
    "class StarSpaceFeaturesExtractor(BaseEstimator, TransformerMixin):\n",
    "    def __init__(self, star_space_meta):\n",
    "        self.star_space_meta = star_space_meta\n",
    "        self.X_with_meta = None\n",
    "\n",
    "    def fit(self, X, y=None, **fit_params):\n",
    "        return self\n",
    "\n",
    "    def transform(self, X):\n",
    "        self.X_with_meta = X.copy()\n",
    "        self.X_with_meta = pd.merge(self.X_with_meta, self.star_space_meta, on=['msno', 'song_id'], how='left')\n",
    "        return self.X_with_meta"
   ]
  },
  {
   "cell_type": "code",
   "execution_count": 74,
   "metadata": {},
   "outputs": [],
   "source": [
    "star_space_preprocessor = ColumnTransformer(\n",
    "    transformers=[\n",
    "        ('num', num_features_pipeline, numerical_features + starspace_features),\n",
    "        ('num_days_reg', num_features_pipeline_days_reg, numerical_features_days_reg),\n",
    "        ('cat', cat_features_pipeline, categorical_features),\n",
    "        ('cat_lang', cat_features_pipeline_lang, categorical_features_lang)\n",
    "    ]\n",
    ")"
   ]
  },
  {
   "cell_type": "code",
   "execution_count": 75,
   "metadata": {
    "collapsed": true
   },
   "outputs": [],
   "source": [
    "star_space_unified_pipeline = Pipeline(\n",
    "    steps=[\n",
    "        ('add_meta_info', MetaFeaturesExtractor(user_meta=members, item_meta=songs)),\n",
    "        ('add_star_space_features', StarSpaceFeaturesExtractor(star_space_meta=X_star_space_emb_extr)),\n",
    "        ('preprocessing', star_space_preprocessor)\n",
    "    ]\n",
    ")"
   ]
  },
  {
   "cell_type": "code",
   "execution_count": 83,
   "metadata": {
    "collapsed": true
   },
   "outputs": [],
   "source": [
    "star_space_lgb_classifier_pipeline = Pipeline(\n",
    "    steps=[\n",
    "        ('data_preparation', star_space_unified_pipeline),\n",
    "        ('classification', LightGBMBasedRecommender())\n",
    "    ]\n",
    ")"
   ]
  },
  {
   "cell_type": "code",
   "execution_count": 258,
   "metadata": {
    "scrolled": false
   },
   "outputs": [
    {
     "data": {
      "text/plain": [
       "Pipeline(memory=None,\n",
       "     steps=[('data_preparation', Pipeline(memory=None,\n",
       "     steps=[('add_meta_info', MetaFeaturesExtractor(item_meta=                                              song_id  song_length  \\\n",
       "0        CXoTN1eb7AI+DntdU1vbcwGRV4SCIDxZu+YD8JP8r4E=       247640\n",
       "1        o0kFgae9QtnYgRkVPqLJwa05zIhRlUjfF7O1tDw0ZD..., sparse=False))]), ['language'])]))])), ('classification', LightGBMBasedRecommender(val_size=0.3))])"
      ]
     },
     "execution_count": 258,
     "metadata": {},
     "output_type": "execute_result"
    }
   ],
   "source": [
    "star_space_lgb_classifier_pipeline.fit(X_train, y_train.values)"
   ]
  },
  {
   "cell_type": "code",
   "execution_count": 260,
   "metadata": {},
   "outputs": [],
   "source": [
    "y_pred = star_space_lgb_classifier_pipeline.predict_proba(X_test)"
   ]
  },
  {
   "cell_type": "code",
   "execution_count": 261,
   "metadata": {},
   "outputs": [
    {
     "data": {
      "text/plain": [
       "(2213226,)"
      ]
     },
     "execution_count": 261,
     "metadata": {},
     "output_type": "execute_result"
    }
   ],
   "source": [
    "y_pred.shape"
   ]
  },
  {
   "cell_type": "code",
   "execution_count": 262,
   "metadata": {
    "collapsed": true
   },
   "outputs": [],
   "source": [
    "fpr, tpr, _ = roc_curve(y_test, y_pred)"
   ]
  },
  {
   "cell_type": "code",
   "execution_count": 263,
   "metadata": {},
   "outputs": [
    {
     "data": {
      "image/png": "[encoded data removed]",
      "text/plain": [
       "<Figure size 720x720 with 1 Axes>"
      ]
     },
     "metadata": {},
     "output_type": "display_data"
    }
   ],
   "source": [
    "plot_roc_auc(fpr, tpr, 'LightGBM classifier on original features + StarSpace embeddings approach')"
   ]
  },
  {
   "cell_type": "markdown",
   "metadata": {},
   "source": [
    "## Ensemble"
   ]
  },
  {
   "cell_type": "code",
   "execution_count": 264,
   "metadata": {
    "collapsed": true
   },
   "outputs": [],
   "source": [
    "ens_classifier_pipeline = Pipeline(\n",
    "    steps=[\n",
    "        ('data_preparation', unified_pipeline),\n",
    "        ('classification', EnsembleBasedRecommender(\n",
    "            base_estimators=[\n",
    "                FactorizationMachineBasedRecommender(),\n",
    "                LightGBMBasedRecommender(),\n",
    "                XGBoostBasedRecommender()\n",
    "            ]\n",
    "        ))\n",
    "    ]\n",
    ")"
   ]
  },
  {
   "cell_type": "code",
   "execution_count": 265,
   "metadata": {},
   "outputs": [
    {
     "name": "stderr",
     "output_type": "stream",
     "text": [
      "100%|██████████| 3/3 [24:12<00:00, 697.08s/it] \n"
     ]
    },
    {
     "data": {
      "text/plain": [
       "Pipeline(memory=None,\n",
       "     steps=[('data_preparation', Pipeline(memory=None,\n",
       "     steps=[('add_meta_info', MetaFeaturesExtractor(item_meta=                                              song_id  song_length  \\\n",
       "0        CXoTN1eb7AI+DntdU1vbcwGRV4SCIDxZu+YD8JP8r4E=       247640\n",
       "1        o0kFgae9QtnYgRkVPqLJwa05zIhRlUjfF7O1tDw0ZD...ecommender(val_size=0.3), XGBoostBasedRecommender(val_size=0.3)],\n",
       "             ens_train_size=0.4))])"
      ]
     },
     "execution_count": 265,
     "metadata": {},
     "output_type": "execute_result"
    }
   ],
   "source": [
    "ens_classifier_pipeline.fit(X_train, y_train.values)"
   ]
  },
  {
   "cell_type": "code",
   "execution_count": 266,
   "metadata": {},
   "outputs": [
    {
     "name": "stderr",
     "output_type": "stream",
     "text": [
      "100%|██████████| 3/3 [00:07<00:00,  3.29s/it]\n"
     ]
    }
   ],
   "source": [
    "y_pred = ens_classifier_pipeline.predict_proba(X_test)"
   ]
  },
  {
   "cell_type": "code",
   "execution_count": 267,
   "metadata": {},
   "outputs": [
    {
     "data": {
      "text/plain": [
       "(2213226,)"
      ]
     },
     "execution_count": 267,
     "metadata": {},
     "output_type": "execute_result"
    }
   ],
   "source": [
    "y_pred.shape"
   ]
  },
  {
   "cell_type": "code",
   "execution_count": 268,
   "metadata": {
    "collapsed": true
   },
   "outputs": [],
   "source": [
    "fpr, tpr, _ = roc_curve(y_test, y_pred)"
   ]
  },
  {
   "cell_type": "code",
   "execution_count": 270,
   "metadata": {},
   "outputs": [
    {
     "data": {
      "image/png": "[encoded data removed]",
      "text/plain": [
       "<Figure size 720x720 with 1 Axes>"
      ]
     },
     "metadata": {},
     "output_type": "display_data"
    }
   ],
   "source": [
    "plot_roc_auc(fpr, tpr, 'Ensemble approach')"
   ]
  },
  {
   "cell_type": "markdown",
   "metadata": {},
   "source": [
    "## Ensemble + StarSpace features"
   ]
  },
  {
   "cell_type": "code",
   "execution_count": 76,
   "metadata": {
    "collapsed": true
   },
   "outputs": [],
   "source": [
    "star_space_ens_classifier_pipeline = Pipeline(\n",
    "    steps=[\n",
    "        ('data_preparation', star_space_unified_pipeline),\n",
    "        ('classification', EnsembleBasedRecommender(\n",
    "            base_estimators=[\n",
    "                FactorizationMachineBasedRecommender(),\n",
    "                LightGBMBasedRecommender(),\n",
    "                XGBoostBasedRecommender()\n",
    "            ]\n",
    "        ))\n",
    "    ]\n",
    ")"
   ]
  },
  {
   "cell_type": "code",
   "execution_count": 77,
   "metadata": {},
   "outputs": [
    {
     "name": "stderr",
     "output_type": "stream",
     "text": [
      "\r",
      "  0%|          | 0/3 [00:00<?, ?it/s]"
     ]
    },
    {
     "name": "stdout",
     "output_type": "stream",
     "text": [
      "WARNING:tensorflow:Variable += will be deprecated. Use variable.assign_add if you want assignment to the variable value or 'x = x + y' if you want a new python Tensor object.\n"
     ]
    },
    {
     "name": "stderr",
     "output_type": "stream",
     "text": [
      "100%|██████████| 3/3 [55:21<00:00, 1584.69s/it]  \n"
     ]
    },
    {
     "data": {
      "text/plain": [
       "Pipeline(memory=None,\n",
       "     steps=[('data_preparation', Pipeline(memory=None,\n",
       "     steps=[('add_meta_info', MetaFeaturesExtractor(item_meta=                                              song_id  song_length  \\\n",
       "0        CXoTN1eb7AI+DntdU1vbcwGRV4SCIDxZu+YD8JP8r4E=       247640\n",
       "1        o0kFgae9QtnYgRkVPqLJwa05zIhRlUjfF7O1tDw0ZD...ecommender(val_size=0.3), XGBoostBasedRecommender(val_size=0.3)],\n",
       "             ens_train_size=0.4))])"
      ]
     },
     "execution_count": 77,
     "metadata": {},
     "output_type": "execute_result"
    }
   ],
   "source": [
    "star_space_ens_classifier_pipeline.fit(X_train, y_train.values)"
   ]
  },
  {
   "cell_type": "code",
   "execution_count": 78,
   "metadata": {},
   "outputs": [
    {
     "name": "stderr",
     "output_type": "stream",
     "text": [
      "100%|██████████| 3/3 [00:18<00:00,  7.90s/it]\n"
     ]
    }
   ],
   "source": [
    "y_pred = star_space_ens_classifier_pipeline.predict_proba(X_test)"
   ]
  },
  {
   "cell_type": "code",
   "execution_count": 79,
   "metadata": {},
   "outputs": [
    {
     "data": {
      "text/plain": [
       "(2213226,)"
      ]
     },
     "execution_count": 79,
     "metadata": {},
     "output_type": "execute_result"
    }
   ],
   "source": [
    "y_pred.shape"
   ]
  },
  {
   "cell_type": "code",
   "execution_count": 80,
   "metadata": {
    "collapsed": true
   },
   "outputs": [],
   "source": [
    "fpr, tpr, _ = roc_curve(y_test, y_pred)"
   ]
  },
  {
   "cell_type": "code",
   "execution_count": 81,
   "metadata": {},
   "outputs": [
    {
     "data": {
      "image/png": "[encoded data removed]",
      "text/plain": [
       "<Figure size 720x720 with 1 Axes>"
      ]
     },
     "metadata": {},
     "output_type": "display_data"
    }
   ],
   "source": [
    "plot_roc_auc(fpr, tpr, 'Ensemble + StarSpace embeddings approach')"
   ]
  },
  {
   "cell_type": "markdown",
   "metadata": {},
   "source": [
    "# Submission"
   ]
  },
  {
   "cell_type": "code",
   "execution_count": null,
   "metadata": {},
   "outputs": [
    {
     "name": "stderr",
     "output_type": "stream",
     "text": [
      "\r",
      "  0%|          | 0/3 [00:00<?, ?it/s]"
     ]
    }
   ],
   "source": [
    "star_space_ens_classifier_pipeline.fit(X, y.values)"
   ]
  },
  {
   "cell_type": "code",
   "execution_count": null,
   "metadata": {
    "collapsed": true
   },
   "outputs": [],
   "source": [
    "y_pred_subm = ens_classifier_pipeline.predict_proba(X_for_submission)"
   ]
  },
  {
   "cell_type": "code",
   "execution_count": null,
   "metadata": {
    "collapsed": true
   },
   "outputs": [],
   "source": [
    "y_pred_subm.shape"
   ]
  },
  {
   "cell_type": "code",
   "execution_count": null,
   "metadata": {
    "collapsed": true
   },
   "outputs": [],
   "source": [
    "X_for_submission['target'] = y_pred_subm"
   ]
  },
  {
   "cell_type": "code",
   "execution_count": null,
   "metadata": {
    "collapsed": true
   },
   "outputs": [],
   "source": [
    "X_for_submission[['id', 'target']].to_csv(os.path.join(data_directory, 'ensemble_submission_full_train_part.csv'), index=False)"
   ]
  },
  {
   "cell_type": "markdown",
   "metadata": {},
   "source": [
    "# Conclusion"
   ]
  },
  {
   "cell_type": "markdown",
   "metadata": {
    "collapsed": true
   },
   "source": [
    "So as it could be expected the ensemble approach with additional StarSpace features performed the best of all.\n",
    "Still, uploaded onto Kaggle solution shows the quality (ROC-AUC) that is significantly less than the quality calculated locally.\n",
    "That can be caused by the time-component being lost.\n",
    "Also it might be the case that the ground-truth target variable distribution is different from what was given in the train sample.\n",
    "Since the train is just some sample within a specific time duration (that was said in the data description) the distribution of the target in train might not reflect the real distribution accurately.\n",
    "Moreover the real distribution will be changing with time since it is still time-dependent (old songs become irrelevent )"
   ]
  }
 ],
 "metadata": {
  "hide_input": false,
  "kernelspec": {
   "display_name": "RECOMMENDER_2",
   "language": "python",
   "name": "recommender_2"
  },
  "language_info": {
   "codemirror_mode": {
    "name": "ipython",
    "version": 3
   },
   "file_extension": ".py",
   "mimetype": "text/x-python",
   "name": "python",
   "nbconvert_exporter": "python",
   "pygments_lexer": "ipython3",
   "version": "3.6.5"
  },
  "toc": {
   "base_numbering": 1,
   "nav_menu": {},
   "number_sections": true,
   "sideBar": true,
   "skip_h1_title": false,
   "title_cell": "Table of Contents",
   "title_sidebar": "Table of Contents",
   "toc_cell": false,
   "toc_position": {
    "height": "calc(100% - 180px)",
    "left": "10px",
    "top": "150px",
    "width": "294px"
   },
   "toc_section_display": true,
   "toc_window_display": true
  },
  "varInspector": {
   "cols": {
    "lenName": "136",
    "lenType": "136",
    "lenVar": "160"
   },
   "kernels_config": {
    "python": {
     "delete_cmd_postfix": "",
     "delete_cmd_prefix": "del ",
     "library": "var_list.py",
     "varRefreshCmd": "print(var_dic_list())"
    },
    "r": {
     "delete_cmd_postfix": ") ",
     "delete_cmd_prefix": "rm(",
     "library": "var_list.r",
     "varRefreshCmd": "cat(var_dic_list()) "
    }
   },
   "oldHeight": 1019.8,
   "position": {
    "height": "40px",
    "left": "674.887px",
    "right": "20px",
    "top": "4.14063px",
    "width": "800px"
   },
   "types_to_exclude": [
    "module",
    "function",
    "builtin_function_or_method",
    "instance",
    "_Feature"
   ],
   "varInspector_section_display": "none",
   "window_display": true
  }
 },
 "nbformat": 4,
 "nbformat_minor": 1
}
